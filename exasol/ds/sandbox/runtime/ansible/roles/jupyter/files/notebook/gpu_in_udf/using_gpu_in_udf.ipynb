{
 "cells": [
  {
   "cell_type": "markdown",
   "id": "06585243-2e50-4f9b-8d6f-b79aade6f8f5",
   "metadata": {},
   "source": [
    "<div style=\"text-align: right;\">\n",
    "  <img src=\"https://raw.githubusercontent.com/exasol/ai-lab/refs/heads/main/assets/Exasol_Logo_2025_Dark.svg\" style=\"width:200px; margin: 10px;\" />\n",
    "</div>\n",
    "\n",
    "# Using GPU's in UDF's\n",
    "\n",
    "This tutorial shows step-by-step how to build a CUDA enabled Script Language Container with the appropriate ML libraries and how to create UDF's with GPU acceleration.\n",
    "For a detailed explanation about how to build a custom Script Language Container, please read the tutorial [Script Languages Container](../script_languages_container/using_the_script_languages_container_tool.ipynb)\n",
    "\n",
    "**Notes:**\n",
    "- **This tutorial currently does not support Exasol SaaS instances.**\n",
    "- **This tutorial was written to work with Exasol DB 2025.01.x. Newer versions of Exasol potentially will not work correctly.**"
   ]
  },
  {
   "cell_type": "markdown",
   "id": "c88668d2-83e5-4812-a05c-936912068f03",
   "metadata": {},
   "source": [
    "## Prerequisites\n",
    "\n",
    "Prior to using this notebook step [Configure the AI-Lab](../main_config.ipynb) needs to be completed.\n",
    "\n",
    "Make sure to enable the `nvidia` accelerator option in case you choose the \"Exasol Docker DB\" as database."
   ]
  },
  {
   "metadata": {},
   "cell_type": "markdown",
   "source": [
    "### Content\n",
    "\n",
    "This tutorial contains the following notebooks:\n",
    "1. The [setup](./setup.ipynb) prepares a GPU enabled Script Languages Container. You need to run it once before you can execute the below examples.\n",
    "1. [Basic UDF with GPU Support](./basic_udf_with_gpu.ipynb)\n",
    "2. [Advanced UDF with GPU Support](./advanced_udf_with_gpu.ipynb)"
   ],
   "id": "b71180769a8c3265"
  }
 ],
 "metadata": {
  "kernelspec": {
   "display_name": "Python 3 (ipykernel)",
   "language": "python",
   "name": "python3"
  },
  "language_info": {
   "codemirror_mode": {
    "name": "ipython",
    "version": 3
   },
   "file_extension": ".py",
   "mimetype": "text/x-python",
   "name": "python",
   "nbconvert_exporter": "python",
   "pygments_lexer": "ipython3",
   "version": "3.10.12"
  }
 },
 "nbformat": 4,
 "nbformat_minor": 5
}
