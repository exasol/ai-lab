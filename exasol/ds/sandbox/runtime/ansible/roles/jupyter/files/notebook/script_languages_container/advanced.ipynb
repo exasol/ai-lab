{
 "cells": [
  {
   "cell_type": "markdown",
   "id": "660ae5cd-3a39-486e-8edd-8f5bd2d23c7a",
   "metadata": {},
   "source": [
    "<div style=\"text-align: right;\">\n",
    "  <img src=\"https://raw.githubusercontent.com/exasol/ai-lab/refs/heads/main/assets/Exasol_Logo_2025_Dark.svg\" style=\"width:200px; margin: 10px;\" />\n",
    "</div>\n",
    "\n",
    "# Advanced topics"
   ]
  },
  {
   "cell_type": "markdown",
   "id": "c1dc4885-42ca-47d6-800c-302b6cfc91d1",
   "metadata": {},
   "source": [
    "This notebooks explains some details and background regarding the tool `exaslct`. This is especially useful when:\n",
    "- you encounter a problem when running one of the other notebooks in this tutorial.\n",
    "- you need to clean up disk space.\n",
    "- you want to do more modifications to the script-languages-container than just adding a Python package."
   ]
  },
  {
   "cell_type": "markdown",
   "id": "64d867e5-b4c8-4c9c-b96a-e132d174ae1d",
   "metadata": {},
   "source": [
    "## Setup\n",
    "### Open Secure Configuration Storage"
   ]
  },
  {
   "cell_type": "code",
   "execution_count": null,
   "id": "13b4908e-c1c6-4f15-879a-88f1e08a9e9b",
   "metadata": {},
   "outputs": [],
   "source": [
    "%run ../utils/access_store_ui.ipynb\n",
    "display(get_access_store_ui('../'))"
   ]
  },
  {
   "cell_type": "markdown",
   "id": "1e70ffc8-b45e-40dc-85e5-ea3c986f7bbe",
   "metadata": {},
   "source": [
    "### Instantiate ScriptLanguagesContainer\n",
    "\n",
    "The following cell creates an instance of class `ScriptLanguageContainer` from the notebook-connector,\n",
    "which enables using the`exaslct` in the AI Lab in a convenient way."
   ]
  },
  {
   "cell_type": "code",
   "execution_count": null,
   "id": "4040cd19-b5d8-4130-8f4a-cd99209c1607",
   "metadata": {},
   "outputs": [],
   "source": [
    "from exasol.nb_connector.slc import ScriptLanguageContainer\n",
    "slc = ScriptLanguageContainer(secrets=ai_lab_config, name=\"sample_slc\")"
   ]
  },
  {
   "cell_type": "markdown",
   "id": "dce45b1c-e018-4086-8c78-6bb12eae3ea6",
   "metadata": {},
   "source": [
    "### Import some utility functions\n"
   ]
  },
  {
   "cell_type": "code",
   "execution_count": null,
   "id": "9cd529a7-bece-4e3e-8fb7-7c892e5e4306",
   "metadata": {},
   "outputs": [],
   "source": [
    "%run ./utils/file_system_ui.ipynb"
   ]
  },
  {
   "cell_type": "markdown",
   "id": "c2e0ba33-30b9-49e5-af42-ac01a4f204f6",
   "metadata": {},
   "source": [
    "### Preparation \n",
    "Before you start, run the export command (again), just to be sure to have all the artifacts (local files and docker images), which are necessary for this tutorial."
   ]
  },
  {
   "cell_type": "code",
   "execution_count": null,
   "id": "dd74b8e6-dfc8-44a4-a282-ebabb2d2c9a6",
   "metadata": {},
   "outputs": [],
   "source": "slc.export()"
  },
  {
   "cell_type": "markdown",
   "id": "29842f06-4d12-4a53-b9f6-23f16537a07a",
   "metadata": {},
   "source": [
    "## What to do if something doesn't work?\n",
    "\n",
    "During the build, export or upload it can happen that external package repositories are not available or something is wrong on your machine running the build. For these cases, `exaslct` provides extensive log files that can help analyzing such problems.\n",
    "\n",
    "#### Exaslsct Log\n",
    "The main log file for `exaslct` is stored as file `main.log` in the build output of the job. With the following command you can find the main logs for all previous executions."
   ]
  },
  {
   "cell_type": "code",
   "execution_count": null,
   "id": "fb2b363a-a6f3-4d4c-a1c3-16b64d6fa181",
   "metadata": {},
   "outputs": [],
   "source": [
    "main_logs = list(slc.workspace.output_path.glob('**/main.log'))\n",
    "show_files(main_logs)"
   ]
  },
  {
   "cell_type": "markdown",
   "id": "ce4be726-86ad-487c-9d76-705c360b825e",
   "metadata": {},
   "source": [
    "The following command shows the log file of the last execution."
   ]
  },
  {
   "cell_type": "code",
   "execution_count": null,
   "id": "38906878-66cc-43ed-b0df-f89ac30561d5",
   "metadata": {},
   "outputs": [],
   "source": [
    "tail_file(main_logs[0], 20)"
   ]
  },
  {
   "cell_type": "markdown",
   "id": "3ca13b0c-f8ee-4652-b053-053a1fedf4ed",
   "metadata": {},
   "source": [
    "#### Build Output Directory\n",
    "\n",
    "More detailed information about the build or other operations can be found in directory `.build_output/jobs/*/outputs`. Here each run of `exaslct` creates its own subdirectory under `.build_output/jobs`. Directory `outputs`  contains the outputs and log files (if any) produced by each of the executed tasks of `exaslct`. Especially, the Docker tasks such as build, pull and push store the logs returned by the Docker API. This can be helpful for analyzing problems during the build."
   ]
  },
  {
   "cell_type": "code",
   "execution_count": null,
   "id": "101f6c7c-6e5e-466d-88c4-1e0b5e943502",
   "metadata": {},
   "outputs": [],
   "source": [
    "all_logs = list(slc.workspace.output_path.glob('**/*.log'))\n",
    "show_files(all_logs)"
   ]
  },
  {
   "cell_type": "markdown",
   "id": "dabaf9a7-12ef-4c0c-ba89-9b3b3dba981e",
   "metadata": {},
   "source": [
    "<a id='flavor_definition'></a>\n",
    "## Flavor Definition\n",
    "The following diagram shows a high level overview of the build steps for a script languages container.\n",
    "\n",
    "Building an SLC usually starts with selecting one of the default build templates provided by Exsol.\n",
    "These templates are called _flavors_. In this tutorial we customize the template Python flavor by adding new pip packages.\n",
    "\n",
    "\n",
    "![image.png](slc_main_build_steps.svg)\n",
    "\n",
    "\n",
    "\n",
    "\n",
    "\n",
    "The easiest way to customize a flavor is to add dependencies in the build step `flavor_customization`. Other build steps should only be changed with caution and is only required in special cases, e.g. when dependencies are defined in other build steps because the script client depends on these dependencies.\n",
    "Check the directory structure of the selected flavor:\n"
   ]
  },
  {
   "cell_type": "code",
   "execution_count": null,
   "id": "29cd1109-aafe-47bf-9a70-db0bc3d76a9f",
   "metadata": {},
   "outputs": [],
   "source": "show_directory_content(slc.flavor_path, 3)"
  },
  {
   "cell_type": "markdown",
   "id": "5eeacff5-e5e7-4b34-bb46-9359ae867baa",
   "metadata": {},
   "source": [
    "For example, if you need additional apt packages, you can add those to the `template-Exasol-all-python-3.10/flavor_customization/packages/apt_get_packages` file."
   ]
  },
  {
   "cell_type": "markdown",
   "id": "63ccad71-a482-42cb-a7f0-0776036a99db",
   "metadata": {},
   "source": [
    "## Build Cache\n",
    "\n",
    "`exaslct` internally uses a build cache in order to accelerate the build by re-using docker images, which were built during a previous execution.\n",
    "Customizing a flavor always creates a separate entry in the cache with a unique hashcode and old containers don't get lost. If you revert your changes the system automatically uses the existing cached container. Below you can see the content of the cache directory for the containers."
   ]
  },
  {
   "cell_type": "code",
   "execution_count": null,
   "id": "b3bfab04-008b-4577-84ab-01928e5b45aa",
   "metadata": {},
   "outputs": [],
   "source": "show_directory_content(slc.workspace.output_path / \"cache\" / \"exports\")"
  },
  {
   "cell_type": "markdown",
   "id": "0630c821-6012-4ba9-8cac-ea2717a69349",
   "metadata": {},
   "source": [
    "`exaslct` also creates a docker image for each particular build step (see [Flavor Definition](#flavor_definition)), you can find the images with the following code:"
   ]
  },
  {
   "cell_type": "code",
   "execution_count": null,
   "id": "925be491-48cf-47ab-a1ff-fec17785e46f",
   "metadata": {},
   "outputs": [],
   "source": "slc.docker_image_tags"
  },
  {
   "cell_type": "markdown",
   "id": "b946027b-dfce-472c-bfd4-1f828b29011e",
   "metadata": {},
   "source": [
    "Image `exasol/script-language-container:template-Exasol-all-python-3.10-release_...` is the final release image for the script-language-container, the other (intermediate) images are used for the caching mechnism."
   ]
  },
  {
   "cell_type": "markdown",
   "id": "e18cbe2a-18f0-4d1f-8a61-95e5951b7287",
   "metadata": {},
   "source": [
    "## Cleanup\n",
    "\n",
    "This sections shows how you can use the instance of `ScriptLanguageContainer` class to clean up the artifacts created by `exaslct`:\n",
    "- The docker images for the script-languages-container as well as the cache images\n",
    "- The exported containers (tar gz files)\n",
    "- The cached container files\n"
   ]
  },
  {
   "cell_type": "markdown",
   "id": "542531a2-1772-4b1b-9517-59bfdce6f8cd",
   "metadata": {},
   "source": [
    "### Clean up the docker images\n",
    "\n",
    "The following command cleans up the docker images.\n",
    "**Be aware that this command deletes all script-languages-container related docker images on the running host, even those created by other notebooks or users.**"
   ]
  },
  {
   "cell_type": "code",
   "id": "0f1e8489-f8d5-4192-a77d-207e8daca238",
   "metadata": {},
   "source": "slc.clean_docker_images()",
   "outputs": [],
   "execution_count": null
  },
  {
   "cell_type": "markdown",
   "id": "bae173c6-4066-49ea-a732-e1f70b4c41cb",
   "metadata": {},
   "source": [
    "### Clean up the local exported containers\n",
    "\n",
    "The following command cleans up the exported container files:"
   ]
  },
  {
   "cell_type": "code",
   "execution_count": null,
   "id": "2317494b-bea7-45ed-a4b8-530af218542a",
   "metadata": {},
   "outputs": [],
   "source": "slc.workspace.cleanup_export_path()"
  },
  {
   "cell_type": "markdown",
   "id": "9d106732-a83e-48c8-b48d-084415a41b38",
   "metadata": {},
   "source": [
    "### Clean up the output path\n",
    "\n",
    "Clean up the log files and caches:"
   ]
  },
  {
   "cell_type": "code",
   "execution_count": null,
   "id": "8a95e3ae-aef2-4ec3-88e0-d64ddb880a40",
   "metadata": {},
   "outputs": [],
   "source": "slc.workspace.cleanup_output_path()"
  }
 ],
 "metadata": {
  "kernelspec": {
   "display_name": "Python 3 (ipykernel)",
   "language": "python",
   "name": "python3"
  },
  "language_info": {
   "codemirror_mode": {
    "name": "ipython",
    "version": 3
   },
   "file_extension": ".py",
   "mimetype": "text/x-python",
   "name": "python",
   "nbconvert_exporter": "python",
   "pygments_lexer": "ipython3",
   "version": "3.10.12"
  }
 },
 "nbformat": 4,
 "nbformat_minor": 5
}
