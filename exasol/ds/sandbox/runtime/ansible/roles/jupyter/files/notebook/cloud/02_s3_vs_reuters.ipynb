{
 "cells": [
  {
   "cell_type": "code",
   "execution_count": null,
   "id": "initial_id",
   "metadata": {
    "collapsed": true
   },
   "outputs": [],
   "source": [
    "%run ../utils/access_store_ui.ipynb\n",
    "display(get_access_store_ui('../'))"
   ]
  },
  {
   "metadata": {},
   "cell_type": "code",
   "outputs": [],
   "execution_count": null,
   "source": "%run ./s3_vs_setup.ipynb",
   "id": "275dd63eca698b42"
  },
  {
   "metadata": {},
   "cell_type": "markdown",
   "source": "# Create S3 connection",
   "id": "2b83bf8534f1ee88"
  },
  {
   "metadata": {},
   "cell_type": "code",
   "outputs": [],
   "execution_count": null,
   "source": [
    "import pyexasol\n",
    "import pathlib\n",
    "from exasol.nb_connector.connections import open_pyexasol_connection\n",
    "from exasol.nb_connector import bfs_utils"
   ],
   "id": "4746ccef6c0fed1c"
  },
  {
   "metadata": {},
   "cell_type": "code",
   "outputs": [],
   "execution_count": null,
   "source": [
    "sql = \"\"\"\n",
    "CREATE CONNECTION S3_CONNECTION\n",
    "  TO ''\n",
    "  USER ''\n",
    "  IDENTIFIED BY '{\n",
    "      \"awsRegion\": \"eu-central-1\", \n",
    "      \"s3Bucket\": \"ai-lab-example-data-s3\" \n",
    "  }';\n",
    "\"\"\"\n",
    "\n",
    "with open_pyexasol_connection(ai_lab_config) as conn:\n",
    "    conn.execute(sql)"
   ],
   "id": "47c55fee36abfb34"
  },
  {
   "metadata": {},
   "cell_type": "code",
   "outputs": [],
   "execution_count": null,
   "source": [
    "# put edml to bucket fs\n",
    "bfs_bucket = open_bucketfs_connection(ai_lab_config)\n",
    "bfs_path = bfs_utils.put_file(bfs_bucket, pathlib.Path(\"reuters-edml.json\"))"
   ],
   "id": "e46e42baa2a61831"
  },
  {
   "metadata": {},
   "cell_type": "code",
   "outputs": [],
   "execution_count": null,
   "source": "bfs_path.as_udf_path()",
   "id": "f0af003ba35b9ff0"
  },
  {
   "metadata": {},
   "cell_type": "code",
   "outputs": [],
   "execution_count": null,
   "source": [
    "sql = \"\"\"\n",
    "CREATE VIRTUAL SCHEMA {schema_name!i}_VS USING {schema_name!i}.S3_FILES_ADAPTER WITH\n",
    "    CONNECTION_NAME = 'S3_CONNECTION'\n",
    "    MAPPING         = {map_file!s};\n",
    "\"\"\"\n",
    "\n",
    "with open_pyexasol_connection(ai_lab_config) as conn:\n",
    "    conn.execute(sql, query_params={\n",
    "        \"schema_name\": ai_lab_config.db_schema,\n",
    "        \"map_file\": bfs_path.as_udf_path()\n",
    "    })"
   ],
   "id": "e11cb124291c57ce"
  },
  {
   "metadata": {},
   "cell_type": "code",
   "outputs": [],
   "execution_count": null,
   "source": [
    "sql = \"\"\"\n",
    "select * from AI_LAB_VS.NEWS\n",
    "limit 10\n",
    "\"\"\"\n",
    "\n",
    "with open_pyexasol_connection(ai_lab_config) as conn:\n",
    "    res = conn.execute(sql)\n",
    "    for r in res:\n",
    "        print(r)"
   ],
   "id": "19c4e5922c9b17d2"
  },
  {
   "metadata": {},
   "cell_type": "code",
   "outputs": [],
   "execution_count": null,
   "source": "",
   "id": "f20b6a33bde7a42c"
  }
 ],
 "metadata": {
  "kernelspec": {
   "display_name": "Python 3",
   "language": "python",
   "name": "python3"
  },
  "language_info": {
   "codemirror_mode": {
    "name": "ipython",
    "version": 2
   },
   "file_extension": ".py",
   "mimetype": "text/x-python",
   "name": "python",
   "nbconvert_exporter": "python",
   "pygments_lexer": "ipython2",
   "version": "2.7.6"
  }
 },
 "nbformat": 4,
 "nbformat_minor": 5
}
