{
 "cells": [
  {
   "cell_type": "markdown",
   "id": "91051dad-8d45-435f-b2c9-7572e4050f58",
   "metadata": {},
   "source": [
    "# First Steps\n",
    "\n",
    "This notebook guides you through the first steps using Jupyter notebooks with Exasol.\n",
    "\n",
    "The notebook demonstrates connecting to an Exasol database instance and using some of its features. \n",
    "\n",
    "## 1. Open Secure Configuration Storage\n",
    "\n",
    "First we need to open the Secure Configuration Storage (SCS) containing the connection information such as the database host, user, password, etc."
   ]
  },
  {
   "cell_type": "code",
   "execution_count": null,
   "id": "5970a003-896d-4f06-83ee-be98129c29d8",
   "metadata": {},
   "outputs": [],
   "source": [
    "%run utils/access_store_ui.ipynb\n",
    "display(get_access_store_ui())"
   ]
  },
  {
   "cell_type": "markdown",
   "id": "d15075fa-8c9d-4e60-82d9-28d92d38ee0e",
   "metadata": {},
   "source": [
    "## 2. Activate JupySQL\n",
    "\n",
    "First we will activate the [JupySQL](https://jupysql.ploomber.io) magics:"
   ]
  },
  {
   "cell_type": "code",
   "execution_count": null,
   "id": "73122275-3f4a-4981-b8b3-ee6c49734996",
   "metadata": {},
   "outputs": [],
   "source": [
    "%run utils/jupysql_init.ipynb"
   ]
  },
  {
   "cell_type": "markdown",
   "id": "342a7800-253d-43a0-9bd7-89932876317d",
   "metadata": {},
   "source": [
    "### 2.1 Create a Database Table\n",
    "\n",
    "We will use JupySQL to create a database table but other sections will use the table, too:"
   ]
  },
  {
   "cell_type": "code",
   "execution_count": null,
   "id": "4167f28f-36b0-4bae-8450-ddd3bb750f3b",
   "metadata": {},
   "outputs": [],
   "source": [
    "%%sql --save udf_output\n",
    "CREATE OR REPLACE TABLE \"{{ai_lab_config.db_schema}}\".\"SALES\" (\n",
    "    sales_id DECIMAL(18,0),\n",
    "    position_id INTEGER,\n",
    "    article_id INTEGER,\n",
    "    amount INTEGER,\n",
    "    price DOUBLE,\n",
    "    voucher_id INTEGER,\n",
    "    comment VARCHAR(2000),\n",
    "    canceled BOOL    \n",
    ")"
   ]
  },
  {
   "cell_type": "markdown",
   "id": "1f83db93-e196-47ae-8e41-48eb21f50f41",
   "metadata": {},
   "source": [
    "### 2.2 Importing a CSV File From Remote\n",
    "\n",
    "This section demonstrates how to import a CSV file from a remote source into the database."
   ]
  },
  {
   "cell_type": "code",
   "execution_count": null,
   "id": "8a0945da-1314-4617-b156-e651baa687d5",
   "metadata": {},
   "outputs": [],
   "source": [
    "%%sql --save udf_output\n",
    "import INTO \"{{ai_lab_config.db_schema}}\".\"SALES\"\n",
    "    FROM CSV AT 'https://dut5tonqye28.cloudfront.net/ai_lab/first_steps/' FILE 'remote.csv'\n",
    "    COLUMN separator = ';';"
   ]
  },
  {
   "cell_type": "markdown",
   "id": "6b764fd6-c3d9-49b8-bd0a-b36c6c382146",
   "metadata": {},
   "source": [
    "### 2.3 Display the Imported Data \n",
    "\n",
    "Let's query table `SALES` to display the imported data:"
   ]
  },
  {
   "cell_type": "code",
   "execution_count": null,
   "id": "b31b5053-72c8-4846-941b-57d7dc267f30",
   "metadata": {},
   "outputs": [],
   "source": [
    "%%sql --save udf_output\n",
    "SELECT * FROM \"{{ai_lab_config.db_schema}}\".\"SALES\""
   ]
  },
  {
   "cell_type": "markdown",
   "id": "5582ac55-9c56-47d9-b286-948835d976c4",
   "metadata": {},
   "source": [
    "## 3. PyExasol\n",
    "\n",
    "### 3.1 Importing a CSV File From the Local Filesystem\n",
    "\n",
    "This section demonstrates how to import a CSV file from the local file system into the database.\n",
    "\n",
    "Function `open_pyexasol_connection()` opens a connection based on the Secure Configuration Storage (SCS)."
   ]
  },
  {
   "cell_type": "code",
   "execution_count": null,
   "id": "40546944-dd3e-4330-a9c0-8ef57c4b5deb",
   "metadata": {},
   "outputs": [],
   "source": [
    "from pathlib import Path\n",
    "\n",
    "with open_pyexasol_connection(ai_lab_config, compression=True) as conn:\n",
    "    path = Path(\"local.csv\")\n",
    "    import_params = {\"column_separator\": \";\"}\n",
    "    conn.import_from_file(path, (ai_lab_config.db_schema, \"SALES\"), import_params)"
   ]
  },
  {
   "cell_type": "markdown",
   "id": "feb5f12c-5465-4580-b2ff-87e71f28238c",
   "metadata": {},
   "source": [
    "### 3.2 Importing a CSV File From Remote\n",
    "\n",
    "This section demonstrates how to import a CSV file from a remote source into the database."
   ]
  },
  {
   "cell_type": "markdown",
   "id": "a8079523-7ad7-444c-84b2-5245cbee5ab8",
   "metadata": {},
   "source": [
    "This does not work as import from local is only possible when using a JDBC driver.\n",
    "\n",
    "```\n",
    "%%sql \n",
    "import INTO \"{{ai_lab_config.db_schema}}\".\"SALES\"\n",
    "FROM LOCAL csv file 'sample.csv' COLUMN separator = ';'\n",
    "```"
   ]
  },
  {
   "cell_type": "markdown",
   "id": "61b8024f-69c1-4247-ab5a-946d5e98fe2b",
   "metadata": {},
   "source": [
    "## 4. SQL Alchemy"
   ]
  },
  {
   "cell_type": "markdown",
   "id": "768ca230-817c-4226-a1b6-ac5c32d4b1c7",
   "metadata": {},
   "source": [
    "## 5. Using the Exasol Bucket File System\n",
    "\n",
    "The [Exasol Bucket File System](https://docs.exasol.com/db/latest/database_concepts/bucketfs/bucketfs.htm) (BucketFS) is a powerful feature to exchange non-relational data with the database nodes in an Exasol cluster.\n",
    "\n",
    "Such data can be arbitrary files including \n",
    "* Data to be processed by [User Defined Scripts](https://docs.exasol.com/db/latest/database_concepts/udf_scripts.htm) (UDFs)\n",
    "* [Script-Language Containers](https://github.com/exasol/script-languages-release) (SLCs)\n",
    "* Pretrained Large Language AI Models\n",
    "\n",
    "### 5.1 Uploading a File to the BucketFS\n",
    "\n",
    "First we will create a sample file:"
   ]
  },
  {
   "cell_type": "code",
   "execution_count": null,
   "id": "30da84a6-c1bd-4159-830e-88a2fa94ec46",
   "metadata": {},
   "outputs": [],
   "source": [
    "%%writefile first_steps/text_file.txt\n",
    "Hello World!"
   ]
  },
  {
   "cell_type": "markdown",
   "id": "644c5311-27e4-463c-b228-c44ce810b50e",
   "metadata": {},
   "source": [
    "And now, let's upload the file into the BucketFS.\n",
    "\n",
    "Function `open_bucketfs_location()` returns a cursor into Exasols BucketFS."
   ]
  },
  {
   "cell_type": "code",
   "execution_count": null,
   "id": "7f6ab083-d7db-4e76-8e1d-7cf7ff369c87",
   "metadata": {},
   "outputs": [],
   "source": [
    "from exasol.nb_connector.connections import open_bucketfs_location\n",
    "file = Path(\"first_steps/text_file.txt\")\n",
    "bfs = open_bucketfs_location(ai_lab_config)\n",
    "remote = bfs / file.name\n",
    "remote.write(file.read_bytes())"
   ]
  },
  {
   "cell_type": "markdown",
   "id": "82dc65f7-4d27-41b2-835a-100aa8b79d64",
   "metadata": {},
   "source": [
    "### 5.2 List the Files in the BucketFS \n",
    "\n",
    "We can also list all the files currently available in the BucketFS:"
   ]
  },
  {
   "cell_type": "code",
   "execution_count": null,
   "id": "7597aa88-5c37-4d2d-ae96-be90bf1a5baf",
   "metadata": {},
   "outputs": [],
   "source": [
    "bfs = open_bucketfs_location(ai_lab_config)\n",
    "for p in bfs.iterdir():\n",
    "    print(f'- {p.name}')"
   ]
  },
  {
   "cell_type": "markdown",
   "id": "483ff5dd-cf57-4b51-aeff-26bf1d879a85",
   "metadata": {},
   "source": [
    "### 5.3 Reading a File in the BucketFS\n",
    "\n",
    "We can also read the contents of a file in the BucketFS:"
   ]
  },
  {
   "cell_type": "code",
   "execution_count": null,
   "id": "ec2d3b55-04d1-4fc1-a307-383a64eed012",
   "metadata": {},
   "outputs": [],
   "source": [
    "import exasol.bucketfs as bfs\n",
    "content = bfs.as_string(remote.read())\n",
    "print(f'The file in the BucketFS contains:\\n{content}')"
   ]
  }
 ],
 "metadata": {
  "kernelspec": {
   "display_name": "Python 3 (ipykernel)",
   "language": "python",
   "name": "python3"
  },
  "language_info": {
   "codemirror_mode": {
    "name": "ipython",
    "version": 3
   },
   "file_extension": ".py",
   "mimetype": "text/x-python",
   "name": "python",
   "nbconvert_exporter": "python",
   "pygments_lexer": "ipython3",
   "version": "3.10.12"
  }
 },
 "nbformat": 4,
 "nbformat_minor": 5
}
