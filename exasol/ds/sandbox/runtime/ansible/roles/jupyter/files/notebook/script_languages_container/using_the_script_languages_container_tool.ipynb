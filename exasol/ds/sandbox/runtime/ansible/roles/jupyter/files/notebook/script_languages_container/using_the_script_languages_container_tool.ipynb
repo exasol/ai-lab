{
 "cells": [
  {
   "cell_type": "markdown",
   "id": "06585243-2e50-4f9b-8d6f-b79aade6f8f5",
   "metadata": {},
   "source": [
    "# Using the Script-Languages Container Tool\n",
    "A [Script-Language Container](https://github.com/exasol/script-languages-release)(SLC) for the Exasol database consists of a Linux container with a complete Linux distribution and all required libraries, such as a script client. The script client is responsible for the communication with the  database and for executing the script code. It allows to also include user specific libraries which can then be used from within the UDFs.\n",
    "\n",
    "**Note: This tutorial currently does not support a SaaS backend.**"
   ]
  },
  {
   "cell_type": "markdown",
   "id": "39333102-7652-4699-ba0e-d184aeec1753",
   "metadata": {},
   "source": [
    "Before we start we need to configure the script-languages directory and flavor. See [Configure SLC repository](./configure_slc_repository.ipynb)"
   ]
  },
  {
   "cell_type": "markdown",
   "id": "c88668d2-83e5-4812-a05c-936912068f03",
   "metadata": {},
   "source": [
    "\n",
    "This tutorial uses the `template-Exasol-all-python-3.10` flavor as the base. In short words, a flavor is a recipe for building a script-languages-container. \n",
    "Under the hood, the `exaslct` tool is used, see [Script-Language Container Tool](https://github.com/exasol/script-languages-container-tool) for details. The `exaslct` tool can be used to build, test and upload script-languages-container for an Exasol database.\n",
    "You will learn how to:\n",
    "- [Export a script-languages-container from the flavor](./export_as_is.ipynb)\n",
    "- [Customize the flavor, export and upload the script-language-container](./customize.ipynb)\n",
    "- [Test the uploaded script-languages-container](./test_slc.ipynb)\n",
    "\n",
    "Additionaly, there is the [Advanced Topics](./advanced.ipynb) tutorial which provides more detailed information."
   ]
  }
 ],
 "metadata": {
  "kernelspec": {
   "display_name": "Python 3 (ipykernel)",
   "language": "python",
   "name": "python3"
  },
  "language_info": {
   "codemirror_mode": {
    "name": "ipython",
    "version": 3
   },
   "file_extension": ".py",
   "mimetype": "text/x-python",
   "name": "python",
   "nbconvert_exporter": "python",
   "pygments_lexer": "ipython3",
   "version": "3.10.12"
  }
 },
 "nbformat": 4,
 "nbformat_minor": 5
}
