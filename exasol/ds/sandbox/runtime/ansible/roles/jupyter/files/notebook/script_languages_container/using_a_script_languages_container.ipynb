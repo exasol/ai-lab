{
 "cells": [
  {
   "cell_type": "markdown",
   "id": "06585243-2e50-4f9b-8d6f-b79aade6f8f5",
   "metadata": {},
   "source": [
    "# Using the Script-Language Container\n",
    "A [Script-Language Container](https://github.com/exasol/script-languages-release) for the Exasol database consists of a Linux container with a complete Linux distribution and all required libraries, such as a script client. The script client is responsible for the communication with the  database and for executing the script code. It allows to also include user specific libraries which can then be used from within the UDF's. "
   ]
  },
  {
   "cell_type": "markdown",
   "id": "39333102-7652-4699-ba0e-d184aeec1753",
   "metadata": {},
   "source": [
    "Before we start we need to configure the script-languages directory and flavor. See [Configure SLC Flavor](http://localhost:49494/lab/tree/script_languages_container/configure_slc_flavor.ipynb)"
   ]
  },
  {
   "cell_type": "markdown",
   "id": "25604520-c997-4d2b-8138-02a64e7231d0",
   "metadata": {},
   "source": [
    "## Setup\n",
    "### Open Secure Configuration Storage"
   ]
  },
  {
   "cell_type": "code",
   "execution_count": 44,
   "id": "da57e77a-b41f-45e3-9a17-4b474bba898b",
   "metadata": {},
   "outputs": [
    {
     "data": {
      "application/vnd.jupyter.widget-view+json": {
       "model_id": "55496235b82f434cb9c8b66503078815",
       "version_major": 2,
       "version_minor": 0
      },
      "text/plain": [
       "Output()"
      ]
     },
     "metadata": {},
     "output_type": "display_data"
    },
    {
     "data": {
      "application/vnd.jupyter.widget-view+json": {
       "model_id": "2a16af727a574dbe89c2d702f5513ebc",
       "version_major": 2,
       "version_minor": 0
      },
      "text/plain": [
       "Box(children=(Box(children=(Label(value='Configuration Store', layout=Layout(border_bottom='solid 1px', border…"
      ]
     },
     "metadata": {},
     "output_type": "display_data"
    }
   ],
   "source": [
    "%run ../utils/access_store_ui.ipynb\n",
    "display(get_access_store_ui('../'))"
   ]
  },
  {
   "cell_type": "markdown",
   "id": "81fbc9a1-718a-4d93-8753-85b032998c1b",
   "metadata": {},
   "source": [
    "### Utility functions\n",
    "\n",
    "#### Working directory context manager\n",
    "Let's create a utility context manager function which enters a directory and jumps back to the previous directory on exit."
   ]
  },
  {
   "cell_type": "code",
   "execution_count": 45,
   "id": "27352b75-823d-40a1-b8df-d33218fd7de6",
   "metadata": {},
   "outputs": [],
   "source": [
    "import os\n",
    "import contextlib\n",
    "from pathlib import Path\n",
    "\n",
    "@contextlib.contextmanager\n",
    "def working_directory(path: Path):\n",
    "    \"\"\"Changes working directory and returns to previous on exit.\"\"\"\n",
    "    prev_cwd = Path.cwd()\n",
    "    os.chdir(path)\n",
    "    try:\n",
    "        yield\n",
    "    finally:\n",
    "        os.chdir(prev_cwd)"
   ]
  },
  {
   "cell_type": "markdown",
   "id": "c6d50944-6065-463c-be74-0e2b88c18346",
   "metadata": {},
   "source": [
    "#### Show directory content"
   ]
  },
  {
   "cell_type": "code",
   "execution_count": 56,
   "id": "9543044f-0f8d-426d-a7b3-a13dac6a921d",
   "metadata": {},
   "outputs": [],
   "source": [
    "def show_directory_content(directory: Path):\n",
    "    for p in directory.iterdir():\n",
    "        print(p)"
   ]
  },
  {
   "cell_type": "markdown",
   "id": "9fba4c9e-4a1b-4f84-a9a6-f05810aa8922",
   "metadata": {},
   "source": [
    "### Import some utility functions"
   ]
  },
  {
   "cell_type": "code",
   "execution_count": 46,
   "id": "c554d698-d5a2-4f9b-846a-f606a3f183b7",
   "metadata": {},
   "outputs": [
    {
     "data": {
      "application/vnd.jupyter.widget-view+json": {
       "model_id": "9f901d9d3d364ae6b9a4943ddcdf5abb",
       "version_major": 2,
       "version_minor": 0
      },
      "text/plain": [
       "Output()"
      ]
     },
     "metadata": {},
     "output_type": "display_data"
    }
   ],
   "source": [
    "from exasol.nb_connector.utils import upward_file_search\n",
    "\n",
    "# This NB may be running from various locations in the NB hierarchy.\n",
    "# Need to search for the styles NB from the current directory upwards.\n",
    "\n",
    "%run {upward_file_search('utils/ui_styles.ipynb')}\n",
    "%run {upward_file_search('utils/popup_message_ui.ipynb')}"
   ]
  },
  {
   "cell_type": "markdown",
   "id": "ebddfdf9-fdac-4bb9-b8a4-58224cf50bda",
   "metadata": {},
   "source": [
    "## Let's use the flavor as is\n",
    "### Check selected flavor path"
   ]
  },
  {
   "cell_type": "code",
   "execution_count": 50,
   "id": "f03723b8-2229-4e10-b801-ac074c7388cb",
   "metadata": {},
   "outputs": [
    {
     "name": "stdout",
     "output_type": "stream",
     "text": [
      "Script-languages repository path is '/tmp/script_languages_release'\n",
      "Selected flavor is 'template-Exasol-all-python-3.10'\n"
     ]
    }
   ],
   "source": [
    "from pathlib import Path\n",
    "slc_source_flavor_store_key = \"slc_flavor\"\n",
    "slc_target_dir_store_key = \"slc_target_dir\"\n",
    "\n",
    "slc_dir = Path(ai_lab_config.get(slc_target_dir_store_key))\n",
    "selected_flavor = ai_lab_config.get(slc_source_flavor_store_key)\n",
    "print(f\"Script-languages repository path is '{slc_dir}'\")\n",
    "print(f\"Selected flavor is '{selected_flavor}'\")\n",
    "if not (Path(slc_dir) / \"flavors\" / selected_flavor).is_dir():\n",
    "    popup_message(\"Invalid script-languages directory or flavor configuration. Please re-run \")\n",
    "\n",
    "flavor_path = Path(\"flavors\") / selected_flavor\n"
   ]
  },
  {
   "cell_type": "markdown",
   "id": "d496fe3d-90ac-4d3e-86e0-bef8ecaf8561",
   "metadata": {},
   "source": [
    "### Export the flavor\n",
    "You could run the same on the command line with the `exaslct` tool:\n",
    "```\n",
    "cd <slc_dir>\n",
    "./exaslct export --flavor-path flavors/<flavor_path>\n",
    "```"
   ]
  },
  {
   "cell_type": "code",
   "execution_count": 52,
   "id": "20665390-4f31-48db-ab78-249a1ef629e9",
   "metadata": {
    "scrolled": true
   },
   "outputs": [
    {
     "name": "stdout",
     "output_type": "stream",
     "text": [
      "Ready\n"
     ]
    }
   ],
   "source": [
    "from exasol_script_languages_container_tool.lib import api as exaslct_api\n",
    "\n",
    "export_path = \"/tmp/slc\"\n",
    "output_path = \"/tmp/output\"\n",
    "\n",
    "with working_directory(slc_dir):\n",
    "    exaslct_api.export(flavor_path=(str(flavor_path),), export_path=export_path)\n",
    "print(\"Ready\")"
   ]
  },
  {
   "cell_type": "markdown",
   "id": "deb31b95-f615-45c1-b47a-e8e1b0fb22c9",
   "metadata": {},
   "source": [
    "#### Check the result"
   ]
  },
  {
   "cell_type": "code",
   "execution_count": 57,
   "id": "fc142500-d855-4112-bba2-ed3395889b9b",
   "metadata": {},
   "outputs": [
    {
     "name": "stdout",
     "output_type": "stream",
     "text": [
      "/tmp/slc/template-Exasol-all-python-3.10_release.tar.gz\n",
      "/tmp/slc/template-Exasol-all-python-3.10_release.tar.gz.sha512sum\n"
     ]
    }
   ],
   "source": [
    "show_directory_content(Path(export_path))"
   ]
  },
  {
   "cell_type": "code",
   "execution_count": null,
   "id": "79be765f-7849-4bee-9397-18911c0c6735",
   "metadata": {},
   "outputs": [],
   "source": []
  }
 ],
 "metadata": {
  "kernelspec": {
   "display_name": "Python 3 (ipykernel)",
   "language": "python",
   "name": "python3"
  },
  "language_info": {
   "codemirror_mode": {
    "name": "ipython",
    "version": 3
   },
   "file_extension": ".py",
   "mimetype": "text/x-python",
   "name": "python",
   "nbconvert_exporter": "python",
   "pygments_lexer": "ipython3",
   "version": "3.10.12"
  }
 },
 "nbformat": 4,
 "nbformat_minor": 5
}
