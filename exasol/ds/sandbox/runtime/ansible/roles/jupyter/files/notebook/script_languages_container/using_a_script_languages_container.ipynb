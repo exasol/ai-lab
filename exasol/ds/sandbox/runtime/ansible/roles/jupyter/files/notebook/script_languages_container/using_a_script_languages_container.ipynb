{
 "cells": [
  {
   "cell_type": "markdown",
   "id": "06585243-2e50-4f9b-8d6f-b79aade6f8f5",
   "metadata": {},
   "source": [
    "# Using the Script-Language Container\n",
    "A [Script-Language Container](https://github.com/exasol/script-languages-release) for the Exasol database consists of a Linux container with a complete Linux distribution and all required libraries, such as a script client. The script client is responsible for the communication with the  database and for executing the script code. It allows to also include user specific libraries which can then be used from within the UDF's. "
   ]
  },
  {
   "cell_type": "markdown",
   "id": "39333102-7652-4699-ba0e-d184aeec1753",
   "metadata": {},
   "source": [
    "Before we start we need to configure the script-languages directory and flavor. See [Configure SLC repository](./configure_slc_flavor.ipynb)"
   ]
  },
  {
   "cell_type": "markdown",
   "id": "25604520-c997-4d2b-8138-02a64e7231d0",
   "metadata": {},
   "source": [
    "## Setup\n",
    "### Open Secure Configuration Storage"
   ]
  },
  {
   "cell_type": "code",
   "execution_count": null,
   "id": "da57e77a-b41f-45e3-9a17-4b474bba898b",
   "metadata": {},
   "outputs": [],
   "source": [
    "%run ../utils/access_store_ui.ipynb\n",
    "display(get_access_store_ui('../'))"
   ]
  },
  {
   "cell_type": "markdown",
   "id": "81fbc9a1-718a-4d93-8753-85b032998c1b",
   "metadata": {},
   "source": [
    "### Instantiate SLCT Manager\n",
    "\n",
    "We create an instance of the SlctManager class from the notebook connector.\n",
    "This class has some utility function which simplifies the use of the `exaslct` API."
   ]
  },
  {
   "cell_type": "code",
   "execution_count": null,
   "id": "27352b75-823d-40a1-b8df-d33218fd7de6",
   "metadata": {},
   "outputs": [],
   "source": [
    "from exasol.nb_connector import slct_manager\n",
    "slctmanager = slct_manager.SlctManager(ai_lab_config)"
   ]
  },
  {
   "cell_type": "markdown",
   "id": "9fba4c9e-4a1b-4f84-a9a6-f05810aa8922",
   "metadata": {},
   "source": [
    "### Import some utility functions"
   ]
  },
  {
   "cell_type": "code",
   "execution_count": null,
   "id": "c554d698-d5a2-4f9b-846a-f606a3f183b7",
   "metadata": {},
   "outputs": [],
   "source": [
    "from exasol.nb_connector.utils import upward_file_search\n",
    "\n",
    "# This NB may be running from various locations in the NB hierarchy.\n",
    "# Need to search for the styles NB from the current directory upwards.\n",
    "\n",
    "%run {upward_file_search('utils/ui_styles.ipynb')}\n",
    "%run {upward_file_search('utils/popup_message_ui.ipynb')}\n",
    "%run ./utils/file_system_ui.ipynb\n",
    "\n"
   ]
  },
  {
   "cell_type": "markdown",
   "id": "c88668d2-83e5-4812-a05c-936912068f03",
   "metadata": {},
   "source": [
    "## Use flavor as is\n",
    "\n",
    "Currently used flavor is:"
   ]
  },
  {
   "cell_type": "code",
   "execution_count": null,
   "id": "617380fa-6b14-40a5-bffd-ca8fed37950c",
   "metadata": {},
   "outputs": [],
   "source": [
    "slct_manager.REQUIRED_FLAVOR"
   ]
  },
  {
   "cell_type": "markdown",
   "id": "d496fe3d-90ac-4d3e-86e0-bef8ecaf8561",
   "metadata": {},
   "source": [
    "### Export the flavor\n",
    "You could run the same on the command line with the `exaslct` tool:\n",
    "```\n",
    "cd <slc_dir>\n",
    "./exaslct export --flavor-path flavors/<flavor_path>\n",
    "```"
   ]
  },
  {
   "cell_type": "code",
   "execution_count": null,
   "id": "20665390-4f31-48db-ab78-249a1ef629e9",
   "metadata": {
    "scrolled": true
   },
   "outputs": [],
   "source": [
    "slctmanager.export()"
   ]
  },
  {
   "cell_type": "markdown",
   "id": "deb31b95-f615-45c1-b47a-e8e1b0fb22c9",
   "metadata": {},
   "source": [
    "#### Check the result"
   ]
  },
  {
   "cell_type": "code",
   "execution_count": null,
   "id": "fc142500-d855-4112-bba2-ed3395889b9b",
   "metadata": {},
   "outputs": [],
   "source": [
    "print(\"Directory content:\")\n",
    "show_directory_content(slctmanager.working_path.export_path)"
   ]
  },
  {
   "cell_type": "markdown",
   "id": "33d76239-60fd-430f-b7e2-fca74c2e0871",
   "metadata": {},
   "source": [
    "### What to do if something doesn't work?\n",
    "\n",
    "During the build it can happen that external package repositories might not be available or something is wrong on your machine where you run the build. For these cases, exaslct stores many logs to identify the problem.\n",
    "\n",
    "#### Exaslsct Log\n",
    "The main log for exaslct is stored directly as main.log in the build output of the job. With the following command you can find the main logs for all previous executions."
   ]
  },
  {
   "cell_type": "code",
   "execution_count": null,
   "id": "423b261a-3d99-4893-95dc-224a5794c588",
   "metadata": {},
   "outputs": [],
   "source": [
    "main_logs = list(slctmanager.working_path.output_path.glob('**/main.log'))\n",
    "show_files(main_logs)"
   ]
  },
  {
   "cell_type": "markdown",
   "id": "47e38bb4-6a56-478a-9719-40caf3f8b488",
   "metadata": {},
   "source": [
    "With the following command you can show the log file from the last execution.                    "
   ]
  },
  {
   "cell_type": "code",
   "execution_count": null,
   "id": "b5a816ae-1276-4649-997c-d50f0a3be991",
   "metadata": {},
   "outputs": [],
   "source": [
    "tail_file(main_logs[0], 20)"
   ]
  },
  {
   "cell_type": "markdown",
   "id": "c067c03e-f5c4-430e-90f0-b213b255c0d4",
   "metadata": {},
   "source": [
    "#### Build Output Directory\n",
    "\n",
    "More detailed information about the build or other operations can be found in the `.build_output/jobs/*/outputs` directory. Here each run of `exaslct` creates its own directory under `.build_output/jobs`. The outputs directory stores the outputs and log files (if any) that each executed task of `exaslct` produces. Especially, the Docker tasks such as build, pull and push store the logs returned by the Docker API. This can be helpful for finding problems during the build."
   ]
  },
  {
   "cell_type": "code",
   "execution_count": null,
   "id": "1aa24f25-789c-49b3-bb5e-81d49f4afa69",
   "metadata": {},
   "outputs": [],
   "source": [
    "all_logs = list(slctmanager.working_path.output_path.glob('**/*.log'))\n",
    "show_files(all_logs)"
   ]
  },
  {
   "attachments": {
    "47f643bc-704e-4b00-8405-917b5fdae990.png": {
     "image/png": "[encoded data removed]"
    }
   },
   "cell_type": "markdown",
   "id": "ac19449e-f9a1-4b35-b73b-e35771031f20",
   "metadata": {},
   "source": [
    "## Customizing Script-Language Containers\n",
    "Sometimes you need very specific dependencies or versions of dependencies in the Exasol UDFs. In such case you can customize a Script-Language Container.\n",
    "### Flavor Definition\n",
    "![image.png](attachment:47f643bc-704e-4b00-8405-917b5fdae990.png)\n"
   ]
  },
  {
   "cell_type": "markdown",
   "id": "58895979-99f7-4fad-ab0f-9cfa020b3750",
   "metadata": {},
   "source": [
    "For customizing a flavor usually the flavor_customization build step is most important. It contains everything you need to add dependencies. The remaining build steps should be only changed with care, but sometimes some dependencies are defined in other build steps because the script client depends on them. \n",
    "Let's check the directory structure of the selected flavor."
   ]
  },
  {
   "cell_type": "code",
   "execution_count": null,
   "id": "11f3d8ae-d23b-4968-a5c3-a18de8f434d8",
   "metadata": {},
   "outputs": [],
   "source": [
    "show_directory_content(slctmanager.slc_dir.flavor_dir, 2)"
   ]
  },
  {
   "cell_type": "markdown",
   "id": "67752053-c6a6-476f-892f-613113c1668b",
   "metadata": {},
   "source": [
    "### Flavor Customization Build Step"
   ]
  },
  {
   "cell_type": "markdown",
   "id": "fbfdb5b8-4c9f-4174-9752-8652013630e4",
   "metadata": {},
   "source": [
    "The **flavor_customization** build step consists of a Dockerfile and several package lists which can be modified. We recommend to use the package lists to add new packages to the flavor and only modify the Dockerfile if you need very specific changes, like adding additional resources."
   ]
  },
  {
   "cell_type": "code",
   "execution_count": null,
   "id": "de268b34-99e3-4af6-a9b3-02a44e803c9f",
   "metadata": {},
   "outputs": [],
   "source": [
    "show_directory_content(slctmanager.slc_dir.flavor_dir / \"flavor_customization\")"
   ]
  },
  {
   "cell_type": "markdown",
   "id": "5803c74e-2f7f-4d77-b363-f5968d1937bc",
   "metadata": {},
   "source": [
    "The Dockerfile consists of two parts. The first part installs the packages from the package list and should only be change with care. The second part is free for your changes. Read the description in the Dockerfile carefully to find out what you can and shouldn't do."
   ]
  },
  {
   "cell_type": "markdown",
   "id": "562eac65-b205-49d4-971e-9ed0090796b4",
   "metadata": {},
   "source": [
    "#### Package Lists\n",
    "The package lists have a unified format. Each line consists of the package name and the package version separated by \"|\", e.g `xgboost|1.3.3`. You can comment out a whole line by adding\"#\" at the beginning. You can also add a trailing comment to a package definition by adding a \"#\" after the package definition. We usually recommend to pin the version, such that there are no surprises for which version gets installed."
   ]
  },
  {
   "cell_type": "code",
   "execution_count": null,
   "id": "ce88261d-efc4-470e-a875-447a28c0125c",
   "metadata": {},
   "outputs": [],
   "source": [
    "show_files([slctmanager.custom_pip_file])\n"
   ]
  },
  {
   "cell_type": "markdown",
   "id": "5857a6fb-f0b7-413f-8ce5-88ced8645abb",
   "metadata": {},
   "source": [
    "We are now going to append the \"xgboost\" Python package to one of the package lists by adding `xgboost|2.0.3` and `scikit-learn|1.5.0` to the `flavor_customization/packages/python3_pip_packages` file. \n",
    "Notes:\n",
    " - running the following command multiple times will iteratively append the packages\n",
    " - you can also click on the link and modify the file directly\n"
   ]
  },
  {
   "cell_type": "code",
   "execution_count": null,
   "id": "fe3db39f-5588-44a9-9e64-d4ec495423ee",
   "metadata": {},
   "outputs": [],
   "source": [
    "xgboost_pkg = slct_manager.PipPackageDefinition(pkg=\"xgboost\", version=\"2.0.3\")\n",
    "scikit_learn_pkg = slct_manager.PipPackageDefinition(pkg=\"scikit-learn\", version=\"1.5.0\")\n",
    "slctmanager.append_custom_packages([xgboost_pkg, scikit_learn_pkg])\n",
    "show_files([slctmanager.custom_pip_file])"
   ]
  },
  {
   "cell_type": "markdown",
   "id": "834a2314-13ab-4ae8-bca5-9d1861376419",
   "metadata": {},
   "source": [
    "#### Rebuilding the customized Flavor\n",
    "After changing the flavor you need to rebuild it. You can do it by running `export` again. Exaslct automatically recognizes that the flavor has changed and builds a new version of the container."
   ]
  },
  {
   "cell_type": "code",
   "execution_count": null,
   "id": "2e7e9bbb-bf77-474f-949f-9521e9e3fd86",
   "metadata": {},
   "outputs": [],
   "source": [
    "slctmanager.export()\n",
    "print(\"Ready\")"
   ]
  },
  {
   "cell_type": "markdown",
   "id": "d0cec469-33de-4b1a-b481-735e69722c9f",
   "metadata": {},
   "source": [
    "Note: Your old container doesn't get lost, because when you change a flavor your container gets a new hash code. If you revert your changes the system automatically uses the existing cached container. Below you can see the content of the cache directory for the containers."
   ]
  },
  {
   "cell_type": "code",
   "execution_count": null,
   "id": "f683dec3-101d-451d-b590-0518a8fdfdc9",
   "metadata": {},
   "outputs": [],
   "source": [
    "show_directory_content(slctmanager.working_path.output_path / \"cache\" / \"exports\")"
   ]
  },
  {
   "cell_type": "markdown",
   "id": "67f605e5-0fc6-4e9c-bf6a-1932d04ebdcc",
   "metadata": {},
   "source": [
    "### Testing the new Script-Language Container\n",
    "\n",
    "Now, that we have an updated container, we need to check if our changes were successful. For that we are going to upload the container to an Exasol Database and have a look into it."
   ]
  },
  {
   "cell_type": "markdown",
   "id": "a44b4189-4842-41ce-85e7-f47d4c6ddcec",
   "metadata": {},
   "source": [
    "#### Upload the Container to the Database\n",
    "To use our container we need to upload it to the BucketFS . If the build machine has access to the BucketFS we can do it with the exaslct upload command, otherwise you need to export the container and transfer it to a machine that has access to the BucketFS and upload it via curl, as described in our documentation.\n",
    "\n",
    "With the following command we upload the new script language container.\n"
   ]
  },
  {
   "cell_type": "code",
   "execution_count": null,
   "id": "28f7f45c-8d38-49c0-860a-132b4e8f12c4",
   "metadata": {},
   "outputs": [],
   "source": [
    "slctmanager.upload()"
   ]
  },
  {
   "cell_type": "markdown",
   "id": "30014673-f03f-4f38-bd3f-5f9f27ad10b0",
   "metadata": {},
   "source": [
    "This command also stores the activation statement in the ai-lab-config.\n",
    "We can verify it with:"
   ]
  },
  {
   "cell_type": "code",
   "execution_count": null,
   "id": "d2f3130b-70f5-44ce-8d27-aa1efe6aa545",
   "metadata": {},
   "outputs": [],
   "source": [
    "ai_lab_config.get(slct_manager.ACTIVATION_KEY)"
   ]
  },
  {
   "cell_type": "markdown",
   "id": "c5e340f7-8061-4113-88f0-15e16009782a",
   "metadata": {},
   "source": [
    "The syntax is: `alias=url`. The alias is used when defining an UDF, the URL only for the language activation.\n",
    "For simplicity the `SlctManager` provides easy access to the alias, as we need it later:"
   ]
  },
  {
   "cell_type": "markdown",
   "id": "e661b9fe-11a4-46bb-b98b-3c6d887a3d1d",
   "metadata": {},
   "source": [
    "For simplicity the `SlctManager` provides access to the alias, as we need it later to define our UDF's:"
   ]
  },
  {
   "cell_type": "code",
   "execution_count": null,
   "id": "fd1b2729-cf64-4cb7-a373-84c7db2a0000",
   "metadata": {},
   "outputs": [],
   "source": [
    "slctmanager.language_alias"
   ]
  },
  {
   "cell_type": "markdown",
   "id": "60ec9ae4-7b88-4840-8c07-f75a15b833c5",
   "metadata": {},
   "source": [
    "#### Connecting to the database and activate the container\n",
    "Once we have a connection to the database we run the ALTER SESSION statement or ALTER SYSTEM statement (if you want to activate the container permanently and globally) we got from `generate_language_activation`.\n",
    "The `notebook` connector package provides a utility method, for creating an `pyexasol` connection and activating all registered languages:"
   ]
  },
  {
   "cell_type": "code",
   "execution_count": null,
   "id": "357caa4f-74ca-4d41-9157-04608a1a3c8c",
   "metadata": {},
   "outputs": [],
   "source": [
    "from exasol.nb_connector.language_container_activation import open_pyexasol_connection_with_lang_definitions\n",
    "\n",
    "conn = open_pyexasol_connection_with_lang_definitions(ai_lab_config, compression=True)\n",
    "conn.execute(\"CREATE SCHEMA SLC_TUTORIAL\")"
   ]
  },
  {
   "cell_type": "markdown",
   "id": "214aac51-1c9a-4545-935e-aeeed4af55e9",
   "metadata": {},
   "source": [
    "#### Check if your customization did work\n",
    "We first create a helper UDF which allows us to run arbitrary shell commands inside of a UDF instance. With that we can easily inspect the container."
   ]
  },
  {
   "cell_type": "code",
   "execution_count": null,
   "id": "2036fa12-bd31-4526-a9d6-9b618e1e8c58",
   "metadata": {},
   "outputs": [],
   "source": [
    "import textwrap\n",
    "\n",
    "conn.execute(textwrap.dedent(f\"\"\"\n",
    "CREATE OR REPLACE {slctmanager.language_alias} SCALAR SCRIPT execute_shell_command_py3(command VARCHAR(2000000), split_output boolean)\n",
    "EMITS (lines VARCHAR(2000000)) AS\n",
    "import subprocess\n",
    "\n",
    "def run(ctx):\n",
    "    try:\n",
    "        p = subprocess.Popen(ctx.command,\n",
    "                             stdout    = subprocess.PIPE,\n",
    "                             stderr    = subprocess.STDOUT,\n",
    "                             close_fds = True,\n",
    "                             shell     = True)\n",
    "        out, err = p.communicate()\n",
    "        if isinstance(out,bytes):\n",
    "            out=out.decode('utf8')\n",
    "        if ctx.split_output:\n",
    "            for line in out.strip().split('\\\\n'):\n",
    "                ctx.emit(line)\n",
    "        else:\n",
    "            ctx.emit(out)\n",
    "    finally:\n",
    "        if p is not None:\n",
    "            try: p.kill()\n",
    "            except: pass\n",
    "/\n",
    "\"\"\"))"
   ]
  },
  {
   "cell_type": "markdown",
   "id": "e2601c1d-8dd8-4c52-859a-28b7d0d3748b",
   "metadata": {},
   "source": [
    "Check with \"pip list\" if the \"xgboost\" package is installed\n",
    "We use our helper UDF to run `python3 -m pip list` directly in the container and get the list of currently avaiable python3 packages."
   ]
  },
  {
   "cell_type": "code",
   "execution_count": null,
   "id": "51d61556-f9f1-4749-b70c-8fc21e141662",
   "metadata": {},
   "outputs": [],
   "source": [
    "rs=conn.execute(\"\"\"select execute_shell_command_py3('python3 -m pip list', true)\"\"\")\n",
    "for r in rs: \n",
    "    print(r[0])"
   ]
  },
  {
   "cell_type": "markdown",
   "id": "51cea11e-54ae-4d38-842e-1dac60de0ab5",
   "metadata": {},
   "source": [
    "By running `pip list` directly in the container, we see what is currently available in the container. However, sometimes this might not be what we expected. For these cases, exaslct stores information about the flavor the container was build from within the container.\n",
    "\n",
    "#### Embedded Build Information of the Container\n",
    "Here we see an overview about the build information which exaslct embedded into the container. `exaslct` stores all packages lists (as defined in the flavor and what actually got installed), the final Dockerfiles and the image info. The image info describes how the underlying Docker images of the container got built. The build information is stored in the `/build_info` directory in the container. We can use again our helper UDF to inspect the build information."
   ]
  },
  {
   "cell_type": "code",
   "execution_count": null,
   "id": "92b4f6d4-9235-4e51-a3f4-1ee73aae90ef",
   "metadata": {},
   "outputs": [],
   "source": [
    "rs=conn.execute(\"\"\"select execute_shell_command_py3('find /build_info', true)\"\"\")\n",
    "for r in rs: \n",
    "    print(r[0])"
   ]
  },
  {
   "cell_type": "markdown",
   "id": "b3b2810b-ad74-47bb-a94f-34f6cb9e459a",
   "metadata": {},
   "source": [
    "The following command shows for example, which python3 package pip found directly after the build of the container image."
   ]
  },
  {
   "cell_type": "code",
   "execution_count": null,
   "id": "4f716612-fa6e-496f-9ec9-39fefb647b60",
   "metadata": {},
   "outputs": [],
   "source": [
    "rs=conn.execute(\"\"\"select execute_shell_command_py3('cat /build_info/actual_installed_packages/release/python3_pip_packages', true)\"\"\")\n",
    "for r in rs: \n",
    "    print(r[0])"
   ]
  },
  {
   "cell_type": "markdown",
   "id": "42e6e17c-ff3c-4311-a0c9-b044b8d7d6a9",
   "metadata": {},
   "source": [
    "You could for example compare this to the package list of the flavor-customization build step and check if all your requested packages got installed."
   ]
  },
  {
   "cell_type": "code",
   "execution_count": null,
   "id": "aefe0c99-32d5-4357-bc2e-1131c7b38b9a",
   "metadata": {},
   "outputs": [],
   "source": [
    "rs=conn.execute(\"\"\"select execute_shell_command_py3('cat /build_info/packages/flavor_customization/python3_pip_packages', true)\"\"\")\n",
    "for r in rs:\n",
    "    if r[0] is None:\n",
    "        print()\n",
    "    else:\n",
    "        print(r[0])"
   ]
  },
  {
   "cell_type": "markdown",
   "id": "a0528564-fe3d-4143-8b58-6473ce250c60",
   "metadata": {},
   "source": [
    "### Testing the new package\n",
    "\n",
    "After we made sure that the required packages are installed, we need to try importing and using it. Importing is usually a good first test if a package got successfully installed, because often you might already get errors at this step. However, sometimes you only will recognize errors when using the package. We recommend to have a test suite for each new package to check if it works properly before you start your UDF development. It is usually easier to debug problems if you have very narrow tests."
   ]
  },
  {
   "cell_type": "code",
   "execution_count": null,
   "id": "91b3c817-dbd4-411e-ab45-3ac5008624fc",
   "metadata": {},
   "outputs": [],
   "source": [
    "conn.execute(textwrap.dedent(f\"\"\"\n",
    "CREATE OR REPLACE {slctmanager.language_alias} SET SCRIPT test_xgboost(i integer)\n",
    "EMITS (o VARCHAR(2000000)) AS\n",
    "\n",
    "def run(ctx):\n",
    "    import xgboost\n",
    "    import sklearn \n",
    "    \n",
    "    ctx.emit(\"success\")\n",
    "/\n",
    "\"\"\"))\n",
    "\n",
    "rs = conn.execute(\"select test_xgboost(1)\")\n",
    "rs.fetchall()"
   ]
  },
  {
   "cell_type": "code",
   "execution_count": null,
   "id": "c3b18d63-22f8-4e33-9701-7e4f6759f970",
   "metadata": {},
   "outputs": [],
   "source": [
    "conn.execute(textwrap.dedent(\"\"\"\n",
    "CREATE OR REPLACE PYTHON3 SET SCRIPT test_xgboost(i integer)\n",
    "EMITS (o1 DOUbLE, o2 DOUbLE, o3 DOUbLE) AS\n",
    "\n",
    "def run(ctx):\n",
    "    import pandas as pd\n",
    "    import xgboost as xgb\n",
    "    from sklearn import datasets\n",
    "    from sklearn.model_selection import train_test_split\n",
    "    \n",
    "    iris = datasets.load_iris()\n",
    "    X = iris.data\n",
    "    y = iris.target\n",
    "    \n",
    "    X_train, X_test, y_train, y_test = train_test_split(X, y, test_size=0.2, random_state=42)\n",
    "    \n",
    "    dtrain = xgb.DMatrix(X_train, label=y_train)\n",
    "    dtest = xgb.DMatrix(X_test, label=y_test)\n",
    "    param = {\n",
    "        'max_depth': 3,  # the maximum depth of each tree\n",
    "        'eta': 0.3,  # the training step for each iteration\n",
    "        'silent': 1,  # logging mode - quiet\n",
    "        'objective': 'multi:softprob',  # error evaluation for multiclass training\n",
    "        'num_class': 3  # the number of classes that exist in this datset\n",
    "        }\n",
    "    num_round = 20  # the number of training iterations\n",
    "    bst = xgb.train(param, dtrain, num_round)\n",
    "    preds = bst.predict(dtest)\n",
    "    \n",
    "    ctx.emit(pd.DataFrame(preds))\n",
    "/\n",
    "\"\"\"))\n",
    "\n",
    "conn.export_to_pandas(\"select test_xgboost(1)\")"
   ]
  },
  {
   "cell_type": "code",
   "execution_count": null,
   "id": "fa0c0013-33c1-4441-a9f8-efd86ac40f0f",
   "metadata": {},
   "outputs": [],
   "source": []
  }
 ],
 "metadata": {
  "kernelspec": {
   "display_name": "Python 3 (ipykernel)",
   "language": "python",
   "name": "python3"
  },
  "language_info": {
   "codemirror_mode": {
    "name": "ipython",
    "version": 3
   },
   "file_extension": ".py",
   "mimetype": "text/x-python",
   "name": "python",
   "nbconvert_exporter": "python",
   "pygments_lexer": "ipython3",
   "version": "3.10.12"
  }
 },
 "nbformat": 4,
 "nbformat_minor": 5
}
