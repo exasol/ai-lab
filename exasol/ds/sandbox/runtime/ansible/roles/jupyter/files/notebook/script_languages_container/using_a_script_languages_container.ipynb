{
 "cells": [
  {
   "cell_type": "markdown",
   "id": "06585243-2e50-4f9b-8d6f-b79aade6f8f5",
   "metadata": {},
   "source": [
    "# Using the Script-Language Container\n",
    "A [Script-Language Container](https://github.com/exasol/script-languages-release) for the Exasol database consists of a Linux container with a complete Linux distribution and all required libraries, such as a script client. The script client is responsible for the communication with the  database and for executing the script code. It allows to also include user specific libraries which can then be used from within the UDF's. "
   ]
  },
  {
   "cell_type": "markdown",
   "id": "39333102-7652-4699-ba0e-d184aeec1753",
   "metadata": {},
   "source": [
    "Before we start we need to configure the script-languages directory and flavor. See [Configure SLC Flavor](./configure_slc_flavor.ipynb)"
   ]
  },
  {
   "cell_type": "markdown",
   "id": "25604520-c997-4d2b-8138-02a64e7231d0",
   "metadata": {},
   "source": [
    "## Setup\n",
    "### Open Secure Configuration Storage"
   ]
  },
  {
   "cell_type": "code",
   "execution_count": 18,
   "id": "da57e77a-b41f-45e3-9a17-4b474bba898b",
   "metadata": {},
   "outputs": [
    {
     "data": {
      "application/vnd.jupyter.widget-view+json": {
       "model_id": "2ea76eb5a4924a52be42a753f23c6f24",
       "version_major": 2,
       "version_minor": 0
      },
      "text/plain": [
       "Output()"
      ]
     },
     "metadata": {},
     "output_type": "display_data"
    },
    {
     "data": {
      "application/vnd.jupyter.widget-view+json": {
       "model_id": "9be4aae87c6549e2ab2986a66081162e",
       "version_major": 2,
       "version_minor": 0
      },
      "text/plain": [
       "Box(children=(Box(children=(Label(value='Configuration Store', layout=Layout(border_bottom='solid 1px', border…"
      ]
     },
     "metadata": {},
     "output_type": "display_data"
    }
   ],
   "source": [
    "%run ../utils/access_store_ui.ipynb\n",
    "display(get_access_store_ui('../'))"
   ]
  },
  {
   "cell_type": "markdown",
   "id": "81fbc9a1-718a-4d93-8753-85b032998c1b",
   "metadata": {},
   "source": [
    "### Utility functions\n",
    "\n",
    "#### Working directory context manager\n",
    "Let's create a utility context manager function which enters a directory and jumps back to the previous directory on exit."
   ]
  },
  {
   "cell_type": "code",
   "execution_count": 19,
   "id": "27352b75-823d-40a1-b8df-d33218fd7de6",
   "metadata": {},
   "outputs": [],
   "source": [
    "import os\n",
    "import contextlib\n",
    "from pathlib import Path\n",
    "\n",
    "@contextlib.contextmanager\n",
    "def working_directory(path: Path):\n",
    "    \"\"\"Changes working directory and returns to previous on exit.\"\"\"\n",
    "    prev_cwd = Path.cwd()\n",
    "    os.chdir(path)\n",
    "    try:\n",
    "        yield\n",
    "    finally:\n",
    "        os.chdir(prev_cwd)"
   ]
  },
  {
   "cell_type": "markdown",
   "id": "9fba4c9e-4a1b-4f84-a9a6-f05810aa8922",
   "metadata": {},
   "source": [
    "### Import some utility functions"
   ]
  },
  {
   "cell_type": "code",
   "execution_count": 24,
   "id": "c554d698-d5a2-4f9b-846a-f606a3f183b7",
   "metadata": {},
   "outputs": [
    {
     "data": {
      "application/vnd.jupyter.widget-view+json": {
       "model_id": "10c3aab42db24398b2c3d63b16614e59",
       "version_major": 2,
       "version_minor": 0
      },
      "text/plain": [
       "Output()"
      ]
     },
     "metadata": {},
     "output_type": "display_data"
    }
   ],
   "source": [
    "from exasol.nb_connector.utils import upward_file_search\n",
    "\n",
    "# This NB may be running from various locations in the NB hierarchy.\n",
    "# Need to search for the styles NB from the current directory upwards.\n",
    "\n",
    "%run {upward_file_search('utils/ui_styles.ipynb')}\n",
    "%run {upward_file_search('utils/popup_message_ui.ipynb')}\n",
    "%run ./utils/file_system_ui.ipynb\n",
    "\n"
   ]
  },
  {
   "cell_type": "markdown",
   "id": "ebddfdf9-fdac-4bb9-b8a4-58224cf50bda",
   "metadata": {},
   "source": [
    "## Let's use the flavor as is\n",
    "### Check selected flavor path"
   ]
  },
  {
   "cell_type": "code",
   "execution_count": 5,
   "id": "f03723b8-2229-4e10-b801-ac074c7388cb",
   "metadata": {},
   "outputs": [
    {
     "name": "stdout",
     "output_type": "stream",
     "text": [
      "Script-languages repository path is '/home/jupyter/notebooks/script_languages_release'\n",
      "Selected flavor is 'template-Exasol-all-python-3.10'\n"
     ]
    }
   ],
   "source": [
    "from pathlib import Path\n",
    "slc_source_flavor_store_key = \"slc_flavor\"\n",
    "slc_target_dir_store_key = \"slc_target_dir\"\n",
    "\n",
    "slc_dir = Path(ai_lab_config.get(slc_target_dir_store_key))\n",
    "selected_flavor = ai_lab_config.get(slc_source_flavor_store_key)\n",
    "print(f\"Script-languages repository path is '{slc_dir}'\")\n",
    "print(f\"Selected flavor is '{selected_flavor}'\")\n",
    "if not (Path(slc_dir) / \"flavors\" / selected_flavor).is_dir():\n",
    "    popup_message(\"Invalid script-languages directory or flavor configuration. Please re-run \")\n",
    "\n",
    "flavor_path = Path(\"flavors\") / selected_flavor\n"
   ]
  },
  {
   "cell_type": "markdown",
   "id": "d496fe3d-90ac-4d3e-86e0-bef8ecaf8561",
   "metadata": {},
   "source": [
    "### Export the flavor\n",
    "You could run the same on the command line with the `exaslct` tool:\n",
    "```\n",
    "cd <slc_dir>\n",
    "./exaslct export --flavor-path flavors/<flavor_path>\n",
    "```"
   ]
  },
  {
   "cell_type": "code",
   "execution_count": 27,
   "id": "20665390-4f31-48db-ab78-249a1ef629e9",
   "metadata": {
    "scrolled": true
   },
   "outputs": [
    {
     "name": "stdout",
     "output_type": "stream",
     "text": [
      "Ready\n"
     ]
    }
   ],
   "source": [
    "from exasol_script_languages_container_tool.lib import api as exaslct_api\n",
    "\n",
    "export_path = \"/home/jupyter/notebooks/script_languages_container/container\"\n",
    "output_path = \"/home/jupyter/notebooks/script_languages_container/output\"\n",
    "\n",
    "\n",
    "with working_directory(slc_dir):\n",
    "    export_result = exaslct_api.export(flavor_path=(str(flavor_path),), export_path=export_path, output_directory=output_path)\n",
    "print(\"Ready\")"
   ]
  },
  {
   "cell_type": "markdown",
   "id": "deb31b95-f615-45c1-b47a-e8e1b0fb22c9",
   "metadata": {},
   "source": [
    "#### Check the result"
   ]
  },
  {
   "cell_type": "code",
   "execution_count": 23,
   "id": "fc142500-d855-4112-bba2-ed3395889b9b",
   "metadata": {},
   "outputs": [
    {
     "name": "stdout",
     "output_type": "stream",
     "text": [
      "Result file: /home/jupyter/notebooks/slc/template-Exasol-all-python-3.10_release.tar.gz\n",
      "Directory content:\n"
     ]
    },
    {
     "data": {
      "text/html": [
       "<a href='../slc/template-Exasol-all-python-3.10_release.tar.gz' target='_blank'>../slc/template-Exasol-all-python-3.10_release.tar.gz</a><br>"
      ],
      "text/plain": [
       "/home/jupyter/notebooks/slc/template-Exasol-all-python-3.10_release.tar.gz"
      ]
     },
     "metadata": {},
     "output_type": "display_data"
    },
    {
     "data": {
      "text/html": [
       "<a href='../slc/template-Exasol-all-python-3.10_release.tar.gz.sha512sum' target='_blank'>../slc/template-Exasol-all-python-3.10_release.tar.gz.sha512sum</a><br>"
      ],
      "text/plain": [
       "/home/jupyter/notebooks/slc/template-Exasol-all-python-3.10_release.tar.gz.sha512sum"
      ]
     },
     "metadata": {},
     "output_type": "display_data"
    }
   ],
   "source": [
    "print(f\"Result file: {export_result.export_infos[str(flavor_path)]['release'].output_file}\")\n",
    "print(\"Directory content:\")\n",
    "show_directory_content(Path(export_path))"
   ]
  },
  {
   "cell_type": "markdown",
   "id": "33d76239-60fd-430f-b7e2-fca74c2e0871",
   "metadata": {},
   "source": [
    "### What to do if something doesn't work?\n",
    "\n",
    "During the build it can happen that external package repositories might not be available or something is wrong on your machine where you run the build. For these cases, exaslct stores many logs to identify the problem.\n",
    "\n",
    "#### Exaslsct Log\n",
    "The main log for exaslct is stored directly as main.log in the build output of the job. With the following command you can find the main logs for all previous executions."
   ]
  },
  {
   "cell_type": "code",
   "execution_count": 28,
   "id": "423b261a-3d99-4893-95dc-224a5794c588",
   "metadata": {},
   "outputs": [
    {
     "data": {
      "text/html": [
       "<a href='output/jobs/2024_06_21_14_53_05_2_ExportContainers/logs/main.log' target='_blank'>output/jobs/2024_06_21_14_53_05_2_ExportContainers/logs/main.log</a><br>"
      ],
      "text/plain": [
       "/home/jupyter/notebooks/script_languages_container/output/jobs/2024_06_21_14_53_05_2_ExportContainers/logs/main.log"
      ]
     },
     "metadata": {},
     "output_type": "display_data"
    }
   ],
   "source": [
    "build_output = Path(output_path)\n",
    "main_logs = list(build_output.glob('**/main.log'))\n",
    "show_files(main_logs)"
   ]
  },
  {
   "cell_type": "markdown",
   "id": "47e38bb4-6a56-478a-9719-40caf3f8b488",
   "metadata": {},
   "source": [
    "With the following command you can show the log file from the last execution.                    "
   ]
  },
  {
   "cell_type": "code",
   "execution_count": 22,
   "id": "b5a816ae-1276-4649-997c-d50f0a3be991",
   "metadata": {},
   "outputs": [
    {
     "name": "stdout",
     "output_type": "stream",
     "text": [
      "2024-06-21 08:54:46,299 - luigi.scheduler - DEBUG - Done pruning task graph\n",
      "2024-06-21 08:54:46,299 - luigi-interface - DEBUG - Done\n",
      "2024-06-21 08:54:46,299 - luigi-interface - DEBUG - There are no more tasks to run at this time\n",
      "2024-06-21 08:54:46,299 - luigi-interface - INFO - Worker Worker(salt=6340760915, workers=5, host=9e659425cf04, username=root, pid=369, sudo_user=ubuntu) was stopped. Shutting down Keep-Alive thread\n",
      "2024-06-21 08:54:46,308 - luigi-interface - INFO - \n",
      "===== Luigi Execution Summary =====\n",
      "\n",
      "Scheduled 13 tasks of which:\n",
      "* 13 ran successfully:\n",
      "    - 1 AnalyzeBuildDeps_c91a290a4b(job_id=2024_06_21_08_52_13_1_ExportContainers, no_cache=False, flavor_path=flavors/template-Exasol-all-python-3.10)\n",
      "    - 1 AnalyzeBuildRun_c91a290a4b(job_id=2024_06_21_08_52_13_1_ExportContainers, no_cache=False, flavor_path=flavors/template-Exasol-all-python-3.10)\n",
      "    - 1 AnalyzeFlavorBaseDeps_c91a290a4b(job_id=2024_06_21_08_52_13_1_ExportContainers, no_cache=False, flavor_path=flavors/template-Exasol-all-python-3.10)\n",
      "    - 1 AnalyzeFlavorCustomization_c91a290a4b(job_id=2024_06_21_08_52_13_1_ExportContainers, no_cache=False, flavor_path=flavors/template-Exasol-all-python-3.10)\n",
      "    - 1 AnalyzeLanguageDeps_c91a290a4b(job_id=2024_06_21_08_52_13_1_ExportContainers, no_cache=False, flavor_path=flavors/template-Exasol-all-python-3.10)\n",
      "    ...\n",
      "\n",
      "This progress looks :) because there were no failed tasks or missing dependencies\n",
      "\n",
      "===== Luigi Execution Summary =====\n",
      "\n",
      "\n"
     ]
    }
   ],
   "source": [
    "tail_file(main_logs[0], 20)"
   ]
  },
  {
   "cell_type": "markdown",
   "id": "c067c03e-f5c4-430e-90f0-b213b255c0d4",
   "metadata": {},
   "source": [
    "#### Build Output Directory\n",
    "\n",
    "More detailed information about the build or other operations can be found in the `.build_output/jobs/*/outputs` directory. Here each run of `exaslct` creates its own directory under `.build_output/jobs`. The outputs directory stores the outputs and log files (if any) that each executed task of `exaslct` produces. Especially, the Docker tasks such as build, pull and push store the logs returned by the Docker API. This can be helpful for finding problems during the build."
   ]
  },
  {
   "cell_type": "code",
   "execution_count": 29,
   "id": "1aa24f25-789c-49b3-bb5e-81d49f4afa69",
   "metadata": {},
   "outputs": [
    {
     "data": {
      "text/html": [
       "<a href='output/jobs/2024_06_21_14_53_05_2_ExportContainers/logs/main.log' target='_blank'>output/jobs/2024_06_21_14_53_05_2_ExportContainers/logs/main.log</a><br>"
      ],
      "text/plain": [
       "/home/jupyter/notebooks/script_languages_container/output/jobs/2024_06_21_14_53_05_2_ExportContainers/logs/main.log"
      ]
     },
     "metadata": {},
     "output_type": "display_data"
    },
    {
     "data": {
      "text/html": [
       "<a href='output/jobs/2024_06_21_14_53_05_2_ExportContainers/logs/.ipynb_checkpoints/main-checkpoint.log' target='_blank'>output/jobs/2024_06_21_14_53_05_2_ExportContainers/logs/.ipynb_checkpoints/main-checkpoint.log</a><br>"
      ],
      "text/plain": [
       "/home/jupyter/notebooks/script_languages_container/output/jobs/2024_06_21_14_53_05_2_ExportContainers/logs/.ipynb_checkpoints/main-checkpoint.log"
      ]
     },
     "metadata": {},
     "output_type": "display_data"
    },
    {
     "data": {
      "text/html": [
       "<a href='output/jobs/2024_06_21_14_53_05_2_ExportContainers/outputs/ExportContainers_fa5202c5a0/ExportFlavorContainer_a82bda8b22/ExportContainerTask_d268348ae6/logs/pack_release_file.log' target='_blank'>output/jobs/2024_06_21_14_53_05_2_ExportContainers/outputs/ExportContainers_fa5202c5a0/ExportFlavorContainer_a82bda8b22/ExportContainerTask_d268348ae6/logs/pack_release_file.log</a><br>"
      ],
      "text/plain": [
       "/home/jupyter/notebooks/script_languages_container/output/jobs/2024_06_21_14_53_05_2_ExportContainers/outputs/ExportContainers_fa5202c5a0/ExportFlavorContainer_a82bda8b22/ExportContainerTask_d268348ae6/logs/pack_release_file.log"
      ]
     },
     "metadata": {},
     "output_type": "display_data"
    },
    {
     "data": {
      "text/html": [
       "<a href='output/jobs/2024_06_21_14_53_05_2_ExportContainers/outputs/ExportContainers_fa5202c5a0/ExportFlavorContainer_a82bda8b22/ExportContainerTask_d268348ae6/logs/extract_release_file.log' target='_blank'>output/jobs/2024_06_21_14_53_05_2_ExportContainers/outputs/ExportContainers_fa5202c5a0/ExportFlavorContainer_a82bda8b22/ExportContainerTask_d268348ae6/logs/extract_release_file.log</a><br>"
      ],
      "text/plain": [
       "/home/jupyter/notebooks/script_languages_container/output/jobs/2024_06_21_14_53_05_2_ExportContainers/outputs/ExportContainers_fa5202c5a0/ExportFlavorContainer_a82bda8b22/ExportContainerTask_d268348ae6/logs/extract_release_file.log"
      ]
     },
     "metadata": {},
     "output_type": "display_data"
    }
   ],
   "source": [
    "all_logs = list(build_output.glob('**/*.log'))\n",
    "show_files(all_logs)"
   ]
  },
  {
   "attachments": {
    "47f643bc-704e-4b00-8405-917b5fdae990.png": {
     "image/png": "[encoded data removed]"
    }
   },
   "cell_type": "markdown",
   "id": "ac19449e-f9a1-4b35-b73b-e35771031f20",
   "metadata": {},
   "source": [
    "## Customizing Script-Language Containers\n",
    "Sometimes you need very specific dependencies or versions of dependencies in the Exasol UDFs. In such case you can customize a Script-Language Container.\n",
    "### Flavor Definition\n",
    "![image.png](attachment:47f643bc-704e-4b00-8405-917b5fdae990.png)\n"
   ]
  },
  {
   "cell_type": "markdown",
   "id": "58895979-99f7-4fad-ab0f-9cfa020b3750",
   "metadata": {},
   "source": [
    "For customizing a flavor usually the flavor_customization build step is most important. It contains everything you need to add dependencies. The remaining build steps should be only changed with care, but sometimes some dependencies are defined in other build steps because the script client depends on them. \n",
    "Let's check the directory structure of the selected flavor."
   ]
  },
  {
   "cell_type": "code",
   "execution_count": 24,
   "id": "11f3d8ae-d23b-4968-a5c3-a18de8f434d8",
   "metadata": {},
   "outputs": [
    {
     "name": "stdout",
     "output_type": "stream",
     "text": [
      "/home/jupyter/script_languages_release/flavors/template-Exasol-all-python-3.10/flavor_customization\n",
      "/home/jupyter/script_languages_release/flavors/template-Exasol-all-python-3.10/flavor_customization/packages\n",
      "/home/jupyter/script_languages_release/flavors/template-Exasol-all-python-3.10/flavor_customization/Dockerfile\n",
      "/home/jupyter/script_languages_release/flavors/template-Exasol-all-python-3.10/FLAVOR_DESCRIPTION.md\n",
      "/home/jupyter/script_languages_release/flavors/template-Exasol-all-python-3.10/flavor_base\n",
      "/home/jupyter/script_languages_release/flavors/template-Exasol-all-python-3.10/flavor_base/testconfig\n",
      "/home/jupyter/script_languages_release/flavors/template-Exasol-all-python-3.10/flavor_base/base_test_build_run\n",
      "/home/jupyter/script_languages_release/flavors/template-Exasol-all-python-3.10/flavor_base/security_scan\n",
      "/home/jupyter/script_languages_release/flavors/template-Exasol-all-python-3.10/flavor_base/release\n",
      "/home/jupyter/script_languages_release/flavors/template-Exasol-all-python-3.10/flavor_base/build_run\n",
      "/home/jupyter/script_languages_release/flavors/template-Exasol-all-python-3.10/flavor_base/base_test_deps\n",
      "/home/jupyter/script_languages_release/flavors/template-Exasol-all-python-3.10/flavor_base/language_deps\n",
      "/home/jupyter/script_languages_release/flavors/template-Exasol-all-python-3.10/flavor_base/udfclient_deps\n",
      "/home/jupyter/script_languages_release/flavors/template-Exasol-all-python-3.10/flavor_base/build_steps.py\n",
      "/home/jupyter/script_languages_release/flavors/template-Exasol-all-python-3.10/flavor_base/language_definition\n",
      "/home/jupyter/script_languages_release/flavors/template-Exasol-all-python-3.10/flavor_base/build_deps\n",
      "/home/jupyter/script_languages_release/flavors/template-Exasol-all-python-3.10/flavor_base/derived_from\n",
      "/home/jupyter/script_languages_release/flavors/template-Exasol-all-python-3.10/flavor_base/flavor_test_build_run\n",
      "/home/jupyter/script_languages_release/flavors/template-Exasol-all-python-3.10/flavor_base/flavor_base_deps\n",
      "/home/jupyter/script_languages_release/flavors/template-Exasol-all-python-3.10/flavor_base/__pycache__\n"
     ]
    }
   ],
   "source": [
    "show_directory_content(slc_dir / flavor_path, 2)"
   ]
  },
  {
   "cell_type": "markdown",
   "id": "67752053-c6a6-476f-892f-613113c1668b",
   "metadata": {},
   "source": [
    "### Flavor Customization Build Step"
   ]
  },
  {
   "cell_type": "markdown",
   "id": "fbfdb5b8-4c9f-4174-9752-8652013630e4",
   "metadata": {},
   "source": [
    "The **flavor_customization** build step consists of a Dockerfile and several package lists which can be modified. We recommend to use the package lists to add new packages to the flavor and only modify the Dockerfile if you need very specific changes, like adding additional resources."
   ]
  },
  {
   "cell_type": "code",
   "execution_count": 25,
   "id": "de268b34-99e3-4af6-a9b3-02a44e803c9f",
   "metadata": {},
   "outputs": [
    {
     "name": "stdout",
     "output_type": "stream",
     "text": [
      "/home/jupyter/script_languages_release/flavors/template-Exasol-all-python-3.10/flavor_customization/packages\n",
      "/home/jupyter/script_languages_release/flavors/template-Exasol-all-python-3.10/flavor_customization/Dockerfile\n"
     ]
    }
   ],
   "source": [
    "show_directory_content(slc_dir / flavor_path / \"flavor_customization\")"
   ]
  },
  {
   "cell_type": "markdown",
   "id": "5803c74e-2f7f-4d77-b363-f5968d1937bc",
   "metadata": {},
   "source": [
    "#### Dockerfile\n",
    "The Dockerfile consists of two parts. The first part installs the packages from the package list and should only be change with care. The second part is free for your changes. Read the description in the Dockerfile carefully to find out what you can and shouldn't do."
   ]
  },
  {
   "cell_type": "code",
   "execution_count": 27,
   "id": "28ee0a8b-dc06-41ed-b96a-f270ae4bb862",
   "metadata": {},
   "outputs": [
    {
     "data": {
      "text/html": [
       "<style>pre { line-height: 125%; }\n",
       "td.linenos .normal { color: inherit; background-color: transparent; padding-left: 5px; padding-right: 5px; }\n",
       "span.linenos { color: inherit; background-color: transparent; padding-left: 5px; padding-right: 5px; }\n",
       "td.linenos .special { color: #000000; background-color: #ffffc0; padding-left: 5px; padding-right: 5px; }\n",
       "span.linenos.special { color: #000000; background-color: #ffffc0; padding-left: 5px; padding-right: 5px; }\n",
       ".output_html .hll { background-color: #ffffcc }\n",
       ".output_html { background: #f8f8f8; }\n",
       ".output_html .c { color: #3D7B7B; font-style: italic } /* Comment */\n",
       ".output_html .err { border: 1px solid #FF0000 } /* Error */\n",
       ".output_html .k { color: #008000; font-weight: bold } /* Keyword */\n",
       ".output_html .o { color: #666666 } /* Operator */\n",
       ".output_html .ch { color: #3D7B7B; font-style: italic } /* Comment.Hashbang */\n",
       ".output_html .cm { color: #3D7B7B; font-style: italic } /* Comment.Multiline */\n",
       ".output_html .cp { color: #9C6500 } /* Comment.Preproc */\n",
       ".output_html .cpf { color: #3D7B7B; font-style: italic } /* Comment.PreprocFile */\n",
       ".output_html .c1 { color: #3D7B7B; font-style: italic } /* Comment.Single */\n",
       ".output_html .cs { color: #3D7B7B; font-style: italic } /* Comment.Special */\n",
       ".output_html .gd { color: #A00000 } /* Generic.Deleted */\n",
       ".output_html .ge { font-style: italic } /* Generic.Emph */\n",
       ".output_html .ges { font-weight: bold; font-style: italic } /* Generic.EmphStrong */\n",
       ".output_html .gr { color: #E40000 } /* Generic.Error */\n",
       ".output_html .gh { color: #000080; font-weight: bold } /* Generic.Heading */\n",
       ".output_html .gi { color: #008400 } /* Generic.Inserted */\n",
       ".output_html .go { color: #717171 } /* Generic.Output */\n",
       ".output_html .gp { color: #000080; font-weight: bold } /* Generic.Prompt */\n",
       ".output_html .gs { font-weight: bold } /* Generic.Strong */\n",
       ".output_html .gu { color: #800080; font-weight: bold } /* Generic.Subheading */\n",
       ".output_html .gt { color: #0044DD } /* Generic.Traceback */\n",
       ".output_html .kc { color: #008000; font-weight: bold } /* Keyword.Constant */\n",
       ".output_html .kd { color: #008000; font-weight: bold } /* Keyword.Declaration */\n",
       ".output_html .kn { color: #008000; font-weight: bold } /* Keyword.Namespace */\n",
       ".output_html .kp { color: #008000 } /* Keyword.Pseudo */\n",
       ".output_html .kr { color: #008000; font-weight: bold } /* Keyword.Reserved */\n",
       ".output_html .kt { color: #B00040 } /* Keyword.Type */\n",
       ".output_html .m { color: #666666 } /* Literal.Number */\n",
       ".output_html .s { color: #BA2121 } /* Literal.String */\n",
       ".output_html .na { color: #687822 } /* Name.Attribute */\n",
       ".output_html .nb { color: #008000 } /* Name.Builtin */\n",
       ".output_html .nc { color: #0000FF; font-weight: bold } /* Name.Class */\n",
       ".output_html .no { color: #880000 } /* Name.Constant */\n",
       ".output_html .nd { color: #AA22FF } /* Name.Decorator */\n",
       ".output_html .ni { color: #717171; font-weight: bold } /* Name.Entity */\n",
       ".output_html .ne { color: #CB3F38; font-weight: bold } /* Name.Exception */\n",
       ".output_html .nf { color: #0000FF } /* Name.Function */\n",
       ".output_html .nl { color: #767600 } /* Name.Label */\n",
       ".output_html .nn { color: #0000FF; font-weight: bold } /* Name.Namespace */\n",
       ".output_html .nt { color: #008000; font-weight: bold } /* Name.Tag */\n",
       ".output_html .nv { color: #19177C } /* Name.Variable */\n",
       ".output_html .ow { color: #AA22FF; font-weight: bold } /* Operator.Word */\n",
       ".output_html .w { color: #bbbbbb } /* Text.Whitespace */\n",
       ".output_html .mb { color: #666666 } /* Literal.Number.Bin */\n",
       ".output_html .mf { color: #666666 } /* Literal.Number.Float */\n",
       ".output_html .mh { color: #666666 } /* Literal.Number.Hex */\n",
       ".output_html .mi { color: #666666 } /* Literal.Number.Integer */\n",
       ".output_html .mo { color: #666666 } /* Literal.Number.Oct */\n",
       ".output_html .sa { color: #BA2121 } /* Literal.String.Affix */\n",
       ".output_html .sb { color: #BA2121 } /* Literal.String.Backtick */\n",
       ".output_html .sc { color: #BA2121 } /* Literal.String.Char */\n",
       ".output_html .dl { color: #BA2121 } /* Literal.String.Delimiter */\n",
       ".output_html .sd { color: #BA2121; font-style: italic } /* Literal.String.Doc */\n",
       ".output_html .s2 { color: #BA2121 } /* Literal.String.Double */\n",
       ".output_html .se { color: #AA5D1F; font-weight: bold } /* Literal.String.Escape */\n",
       ".output_html .sh { color: #BA2121 } /* Literal.String.Heredoc */\n",
       ".output_html .si { color: #A45A77; font-weight: bold } /* Literal.String.Interpol */\n",
       ".output_html .sx { color: #008000 } /* Literal.String.Other */\n",
       ".output_html .sr { color: #A45A77 } /* Literal.String.Regex */\n",
       ".output_html .s1 { color: #BA2121 } /* Literal.String.Single */\n",
       ".output_html .ss { color: #19177C } /* Literal.String.Symbol */\n",
       ".output_html .bp { color: #008000 } /* Name.Builtin.Pseudo */\n",
       ".output_html .fm { color: #0000FF } /* Name.Function.Magic */\n",
       ".output_html .vc { color: #19177C } /* Name.Variable.Class */\n",
       ".output_html .vg { color: #19177C } /* Name.Variable.Global */\n",
       ".output_html .vi { color: #19177C } /* Name.Variable.Instance */\n",
       ".output_html .vm { color: #19177C } /* Name.Variable.Magic */\n",
       ".output_html .il { color: #666666 } /* Literal.Number.Integer.Long */</style><div class=\"highlight\"><pre><span></span><span class=\"c\">############################################################################################</span>\n",
       "<span class=\"c\">############################################################################################</span>\n",
       "<span class=\"c\"># This Dockerfile allows you to extend this flavor by installing packages or adding files. </span>\n",
       "<span class=\"c\"># IF you didn&#39;t change the lines below, you can add packages and their version to the  </span>\n",
       "<span class=\"c\"># files in ./packages and they get automatically installed.                                </span>\n",
       "<span class=\"c\">############################################################################################</span>\n",
       "<span class=\"c\">############################################################################################</span>\n",
       "\n",
       "<span class=\"c\">#######################################################################</span>\n",
       "<span class=\"c\">#######################################################################</span>\n",
       "<span class=\"c\"># Do not change the following lines unless you know what you are doing </span>\n",
       "<span class=\"c\">#######################################################################</span>\n",
       "<span class=\"c\">#######################################################################</span>\n",
       "\n",
       "<span class=\"k\">FROM</span><span class=\"w\"> </span><span class=\"s\">{{flavor_base_deps}}</span>\n",
       "\n",
       "<span class=\"k\">RUN</span><span class=\"w\"> </span>mkdir<span class=\"w\"> </span>-p<span class=\"w\"> </span>/build_info/packages/flavor_customization\n",
       "\n",
       "<span class=\"k\">COPY</span><span class=\"w\"> </span>flavor_customization/packages/apt_get_packages<span class=\"w\"> </span>/build_info/packages/flavor_customization\n",
       "<span class=\"k\">RUN</span><span class=\"w\"> </span>/scripts/install_scripts/install_via_apt.pl<span class=\"w\"> </span>--file<span class=\"w\"> </span>/build_info/packages/flavor_customization/apt_get_packages<span class=\"w\"> </span>--with-versions\n",
       "\n",
       "<span class=\"k\">COPY</span><span class=\"w\"> </span>flavor_customization/packages/python3_pip_packages<span class=\"w\"> </span>/build_info/packages/flavor_customization\n",
       "<span class=\"k\">RUN</span><span class=\"w\"> </span>/scripts/install_scripts/install_via_pip.pl<span class=\"w\"> </span>--file<span class=\"w\"> </span>/build_info/packages/flavor_customization/python3_pip_packages<span class=\"w\"> </span>--python-binary<span class=\"w\"> </span>python3<span class=\"w\"> </span>--with-versions<span class=\"w\"> </span>--allow-no-version\n",
       "\n",
       "\n",
       "<span class=\"c\">##########################################################################</span>\n",
       "<span class=\"c\">##########################################################################</span>\n",
       "<span class=\"c\"># Below this text you can add any Dockerfile commands except of FROM.            </span>\n",
       "<span class=\"c\"># However only commands which change the filesystem will be              </span>\n",
       "<span class=\"c\"># reflected to the final script-language container.                      </span>\n",
       "<span class=\"c\"># We recommend to use only RUN, COPY and ADD. For example, WORKDIR, USER </span>\n",
       "<span class=\"c\"># and ENV will be not carried over into the final container. For more </span>\n",
       "<span class=\"c\"># information about Dockerfile commands, please check the reference </span>\n",
       "<span class=\"c\"># https://docs.docker.com/engine/reference/builder/#dockerfile-reference </span>\n",
       "<span class=\"c\">##########################################################################</span>\n",
       "<span class=\"c\">##########################################################################</span>\n",
       "\n",
       "\n",
       "<span class=\"c\">###########</span>\n",
       "<span class=\"c\">###########</span>\n",
       "<span class=\"c\"># Examples:</span>\n",
       "<span class=\"c\">###########</span>\n",
       "<span class=\"c\">###########</span>\n",
       "\n",
       "<span class=\"c\">#################################################</span>\n",
       "<span class=\"c\"># Execute a command during the build of the image</span>\n",
       "<span class=\"c\">#################################################</span>\n",
       "\n",
       "<span class=\"c\"># With RUN you can excute any command you usally would run in a bash shell.</span>\n",
       "<span class=\"c\"># It usually is a good idea to cleanup downloaded files or packages </span>\n",
       "<span class=\"c\"># caches in the same in the same RUN statement to keep the image size</span>\n",
       "<span class=\"c\"># small. You can execute multiple shell commands in one RUN statement</span>\n",
       "<span class=\"c\"># by combine them with </span>\n",
       "<span class=\"c\"># - `&amp;&amp;` (only execute if the previous command was successfull), </span>\n",
       "<span class=\"c\"># - `||` (only execute if the previous command was unsuccesfull)</span>\n",
       "<span class=\"c\"># - `;` (execute regardless of the success of the previous command)</span>\n",
       "<span class=\"c\"># To format multiple command per RUN statement you can add a line break with `\\`.</span>\n",
       "<span class=\"c\"># If you need to execute complex sequences of commands you should execute</span>\n",
       "<span class=\"c\"># scripts which you can copy into the image.</span>\n",
       "<span class=\"c\"># -------------------------------------------------------------------------------</span>\n",
       "\n",
       "<span class=\"c\"># RUN git clone https://github.com/exasol/data-science-examples</span>\n",
       "<span class=\"c\"># RUN curl -o data-science-examples.zip https://codeload.github.com/exasol/data-science-examples/zip/master &amp;&amp; \\</span>\n",
       "<span class=\"c\">#     unzip data-science-examples.zip &amp;&amp; \\</span>\n",
       "<span class=\"c\">#     rm data-science-examples.zip</span>\n",
       "\n",
       "<span class=\"c\">#####################################</span>\n",
       "<span class=\"c\"># Copy a file from ./ into the image. </span>\n",
       "<span class=\"c\">#####################################</span>\n",
       "\n",
       "<span class=\"c\"># In case of exaslct it is important to prefix source files or directories with `flavor_customization`</span>\n",
       "<span class=\"c\"># if you want to copy files or directories located in the same directory as this Dockerfile</span>\n",
       "<span class=\"c\"># -----------------------------------------------------------------------------------------------------</span>\n",
       "\n",
       "<span class=\"c\"># COPY flavor_customization/packages/python3_pip_packages /build_info/packages/flavor_customization</span>\n",
       "<span class=\"c\"># ADD flavor_customization/code.tar.gz /code</span>\n",
       "</pre></div>\n"
      ],
      "text/latex": [
       "\\begin{Verbatim}[commandchars=\\\\\\{\\}]\n",
       "\\PY{c}{\\PYZsh{}\\PYZsh{}\\PYZsh{}\\PYZsh{}\\PYZsh{}\\PYZsh{}\\PYZsh{}\\PYZsh{}\\PYZsh{}\\PYZsh{}\\PYZsh{}\\PYZsh{}\\PYZsh{}\\PYZsh{}\\PYZsh{}\\PYZsh{}\\PYZsh{}\\PYZsh{}\\PYZsh{}\\PYZsh{}\\PYZsh{}\\PYZsh{}\\PYZsh{}\\PYZsh{}\\PYZsh{}\\PYZsh{}\\PYZsh{}\\PYZsh{}\\PYZsh{}\\PYZsh{}\\PYZsh{}\\PYZsh{}\\PYZsh{}\\PYZsh{}\\PYZsh{}\\PYZsh{}\\PYZsh{}\\PYZsh{}\\PYZsh{}\\PYZsh{}\\PYZsh{}\\PYZsh{}\\PYZsh{}\\PYZsh{}\\PYZsh{}\\PYZsh{}\\PYZsh{}\\PYZsh{}\\PYZsh{}\\PYZsh{}\\PYZsh{}\\PYZsh{}\\PYZsh{}\\PYZsh{}\\PYZsh{}\\PYZsh{}\\PYZsh{}\\PYZsh{}\\PYZsh{}\\PYZsh{}\\PYZsh{}\\PYZsh{}\\PYZsh{}\\PYZsh{}\\PYZsh{}\\PYZsh{}\\PYZsh{}\\PYZsh{}\\PYZsh{}\\PYZsh{}\\PYZsh{}\\PYZsh{}\\PYZsh{}\\PYZsh{}\\PYZsh{}\\PYZsh{}\\PYZsh{}\\PYZsh{}\\PYZsh{}\\PYZsh{}\\PYZsh{}\\PYZsh{}\\PYZsh{}\\PYZsh{}\\PYZsh{}\\PYZsh{}\\PYZsh{}\\PYZsh{}\\PYZsh{}\\PYZsh{}\\PYZsh{}\\PYZsh{}}\n",
       "\\PY{c}{\\PYZsh{}\\PYZsh{}\\PYZsh{}\\PYZsh{}\\PYZsh{}\\PYZsh{}\\PYZsh{}\\PYZsh{}\\PYZsh{}\\PYZsh{}\\PYZsh{}\\PYZsh{}\\PYZsh{}\\PYZsh{}\\PYZsh{}\\PYZsh{}\\PYZsh{}\\PYZsh{}\\PYZsh{}\\PYZsh{}\\PYZsh{}\\PYZsh{}\\PYZsh{}\\PYZsh{}\\PYZsh{}\\PYZsh{}\\PYZsh{}\\PYZsh{}\\PYZsh{}\\PYZsh{}\\PYZsh{}\\PYZsh{}\\PYZsh{}\\PYZsh{}\\PYZsh{}\\PYZsh{}\\PYZsh{}\\PYZsh{}\\PYZsh{}\\PYZsh{}\\PYZsh{}\\PYZsh{}\\PYZsh{}\\PYZsh{}\\PYZsh{}\\PYZsh{}\\PYZsh{}\\PYZsh{}\\PYZsh{}\\PYZsh{}\\PYZsh{}\\PYZsh{}\\PYZsh{}\\PYZsh{}\\PYZsh{}\\PYZsh{}\\PYZsh{}\\PYZsh{}\\PYZsh{}\\PYZsh{}\\PYZsh{}\\PYZsh{}\\PYZsh{}\\PYZsh{}\\PYZsh{}\\PYZsh{}\\PYZsh{}\\PYZsh{}\\PYZsh{}\\PYZsh{}\\PYZsh{}\\PYZsh{}\\PYZsh{}\\PYZsh{}\\PYZsh{}\\PYZsh{}\\PYZsh{}\\PYZsh{}\\PYZsh{}\\PYZsh{}\\PYZsh{}\\PYZsh{}\\PYZsh{}\\PYZsh{}\\PYZsh{}\\PYZsh{}\\PYZsh{}\\PYZsh{}\\PYZsh{}\\PYZsh{}\\PYZsh{}\\PYZsh{}}\n",
       "\\PY{c}{\\PYZsh{} This Dockerfile allows you to extend this flavor by installing packages or adding files. }\n",
       "\\PY{c}{\\PYZsh{} IF you didn\\PYZsq{}t change the lines below, you can add packages and their version to the  }\n",
       "\\PY{c}{\\PYZsh{} files in ./packages and they get automatically installed.                                }\n",
       "\\PY{c}{\\PYZsh{}\\PYZsh{}\\PYZsh{}\\PYZsh{}\\PYZsh{}\\PYZsh{}\\PYZsh{}\\PYZsh{}\\PYZsh{}\\PYZsh{}\\PYZsh{}\\PYZsh{}\\PYZsh{}\\PYZsh{}\\PYZsh{}\\PYZsh{}\\PYZsh{}\\PYZsh{}\\PYZsh{}\\PYZsh{}\\PYZsh{}\\PYZsh{}\\PYZsh{}\\PYZsh{}\\PYZsh{}\\PYZsh{}\\PYZsh{}\\PYZsh{}\\PYZsh{}\\PYZsh{}\\PYZsh{}\\PYZsh{}\\PYZsh{}\\PYZsh{}\\PYZsh{}\\PYZsh{}\\PYZsh{}\\PYZsh{}\\PYZsh{}\\PYZsh{}\\PYZsh{}\\PYZsh{}\\PYZsh{}\\PYZsh{}\\PYZsh{}\\PYZsh{}\\PYZsh{}\\PYZsh{}\\PYZsh{}\\PYZsh{}\\PYZsh{}\\PYZsh{}\\PYZsh{}\\PYZsh{}\\PYZsh{}\\PYZsh{}\\PYZsh{}\\PYZsh{}\\PYZsh{}\\PYZsh{}\\PYZsh{}\\PYZsh{}\\PYZsh{}\\PYZsh{}\\PYZsh{}\\PYZsh{}\\PYZsh{}\\PYZsh{}\\PYZsh{}\\PYZsh{}\\PYZsh{}\\PYZsh{}\\PYZsh{}\\PYZsh{}\\PYZsh{}\\PYZsh{}\\PYZsh{}\\PYZsh{}\\PYZsh{}\\PYZsh{}\\PYZsh{}\\PYZsh{}\\PYZsh{}\\PYZsh{}\\PYZsh{}\\PYZsh{}\\PYZsh{}\\PYZsh{}\\PYZsh{}\\PYZsh{}\\PYZsh{}\\PYZsh{}}\n",
       "\\PY{c}{\\PYZsh{}\\PYZsh{}\\PYZsh{}\\PYZsh{}\\PYZsh{}\\PYZsh{}\\PYZsh{}\\PYZsh{}\\PYZsh{}\\PYZsh{}\\PYZsh{}\\PYZsh{}\\PYZsh{}\\PYZsh{}\\PYZsh{}\\PYZsh{}\\PYZsh{}\\PYZsh{}\\PYZsh{}\\PYZsh{}\\PYZsh{}\\PYZsh{}\\PYZsh{}\\PYZsh{}\\PYZsh{}\\PYZsh{}\\PYZsh{}\\PYZsh{}\\PYZsh{}\\PYZsh{}\\PYZsh{}\\PYZsh{}\\PYZsh{}\\PYZsh{}\\PYZsh{}\\PYZsh{}\\PYZsh{}\\PYZsh{}\\PYZsh{}\\PYZsh{}\\PYZsh{}\\PYZsh{}\\PYZsh{}\\PYZsh{}\\PYZsh{}\\PYZsh{}\\PYZsh{}\\PYZsh{}\\PYZsh{}\\PYZsh{}\\PYZsh{}\\PYZsh{}\\PYZsh{}\\PYZsh{}\\PYZsh{}\\PYZsh{}\\PYZsh{}\\PYZsh{}\\PYZsh{}\\PYZsh{}\\PYZsh{}\\PYZsh{}\\PYZsh{}\\PYZsh{}\\PYZsh{}\\PYZsh{}\\PYZsh{}\\PYZsh{}\\PYZsh{}\\PYZsh{}\\PYZsh{}\\PYZsh{}\\PYZsh{}\\PYZsh{}\\PYZsh{}\\PYZsh{}\\PYZsh{}\\PYZsh{}\\PYZsh{}\\PYZsh{}\\PYZsh{}\\PYZsh{}\\PYZsh{}\\PYZsh{}\\PYZsh{}\\PYZsh{}\\PYZsh{}\\PYZsh{}\\PYZsh{}\\PYZsh{}\\PYZsh{}\\PYZsh{}}\n",
       "\n",
       "\\PY{c}{\\PYZsh{}\\PYZsh{}\\PYZsh{}\\PYZsh{}\\PYZsh{}\\PYZsh{}\\PYZsh{}\\PYZsh{}\\PYZsh{}\\PYZsh{}\\PYZsh{}\\PYZsh{}\\PYZsh{}\\PYZsh{}\\PYZsh{}\\PYZsh{}\\PYZsh{}\\PYZsh{}\\PYZsh{}\\PYZsh{}\\PYZsh{}\\PYZsh{}\\PYZsh{}\\PYZsh{}\\PYZsh{}\\PYZsh{}\\PYZsh{}\\PYZsh{}\\PYZsh{}\\PYZsh{}\\PYZsh{}\\PYZsh{}\\PYZsh{}\\PYZsh{}\\PYZsh{}\\PYZsh{}\\PYZsh{}\\PYZsh{}\\PYZsh{}\\PYZsh{}\\PYZsh{}\\PYZsh{}\\PYZsh{}\\PYZsh{}\\PYZsh{}\\PYZsh{}\\PYZsh{}\\PYZsh{}\\PYZsh{}\\PYZsh{}\\PYZsh{}\\PYZsh{}\\PYZsh{}\\PYZsh{}\\PYZsh{}\\PYZsh{}\\PYZsh{}\\PYZsh{}\\PYZsh{}\\PYZsh{}\\PYZsh{}\\PYZsh{}\\PYZsh{}\\PYZsh{}\\PYZsh{}\\PYZsh{}\\PYZsh{}\\PYZsh{}\\PYZsh{}\\PYZsh{}\\PYZsh{}}\n",
       "\\PY{c}{\\PYZsh{}\\PYZsh{}\\PYZsh{}\\PYZsh{}\\PYZsh{}\\PYZsh{}\\PYZsh{}\\PYZsh{}\\PYZsh{}\\PYZsh{}\\PYZsh{}\\PYZsh{}\\PYZsh{}\\PYZsh{}\\PYZsh{}\\PYZsh{}\\PYZsh{}\\PYZsh{}\\PYZsh{}\\PYZsh{}\\PYZsh{}\\PYZsh{}\\PYZsh{}\\PYZsh{}\\PYZsh{}\\PYZsh{}\\PYZsh{}\\PYZsh{}\\PYZsh{}\\PYZsh{}\\PYZsh{}\\PYZsh{}\\PYZsh{}\\PYZsh{}\\PYZsh{}\\PYZsh{}\\PYZsh{}\\PYZsh{}\\PYZsh{}\\PYZsh{}\\PYZsh{}\\PYZsh{}\\PYZsh{}\\PYZsh{}\\PYZsh{}\\PYZsh{}\\PYZsh{}\\PYZsh{}\\PYZsh{}\\PYZsh{}\\PYZsh{}\\PYZsh{}\\PYZsh{}\\PYZsh{}\\PYZsh{}\\PYZsh{}\\PYZsh{}\\PYZsh{}\\PYZsh{}\\PYZsh{}\\PYZsh{}\\PYZsh{}\\PYZsh{}\\PYZsh{}\\PYZsh{}\\PYZsh{}\\PYZsh{}\\PYZsh{}\\PYZsh{}\\PYZsh{}\\PYZsh{}}\n",
       "\\PY{c}{\\PYZsh{} Do not change the following lines unless you know what you are doing }\n",
       "\\PY{c}{\\PYZsh{}\\PYZsh{}\\PYZsh{}\\PYZsh{}\\PYZsh{}\\PYZsh{}\\PYZsh{}\\PYZsh{}\\PYZsh{}\\PYZsh{}\\PYZsh{}\\PYZsh{}\\PYZsh{}\\PYZsh{}\\PYZsh{}\\PYZsh{}\\PYZsh{}\\PYZsh{}\\PYZsh{}\\PYZsh{}\\PYZsh{}\\PYZsh{}\\PYZsh{}\\PYZsh{}\\PYZsh{}\\PYZsh{}\\PYZsh{}\\PYZsh{}\\PYZsh{}\\PYZsh{}\\PYZsh{}\\PYZsh{}\\PYZsh{}\\PYZsh{}\\PYZsh{}\\PYZsh{}\\PYZsh{}\\PYZsh{}\\PYZsh{}\\PYZsh{}\\PYZsh{}\\PYZsh{}\\PYZsh{}\\PYZsh{}\\PYZsh{}\\PYZsh{}\\PYZsh{}\\PYZsh{}\\PYZsh{}\\PYZsh{}\\PYZsh{}\\PYZsh{}\\PYZsh{}\\PYZsh{}\\PYZsh{}\\PYZsh{}\\PYZsh{}\\PYZsh{}\\PYZsh{}\\PYZsh{}\\PYZsh{}\\PYZsh{}\\PYZsh{}\\PYZsh{}\\PYZsh{}\\PYZsh{}\\PYZsh{}\\PYZsh{}\\PYZsh{}\\PYZsh{}\\PYZsh{}}\n",
       "\\PY{c}{\\PYZsh{}\\PYZsh{}\\PYZsh{}\\PYZsh{}\\PYZsh{}\\PYZsh{}\\PYZsh{}\\PYZsh{}\\PYZsh{}\\PYZsh{}\\PYZsh{}\\PYZsh{}\\PYZsh{}\\PYZsh{}\\PYZsh{}\\PYZsh{}\\PYZsh{}\\PYZsh{}\\PYZsh{}\\PYZsh{}\\PYZsh{}\\PYZsh{}\\PYZsh{}\\PYZsh{}\\PYZsh{}\\PYZsh{}\\PYZsh{}\\PYZsh{}\\PYZsh{}\\PYZsh{}\\PYZsh{}\\PYZsh{}\\PYZsh{}\\PYZsh{}\\PYZsh{}\\PYZsh{}\\PYZsh{}\\PYZsh{}\\PYZsh{}\\PYZsh{}\\PYZsh{}\\PYZsh{}\\PYZsh{}\\PYZsh{}\\PYZsh{}\\PYZsh{}\\PYZsh{}\\PYZsh{}\\PYZsh{}\\PYZsh{}\\PYZsh{}\\PYZsh{}\\PYZsh{}\\PYZsh{}\\PYZsh{}\\PYZsh{}\\PYZsh{}\\PYZsh{}\\PYZsh{}\\PYZsh{}\\PYZsh{}\\PYZsh{}\\PYZsh{}\\PYZsh{}\\PYZsh{}\\PYZsh{}\\PYZsh{}\\PYZsh{}\\PYZsh{}\\PYZsh{}\\PYZsh{}}\n",
       "\n",
       "\\PY{k}{FROM}\\PY{+w}{ }\\PY{l+s}{\\PYZob{}\\PYZob{}flavor\\PYZus{}base\\PYZus{}deps\\PYZcb{}\\PYZcb{}}\n",
       "\n",
       "\\PY{k}{RUN}\\PY{+w}{ }mkdir\\PY{+w}{ }\\PYZhy{}p\\PY{+w}{ }/build\\PYZus{}info/packages/flavor\\PYZus{}customization\n",
       "\n",
       "\\PY{k}{COPY}\\PY{+w}{ }flavor\\PYZus{}customization/packages/apt\\PYZus{}get\\PYZus{}packages\\PY{+w}{ }/build\\PYZus{}info/packages/flavor\\PYZus{}customization\n",
       "\\PY{k}{RUN}\\PY{+w}{ }/scripts/install\\PYZus{}scripts/install\\PYZus{}via\\PYZus{}apt.pl\\PY{+w}{ }\\PYZhy{}\\PYZhy{}file\\PY{+w}{ }/build\\PYZus{}info/packages/flavor\\PYZus{}customization/apt\\PYZus{}get\\PYZus{}packages\\PY{+w}{ }\\PYZhy{}\\PYZhy{}with\\PYZhy{}versions\n",
       "\n",
       "\\PY{k}{COPY}\\PY{+w}{ }flavor\\PYZus{}customization/packages/python3\\PYZus{}pip\\PYZus{}packages\\PY{+w}{ }/build\\PYZus{}info/packages/flavor\\PYZus{}customization\n",
       "\\PY{k}{RUN}\\PY{+w}{ }/scripts/install\\PYZus{}scripts/install\\PYZus{}via\\PYZus{}pip.pl\\PY{+w}{ }\\PYZhy{}\\PYZhy{}file\\PY{+w}{ }/build\\PYZus{}info/packages/flavor\\PYZus{}customization/python3\\PYZus{}pip\\PYZus{}packages\\PY{+w}{ }\\PYZhy{}\\PYZhy{}python\\PYZhy{}binary\\PY{+w}{ }python3\\PY{+w}{ }\\PYZhy{}\\PYZhy{}with\\PYZhy{}versions\\PY{+w}{ }\\PYZhy{}\\PYZhy{}allow\\PYZhy{}no\\PYZhy{}version\n",
       "\n",
       "\n",
       "\\PY{c}{\\PYZsh{}\\PYZsh{}\\PYZsh{}\\PYZsh{}\\PYZsh{}\\PYZsh{}\\PYZsh{}\\PYZsh{}\\PYZsh{}\\PYZsh{}\\PYZsh{}\\PYZsh{}\\PYZsh{}\\PYZsh{}\\PYZsh{}\\PYZsh{}\\PYZsh{}\\PYZsh{}\\PYZsh{}\\PYZsh{}\\PYZsh{}\\PYZsh{}\\PYZsh{}\\PYZsh{}\\PYZsh{}\\PYZsh{}\\PYZsh{}\\PYZsh{}\\PYZsh{}\\PYZsh{}\\PYZsh{}\\PYZsh{}\\PYZsh{}\\PYZsh{}\\PYZsh{}\\PYZsh{}\\PYZsh{}\\PYZsh{}\\PYZsh{}\\PYZsh{}\\PYZsh{}\\PYZsh{}\\PYZsh{}\\PYZsh{}\\PYZsh{}\\PYZsh{}\\PYZsh{}\\PYZsh{}\\PYZsh{}\\PYZsh{}\\PYZsh{}\\PYZsh{}\\PYZsh{}\\PYZsh{}\\PYZsh{}\\PYZsh{}\\PYZsh{}\\PYZsh{}\\PYZsh{}\\PYZsh{}\\PYZsh{}\\PYZsh{}\\PYZsh{}\\PYZsh{}\\PYZsh{}\\PYZsh{}\\PYZsh{}\\PYZsh{}\\PYZsh{}\\PYZsh{}\\PYZsh{}\\PYZsh{}\\PYZsh{}\\PYZsh{}}\n",
       "\\PY{c}{\\PYZsh{}\\PYZsh{}\\PYZsh{}\\PYZsh{}\\PYZsh{}\\PYZsh{}\\PYZsh{}\\PYZsh{}\\PYZsh{}\\PYZsh{}\\PYZsh{}\\PYZsh{}\\PYZsh{}\\PYZsh{}\\PYZsh{}\\PYZsh{}\\PYZsh{}\\PYZsh{}\\PYZsh{}\\PYZsh{}\\PYZsh{}\\PYZsh{}\\PYZsh{}\\PYZsh{}\\PYZsh{}\\PYZsh{}\\PYZsh{}\\PYZsh{}\\PYZsh{}\\PYZsh{}\\PYZsh{}\\PYZsh{}\\PYZsh{}\\PYZsh{}\\PYZsh{}\\PYZsh{}\\PYZsh{}\\PYZsh{}\\PYZsh{}\\PYZsh{}\\PYZsh{}\\PYZsh{}\\PYZsh{}\\PYZsh{}\\PYZsh{}\\PYZsh{}\\PYZsh{}\\PYZsh{}\\PYZsh{}\\PYZsh{}\\PYZsh{}\\PYZsh{}\\PYZsh{}\\PYZsh{}\\PYZsh{}\\PYZsh{}\\PYZsh{}\\PYZsh{}\\PYZsh{}\\PYZsh{}\\PYZsh{}\\PYZsh{}\\PYZsh{}\\PYZsh{}\\PYZsh{}\\PYZsh{}\\PYZsh{}\\PYZsh{}\\PYZsh{}\\PYZsh{}\\PYZsh{}\\PYZsh{}\\PYZsh{}\\PYZsh{}}\n",
       "\\PY{c}{\\PYZsh{} Below this text you can add any Dockerfile commands except of FROM.            }\n",
       "\\PY{c}{\\PYZsh{} However only commands which change the filesystem will be              }\n",
       "\\PY{c}{\\PYZsh{} reflected to the final script\\PYZhy{}language container.                      }\n",
       "\\PY{c}{\\PYZsh{} We recommend to use only RUN, COPY and ADD. For example, WORKDIR, USER }\n",
       "\\PY{c}{\\PYZsh{} and ENV will be not carried over into the final container. For more }\n",
       "\\PY{c}{\\PYZsh{} information about Dockerfile commands, please check the reference }\n",
       "\\PY{c}{\\PYZsh{} https://docs.docker.com/engine/reference/builder/\\PYZsh{}dockerfile\\PYZhy{}reference }\n",
       "\\PY{c}{\\PYZsh{}\\PYZsh{}\\PYZsh{}\\PYZsh{}\\PYZsh{}\\PYZsh{}\\PYZsh{}\\PYZsh{}\\PYZsh{}\\PYZsh{}\\PYZsh{}\\PYZsh{}\\PYZsh{}\\PYZsh{}\\PYZsh{}\\PYZsh{}\\PYZsh{}\\PYZsh{}\\PYZsh{}\\PYZsh{}\\PYZsh{}\\PYZsh{}\\PYZsh{}\\PYZsh{}\\PYZsh{}\\PYZsh{}\\PYZsh{}\\PYZsh{}\\PYZsh{}\\PYZsh{}\\PYZsh{}\\PYZsh{}\\PYZsh{}\\PYZsh{}\\PYZsh{}\\PYZsh{}\\PYZsh{}\\PYZsh{}\\PYZsh{}\\PYZsh{}\\PYZsh{}\\PYZsh{}\\PYZsh{}\\PYZsh{}\\PYZsh{}\\PYZsh{}\\PYZsh{}\\PYZsh{}\\PYZsh{}\\PYZsh{}\\PYZsh{}\\PYZsh{}\\PYZsh{}\\PYZsh{}\\PYZsh{}\\PYZsh{}\\PYZsh{}\\PYZsh{}\\PYZsh{}\\PYZsh{}\\PYZsh{}\\PYZsh{}\\PYZsh{}\\PYZsh{}\\PYZsh{}\\PYZsh{}\\PYZsh{}\\PYZsh{}\\PYZsh{}\\PYZsh{}\\PYZsh{}\\PYZsh{}\\PYZsh{}\\PYZsh{}}\n",
       "\\PY{c}{\\PYZsh{}\\PYZsh{}\\PYZsh{}\\PYZsh{}\\PYZsh{}\\PYZsh{}\\PYZsh{}\\PYZsh{}\\PYZsh{}\\PYZsh{}\\PYZsh{}\\PYZsh{}\\PYZsh{}\\PYZsh{}\\PYZsh{}\\PYZsh{}\\PYZsh{}\\PYZsh{}\\PYZsh{}\\PYZsh{}\\PYZsh{}\\PYZsh{}\\PYZsh{}\\PYZsh{}\\PYZsh{}\\PYZsh{}\\PYZsh{}\\PYZsh{}\\PYZsh{}\\PYZsh{}\\PYZsh{}\\PYZsh{}\\PYZsh{}\\PYZsh{}\\PYZsh{}\\PYZsh{}\\PYZsh{}\\PYZsh{}\\PYZsh{}\\PYZsh{}\\PYZsh{}\\PYZsh{}\\PYZsh{}\\PYZsh{}\\PYZsh{}\\PYZsh{}\\PYZsh{}\\PYZsh{}\\PYZsh{}\\PYZsh{}\\PYZsh{}\\PYZsh{}\\PYZsh{}\\PYZsh{}\\PYZsh{}\\PYZsh{}\\PYZsh{}\\PYZsh{}\\PYZsh{}\\PYZsh{}\\PYZsh{}\\PYZsh{}\\PYZsh{}\\PYZsh{}\\PYZsh{}\\PYZsh{}\\PYZsh{}\\PYZsh{}\\PYZsh{}\\PYZsh{}\\PYZsh{}\\PYZsh{}\\PYZsh{}\\PYZsh{}}\n",
       "\n",
       "\n",
       "\\PY{c}{\\PYZsh{}\\PYZsh{}\\PYZsh{}\\PYZsh{}\\PYZsh{}\\PYZsh{}\\PYZsh{}\\PYZsh{}\\PYZsh{}\\PYZsh{}\\PYZsh{}}\n",
       "\\PY{c}{\\PYZsh{}\\PYZsh{}\\PYZsh{}\\PYZsh{}\\PYZsh{}\\PYZsh{}\\PYZsh{}\\PYZsh{}\\PYZsh{}\\PYZsh{}\\PYZsh{}}\n",
       "\\PY{c}{\\PYZsh{} Examples:}\n",
       "\\PY{c}{\\PYZsh{}\\PYZsh{}\\PYZsh{}\\PYZsh{}\\PYZsh{}\\PYZsh{}\\PYZsh{}\\PYZsh{}\\PYZsh{}\\PYZsh{}\\PYZsh{}}\n",
       "\\PY{c}{\\PYZsh{}\\PYZsh{}\\PYZsh{}\\PYZsh{}\\PYZsh{}\\PYZsh{}\\PYZsh{}\\PYZsh{}\\PYZsh{}\\PYZsh{}\\PYZsh{}}\n",
       "\n",
       "\\PY{c}{\\PYZsh{}\\PYZsh{}\\PYZsh{}\\PYZsh{}\\PYZsh{}\\PYZsh{}\\PYZsh{}\\PYZsh{}\\PYZsh{}\\PYZsh{}\\PYZsh{}\\PYZsh{}\\PYZsh{}\\PYZsh{}\\PYZsh{}\\PYZsh{}\\PYZsh{}\\PYZsh{}\\PYZsh{}\\PYZsh{}\\PYZsh{}\\PYZsh{}\\PYZsh{}\\PYZsh{}\\PYZsh{}\\PYZsh{}\\PYZsh{}\\PYZsh{}\\PYZsh{}\\PYZsh{}\\PYZsh{}\\PYZsh{}\\PYZsh{}\\PYZsh{}\\PYZsh{}\\PYZsh{}\\PYZsh{}\\PYZsh{}\\PYZsh{}\\PYZsh{}\\PYZsh{}\\PYZsh{}\\PYZsh{}\\PYZsh{}\\PYZsh{}\\PYZsh{}\\PYZsh{}\\PYZsh{}\\PYZsh{}}\n",
       "\\PY{c}{\\PYZsh{} Execute a command during the build of the image}\n",
       "\\PY{c}{\\PYZsh{}\\PYZsh{}\\PYZsh{}\\PYZsh{}\\PYZsh{}\\PYZsh{}\\PYZsh{}\\PYZsh{}\\PYZsh{}\\PYZsh{}\\PYZsh{}\\PYZsh{}\\PYZsh{}\\PYZsh{}\\PYZsh{}\\PYZsh{}\\PYZsh{}\\PYZsh{}\\PYZsh{}\\PYZsh{}\\PYZsh{}\\PYZsh{}\\PYZsh{}\\PYZsh{}\\PYZsh{}\\PYZsh{}\\PYZsh{}\\PYZsh{}\\PYZsh{}\\PYZsh{}\\PYZsh{}\\PYZsh{}\\PYZsh{}\\PYZsh{}\\PYZsh{}\\PYZsh{}\\PYZsh{}\\PYZsh{}\\PYZsh{}\\PYZsh{}\\PYZsh{}\\PYZsh{}\\PYZsh{}\\PYZsh{}\\PYZsh{}\\PYZsh{}\\PYZsh{}\\PYZsh{}\\PYZsh{}}\n",
       "\n",
       "\\PY{c}{\\PYZsh{} With RUN you can excute any command you usally would run in a bash shell.}\n",
       "\\PY{c}{\\PYZsh{} It usually is a good idea to cleanup downloaded files or packages }\n",
       "\\PY{c}{\\PYZsh{} caches in the same in the same RUN statement to keep the image size}\n",
       "\\PY{c}{\\PYZsh{} small. You can execute multiple shell commands in one RUN statement}\n",
       "\\PY{c}{\\PYZsh{} by combine them with }\n",
       "\\PY{c}{\\PYZsh{} \\PYZhy{} `\\PYZam{}\\PYZam{}` (only execute if the previous command was successfull), }\n",
       "\\PY{c}{\\PYZsh{} \\PYZhy{} `||` (only execute if the previous command was unsuccesfull)}\n",
       "\\PY{c}{\\PYZsh{} \\PYZhy{} `;` (execute regardless of the success of the previous command)}\n",
       "\\PY{c}{\\PYZsh{} To format multiple command per RUN statement you can add a line break with `\\PYZbs{}`.}\n",
       "\\PY{c}{\\PYZsh{} If you need to execute complex sequences of commands you should execute}\n",
       "\\PY{c}{\\PYZsh{} scripts which you can copy into the image.}\n",
       "\\PY{c}{\\PYZsh{} \\PYZhy{}\\PYZhy{}\\PYZhy{}\\PYZhy{}\\PYZhy{}\\PYZhy{}\\PYZhy{}\\PYZhy{}\\PYZhy{}\\PYZhy{}\\PYZhy{}\\PYZhy{}\\PYZhy{}\\PYZhy{}\\PYZhy{}\\PYZhy{}\\PYZhy{}\\PYZhy{}\\PYZhy{}\\PYZhy{}\\PYZhy{}\\PYZhy{}\\PYZhy{}\\PYZhy{}\\PYZhy{}\\PYZhy{}\\PYZhy{}\\PYZhy{}\\PYZhy{}\\PYZhy{}\\PYZhy{}\\PYZhy{}\\PYZhy{}\\PYZhy{}\\PYZhy{}\\PYZhy{}\\PYZhy{}\\PYZhy{}\\PYZhy{}\\PYZhy{}\\PYZhy{}\\PYZhy{}\\PYZhy{}\\PYZhy{}\\PYZhy{}\\PYZhy{}\\PYZhy{}\\PYZhy{}\\PYZhy{}\\PYZhy{}\\PYZhy{}\\PYZhy{}\\PYZhy{}\\PYZhy{}\\PYZhy{}\\PYZhy{}\\PYZhy{}\\PYZhy{}\\PYZhy{}\\PYZhy{}\\PYZhy{}\\PYZhy{}\\PYZhy{}\\PYZhy{}\\PYZhy{}\\PYZhy{}\\PYZhy{}\\PYZhy{}\\PYZhy{}\\PYZhy{}\\PYZhy{}\\PYZhy{}\\PYZhy{}\\PYZhy{}\\PYZhy{}\\PYZhy{}\\PYZhy{}\\PYZhy{}\\PYZhy{}}\n",
       "\n",
       "\\PY{c}{\\PYZsh{} RUN git clone https://github.com/exasol/data\\PYZhy{}science\\PYZhy{}examples}\n",
       "\\PY{c}{\\PYZsh{} RUN curl \\PYZhy{}o data\\PYZhy{}science\\PYZhy{}examples.zip https://codeload.github.com/exasol/data\\PYZhy{}science\\PYZhy{}examples/zip/master \\PYZam{}\\PYZam{} \\PYZbs{}}\n",
       "\\PY{c}{\\PYZsh{}     unzip data\\PYZhy{}science\\PYZhy{}examples.zip \\PYZam{}\\PYZam{} \\PYZbs{}}\n",
       "\\PY{c}{\\PYZsh{}     rm data\\PYZhy{}science\\PYZhy{}examples.zip}\n",
       "\n",
       "\\PY{c}{\\PYZsh{}\\PYZsh{}\\PYZsh{}\\PYZsh{}\\PYZsh{}\\PYZsh{}\\PYZsh{}\\PYZsh{}\\PYZsh{}\\PYZsh{}\\PYZsh{}\\PYZsh{}\\PYZsh{}\\PYZsh{}\\PYZsh{}\\PYZsh{}\\PYZsh{}\\PYZsh{}\\PYZsh{}\\PYZsh{}\\PYZsh{}\\PYZsh{}\\PYZsh{}\\PYZsh{}\\PYZsh{}\\PYZsh{}\\PYZsh{}\\PYZsh{}\\PYZsh{}\\PYZsh{}\\PYZsh{}\\PYZsh{}\\PYZsh{}\\PYZsh{}\\PYZsh{}\\PYZsh{}\\PYZsh{}}\n",
       "\\PY{c}{\\PYZsh{} Copy a file from ./ into the image. }\n",
       "\\PY{c}{\\PYZsh{}\\PYZsh{}\\PYZsh{}\\PYZsh{}\\PYZsh{}\\PYZsh{}\\PYZsh{}\\PYZsh{}\\PYZsh{}\\PYZsh{}\\PYZsh{}\\PYZsh{}\\PYZsh{}\\PYZsh{}\\PYZsh{}\\PYZsh{}\\PYZsh{}\\PYZsh{}\\PYZsh{}\\PYZsh{}\\PYZsh{}\\PYZsh{}\\PYZsh{}\\PYZsh{}\\PYZsh{}\\PYZsh{}\\PYZsh{}\\PYZsh{}\\PYZsh{}\\PYZsh{}\\PYZsh{}\\PYZsh{}\\PYZsh{}\\PYZsh{}\\PYZsh{}\\PYZsh{}\\PYZsh{}}\n",
       "\n",
       "\\PY{c}{\\PYZsh{} In case of exaslct it is important to prefix source files or directories with `flavor\\PYZus{}customization`}\n",
       "\\PY{c}{\\PYZsh{} if you want to copy files or directories located in the same directory as this Dockerfile}\n",
       "\\PY{c}{\\PYZsh{} \\PYZhy{}\\PYZhy{}\\PYZhy{}\\PYZhy{}\\PYZhy{}\\PYZhy{}\\PYZhy{}\\PYZhy{}\\PYZhy{}\\PYZhy{}\\PYZhy{}\\PYZhy{}\\PYZhy{}\\PYZhy{}\\PYZhy{}\\PYZhy{}\\PYZhy{}\\PYZhy{}\\PYZhy{}\\PYZhy{}\\PYZhy{}\\PYZhy{}\\PYZhy{}\\PYZhy{}\\PYZhy{}\\PYZhy{}\\PYZhy{}\\PYZhy{}\\PYZhy{}\\PYZhy{}\\PYZhy{}\\PYZhy{}\\PYZhy{}\\PYZhy{}\\PYZhy{}\\PYZhy{}\\PYZhy{}\\PYZhy{}\\PYZhy{}\\PYZhy{}\\PYZhy{}\\PYZhy{}\\PYZhy{}\\PYZhy{}\\PYZhy{}\\PYZhy{}\\PYZhy{}\\PYZhy{}\\PYZhy{}\\PYZhy{}\\PYZhy{}\\PYZhy{}\\PYZhy{}\\PYZhy{}\\PYZhy{}\\PYZhy{}\\PYZhy{}\\PYZhy{}\\PYZhy{}\\PYZhy{}\\PYZhy{}\\PYZhy{}\\PYZhy{}\\PYZhy{}\\PYZhy{}\\PYZhy{}\\PYZhy{}\\PYZhy{}\\PYZhy{}\\PYZhy{}\\PYZhy{}\\PYZhy{}\\PYZhy{}\\PYZhy{}\\PYZhy{}\\PYZhy{}\\PYZhy{}\\PYZhy{}\\PYZhy{}\\PYZhy{}\\PYZhy{}\\PYZhy{}\\PYZhy{}\\PYZhy{}\\PYZhy{}\\PYZhy{}\\PYZhy{}\\PYZhy{}\\PYZhy{}\\PYZhy{}\\PYZhy{}\\PYZhy{}\\PYZhy{}\\PYZhy{}\\PYZhy{}\\PYZhy{}\\PYZhy{}\\PYZhy{}\\PYZhy{}\\PYZhy{}\\PYZhy{}}\n",
       "\n",
       "\\PY{c}{\\PYZsh{} COPY flavor\\PYZus{}customization/packages/python3\\PYZus{}pip\\PYZus{}packages /build\\PYZus{}info/packages/flavor\\PYZus{}customization}\n",
       "\\PY{c}{\\PYZsh{} ADD flavor\\PYZus{}customization/code.tar.gz /code}\n",
       "\\end{Verbatim}\n"
      ],
      "text/plain": [
       "############################################################################################\n",
       "############################################################################################\n",
       "# This Dockerfile allows you to extend this flavor by installing packages or adding files. \n",
       "# IF you didn't change the lines below, you can add packages and their version to the  \n",
       "# files in ./packages and they get automatically installed.                                \n",
       "############################################################################################\n",
       "############################################################################################\n",
       "\n",
       "#######################################################################\n",
       "#######################################################################\n",
       "# Do not change the following lines unless you know what you are doing \n",
       "#######################################################################\n",
       "#######################################################################\n",
       "\n",
       "FROM {{flavor_base_deps}}\n",
       "\n",
       "RUN mkdir -p /build_info/packages/flavor_customization\n",
       "\n",
       "COPY flavor_customization/packages/apt_get_packages /build_info/packages/flavor_customization\n",
       "RUN /scripts/install_scripts/install_via_apt.pl --file /build_info/packages/flavor_customization/apt_get_packages --with-versions\n",
       "\n",
       "COPY flavor_customization/packages/python3_pip_packages /build_info/packages/flavor_customization\n",
       "RUN /scripts/install_scripts/install_via_pip.pl --file /build_info/packages/flavor_customization/python3_pip_packages --python-binary python3 --with-versions --allow-no-version\n",
       "\n",
       "\n",
       "##########################################################################\n",
       "##########################################################################\n",
       "# Below this text you can add any Dockerfile commands except of FROM.            \n",
       "# However only commands which change the filesystem will be              \n",
       "# reflected to the final script-language container.                      \n",
       "# We recommend to use only RUN, COPY and ADD. For example, WORKDIR, USER \n",
       "# and ENV will be not carried over into the final container. For more \n",
       "# information about Dockerfile commands, please check the reference \n",
       "# https://docs.docker.com/engine/reference/builder/#dockerfile-reference \n",
       "##########################################################################\n",
       "##########################################################################\n",
       "\n",
       "\n",
       "###########\n",
       "###########\n",
       "# Examples:\n",
       "###########\n",
       "###########\n",
       "\n",
       "#################################################\n",
       "# Execute a command during the build of the image\n",
       "#################################################\n",
       "\n",
       "# With RUN you can excute any command you usally would run in a bash shell.\n",
       "# It usually is a good idea to cleanup downloaded files or packages \n",
       "# caches in the same in the same RUN statement to keep the image size\n",
       "# small. You can execute multiple shell commands in one RUN statement\n",
       "# by combine them with \n",
       "# - `&&` (only execute if the previous command was successfull), \n",
       "# - `||` (only execute if the previous command was unsuccesfull)\n",
       "# - `;` (execute regardless of the success of the previous command)\n",
       "# To format multiple command per RUN statement you can add a line break with `\\`.\n",
       "# If you need to execute complex sequences of commands you should execute\n",
       "# scripts which you can copy into the image.\n",
       "# -------------------------------------------------------------------------------\n",
       "\n",
       "# RUN git clone https://github.com/exasol/data-science-examples\n",
       "# RUN curl -o data-science-examples.zip https://codeload.github.com/exasol/data-science-examples/zip/master && \\\n",
       "#     unzip data-science-examples.zip && \\\n",
       "#     rm data-science-examples.zip\n",
       "\n",
       "#####################################\n",
       "# Copy a file from ./ into the image. \n",
       "#####################################\n",
       "\n",
       "# In case of exaslct it is important to prefix source files or directories with `flavor_customization`\n",
       "# if you want to copy files or directories located in the same directory as this Dockerfile\n",
       "# -----------------------------------------------------------------------------------------------------\n",
       "\n",
       "# COPY flavor_customization/packages/python3_pip_packages /build_info/packages/flavor_customization\n",
       "# ADD flavor_customization/code.tar.gz /code\n"
      ]
     },
     "metadata": {},
     "output_type": "display_data"
    }
   ],
   "source": [
    "show_docker_file(slc_dir / flavor_path / \"flavor_customization\" / \"Dockerfile\")"
   ]
  },
  {
   "cell_type": "markdown",
   "id": "562eac65-b205-49d4-971e-9ed0090796b4",
   "metadata": {},
   "source": [
    "#### Package Lists\n",
    "The package lists have a unified format. Each line consists of the package name and the package version separated by \"|\", e.g `xgboost|1.3.3`. You can comment out a whole line by adding\"#\" at the beginning. You can also add a trailing comment to a package definition by adding a \"#\" after the package definition. We usually recommend to pin the version, such that there are no surprises for which version gets installed."
   ]
  },
  {
   "cell_type": "code",
   "execution_count": 29,
   "id": "ce88261d-efc4-470e-a875-447a28c0125c",
   "metadata": {},
   "outputs": [
    {
     "data": {
      "text/html": [
       "<style>pre { line-height: 125%; }\n",
       "td.linenos .normal { color: inherit; background-color: transparent; padding-left: 5px; padding-right: 5px; }\n",
       "span.linenos { color: inherit; background-color: transparent; padding-left: 5px; padding-right: 5px; }\n",
       "td.linenos .special { color: #000000; background-color: #ffffc0; padding-left: 5px; padding-right: 5px; }\n",
       "span.linenos.special { color: #000000; background-color: #ffffc0; padding-left: 5px; padding-right: 5px; }\n",
       ".output_html .hll { background-color: #ffffcc }\n",
       ".output_html { background: #f8f8f8; }\n",
       ".output_html .c { color: #3D7B7B; font-style: italic } /* Comment */\n",
       ".output_html .err { border: 1px solid #FF0000 } /* Error */\n",
       ".output_html .k { color: #008000; font-weight: bold } /* Keyword */\n",
       ".output_html .o { color: #666666 } /* Operator */\n",
       ".output_html .ch { color: #3D7B7B; font-style: italic } /* Comment.Hashbang */\n",
       ".output_html .cm { color: #3D7B7B; font-style: italic } /* Comment.Multiline */\n",
       ".output_html .cp { color: #9C6500 } /* Comment.Preproc */\n",
       ".output_html .cpf { color: #3D7B7B; font-style: italic } /* Comment.PreprocFile */\n",
       ".output_html .c1 { color: #3D7B7B; font-style: italic } /* Comment.Single */\n",
       ".output_html .cs { color: #3D7B7B; font-style: italic } /* Comment.Special */\n",
       ".output_html .gd { color: #A00000 } /* Generic.Deleted */\n",
       ".output_html .ge { font-style: italic } /* Generic.Emph */\n",
       ".output_html .ges { font-weight: bold; font-style: italic } /* Generic.EmphStrong */\n",
       ".output_html .gr { color: #E40000 } /* Generic.Error */\n",
       ".output_html .gh { color: #000080; font-weight: bold } /* Generic.Heading */\n",
       ".output_html .gi { color: #008400 } /* Generic.Inserted */\n",
       ".output_html .go { color: #717171 } /* Generic.Output */\n",
       ".output_html .gp { color: #000080; font-weight: bold } /* Generic.Prompt */\n",
       ".output_html .gs { font-weight: bold } /* Generic.Strong */\n",
       ".output_html .gu { color: #800080; font-weight: bold } /* Generic.Subheading */\n",
       ".output_html .gt { color: #0044DD } /* Generic.Traceback */\n",
       ".output_html .kc { color: #008000; font-weight: bold } /* Keyword.Constant */\n",
       ".output_html .kd { color: #008000; font-weight: bold } /* Keyword.Declaration */\n",
       ".output_html .kn { color: #008000; font-weight: bold } /* Keyword.Namespace */\n",
       ".output_html .kp { color: #008000 } /* Keyword.Pseudo */\n",
       ".output_html .kr { color: #008000; font-weight: bold } /* Keyword.Reserved */\n",
       ".output_html .kt { color: #B00040 } /* Keyword.Type */\n",
       ".output_html .m { color: #666666 } /* Literal.Number */\n",
       ".output_html .s { color: #BA2121 } /* Literal.String */\n",
       ".output_html .na { color: #687822 } /* Name.Attribute */\n",
       ".output_html .nb { color: #008000 } /* Name.Builtin */\n",
       ".output_html .nc { color: #0000FF; font-weight: bold } /* Name.Class */\n",
       ".output_html .no { color: #880000 } /* Name.Constant */\n",
       ".output_html .nd { color: #AA22FF } /* Name.Decorator */\n",
       ".output_html .ni { color: #717171; font-weight: bold } /* Name.Entity */\n",
       ".output_html .ne { color: #CB3F38; font-weight: bold } /* Name.Exception */\n",
       ".output_html .nf { color: #0000FF } /* Name.Function */\n",
       ".output_html .nl { color: #767600 } /* Name.Label */\n",
       ".output_html .nn { color: #0000FF; font-weight: bold } /* Name.Namespace */\n",
       ".output_html .nt { color: #008000; font-weight: bold } /* Name.Tag */\n",
       ".output_html .nv { color: #19177C } /* Name.Variable */\n",
       ".output_html .ow { color: #AA22FF; font-weight: bold } /* Operator.Word */\n",
       ".output_html .w { color: #bbbbbb } /* Text.Whitespace */\n",
       ".output_html .mb { color: #666666 } /* Literal.Number.Bin */\n",
       ".output_html .mf { color: #666666 } /* Literal.Number.Float */\n",
       ".output_html .mh { color: #666666 } /* Literal.Number.Hex */\n",
       ".output_html .mi { color: #666666 } /* Literal.Number.Integer */\n",
       ".output_html .mo { color: #666666 } /* Literal.Number.Oct */\n",
       ".output_html .sa { color: #BA2121 } /* Literal.String.Affix */\n",
       ".output_html .sb { color: #BA2121 } /* Literal.String.Backtick */\n",
       ".output_html .sc { color: #BA2121 } /* Literal.String.Char */\n",
       ".output_html .dl { color: #BA2121 } /* Literal.String.Delimiter */\n",
       ".output_html .sd { color: #BA2121; font-style: italic } /* Literal.String.Doc */\n",
       ".output_html .s2 { color: #BA2121 } /* Literal.String.Double */\n",
       ".output_html .se { color: #AA5D1F; font-weight: bold } /* Literal.String.Escape */\n",
       ".output_html .sh { color: #BA2121 } /* Literal.String.Heredoc */\n",
       ".output_html .si { color: #A45A77; font-weight: bold } /* Literal.String.Interpol */\n",
       ".output_html .sx { color: #008000 } /* Literal.String.Other */\n",
       ".output_html .sr { color: #A45A77 } /* Literal.String.Regex */\n",
       ".output_html .s1 { color: #BA2121 } /* Literal.String.Single */\n",
       ".output_html .ss { color: #19177C } /* Literal.String.Symbol */\n",
       ".output_html .bp { color: #008000 } /* Name.Builtin.Pseudo */\n",
       ".output_html .fm { color: #0000FF } /* Name.Function.Magic */\n",
       ".output_html .vc { color: #19177C } /* Name.Variable.Class */\n",
       ".output_html .vg { color: #19177C } /* Name.Variable.Global */\n",
       ".output_html .vi { color: #19177C } /* Name.Variable.Instance */\n",
       ".output_html .vm { color: #19177C } /* Name.Variable.Magic */\n",
       ".output_html .il { color: #666666 } /* Literal.Number.Integer.Long */</style><div class=\"highlight\"><pre><span></span><span class=\"c1\"># This file specifies the package list which gets installed via pip for python3.</span>\n",
       "<span class=\"c1\"># You must specify the the package and its version separated by a |.</span>\n",
       "<span class=\"c1\"># We recommend here the usage of package versions, to ensure that the container </span>\n",
       "<span class=\"c1\"># builds are reproducible. However, we allow also packages without version.</span>\n",
       "<span class=\"c1\"># As you can see, this file can contain comments which start with #.</span>\n",
       "<span class=\"c1\"># If a line starts with # the whole line is a comment, however you can</span>\n",
       "<span class=\"c1\"># also start a comment after the package definition.</span>\n",
       "\n",
       "<span class=\"c1\">#tensorflow-probability|0.9.0</span>\n",
       "</pre></div>\n"
      ],
      "text/latex": [
       "\\begin{Verbatim}[commandchars=\\\\\\{\\}]\n",
       "\\PY{c+c1}{\\PYZsh{} This file specifies the package list which gets installed via pip for python3.}\n",
       "\\PY{c+c1}{\\PYZsh{} You must specify the the package and its version separated by a |.}\n",
       "\\PY{c+c1}{\\PYZsh{} We recommend here the usage of package versions, to ensure that the container }\n",
       "\\PY{c+c1}{\\PYZsh{} builds are reproducible. However, we allow also packages without version.}\n",
       "\\PY{c+c1}{\\PYZsh{} As you can see, this file can contain comments which start with \\PYZsh{}.}\n",
       "\\PY{c+c1}{\\PYZsh{} If a line starts with \\PYZsh{} the whole line is a comment, however you can}\n",
       "\\PY{c+c1}{\\PYZsh{} also start a comment after the package definition.}\n",
       "\n",
       "\\PY{c+c1}{\\PYZsh{}tensorflow\\PYZhy{}probability|0.9.0}\n",
       "\\end{Verbatim}\n"
      ],
      "text/plain": [
       "# This file specifies the package list which gets installed via pip for python3.\n",
       "# You must specify the the package and its version separated by a |.\n",
       "# We recommend here the usage of package versions, to ensure that the container \n",
       "# builds are reproducible. However, we allow also packages without version.\n",
       "# As you can see, this file can contain comments which start with #.\n",
       "# If a line starts with # the whole line is a comment, however you can\n",
       "# also start a comment after the package definition.\n",
       "\n",
       "#tensorflow-probability|0.9.0"
      ]
     },
     "metadata": {},
     "output_type": "display_data"
    }
   ],
   "source": [
    "custom_pip_file = slc_dir / flavor_path / \"flavor_customization\" / \"packages\" / \"python3_pip_packages\"\n",
    "show_pip_file(custom_pip_file)"
   ]
  },
  {
   "cell_type": "markdown",
   "id": "5857a6fb-f0b7-413f-8ce5-88ced8645abb",
   "metadata": {},
   "source": [
    "We are now going to append the \"xgboost\" Python package to one of the package lists by adding `xgboost|2.0.3` and `scikit-learn|1.5.0` to the `flavor_customization/packages/python3_pip_packages` file. (Note that running the following the command multiple times will iteratively append the packages)"
   ]
  },
  {
   "cell_type": "code",
   "execution_count": 30,
   "id": "fe3db39f-5588-44a9-9e64-d4ec495423ee",
   "metadata": {},
   "outputs": [
    {
     "data": {
      "text/html": [
       "<style>pre { line-height: 125%; }\n",
       "td.linenos .normal { color: inherit; background-color: transparent; padding-left: 5px; padding-right: 5px; }\n",
       "span.linenos { color: inherit; background-color: transparent; padding-left: 5px; padding-right: 5px; }\n",
       "td.linenos .special { color: #000000; background-color: #ffffc0; padding-left: 5px; padding-right: 5px; }\n",
       "span.linenos.special { color: #000000; background-color: #ffffc0; padding-left: 5px; padding-right: 5px; }\n",
       ".output_html .hll { background-color: #ffffcc }\n",
       ".output_html { background: #f8f8f8; }\n",
       ".output_html .c { color: #3D7B7B; font-style: italic } /* Comment */\n",
       ".output_html .err { border: 1px solid #FF0000 } /* Error */\n",
       ".output_html .k { color: #008000; font-weight: bold } /* Keyword */\n",
       ".output_html .o { color: #666666 } /* Operator */\n",
       ".output_html .ch { color: #3D7B7B; font-style: italic } /* Comment.Hashbang */\n",
       ".output_html .cm { color: #3D7B7B; font-style: italic } /* Comment.Multiline */\n",
       ".output_html .cp { color: #9C6500 } /* Comment.Preproc */\n",
       ".output_html .cpf { color: #3D7B7B; font-style: italic } /* Comment.PreprocFile */\n",
       ".output_html .c1 { color: #3D7B7B; font-style: italic } /* Comment.Single */\n",
       ".output_html .cs { color: #3D7B7B; font-style: italic } /* Comment.Special */\n",
       ".output_html .gd { color: #A00000 } /* Generic.Deleted */\n",
       ".output_html .ge { font-style: italic } /* Generic.Emph */\n",
       ".output_html .ges { font-weight: bold; font-style: italic } /* Generic.EmphStrong */\n",
       ".output_html .gr { color: #E40000 } /* Generic.Error */\n",
       ".output_html .gh { color: #000080; font-weight: bold } /* Generic.Heading */\n",
       ".output_html .gi { color: #008400 } /* Generic.Inserted */\n",
       ".output_html .go { color: #717171 } /* Generic.Output */\n",
       ".output_html .gp { color: #000080; font-weight: bold } /* Generic.Prompt */\n",
       ".output_html .gs { font-weight: bold } /* Generic.Strong */\n",
       ".output_html .gu { color: #800080; font-weight: bold } /* Generic.Subheading */\n",
       ".output_html .gt { color: #0044DD } /* Generic.Traceback */\n",
       ".output_html .kc { color: #008000; font-weight: bold } /* Keyword.Constant */\n",
       ".output_html .kd { color: #008000; font-weight: bold } /* Keyword.Declaration */\n",
       ".output_html .kn { color: #008000; font-weight: bold } /* Keyword.Namespace */\n",
       ".output_html .kp { color: #008000 } /* Keyword.Pseudo */\n",
       ".output_html .kr { color: #008000; font-weight: bold } /* Keyword.Reserved */\n",
       ".output_html .kt { color: #B00040 } /* Keyword.Type */\n",
       ".output_html .m { color: #666666 } /* Literal.Number */\n",
       ".output_html .s { color: #BA2121 } /* Literal.String */\n",
       ".output_html .na { color: #687822 } /* Name.Attribute */\n",
       ".output_html .nb { color: #008000 } /* Name.Builtin */\n",
       ".output_html .nc { color: #0000FF; font-weight: bold } /* Name.Class */\n",
       ".output_html .no { color: #880000 } /* Name.Constant */\n",
       ".output_html .nd { color: #AA22FF } /* Name.Decorator */\n",
       ".output_html .ni { color: #717171; font-weight: bold } /* Name.Entity */\n",
       ".output_html .ne { color: #CB3F38; font-weight: bold } /* Name.Exception */\n",
       ".output_html .nf { color: #0000FF } /* Name.Function */\n",
       ".output_html .nl { color: #767600 } /* Name.Label */\n",
       ".output_html .nn { color: #0000FF; font-weight: bold } /* Name.Namespace */\n",
       ".output_html .nt { color: #008000; font-weight: bold } /* Name.Tag */\n",
       ".output_html .nv { color: #19177C } /* Name.Variable */\n",
       ".output_html .ow { color: #AA22FF; font-weight: bold } /* Operator.Word */\n",
       ".output_html .w { color: #bbbbbb } /* Text.Whitespace */\n",
       ".output_html .mb { color: #666666 } /* Literal.Number.Bin */\n",
       ".output_html .mf { color: #666666 } /* Literal.Number.Float */\n",
       ".output_html .mh { color: #666666 } /* Literal.Number.Hex */\n",
       ".output_html .mi { color: #666666 } /* Literal.Number.Integer */\n",
       ".output_html .mo { color: #666666 } /* Literal.Number.Oct */\n",
       ".output_html .sa { color: #BA2121 } /* Literal.String.Affix */\n",
       ".output_html .sb { color: #BA2121 } /* Literal.String.Backtick */\n",
       ".output_html .sc { color: #BA2121 } /* Literal.String.Char */\n",
       ".output_html .dl { color: #BA2121 } /* Literal.String.Delimiter */\n",
       ".output_html .sd { color: #BA2121; font-style: italic } /* Literal.String.Doc */\n",
       ".output_html .s2 { color: #BA2121 } /* Literal.String.Double */\n",
       ".output_html .se { color: #AA5D1F; font-weight: bold } /* Literal.String.Escape */\n",
       ".output_html .sh { color: #BA2121 } /* Literal.String.Heredoc */\n",
       ".output_html .si { color: #A45A77; font-weight: bold } /* Literal.String.Interpol */\n",
       ".output_html .sx { color: #008000 } /* Literal.String.Other */\n",
       ".output_html .sr { color: #A45A77 } /* Literal.String.Regex */\n",
       ".output_html .s1 { color: #BA2121 } /* Literal.String.Single */\n",
       ".output_html .ss { color: #19177C } /* Literal.String.Symbol */\n",
       ".output_html .bp { color: #008000 } /* Name.Builtin.Pseudo */\n",
       ".output_html .fm { color: #0000FF } /* Name.Function.Magic */\n",
       ".output_html .vc { color: #19177C } /* Name.Variable.Class */\n",
       ".output_html .vg { color: #19177C } /* Name.Variable.Global */\n",
       ".output_html .vi { color: #19177C } /* Name.Variable.Instance */\n",
       ".output_html .vm { color: #19177C } /* Name.Variable.Magic */\n",
       ".output_html .il { color: #666666 } /* Literal.Number.Integer.Long */</style><div class=\"highlight\"><pre><span></span><span class=\"c1\"># This file specifies the package list which gets installed via pip for python3.</span>\n",
       "<span class=\"c1\"># You must specify the the package and its version separated by a |.</span>\n",
       "<span class=\"c1\"># We recommend here the usage of package versions, to ensure that the container </span>\n",
       "<span class=\"c1\"># builds are reproducible. However, we allow also packages without version.</span>\n",
       "<span class=\"c1\"># As you can see, this file can contain comments which start with #.</span>\n",
       "<span class=\"c1\"># If a line starts with # the whole line is a comment, however you can</span>\n",
       "<span class=\"c1\"># also start a comment after the package definition.</span>\n",
       "\n",
       "<span class=\"c1\">#tensorflow-probability|0.9.0</span>\n",
       "<span class=\"n\">xgboost</span><span class=\"err\">|</span><span class=\"n\">2</span><span class=\"p\">.</span><span class=\"n\">0</span><span class=\"p\">.</span><span class=\"n\">3</span>\n",
       "<span class=\"n\">scikit-learn</span><span class=\"err\">|</span><span class=\"n\">1</span><span class=\"p\">.</span><span class=\"n\">5</span><span class=\"p\">.</span><span class=\"n\">0</span>\n",
       "</pre></div>\n"
      ],
      "text/latex": [
       "\\begin{Verbatim}[commandchars=\\\\\\{\\}]\n",
       "\\PY{c+c1}{\\PYZsh{} This file specifies the package list which gets installed via pip for python3.}\n",
       "\\PY{c+c1}{\\PYZsh{} You must specify the the package and its version separated by a |.}\n",
       "\\PY{c+c1}{\\PYZsh{} We recommend here the usage of package versions, to ensure that the container }\n",
       "\\PY{c+c1}{\\PYZsh{} builds are reproducible. However, we allow also packages without version.}\n",
       "\\PY{c+c1}{\\PYZsh{} As you can see, this file can contain comments which start with \\PYZsh{}.}\n",
       "\\PY{c+c1}{\\PYZsh{} If a line starts with \\PYZsh{} the whole line is a comment, however you can}\n",
       "\\PY{c+c1}{\\PYZsh{} also start a comment after the package definition.}\n",
       "\n",
       "\\PY{c+c1}{\\PYZsh{}tensorflow\\PYZhy{}probability|0.9.0}\n",
       "\\PY{n}{xgboost}\\PY{err}{|}\\PY{n}{2}\\PY{p}{.}\\PY{n}{0}\\PY{p}{.}\\PY{n}{3}\n",
       "\\PY{n}{scikit\\PYZhy{}learn}\\PY{err}{|}\\PY{n}{1}\\PY{p}{.}\\PY{n}{5}\\PY{p}{.}\\PY{n}{0}\n",
       "\\end{Verbatim}\n"
      ],
      "text/plain": [
       "# This file specifies the package list which gets installed via pip for python3.\n",
       "# You must specify the the package and its version separated by a |.\n",
       "# We recommend here the usage of package versions, to ensure that the container \n",
       "# builds are reproducible. However, we allow also packages without version.\n",
       "# As you can see, this file can contain comments which start with #.\n",
       "# If a line starts with # the whole line is a comment, however you can\n",
       "# also start a comment after the package definition.\n",
       "\n",
       "#tensorflow-probability|0.9.0\n",
       "xgboost|2.0.3\n",
       "scikit-learn|1.5.0"
      ]
     },
     "metadata": {},
     "output_type": "display_data"
    }
   ],
   "source": [
    "with open(custom_pip_file, \"a\") as f:\n",
    "    print(\"xgboost|2.0.3\", file=f)\n",
    "    print(\"scikit-learn|1.5.0\", file=f)\n",
    "show_pip_file(custom_pip_file)"
   ]
  },
  {
   "cell_type": "markdown",
   "id": "834a2314-13ab-4ae8-bca5-9d1861376419",
   "metadata": {},
   "source": [
    "#### Rebuilding the customized Flavor\n",
    "After changing the flavor you need to rebuild it. You can do it by running `export` again. Exaslct automatically recognizes that the flavor has changed and builds a new version of the container."
   ]
  },
  {
   "cell_type": "code",
   "execution_count": 31,
   "id": "2e7e9bbb-bf77-474f-949f-9521e9e3fd86",
   "metadata": {},
   "outputs": [
    {
     "name": "stdout",
     "output_type": "stream",
     "text": [
      "WARNING - AnalyzeFlavorCustomization_7163885ed3(job_id=2024_06_21_09_34_30_2_ExportContainers, no_cache=False, flavor_path=flavors/template-Exasol-all-python-3.10): Image exasol/script-language-container:template-Exasol-all-python-3.10-flavor_customization_BIXW65PN6O34GMX7KLPZL2IGSKB2UIWG6BA4TXNPEVZWUJ2YGGDQ not in registry, got exception 404 Client Error for http+docker://localhost/v1.45/images/create?tag=template-Exasol-all-python-3.10-flavor_customization_BIXW65PN6O34GMX7KLPZL2IGSKB2UIWG6BA4TXNPEVZWUJ2YGGDQ&fromImage=exasol%2Fscript-language-container: Not Found (\"manifest for exasol/script-language-container:template-Exasol-all-python-3.10-flavor_customization_BIXW65PN6O34GMX7KLPZL2IGSKB2UIWG6BA4TXNPEVZWUJ2YGGDQ not found: manifest unknown: manifest unknown\")\n",
      "WARNING - AnalyzeRelease_7163885ed3(job_id=2024_06_21_09_34_30_2_ExportContainers, no_cache=False, flavor_path=flavors/template-Exasol-all-python-3.10): Image exasol/script-language-container:template-Exasol-all-python-3.10-release_LSTTMRG6XRKQIR2ABGJEPE564HLPUM7EGMG6LQPHCTGLTUZQIYZQ not in registry, got exception 404 Client Error for http+docker://localhost/v1.45/images/create?tag=template-Exasol-all-python-3.10-release_LSTTMRG6XRKQIR2ABGJEPE564HLPUM7EGMG6LQPHCTGLTUZQIYZQ&fromImage=exasol%2Fscript-language-container: Not Found (\"manifest for exasol/script-language-container:template-Exasol-all-python-3.10-release_LSTTMRG6XRKQIR2ABGJEPE564HLPUM7EGMG6LQPHCTGLTUZQIYZQ not found: manifest unknown: manifest unknown\")\n",
      "Ready\n"
     ]
    }
   ],
   "source": [
    "with working_directory(slc_dir):\n",
    "    export_result = exaslct_api.export(flavor_path=(str(flavor_path),), export_path=export_path)\n",
    "print(\"Ready\")"
   ]
  },
  {
   "cell_type": "markdown",
   "id": "d0cec469-33de-4b1a-b481-735e69722c9f",
   "metadata": {},
   "source": [
    "Note: Your old container doesn't get lost, because when you change a flavor your container gets a new hash code. If you revert your changes the system automatically uses the existing cached container. Below you can see the content of the cache directory for the containers."
   ]
  },
  {
   "cell_type": "code",
   "execution_count": 32,
   "id": "f683dec3-101d-451d-b590-0518a8fdfdc9",
   "metadata": {},
   "outputs": [
    {
     "name": "stdout",
     "output_type": "stream",
     "text": [
      "/home/jupyter/script_languages_release/.build_output/cache/exports/template-Exasol-all-python-3.10-release-BFRSH344TDRPT7LK2FBOJK4KBIDW6A253FFPYEUYT4O2ERFMTCNA.tar.gz\n",
      "/home/jupyter/script_languages_release/.build_output/cache/exports/template-Exasol-all-python-3.10-release-LSTTMRG6XRKQIR2ABGJEPE564HLPUM7EGMG6LQPHCTGLTUZQIYZQ.tar.gz.sha512sum\n",
      "/home/jupyter/script_languages_release/.build_output/cache/exports/template-Exasol-all-python-3.10-release-BFRSH344TDRPT7LK2FBOJK4KBIDW6A253FFPYEUYT4O2ERFMTCNA.tar.gz.sha512sum\n",
      "/home/jupyter/script_languages_release/.build_output/cache/exports/template-Exasol-all-python-3.10-release-LSTTMRG6XRKQIR2ABGJEPE564HLPUM7EGMG6LQPHCTGLTUZQIYZQ.tar.gz\n"
     ]
    }
   ],
   "source": [
    "show_directory_content(build_output / \"cache\" / \"exports\")"
   ]
  },
  {
   "cell_type": "markdown",
   "id": "67f605e5-0fc6-4e9c-bf6a-1932d04ebdcc",
   "metadata": {},
   "source": [
    "### Testing the new Script-Language Container\n",
    "\n",
    "Now, that we have an updated container, we need to check if our changes were successful. For that we are going to upload the container to an Exasol Database and have a look into it.\n",
    "First we get the necessary information from the Secret Store."
   ]
  },
  {
   "cell_type": "code",
   "execution_count": 33,
   "id": "edbe432c-5440-40f5-b9be-fd4aef89d5c3",
   "metadata": {},
   "outputs": [],
   "source": [
    "from exasol.nb_connector.ai_lab_config import AILabConfig as CKey, StorageBackend\n",
    "bucketfs_name = ai_lab_config.get(CKey.bfs_service)\n",
    "bucket_name = ai_lab_config.get(CKey.bfs_bucket)\n",
    "database_host = ai_lab_config.get(CKey.bfs_host_name)\n",
    "bucketfs_port = ai_lab_config.get(CKey.bfs_port)\n",
    "bucketfs_username = ai_lab_config.get(CKey.bfs_user)\n",
    "bucketfs_password = ai_lab_config.get(CKey.bfs_password)\n",
    "\n",
    "PATH_IN_BUCKET = \"container\"\n",
    "RELEASE_NAME = \"current\""
   ]
  },
  {
   "cell_type": "markdown",
   "id": "a44b4189-4842-41ce-85e7-f47d4c6ddcec",
   "metadata": {},
   "source": [
    "#### Upload the Container to the Database\n",
    "To use our container we need to upload it to the BucketFS . If the build machine has access to the BucketFS we can do it with the exaslct upload command, otherwise you need to export the container and transfer it to a machine that has access to the BucketFS and upload it via curl, as described in our documentation.\n",
    "\n",
    "With the following command we upload the new script language container.\n"
   ]
  },
  {
   "cell_type": "code",
   "execution_count": 34,
   "id": "28f7f45c-8d38-49c0-860a-132b4e8f12c4",
   "metadata": {},
   "outputs": [
    {
     "name": "stdout",
     "output_type": "stream",
     "text": [
      "\n",
      "Uploaded .build_output/cache/exports/template-Exasol-all-python-3.10-release-LSTTMRG6XRKQIR2ABGJEPE564HLPUM7EGMG6LQPHCTGLTUZQIYZQ.tar.gz to\n",
      "http://172.17.0.2:2580/default/container/template-Exasol-all-python-3.10-release-current.tar.gz\n",
      "\n",
      "\n",
      "In SQL, you can activate the languages supported by the template-Exasol-all-python-3.10\n",
      "flavor by using the following statements:\n",
      "\n",
      "\n",
      "To activate the flavor only for the current session:\n",
      "\n",
      "ALTER SESSION SET SCRIPT_LANGUAGES='PYTHON3=localzmq+protobuf:///bfsdefault/default/container/template-Exasol-all-python-3.10-release-current?lang=python#buckets/bfsdefault/default/container/template-Exasol-all-python-3.10-release-current/exaudf/exaudfclient_py3';\n",
      "\n",
      "\n",
      "To activate the flavor on the system:\n",
      "\n",
      "ALTER SYSTEM SET SCRIPT_LANGUAGES='PYTHON3=localzmq+protobuf:///bfsdefault/default/container/template-Exasol-all-python-3.10-release-current?lang=python#buckets/bfsdefault/default/container/template-Exasol-all-python-3.10-release-current/exaudf/exaudfclient_py3';\n",
      "\n",
      "=================================================\n",
      "\n"
     ]
    }
   ],
   "source": [
    "with working_directory(slc_dir):\n",
    "    upload_result = exaslct_api.upload(flavor_path=(str(flavor_path),), database_host=database_host, bucketfs_name=bucketfs_name, \n",
    "                                       bucket_name=bucket_name, bucketfs_port=bucketfs_port, bucketfs_username=bucketfs_username, \n",
    "                                       bucketfs_password=bucketfs_password, path_in_bucket=PATH_IN_BUCKET, release_name=RELEASE_NAME)\n",
    "    \n",
    "    # The returned string contains the reference to output file containing information about how to use the uploaded container\n",
    "    tail_file(slc_dir / str(upload_result), 100)\n"
   ]
  },
  {
   "cell_type": "markdown",
   "id": "30014673-f03f-4f38-bd3f-5f9f27ad10b0",
   "metadata": {},
   "source": [
    "#### Getting the language container activation statement without upload\n",
    "Sometimes you can't use the upload command to upload your container to the BucketFS. To get the language activation statement regardless of that, you can use the generate-language-activation command. The API returns a tuple with 3 items:\n",
    "- The ALTER SESSION SQL command to activate the container\n",
    "- The ALTER SYSTEM SQL command to activate the container"
   ]
  },
  {
   "cell_type": "code",
   "execution_count": 35,
   "id": "d2f3130b-70f5-44ce-8d27-aa1efe6aa545",
   "metadata": {},
   "outputs": [
    {
     "name": "stdout",
     "output_type": "stream",
     "text": [
      "\n",
      "\n",
      "In SQL, you can activate the languages supported by the template-Exasol-all-python-3.10\n",
      "flavor by using the following statements:\n",
      "\n",
      "\n",
      "To activate the flavor only for the current session:\n",
      "\n",
      "ALTER SESSION SET SCRIPT_LANGUAGES='PYTHON3=localzmq+protobuf:///bfsdefault/default/container/template-Exasol-all-python-3.10-release-current?lang=python#buckets/bfsdefault/default/container/template-Exasol-all-python-3.10-release-current/exaudf/exaudfclient_py3';\n",
      "\n",
      "\n",
      "To activate the flavor on the system:\n",
      "\n",
      "ALTER SYSTEM SET SCRIPT_LANGUAGES='PYTHON3=localzmq+protobuf:///bfsdefault/default/container/template-Exasol-all-python-3.10-release-current?lang=python#buckets/bfsdefault/default/container/template-Exasol-all-python-3.10-release-current/exaudf/exaudfclient_py3';\n",
      "\n"
     ]
    }
   ],
   "source": [
    "from IPython.display import JSON\n",
    "import json\n",
    "PATH_IN_BUCKET = \"container\"\n",
    "with working_directory(slc_dir):\n",
    "    container_name = f\"{selected_flavor}-release-{RELEASE_NAME}\"\n",
    "    result = exaslct_api.generate_language_activation(flavor_path=flavor_path, bucketfs_name=bucketfs_name, \n",
    "                                                      bucket_name=bucket_name, container_name=container_name,\n",
    "                                                      path_in_bucket=PATH_IN_BUCKET)\n",
    "    alter_session_cmd = result[0]\n",
    "    alter_system_cmd = result[1]\n",
    "    explanation = result[2]\n",
    "    print(explanation)"
   ]
  },
  {
   "cell_type": "markdown",
   "id": "60ec9ae4-7b88-4840-8c07-f75a15b833c5",
   "metadata": {},
   "source": [
    "#### Connecting to the database and activate the container\n",
    "Once we have a connection to the database we run the ALTER SESSION statement or ALTER SYSTEM statement (if you want to activate the container permanently and globally) we got from the upload."
   ]
  },
  {
   "cell_type": "code",
   "execution_count": 38,
   "id": "357caa4f-74ca-4d41-9157-04608a1a3c8c",
   "metadata": {},
   "outputs": [
    {
     "data": {
      "text/plain": [
       "<ExaStatement session_id=1802463507475726336 stmt_idx=3>"
      ]
     },
     "execution_count": 38,
     "metadata": {},
     "output_type": "execute_result"
    }
   ],
   "source": [
    "from exasol.nb_connector.connections import open_pyexasol_connection\n",
    "\n",
    "\n",
    "# Create an Exasol connection\n",
    "conn = open_pyexasol_connection(ai_lab_config, compression=True)\n",
    "conn.execute(\"DROP SCHEMA IF EXISTS SLC_TUTORIAL\")\n",
    "conn.execute(\"CREATE SCHEMA SLC_TUTORIAL\")\n",
    "conn.execute(alter_session_cmd)\n"
   ]
  },
  {
   "cell_type": "markdown",
   "id": "214aac51-1c9a-4545-935e-aeeed4af55e9",
   "metadata": {},
   "source": [
    "#### Check if your customization did work\n",
    "We first create a helper UDF which allows us to run arbitrary shell commands inside of a UDF instance. With that we can easily inspect the container."
   ]
  },
  {
   "cell_type": "code",
   "execution_count": 41,
   "id": "2036fa12-bd31-4526-a9d6-9b618e1e8c58",
   "metadata": {},
   "outputs": [
    {
     "data": {
      "text/plain": [
       "<ExaStatement session_id=1802463507475726336 stmt_idx=5>"
      ]
     },
     "execution_count": 41,
     "metadata": {},
     "output_type": "execute_result"
    }
   ],
   "source": [
    "import textwrap\n",
    "\n",
    "conn.execute(textwrap.dedent(\"\"\"\n",
    "CREATE OR REPLACE PYTHON3 SCALAR SCRIPT execute_shell_command_py3(command VARCHAR(2000000), split_output boolean)\n",
    "EMITS (lines VARCHAR(2000000)) AS\n",
    "import subprocess\n",
    "\n",
    "def run(ctx):\n",
    "    try:\n",
    "        p = subprocess.Popen(ctx.command,\n",
    "                             stdout    = subprocess.PIPE,\n",
    "                             stderr    = subprocess.STDOUT,\n",
    "                             close_fds = True,\n",
    "                             shell     = True)\n",
    "        out, err = p.communicate()\n",
    "        if isinstance(out,bytes):\n",
    "            out=out.decode('utf8')\n",
    "        if ctx.split_output:\n",
    "            for line in out.strip().split('\\\\n'):\n",
    "                ctx.emit(line)\n",
    "        else:\n",
    "            ctx.emit(out)\n",
    "    finally:\n",
    "        if p is not None:\n",
    "            try: p.kill()\n",
    "            except: pass\n",
    "/\n",
    "\"\"\"))"
   ]
  },
  {
   "cell_type": "markdown",
   "id": "e2601c1d-8dd8-4c52-859a-28b7d0d3748b",
   "metadata": {},
   "source": [
    "Check with \"pip list\" if the \"xgboost\" package is installed\n",
    "We use our helper UDF to run `python3 -m pip list` directly in the container and get the list of currently avaiable python3 packages."
   ]
  },
  {
   "cell_type": "code",
   "execution_count": 42,
   "id": "51d61556-f9f1-4749-b70c-8fc21e141662",
   "metadata": {},
   "outputs": [
    {
     "name": "stdout",
     "output_type": "stream",
     "text": [
      "Package         Version\n",
      "--------------- -----------\n",
      "joblib          1.4.2\n",
      "numpy           1.26.4\n",
      "pandas          2.2.2\n",
      "pip             21.3.1\n",
      "pyarrow         16.0.0\n",
      "python-dateutil 2.9.0.post0\n",
      "pytz            2024.1\n",
      "scikit-learn    1.5.0\n",
      "scipy           1.13.1\n",
      "setuptools      70.0.0\n",
      "six             1.16.0\n",
      "threadpoolctl   3.5.0\n",
      "tzdata          2024.1\n",
      "wheel           0.43.0\n",
      "xgboost         2.0.3\n"
     ]
    }
   ],
   "source": [
    "rs=conn.execute(\"\"\"select execute_shell_command_py3('python3 -m pip list', true)\"\"\")\n",
    "for r in rs: \n",
    "    print(r[0])"
   ]
  },
  {
   "cell_type": "markdown",
   "id": "51cea11e-54ae-4d38-842e-1dac60de0ab5",
   "metadata": {},
   "source": [
    "By running `pip list` directly in the container, we see what is currently available in the container. However, sometimes this might not be what we expected. For these cases, exaslct stores information about the flavor the container was build from within the container.\n",
    "\n",
    "#### Embedded Build Information of the Container\n",
    "Here we see an overview about the build information which exaslct embedded into the container. `exaslct` stores all packages lists (as defined in the flavor and what actually got installed), the final Dockerfiles and the image info. The image info describes how the underlying Docker images of the container got built. The build information is stored in the `/build_info` directory in the container. We can use again our helper UDF to inspect the build information."
   ]
  },
  {
   "cell_type": "code",
   "execution_count": 43,
   "id": "92b4f6d4-9235-4e51-a3f4-1ee73aae90ef",
   "metadata": {},
   "outputs": [
    {
     "name": "stdout",
     "output_type": "stream",
     "text": [
      "/build_info\n",
      "/build_info/dockerfiles\n",
      "/build_info/dockerfiles/template-Exasol-all-python-3.10-udfclient_deps\n",
      "/build_info/dockerfiles/template-Exasol-all-python-3.10-release\n",
      "/build_info/dockerfiles/template-Exasol-all-python-3.10-flavor_customization\n",
      "/build_info/dockerfiles/template-Exasol-all-python-3.10-build_run\n",
      "/build_info/dockerfiles/template-Exasol-all-python-3.10-language_deps\n",
      "/build_info/dockerfiles/template-Exasol-all-python-3.10-build_deps\n",
      "/build_info/dockerfiles/template-Exasol-all-python-3.10-flavor_base_deps\n",
      "/build_info/packages\n",
      "/build_info/packages/flavor_customization\n",
      "/build_info/packages/flavor_customization/python3_pip_packages\n",
      "/build_info/packages/flavor_customization/apt_get_packages\n",
      "/build_info/packages/language_deps\n",
      "/build_info/packages/language_deps/python3_pip_packages\n",
      "/build_info/packages/language_deps/apt_get_packages\n",
      "/build_info/packages/udfclient_deps\n",
      "/build_info/packages/udfclient_deps/apt_get_packages\n",
      "/build_info/packages/build_deps\n",
      "/build_info/packages/build_deps/apt_get_packages\n",
      "/build_info/packages/flavor_base_deps\n",
      "/build_info/packages/flavor_base_deps/python3_pip_packages\n",
      "/build_info/packages/flavor_base_deps/apt_get_packages\n",
      "/build_info/actual_installed_packages\n",
      "/build_info/actual_installed_packages/release\n",
      "/build_info/actual_installed_packages/release/python3_pip_packages\n",
      "/build_info/actual_installed_packages/release/apt_get_packages\n",
      "/build_info/image_info\n",
      "/build_info/image_info/template-Exasol-all-python-3.10-udfclient_deps\n",
      "/build_info/image_info/template-Exasol-all-python-3.10-release\n",
      "/build_info/image_info/template-Exasol-all-python-3.10-flavor_customization\n",
      "/build_info/image_info/template-Exasol-all-python-3.10-build_run\n",
      "/build_info/image_info/template-Exasol-all-python-3.10-language_deps\n",
      "/build_info/image_info/template-Exasol-all-python-3.10-build_deps\n",
      "/build_info/image_info/template-Exasol-all-python-3.10-flavor_base_deps\n"
     ]
    }
   ],
   "source": [
    "rs=conn.execute(\"\"\"select execute_shell_command_py3('find /build_info', true)\"\"\")\n",
    "for r in rs: \n",
    "    print(r[0])"
   ]
  },
  {
   "cell_type": "markdown",
   "id": "b3b2810b-ad74-47bb-a94f-34f6cb9e459a",
   "metadata": {},
   "source": [
    "The following command shows for example, which python3 package pip found directly after the build of the container image."
   ]
  },
  {
   "cell_type": "code",
   "execution_count": 44,
   "id": "4f716612-fa6e-496f-9ec9-39fefb647b60",
   "metadata": {},
   "outputs": [
    {
     "name": "stdout",
     "output_type": "stream",
     "text": [
      "joblib|1.4.2\n",
      "numpy|1.26.4\n",
      "pandas|2.2.2\n",
      "pip|21.3.1\n",
      "pyarrow|16.0.0\n",
      "python-dateutil|2.9.0.post0\n",
      "pytz|2024.1\n",
      "scikit-learn|1.5.0\n",
      "scipy|1.13.1\n",
      "setuptools|70.0.0\n",
      "six|1.16.0\n",
      "threadpoolctl|3.5.0\n",
      "tzdata|2024.1\n",
      "wheel|0.43.0\n",
      "xgboost|2.0.3\n"
     ]
    }
   ],
   "source": [
    "rs=conn.execute(\"\"\"select execute_shell_command_py3('cat /build_info/actual_installed_packages/release/python3_pip_packages', true)\"\"\")\n",
    "for r in rs: \n",
    "    print(r[0])"
   ]
  },
  {
   "cell_type": "markdown",
   "id": "42e6e17c-ff3c-4311-a0c9-b044b8d7d6a9",
   "metadata": {},
   "source": [
    "You could for example compare this to the package list of the flavor-customization build step and check if all your requested packages got installed."
   ]
  },
  {
   "cell_type": "code",
   "execution_count": 45,
   "id": "aefe0c99-32d5-4357-bc2e-1131c7b38b9a",
   "metadata": {},
   "outputs": [
    {
     "name": "stdout",
     "output_type": "stream",
     "text": [
      "# This file specifies the package list which gets installed via pip for python3.\n",
      "# You must specify the the package and its version separated by a |.\n",
      "# We recommend here the usage of package versions, to ensure that the container \n",
      "# builds are reproducible. However, we allow also packages without version.\n",
      "# As you can see, this file can contain comments which start with #.\n",
      "# If a line starts with # the whole line is a comment, however you can\n",
      "# also start a comment after the package definition.\n",
      "\n",
      "#tensorflow-probability|0.9.0\n",
      "xgboost|2.0.3\n",
      "scikit-learn|1.5.0\n"
     ]
    }
   ],
   "source": [
    "rs=conn.execute(\"\"\"select execute_shell_command_py3('cat /build_info/packages/flavor_customization/python3_pip_packages', true)\"\"\")\n",
    "for r in rs:\n",
    "    if r[0] is None:\n",
    "        print()\n",
    "    else:\n",
    "        print(r[0])"
   ]
  },
  {
   "cell_type": "markdown",
   "id": "a0528564-fe3d-4143-8b58-6473ce250c60",
   "metadata": {},
   "source": [
    "### Testing the new package\n",
    "\n",
    "After we made sure that the required packages are installed, we need to try importing and using it. Importing is usually a good first test if a package got successfully installed, because often you might already get errors at this step. However, sometimes you only will recognize errors when using the package. We recommend to have a test suite for each new package to check if it works properly before you start your UDF development. It is usually easier to debug problems if you have very narrow tests."
   ]
  },
  {
   "cell_type": "code",
   "execution_count": 48,
   "id": "91b3c817-dbd4-411e-ab45-3ac5008624fc",
   "metadata": {},
   "outputs": [
    {
     "data": {
      "text/plain": [
       "[('success',)]"
      ]
     },
     "execution_count": 48,
     "metadata": {},
     "output_type": "execute_result"
    }
   ],
   "source": [
    "conn.execute(textwrap.dedent(\"\"\"\n",
    "CREATE OR REPLACE PYTHON3 SET SCRIPT test_xgboost(i integer)\n",
    "EMITS (o VARCHAR(2000000)) AS\n",
    "\n",
    "def run(ctx):\n",
    "    import xgboost\n",
    "    import sklearn \n",
    "    \n",
    "    ctx.emit(\"success\")\n",
    "/\n",
    "\"\"\"))\n",
    "\n",
    "rs = conn.execute(\"select test_xgboost(1)\")\n",
    "rs.fetchall()"
   ]
  },
  {
   "cell_type": "code",
   "execution_count": 49,
   "id": "c3b18d63-22f8-4e33-9701-7e4f6759f970",
   "metadata": {},
   "outputs": [
    {
     "data": {
      "text/html": [
       "<div>\n",
       "<style scoped>\n",
       "    .dataframe tbody tr th:only-of-type {\n",
       "        vertical-align: middle;\n",
       "    }\n",
       "\n",
       "    .dataframe tbody tr th {\n",
       "        vertical-align: top;\n",
       "    }\n",
       "\n",
       "    .dataframe thead th {\n",
       "        text-align: right;\n",
       "    }\n",
       "</style>\n",
       "<table border=\"1\" class=\"dataframe\">\n",
       "  <thead>\n",
       "    <tr style=\"text-align: right;\">\n",
       "      <th></th>\n",
       "      <th>O1</th>\n",
       "      <th>O2</th>\n",
       "      <th>O3</th>\n",
       "    </tr>\n",
       "  </thead>\n",
       "  <tbody>\n",
       "    <tr>\n",
       "      <th>0</th>\n",
       "      <td>0.005638</td>\n",
       "      <td>0.977552</td>\n",
       "      <td>0.016810</td>\n",
       "    </tr>\n",
       "    <tr>\n",
       "      <th>1</th>\n",
       "      <td>0.982547</td>\n",
       "      <td>0.013958</td>\n",
       "      <td>0.003495</td>\n",
       "    </tr>\n",
       "    <tr>\n",
       "      <th>2</th>\n",
       "      <td>0.003637</td>\n",
       "      <td>0.006152</td>\n",
       "      <td>0.990210</td>\n",
       "    </tr>\n",
       "    <tr>\n",
       "      <th>3</th>\n",
       "      <td>0.005647</td>\n",
       "      <td>0.979170</td>\n",
       "      <td>0.015182</td>\n",
       "    </tr>\n",
       "    <tr>\n",
       "      <th>4</th>\n",
       "      <td>0.005401</td>\n",
       "      <td>0.936409</td>\n",
       "      <td>0.058190</td>\n",
       "    </tr>\n",
       "    <tr>\n",
       "      <th>5</th>\n",
       "      <td>0.986080</td>\n",
       "      <td>0.010413</td>\n",
       "      <td>0.003508</td>\n",
       "    </tr>\n",
       "    <tr>\n",
       "      <th>6</th>\n",
       "      <td>0.005048</td>\n",
       "      <td>0.989758</td>\n",
       "      <td>0.005194</td>\n",
       "    </tr>\n",
       "    <tr>\n",
       "      <th>7</th>\n",
       "      <td>0.015695</td>\n",
       "      <td>0.066531</td>\n",
       "      <td>0.917774</td>\n",
       "    </tr>\n",
       "    <tr>\n",
       "      <th>8</th>\n",
       "      <td>0.006338</td>\n",
       "      <td>0.948772</td>\n",
       "      <td>0.044891</td>\n",
       "    </tr>\n",
       "    <tr>\n",
       "      <th>9</th>\n",
       "      <td>0.004390</td>\n",
       "      <td>0.990413</td>\n",
       "      <td>0.005198</td>\n",
       "    </tr>\n",
       "    <tr>\n",
       "      <th>10</th>\n",
       "      <td>0.017850</td>\n",
       "      <td>0.075666</td>\n",
       "      <td>0.906483</td>\n",
       "    </tr>\n",
       "    <tr>\n",
       "      <th>11</th>\n",
       "      <td>0.990542</td>\n",
       "      <td>0.005619</td>\n",
       "      <td>0.003840</td>\n",
       "    </tr>\n",
       "    <tr>\n",
       "      <th>12</th>\n",
       "      <td>0.982547</td>\n",
       "      <td>0.013958</td>\n",
       "      <td>0.003495</td>\n",
       "    </tr>\n",
       "    <tr>\n",
       "      <th>13</th>\n",
       "      <td>0.990855</td>\n",
       "      <td>0.005620</td>\n",
       "      <td>0.003525</td>\n",
       "    </tr>\n",
       "    <tr>\n",
       "      <th>14</th>\n",
       "      <td>0.990855</td>\n",
       "      <td>0.005620</td>\n",
       "      <td>0.003525</td>\n",
       "    </tr>\n",
       "    <tr>\n",
       "      <th>15</th>\n",
       "      <td>0.004357</td>\n",
       "      <td>0.986381</td>\n",
       "      <td>0.009262</td>\n",
       "    </tr>\n",
       "    <tr>\n",
       "      <th>16</th>\n",
       "      <td>0.002835</td>\n",
       "      <td>0.005457</td>\n",
       "      <td>0.991708</td>\n",
       "    </tr>\n",
       "    <tr>\n",
       "      <th>17</th>\n",
       "      <td>0.005069</td>\n",
       "      <td>0.987532</td>\n",
       "      <td>0.007398</td>\n",
       "    </tr>\n",
       "    <tr>\n",
       "      <th>18</th>\n",
       "      <td>0.004355</td>\n",
       "      <td>0.982659</td>\n",
       "      <td>0.012985</td>\n",
       "    </tr>\n",
       "    <tr>\n",
       "      <th>19</th>\n",
       "      <td>0.002837</td>\n",
       "      <td>0.004848</td>\n",
       "      <td>0.992315</td>\n",
       "    </tr>\n",
       "    <tr>\n",
       "      <th>20</th>\n",
       "      <td>0.990855</td>\n",
       "      <td>0.005620</td>\n",
       "      <td>0.003525</td>\n",
       "    </tr>\n",
       "    <tr>\n",
       "      <th>21</th>\n",
       "      <td>0.011775</td>\n",
       "      <td>0.085463</td>\n",
       "      <td>0.902761</td>\n",
       "    </tr>\n",
       "    <tr>\n",
       "      <th>22</th>\n",
       "      <td>0.990855</td>\n",
       "      <td>0.005620</td>\n",
       "      <td>0.003525</td>\n",
       "    </tr>\n",
       "    <tr>\n",
       "      <th>23</th>\n",
       "      <td>0.002837</td>\n",
       "      <td>0.004848</td>\n",
       "      <td>0.992315</td>\n",
       "    </tr>\n",
       "    <tr>\n",
       "      <th>24</th>\n",
       "      <td>0.005617</td>\n",
       "      <td>0.010812</td>\n",
       "      <td>0.983570</td>\n",
       "    </tr>\n",
       "    <tr>\n",
       "      <th>25</th>\n",
       "      <td>0.003634</td>\n",
       "      <td>0.006995</td>\n",
       "      <td>0.989370</td>\n",
       "    </tr>\n",
       "    <tr>\n",
       "      <th>26</th>\n",
       "      <td>0.003637</td>\n",
       "      <td>0.006152</td>\n",
       "      <td>0.990210</td>\n",
       "    </tr>\n",
       "    <tr>\n",
       "      <th>27</th>\n",
       "      <td>0.005617</td>\n",
       "      <td>0.010812</td>\n",
       "      <td>0.983570</td>\n",
       "    </tr>\n",
       "    <tr>\n",
       "      <th>28</th>\n",
       "      <td>0.990542</td>\n",
       "      <td>0.005619</td>\n",
       "      <td>0.003840</td>\n",
       "    </tr>\n",
       "    <tr>\n",
       "      <th>29</th>\n",
       "      <td>0.990855</td>\n",
       "      <td>0.005620</td>\n",
       "      <td>0.003525</td>\n",
       "    </tr>\n",
       "  </tbody>\n",
       "</table>\n",
       "</div>"
      ],
      "text/plain": [
       "          O1        O2        O3\n",
       "0   0.005638  0.977552  0.016810\n",
       "1   0.982547  0.013958  0.003495\n",
       "2   0.003637  0.006152  0.990210\n",
       "3   0.005647  0.979170  0.015182\n",
       "4   0.005401  0.936409  0.058190\n",
       "5   0.986080  0.010413  0.003508\n",
       "6   0.005048  0.989758  0.005194\n",
       "7   0.015695  0.066531  0.917774\n",
       "8   0.006338  0.948772  0.044891\n",
       "9   0.004390  0.990413  0.005198\n",
       "10  0.017850  0.075666  0.906483\n",
       "11  0.990542  0.005619  0.003840\n",
       "12  0.982547  0.013958  0.003495\n",
       "13  0.990855  0.005620  0.003525\n",
       "14  0.990855  0.005620  0.003525\n",
       "15  0.004357  0.986381  0.009262\n",
       "16  0.002835  0.005457  0.991708\n",
       "17  0.005069  0.987532  0.007398\n",
       "18  0.004355  0.982659  0.012985\n",
       "19  0.002837  0.004848  0.992315\n",
       "20  0.990855  0.005620  0.003525\n",
       "21  0.011775  0.085463  0.902761\n",
       "22  0.990855  0.005620  0.003525\n",
       "23  0.002837  0.004848  0.992315\n",
       "24  0.005617  0.010812  0.983570\n",
       "25  0.003634  0.006995  0.989370\n",
       "26  0.003637  0.006152  0.990210\n",
       "27  0.005617  0.010812  0.983570\n",
       "28  0.990542  0.005619  0.003840\n",
       "29  0.990855  0.005620  0.003525"
      ]
     },
     "execution_count": 49,
     "metadata": {},
     "output_type": "execute_result"
    }
   ],
   "source": [
    "conn.execute(textwrap.dedent(\"\"\"\n",
    "CREATE OR REPLACE PYTHON3 SET SCRIPT test_xgboost(i integer)\n",
    "EMITS (o1 DOUbLE, o2 DOUbLE, o3 DOUbLE) AS\n",
    "\n",
    "def run(ctx):\n",
    "    import pandas as pd\n",
    "    import xgboost as xgb\n",
    "    from sklearn import datasets\n",
    "    from sklearn.model_selection import train_test_split\n",
    "    \n",
    "    iris = datasets.load_iris()\n",
    "    X = iris.data\n",
    "    y = iris.target\n",
    "    \n",
    "    X_train, X_test, y_train, y_test = train_test_split(X, y, test_size=0.2, random_state=42)\n",
    "    \n",
    "    dtrain = xgb.DMatrix(X_train, label=y_train)\n",
    "    dtest = xgb.DMatrix(X_test, label=y_test)\n",
    "    param = {\n",
    "        'max_depth': 3,  # the maximum depth of each tree\n",
    "        'eta': 0.3,  # the training step for each iteration\n",
    "        'silent': 1,  # logging mode - quiet\n",
    "        'objective': 'multi:softprob',  # error evaluation for multiclass training\n",
    "        'num_class': 3  # the number of classes that exist in this datset\n",
    "        }\n",
    "    num_round = 20  # the number of training iterations\n",
    "    bst = xgb.train(param, dtrain, num_round)\n",
    "    preds = bst.predict(dtest)\n",
    "    \n",
    "    ctx.emit(pd.DataFrame(preds))\n",
    "/\n",
    "\"\"\"))\n",
    "\n",
    "conn.export_to_pandas(\"select test_xgboost(1)\")"
   ]
  },
  {
   "cell_type": "code",
   "execution_count": null,
   "id": "fa0c0013-33c1-4441-a9f8-efd86ac40f0f",
   "metadata": {},
   "outputs": [],
   "source": []
  }
 ],
 "metadata": {
  "kernelspec": {
   "display_name": "Python 3 (ipykernel)",
   "language": "python",
   "name": "python3"
  },
  "language_info": {
   "codemirror_mode": {
    "name": "ipython",
    "version": 3
   },
   "file_extension": ".py",
   "mimetype": "text/x-python",
   "name": "python",
   "nbconvert_exporter": "python",
   "pygments_lexer": "ipython3",
   "version": "3.10.12"
  }
 },
 "nbformat": 4,
 "nbformat_minor": 5
}
