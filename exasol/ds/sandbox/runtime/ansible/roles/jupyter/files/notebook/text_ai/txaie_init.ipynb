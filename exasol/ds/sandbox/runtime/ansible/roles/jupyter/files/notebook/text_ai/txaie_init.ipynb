{
 "cells": [
  {
   "cell_type": "markdown",
   "id": "d89333d8-58be-4d52-a483-510b6fd30920",
   "metadata": {},
   "source": [
    "<div style=\"text-align: right;\">\n",
    "  <img src=\"https://raw.githubusercontent.com/exasol/ai-lab/refs/heads/main/assets/Exasol_Logo_2025_Dark.svg\" style=\"width:200px; margin: 10px;\" />\n",
    "</div>\n",
    "\n",
    "# Text AI Extension Initialization\n",
    "\n",
    "Here we will bring the Text AI functionality up and running. We will do this via a single call to function in the support library.\n",
    "\n",
    "## Prerequisites\n",
    "\n",
    "**Note**: To be able to store and run the models used in this demo, your database should meet the following requirements:\n",
    "\n",
    "* The database has at least 10 GB free disk space for the BucketFS. In case you are using the Exasol Docker-DB, your Docker host needs at least 10 GB free disk space.\n",
    "* The database is configured with at least 8 GB RAM. In case you are using the Exasol Docker-DB, please configure the Exasol Docker-DB accordingly in the AI-Lab Main Configuration and restart the Docker-DB if needed. \n",
    "    * **Caution**: Restarting the Docker-DB will wipe out the content of the database.\n",
    "\n",
    "Prior to using this notebook one needs to complete the following steps:\n",
    "1. [Configure the AI-Lab](../main_config.ipynb).\n",
    "\n",
    "## Setup\n",
    "\n",
    "### Open Secure Configuration Storage"
   ]
  },
  {
   "cell_type": "code",
   "execution_count": null,
   "id": "ca9cc3b0-2191-4e57-8e02-0256b5574b4f",
   "metadata": {},
   "outputs": [],
   "source": [
    "%run ../utils/access_store_ui.ipynb\n",
    "display(get_access_store_ui('../'))"
   ]
  },
  {
   "cell_type": "markdown",
   "id": "5e7893b2-a99c-477c-bade-e15b3af1aa25",
   "metadata": {},
   "source": [
    "## Initialize the Extension\n",
    "\n",
    "<b>This operation normally takes a considerable amount of time to complete</b>\n",
    "\n",
    "This notebook installs the Text AI SLC and Scripts and the default Hugging Face Transformers models.\n",
    "The installation of the SLC prints output which suggests to activate the language container. This is not needed in AI-Lab, because the language container activation will be executed at the session level once the connection to the database is established. In tutorials using JupySQL the container activation is included in the routine that enables the JupySQL."
   ]
  },
  {
   "cell_type": "code",
   "execution_count": null,
   "id": "7b8d3ea7-30f1-46ff-9a89-573e0d7cdc34",
   "metadata": {
    "editable": true,
    "slideshow": {
     "slide_type": ""
    }
   },
   "outputs": [],
   "source": [
    "from exasol.nb_connector.text_ai_extension_wrapper import initialize_text_ai_extension\n",
    "\n",
    "initialize_text_ai_extension(ai_lab_config)"
   ]
  },
  {
   "cell_type": "markdown",
   "id": "73d8aedb",
   "metadata": {},
   "source": [
    "You can now continue with the [Text AI Preprocessing Notebook](txaie_preprocessing.ipynb)."
   ]
  }
 ],
 "metadata": {
  "kernelspec": {
   "display_name": "Python 3 (ipykernel)",
   "language": "python",
   "name": "python3"
  },
  "language_info": {
   "codemirror_mode": {
    "name": "ipython",
    "version": 3
   },
   "file_extension": ".py",
   "mimetype": "text/x-python",
   "name": "python",
   "nbconvert_exporter": "python",
   "pygments_lexer": "ipython3",
   "version": "3.10.12"
  }
 },
 "nbformat": 4,
 "nbformat_minor": 5
}
