{
 "cells": [
  {
   "cell_type": "markdown",
   "id": "5d878fcbb2f8481d",
   "metadata": {
    "collapsed": false,
    "jupyter": {
     "outputs_hidden": false
    }
   },
   "source": [
    "<div style=\"text-align: right;\">\n",
    "  <img src=\"https://raw.githubusercontent.com/exasol/ai-lab/refs/heads/main/assets/Exasol_Logo_2025_Dark.svg\" style=\"width:200px; margin: 10px;\" />\n",
    "</div>\n",
    "\n",
    "# Cloud Storage Extension Configuration\n",
    "\n",
    "This notebook configures [cloud-storage-extension](https://github.com/exasol/cloud-storage-extension/) using \n",
    "functions from [notebook-connector library](https://github.com/exasol/notebook-connector/).\n",
    "\n",
    "On the high level it does the following:\n",
    "* retrieves latest release of cloud-storage-extension jar\n",
    "* uploads it into [BucketFS](https://docs.exasol.com/db/latest/database_concepts/bucketfs/bucketfs.htm)\n",
    "* registers UDF scripts for the cloud-storage-extension"
   ]
  },
  {
   "cell_type": "markdown",
   "id": "eddf3fc3c79fa4ef",
   "metadata": {
    "collapsed": false,
    "jupyter": {
     "outputs_hidden": false
    }
   },
   "source": [
    "## Cloud Storage Extension setup"
   ]
  },
  {
   "cell_type": "code",
   "execution_count": null,
   "id": "a86f5b8661854f35",
   "metadata": {
    "collapsed": false,
    "jupyter": {
     "outputs_hidden": false
    }
   },
   "outputs": [],
   "source": [
    "from exasol.nb_connector import github, bfs_utils, cloud_storage\n",
    "from exasol.nb_connector.connections import open_bucketfs_connection, open_pyexasol_connection\n",
    "\n",
    "jar_local_path = github.retrieve_jar(github.Project.CLOUD_STORAGE_EXTENSION, use_local_cache=True)\n",
    "bfs_bucket = open_bucketfs_connection(ai_lab_config)\n",
    "bfs_path = bfs_utils.put_file(bfs_bucket, jar_local_path)\n",
    "\n",
    "with open_pyexasol_connection(ai_lab_config) as conn:\n",
    "    cloud_storage.setup_scripts(conn, ai_lab_config.db_schema, bfs_path.as_udf_path())\n",
    "    \n",
    "print(\"Could Storage Extension was initialized\")"
   ]
  }
 ],
 "metadata": {
  "kernelspec": {
   "display_name": "Python 3 (ipykernel)",
   "language": "python",
   "name": "python3"
  },
  "language_info": {
   "codemirror_mode": {
    "name": "ipython",
    "version": 3
   },
   "file_extension": ".py",
   "mimetype": "text/x-python",
   "name": "python",
   "nbconvert_exporter": "python",
   "pygments_lexer": "ipython3",
   "version": "3.10.12"
  }
 },
 "nbformat": 4,
 "nbformat_minor": 5
}
