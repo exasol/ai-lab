{
 "cells": [
  {
   "cell_type": "markdown",
   "id": "1e0418df-fcce-493b-aa45-ee4e339e51f5",
   "metadata": {},
   "source": [
    "# Translation model\n",
    "\n",
    "In this notebook we will load and use a language translation model. Learn more about the Translation task <a href=\"https://huggingface.co/tasks/translation\" target=\"_blank\" rel=\"noopener\">here</a>. Please also refer to the Transformer Extension <a href=\"https://github.com/exasol/transformers-extension/blob/main/doc/user_guide/user_guide.md\" target=\"_blank\" rel=\"noopener\">User Guide</a> to find more information about the UDF used in this notebook.\n",
    "\n",
    "We will be running SQL queries using <a href=\"https://jupysql.ploomber.io/en/latest/quick-start.html\" target=\"_blank\" rel=\"noopener\"> JupySQL</a> SQL Magic.\n",
    "\n",
    "## Prerequisites\n",
    "\n",
    "Prior to using this notebook the following steps need to be completed:\n",
    "1. [Configure the sandbox](../sandbox_config.ipynb).\n",
    "2. [Initialize the Transformer Extension](te_init.ipynb).\n",
    "\n",
    "## Set up\n",
    "\n",
    "### Access configuration"
   ]
  },
  {
   "cell_type": "code",
   "execution_count": null,
   "id": "966a1436-fc81-47e4-a7d1-4bf138cd7c19",
   "metadata": {},
   "outputs": [],
   "source": [
    "%run ../utils/access_store_ui.ipynb\n",
    "display(get_access_store_ui('../'))"
   ]
  },
  {
   "cell_type": "markdown",
   "id": "bd2d0acf-fd51-4b61-aeb5-e72b1f4be101",
   "metadata": {},
   "source": [
    "Let's bring up JupySQL and connect to the database via SQLAlchemy. \n",
    "Please refer to the documentation of [sqlalchemy-exasol](https://github.com/exasol/sqlalchemy-exasol) for details on how to connect to the database using the Exasol SQLAlchemy driver."
   ]
  },
  {
   "cell_type": "code",
   "execution_count": null,
   "id": "48b6a5bb-a1a6-4945-99a8-21fbdbc39392",
   "metadata": {},
   "outputs": [],
   "source": [
    "%run ../utils/jupysql_init.ipynb"
   ]
  },
  {
   "cell_type": "markdown",
   "id": "7dd67dae-b65e-4d57-8a98-2baa07c18c9a",
   "metadata": {},
   "source": [
    "## Get language model\n",
    "\n",
    "To demonstrate the translation task we will use [Facebook WMT19 English-German model](https://huggingface.co/facebook/wmt19-en-de).\n",
    "\n",
    "We need to load the model from the Huggingface hub into the BucketFS. This could potentially be a long process. Unfortunately, we cannot tell exactly when it has finished. The notebook's hourglass may not be a reliable indicator. BucketFS will still be doing some work when the call issued by the notebook returns. Please wait for a few moments after that, before querying the model."
   ]
  },
  {
   "cell_type": "code",
   "execution_count": null,
   "id": "db9dd34a-ff4e-44dc-9990-dd50f4be06d6",
   "metadata": {},
   "outputs": [],
   "source": [
    "# This is the name of the model at the Huggingface Hub\n",
    "MODEL_NAME = 'facebook/wmt19-en-de'"
   ]
  },
  {
   "cell_type": "code",
   "execution_count": null,
   "id": "50a8cc23-bba5-4497-8947-9adc8c83a76c",
   "metadata": {},
   "outputs": [],
   "source": [
    "%run utils/model_retrieval.ipynb\n",
    "load_huggingface_model(MODEL_NAME, sb_config)"
   ]
  },
  {
   "cell_type": "markdown",
   "id": "f0565708-0605-4cda-b45d-592cb43207e9",
   "metadata": {},
   "source": [
    "## Use language model\n",
    "\n",
    "We will now translate some text from English to German."
   ]
  },
  {
   "cell_type": "code",
   "execution_count": null,
   "id": "7d96886e-d7ca-4b78-b192-b38bf37f0796",
   "metadata": {},
   "outputs": [],
   "source": [
    "# Here is the text in English\n",
    "MY_TEXT = 'We all live in a yellow submarine'\n",
    "\n",
    "# Make sure our text can be used in an SQL statement.\n",
    "MY_TEXT = MY_TEXT.replace(\"'\", \"''\")"
   ]
  },
  {
   "cell_type": "code",
   "execution_count": null,
   "id": "1ed978b7-e610-4989-8185-9f32e98c1649",
   "metadata": {},
   "outputs": [],
   "source": [
    "# BLOCKED BY THE ABSENCE OF THE sacremoses TOKENIZER IN THE SLC\n",
    "%%sql\n",
    "SELECT TE_TRANSLATION_UDF(\n",
    "    NULL,\n",
    "    '{{sb_config.TE_BFS_CONN}}',\n",
    "    '{{sb_config.TE_TOKEN_CONN}}',\n",
    "    '{{sb_config.TE_MODELS_BFS_DIR}}',\n",
    "    '{{MODEL_NAME}}',\n",
    "    '{{MY_TEXT}}',\n",
    "    '',\n",
    "    '',\n",
    "    0\n",
    ")"
   ]
  },
  {
   "cell_type": "markdown",
   "id": "2122e3ca-cfa9-4b74-b60f-13ce1429e994",
   "metadata": {},
   "source": [
    "The code above shows how the model works on a toy example. However, the main purpose of having a model deployed in the database is to get a quick response for a batch input. The performance gain comes from two factors - localization and parallelization. The first means that the input data never crosses the machine boundaries. The second means that multiple instances of the model are processing the data on all available nodes in parallel.\n",
    "\n",
    "Another advantage of making predictions within the database is the enhanced data security. The task of safeguarding privacy can be simplified giving the fact that the source data never leaves the database machine.\n",
    "\n",
    "A more practical application would involve translating multiple pieces of text stored in a column of a database table. For example, we might want to do the translation for each row of the input table `MY_TEXT_TABLE`, where the text in the original language is stored in the column `MY_ORIGINAL_TEXT`. The SQL for this task would look similar to this:\n",
    "```\n",
    "SELECT TE_TRANSLATION_UDF(..., MY_ORIGINAL_TEXT, ...) FROM MY_TEXT_TABLE;\n",
    "```\n",
    "Please note, that the response time observed on the provided example with a single input will not be scaled up linearly in case of multiple inputs. Much of the latency falls on loading the model into the CPU memory from BucketFS. This needs to be done only once regardless of the number of inputs."
   ]
  }
 ],
 "metadata": {
  "kernelspec": {
   "display_name": "Python 3 (ipykernel)",
   "language": "python",
   "name": "python3"
  },
  "language_info": {
   "codemirror_mode": {
    "name": "ipython",
    "version": 3
   },
   "file_extension": ".py",
   "mimetype": "text/x-python",
   "name": "python",
   "nbconvert_exporter": "python",
   "pygments_lexer": "ipython3",
   "version": "3.8.10"
  }
 },
 "nbformat": 4,
 "nbformat_minor": 5
}
