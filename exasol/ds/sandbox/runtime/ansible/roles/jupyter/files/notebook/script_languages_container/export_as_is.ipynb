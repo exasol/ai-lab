{
 "cells": [
  {
   "cell_type": "markdown",
   "id": "14dad93e-8ac8-45ce-bec1-51b3dfa15e44",
   "metadata": {},
   "source": [
    "# Export the flavor as is\n",
    "\n",
    "In this tutorial you learn how to build the script-languages-container from the base flavor (without any modifiction) and write the result to a tar gz file. The base flavor `template-Exasol-all-python-3.10` is part of the Script-Languages Release repository and it's purpose is to be the base for customer modifications which aim to use Python UDF's with Python packages which are not included in the Standard Container of the Exasol database.\n",
    "`exaslct` uses the flavor description to build a Docker image which is called the `release` image. `exaslct` can export the content of this Docker image then to a tar gz file.\n",
    "\n"
   ]
  },
  {
   "cell_type": "markdown",
   "id": "86b1ced5-cd62-43b7-a34a-3af6d247f965",
   "metadata": {},
   "source": [
    "## Setup\n",
    "### Open Secure Configuration Storage"
   ]
  },
  {
   "cell_type": "code",
   "execution_count": null,
   "id": "e3eaedcf-b977-4855-8caf-d638acbbbf60",
   "metadata": {},
   "outputs": [],
   "source": [
    "%run ../utils/access_store_ui.ipynb\n",
    "display(get_access_store_ui('../'))"
   ]
  },
  {
   "cell_type": "markdown",
   "id": "be1d76f3-51c5-4b92-812f-bac74ac0e6c3",
   "metadata": {},
   "source": [
    "### Instantiate SLCT Manager\n",
    "\n",
    "We create an instance of the SlctManager class from the notebook connector. SLCT Manager, which stands for \"Script-Languages-Container-Tools\" Manager. \n",
    "This class has some utility function which simplifies the use of the exaslct API."
   ]
  },
  {
   "cell_type": "code",
   "execution_count": null,
   "id": "fe86cddb-fa94-4a74-8c7e-8d27f32d7228",
   "metadata": {},
   "outputs": [],
   "source": [
    "from exasol.nb_connector import slct_manager\n",
    "slctmanager = slct_manager.SlctManager(ai_lab_config)"
   ]
  },
  {
   "cell_type": "markdown",
   "id": "31029b4f-df19-464b-91c7-2981dee02d12",
   "metadata": {},
   "source": [
    "### Import some utility functions\n"
   ]
  },
  {
   "cell_type": "code",
   "execution_count": null,
   "id": "c91a7e32-4b54-45d6-a93d-579f103e96b0",
   "metadata": {},
   "outputs": [],
   "source": [
    "%run ./utils/file_system_ui.ipynb"
   ]
  },
  {
   "cell_type": "markdown",
   "id": "6c1cc4a6-4176-4e52-9591-42966a9e2ab0",
   "metadata": {},
   "source": [
    "## Export\n"
   ]
  },
  {
   "cell_type": "markdown",
   "id": "40db107e-3253-416d-bbc4-5586105f8ea6",
   "metadata": {},
   "source": [
    "Currently used flavor is:"
   ]
  },
  {
   "cell_type": "code",
   "execution_count": null,
   "id": "ab400c06-1fb9-40dd-a8bc-cda4c56905d1",
   "metadata": {},
   "outputs": [],
   "source": [
    "slct_manager.REQUIRED_FLAVOR"
   ]
  },
  {
   "cell_type": "markdown",
   "id": "33f6b43e-9801-49a8-ac70-ce018be5bfba",
   "metadata": {},
   "source": [
    "### Export the flavor\n",
    "\n",
    "Now execute the `export` step. The command builds the docker image and exports the Docker image to the export directory.\n",
    "\n",
    "You could run the same on the command line with the `exaslct` tool:\n",
    "```\n",
    "cd <slc_dir>\n",
    "./exaslct export --flavor-path flavors/<flavor_path>\n",
    "```"
   ]
  },
  {
   "cell_type": "code",
   "execution_count": null,
   "id": "46b1b556-2ea2-476d-b67f-aef76db970ea",
   "metadata": {},
   "outputs": [],
   "source": [
    "slctmanager.export()"
   ]
  },
  {
   "cell_type": "markdown",
   "id": "fe0efd52-fb2c-4a8c-8712-0cefdc92c044",
   "metadata": {},
   "source": [
    "#### Check the result\n",
    "The following command will show the resulting files of the export command:"
   ]
  },
  {
   "cell_type": "code",
   "execution_count": null,
   "id": "b941a044-25ed-4a51-9a86-52d4b011defa",
   "metadata": {},
   "outputs": [],
   "source": [
    "show_directory_content(slctmanager.working_path.export_path)"
   ]
  },
  {
   "cell_type": "markdown",
   "id": "826ac429-f65a-4f9a-98e7-a63f79a0a5fe",
   "metadata": {},
   "source": [
    "The resulting tar gz can be uploaded to BucketFS. You will learn how to do this in the next lesson:\n",
    "[Customize the flavor, export and upload the script-language-container](./customize.ipynb)"
   ]
  },
  {
   "cell_type": "code",
   "execution_count": null,
   "id": "c9ce8ce9-ef1b-4ff7-a665-d492dee76b5f",
   "metadata": {},
   "outputs": [],
   "source": []
  }
 ],
 "metadata": {
  "kernelspec": {
   "display_name": "Python 3 (ipykernel)",
   "language": "python",
   "name": "python3"
  },
  "language_info": {
   "codemirror_mode": {
    "name": "ipython",
    "version": 3
   },
   "file_extension": ".py",
   "mimetype": "text/x-python",
   "name": "python",
   "nbconvert_exporter": "python",
   "pygments_lexer": "ipython3",
   "version": "3.10.12"
  }
 },
 "nbformat": 4,
 "nbformat_minor": 5
}
