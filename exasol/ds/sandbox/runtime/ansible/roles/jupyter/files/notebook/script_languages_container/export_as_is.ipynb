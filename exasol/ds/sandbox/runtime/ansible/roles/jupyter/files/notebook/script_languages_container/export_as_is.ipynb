{
 "cells": [
  {
   "cell_type": "markdown",
   "id": "14dad93e-8ac8-45ce-bec1-51b3dfa15e44",
   "metadata": {},
   "source": [
    "# Export the flavor as is"
   ]
  },
  {
   "cell_type": "markdown",
   "id": "86b1ced5-cd62-43b7-a34a-3af6d247f965",
   "metadata": {},
   "source": [
    "## Setup\n",
    "### Open Secure Configuration Storage"
   ]
  },
  {
   "cell_type": "code",
   "execution_count": null,
   "id": "e3eaedcf-b977-4855-8caf-d638acbbbf60",
   "metadata": {},
   "outputs": [],
   "source": [
    "%run ../utils/access_store_ui.ipynb\n",
    "display(get_access_store_ui('../'))"
   ]
  },
  {
   "cell_type": "markdown",
   "id": "be1d76f3-51c5-4b92-812f-bac74ac0e6c3",
   "metadata": {},
   "source": [
    "### Instantiate SLCT Manager\n",
    "\n",
    "We create an instance of the SlctManager class from the notebook connector. SLCT Manager, which stands for \"Script-Languages-Container-Tools\" Manager. \n",
    "This class has some utility function which simplifies the use of the exaslct API."
   ]
  },
  {
   "cell_type": "code",
   "execution_count": null,
   "id": "fe86cddb-fa94-4a74-8c7e-8d27f32d7228",
   "metadata": {},
   "outputs": [],
   "source": [
    "from exasol.nb_connector import slct_manager\n",
    "slctmanager = slct_manager.SlctManager(ai_lab_config)"
   ]
  },
  {
   "cell_type": "markdown",
   "id": "31029b4f-df19-464b-91c7-2981dee02d12",
   "metadata": {},
   "source": [
    "### Import some utility functions\n"
   ]
  },
  {
   "cell_type": "code",
   "execution_count": null,
   "id": "c91a7e32-4b54-45d6-a93d-579f103e96b0",
   "metadata": {},
   "outputs": [],
   "source": [
    "%run ./utils/file_system_ui.ipynb"
   ]
  },
  {
   "cell_type": "markdown",
   "id": "6c1cc4a6-4176-4e52-9591-42966a9e2ab0",
   "metadata": {},
   "source": [
    "## Export\n"
   ]
  },
  {
   "cell_type": "markdown",
   "id": "40db107e-3253-416d-bbc4-5586105f8ea6",
   "metadata": {},
   "source": [
    "Currently used flavor is:"
   ]
  },
  {
   "cell_type": "code",
   "execution_count": null,
   "id": "ab400c06-1fb9-40dd-a8bc-cda4c56905d1",
   "metadata": {},
   "outputs": [],
   "source": [
    "slct_manager.REQUIRED_FLAVOR"
   ]
  },
  {
   "cell_type": "markdown",
   "id": "33f6b43e-9801-49a8-ac70-ce018be5bfba",
   "metadata": {},
   "source": [
    "### Export the flavor\n",
    "You could run the same on the command line with the `exaslct` tool:\n",
    "```\n",
    "cd <slc_dir>\n",
    "./exaslct export --flavor-path flavors/<flavor_path>\n",
    "```"
   ]
  },
  {
   "cell_type": "code",
   "execution_count": null,
   "id": "46b1b556-2ea2-476d-b67f-aef76db970ea",
   "metadata": {},
   "outputs": [],
   "source": [
    "slctmanager.export()"
   ]
  },
  {
   "cell_type": "markdown",
   "id": "fe0efd52-fb2c-4a8c-8712-0cefdc92c044",
   "metadata": {},
   "source": [
    "#### Check the result"
   ]
  },
  {
   "cell_type": "code",
   "execution_count": null,
   "id": "b941a044-25ed-4a51-9a86-52d4b011defa",
   "metadata": {},
   "outputs": [],
   "source": [
    "print(\"Directory content:\")\n",
    "show_directory_content(slctmanager.working_path.export_path)"
   ]
  },
  {
   "cell_type": "markdown",
   "id": "44fb9bed-b887-49fd-88f7-286fc7c3dbad",
   "metadata": {},
   "source": [
    "### What to do if something doesn't work?\n",
    "\n",
    "During the build it can happen that external package repositories might not be available or something is wrong on your machine where you run the build. For these cases, exaslct stores many logs to identify the problem.\n",
    "\n",
    "#### Exaslsct Log\n",
    "The main log for exaslct is stored directly as main.log in the build output of the job. With the following command you can find the main logs for all previous executions."
   ]
  },
  {
   "cell_type": "code",
   "execution_count": null,
   "id": "040ad446-88e0-4b48-b7dc-fa0f9ce72170",
   "metadata": {},
   "outputs": [],
   "source": [
    "main_logs = list(slctmanager.working_path.output_path.glob('**/main.log'))\n",
    "show_files(main_logs)"
   ]
  },
  {
   "cell_type": "markdown",
   "id": "fb51dda9-3fbc-4b16-8d00-867946c7e826",
   "metadata": {},
   "source": [
    "With the following command you can show the log file from the last execution."
   ]
  },
  {
   "cell_type": "code",
   "execution_count": null,
   "id": "02a5b4e6-29b2-4c17-be9b-a0b04348920c",
   "metadata": {},
   "outputs": [],
   "source": [
    "tail_file(main_logs[0], 20)"
   ]
  },
  {
   "cell_type": "markdown",
   "id": "9da9647a-891a-4958-85f9-6b09798e1728",
   "metadata": {},
   "source": [
    "#### Build Output Directory\n",
    "\n",
    "More detailed information about the build or other operations can be found in the `.build_output/jobs/*/outputs` directory. Here each run of `exaslct` creates its own directory under `.build_output/jobs`. The outputs directory stores the outputs and log files (if any) that each executed task of `exaslct` produces. Especially, the Docker tasks such as build, pull and push store the logs returned by the Docker API. This can be helpful for finding problems during the build."
   ]
  },
  {
   "cell_type": "code",
   "execution_count": null,
   "id": "cd94322a-7827-4e21-8f6d-e333939a29ed",
   "metadata": {},
   "outputs": [],
   "source": [
    "all_logs = list(slctmanager.working_path.output_path.glob('**/*.log'))\n",
    "show_files(all_logs)"
   ]
  },
  {
   "cell_type": "code",
   "execution_count": null,
   "id": "1d88aaf8-ebab-4158-8fa9-9fb6e8aaf292",
   "metadata": {},
   "outputs": [],
   "source": []
  }
 ],
 "metadata": {
  "kernelspec": {
   "display_name": "Python 3 (ipykernel)",
   "language": "python",
   "name": "python3"
  },
  "language_info": {
   "codemirror_mode": {
    "name": "ipython",
    "version": 3
   },
   "file_extension": ".py",
   "mimetype": "text/x-python",
   "name": "python",
   "nbconvert_exporter": "python",
   "pygments_lexer": "ipython3",
   "version": "3.10.12"
  }
 },
 "nbformat": 4,
 "nbformat_minor": 5
}
