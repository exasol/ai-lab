{
 "cells": [
  {
   "cell_type": "markdown",
   "id": "2bdaeea9-1807-40d3-8554-e2894f8ef985",
   "metadata": {},
   "source": [
    "# Popup message implementation\n",
    "\n",
    "<b>This notebook is not supposed to be used on its own.<b>"
   ]
  },
  {
   "cell_type": "code",
   "execution_count": null,
   "id": "99a62c4b-3a2f-4c5d-9627-50835d79e474",
   "metadata": {},
   "outputs": [],
   "source": [
    "import ipywidgets as widgets\n",
    "from IPython.display import Javascript, display, clear_output\n",
    "\n",
    "# Prepare to display a popup message\n",
    "notify_output = widgets.Output()\n",
    "display(notify_output)\n",
    "\n",
    "@notify_output.capture()\n",
    "def popup_message(message):\n",
    "    clear_output()\n",
    "    message = message.replace(\"'\", '\"')\n",
    "    display(Javascript(f\"alert('{message}')\"))"
   ]
  }
 ],
 "metadata": {
  "kernelspec": {
   "display_name": "Python 3 (ipykernel)",
   "language": "python",
   "name": "python3"
  },
  "language_info": {
   "codemirror_mode": {
    "name": "ipython",
    "version": 3
   },
   "file_extension": ".py",
   "mimetype": "text/x-python",
   "name": "python",
   "nbconvert_exporter": "python",
   "pygments_lexer": "ipython3",
   "version": "3.8.10"
  }
 },
 "nbformat": 4,
 "nbformat_minor": 5
}
