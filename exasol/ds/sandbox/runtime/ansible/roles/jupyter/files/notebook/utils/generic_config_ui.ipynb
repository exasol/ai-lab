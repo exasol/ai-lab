{
 "cells": [
  {
   "cell_type": "markdown",
   "id": "e7acaa8e-169c-47a5-8c3c-a0640247eed5",
   "metadata": {},
   "source": [
    "# Generic Configuration UI\n",
    "\n",
    "<b>This notebook is not supposed to be used on its own.<b>"
   ]
  },
  {
   "cell_type": "code",
   "execution_count": null,
   "id": "b0035d64-f59a-474b-84c9-1b08facd9cd4",
   "metadata": {},
   "outputs": [],
   "source": [
    "from exasol.utils import upward_file_search\n",
    "\n",
    "# This NB may be running from various locations in the NB hierarchy.\n",
    "# Need to search for the styles NB from the current directory upwards.\n",
    "\n",
    "%run {upward_file_search('utils/ui_styles.ipynb')}"
   ]
  },
  {
   "cell_type": "code",
   "execution_count": null,
   "id": "d33d6e44-8d41-4135-a8e9-f3cd07101c4f",
   "metadata": {},
   "outputs": [],
   "source": [
    "from typing import List, Tuple\n",
    "from itertools import chain\n",
    "import ipywidgets as widgets\n",
    "\n",
    "from exasol.secret_store import Secrets\n",
    "\n",
    "\n",
    "def get_generic_config_ui(conf: Secrets, \n",
    "                          inputs: List[List[Tuple[str, widgets.Widget, str]]], \n",
    "                          group_names: List[str]) -> widgets.Widget:\n",
    "    \"\"\"\n",
    "    The function creates a generic configuration editor UI.\n",
    "    The UI consists of one or more blocks of configuration data aligned vertically.\n",
    "    Each block has a header and one or more rows with input fields. Each row has a\n",
    "    label on the left and one input widget on the right. The form ends with a \"Save\"\n",
    "    button, clicking on which results in saving the data in the configuration store.\n",
    "\n",
    "    Parameters\n",
    "        conf:        Configuration store\n",
    "        inputs:      List of the input blocks. Each block is a list of input rows.\n",
    "                     Each row consists of the label text, input widget, and the key\n",
    "                     of the corresponding configuration element in the store.\n",
    "        group_names: Header names for the blocks. The length of this list should\n",
    "                     match the length of the inputs.\n",
    "    \"\"\"\n",
    "\n",
    "\n",
    "    ui_look = get_config_styles()\n",
    "    save_btn = widgets.Button(description='Save', style=ui_look.button_style, layout=ui_look.button_layout)\n",
    "\n",
    "    def save_configuration(btn):\n",
    "        for row in chain(*inputs):\n",
    "            _, widget, key = row\n",
    "            conf.save(key, str(widget.value))\n",
    "        btn.icon = 'check'\n",
    "\n",
    "    def on_value_change(change):\n",
    "        save_btn.icon = 'pen'\n",
    "\n",
    "    save_btn.on_click(save_configuration)\n",
    "\n",
    "    # Apply the styles and layouts to the input fields\n",
    "    for row in chain(*inputs):\n",
    "        widget = row[1]\n",
    "        widget.style = ui_look.input_style\n",
    "        widget.layout = ui_look.input_layout\n",
    "        widget.observe(on_value_change, names=['value'])\n",
    "    # Create a list of lists with input rows\n",
    "    item_groups = [[widgets.Box([widgets.Label(value=row[0], style=ui_look.label_style, layout=ui_look.label_layout), \n",
    "                                 row[1]], layout=ui_look.row_layout) \n",
    "                    for row in input_group] \n",
    "                   for input_group in inputs]\n",
    "    # Create a list of blocks\n",
    "    items = [widgets.Box([widgets.Label(value=group_name, style=ui_look.header_style, layout=ui_look.header_layout)] + item_group, \n",
    "                         layout=ui_look.group_layout)\n",
    "             for item_group, group_name in zip(item_groups, group_names)]\n",
    "    # Add the save button and put everything in an outer Box.\n",
    "    items.append(save_btn)\n",
    "    ui = widgets.Box(items, layout=ui_look.outer_layout)\n",
    "    return ui\n"
   ]
  }
 ],
 "metadata": {
  "kernelspec": {
   "display_name": "Python 3 (ipykernel)",
   "language": "python",
   "name": "python3"
  },
  "language_info": {
   "codemirror_mode": {
    "name": "ipython",
    "version": 3
   },
   "file_extension": ".py",
   "mimetype": "text/x-python",
   "name": "python",
   "nbconvert_exporter": "python",
   "pygments_lexer": "ipython3",
   "version": "3.8.10"
  }
 },
 "nbformat": 4,
 "nbformat_minor": 5
}
