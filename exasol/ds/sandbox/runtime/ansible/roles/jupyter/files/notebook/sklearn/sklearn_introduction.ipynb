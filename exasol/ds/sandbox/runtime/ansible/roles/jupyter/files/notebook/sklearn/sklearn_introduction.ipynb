{
 "cells": [
  {
   "cell_type": "markdown",
   "id": "c2aa3433-eb40-495e-a80e-38ab0bee10cf",
   "metadata": {},
   "source": [
    "# Introduction\n",
    "\n",
    "This set of notebooks demonstrates the use case of uploading an externally trained prediction model into Exasol database. In this particular scenario, a regression or classification model is trained using the [scikit-learn](https://scikit-learn.org/stable/) library. The trained scikiit_learn model is then uploaded into the [BucketFS](https://docs.exasol.com/db/latest/database_concepts/bucketfs/bucketfs.htm) and used for making predictions.\n",
    "\n",
    "The prediction is made for each row in a \"test\" database. The computation is invoked by a user defined function ([UDF](https://docs.exasol.com/db/latest/database_concepts/udf_scripts.htm)). If the database has multiple nodes the test rows would be evenly distributed across the nodes. The UDF making the predictions runs on all these nodes in parallel, each node computing its portion of the test data. This parallelization results in the reduction of overall computation time by the factor equal to the number of nodes.\n",
    "\n",
    "For the prediction UDF the scikit-learn model is an arbitrary object that supports the `predict` method. It can just as well be a pipeline including some pre-processing and/or post-processing steps.\n",
    "\n",
    "## Prerequisites\n",
    "\n",
    "Before using this set of notebooks the following steps need to be completed:\n",
    "1. [Configure the AI-Lab](../main_config.ipynb).\n",
    "2. [Load the MAGIC Gamma Telescope data](../data/data_telescope.ipynb).\n",
    "3. [Load the Abalone data](../data/data_abalone.ipynb).\n",
    "\n",
    "## Content\n",
    "\n",
    "This section consists of two tutorials, covering one classification and one regression problem. Please note that the tutorials focus on showing the in-database prediction rather than presenting best ML practices. For the sake of clarity, we perform only very basic ML pre-processing and performance analysis.\n",
    "\n",
    "The first notebook to run is the one that creates a [prediction UDF](./sklearn_predict_udf.ipynb).\n",
    "\n",
    "This shall be followed by the two tutorials in any order.\n",
    "\n",
    "- [Solving classification problem (MAGIC Gamma Telescope)](./sklearn_train_telescope.ipynb).\n",
    "- [Solving regression problem (Abalone)](./sklearn_train_abalone.ipynb).\n",
    "\n"
   ]
  },
  {
   "cell_type": "code",
   "execution_count": null,
   "id": "2bc545f5-4169-41f0-89d3-a7bb88a0250b",
   "metadata": {},
   "outputs": [],
   "source": []
  }
 ],
 "metadata": {
  "kernelspec": {
   "display_name": "Python 3 (ipykernel)",
   "language": "python",
   "name": "python3"
  },
  "language_info": {
   "codemirror_mode": {
    "name": "ipython",
    "version": 3
   },
   "file_extension": ".py",
   "mimetype": "text/x-python",
   "name": "python",
   "nbconvert_exporter": "python",
   "pygments_lexer": "ipython3",
   "version": "3.9.5"
  }
 },
 "nbformat": 4,
 "nbformat_minor": 5
}
