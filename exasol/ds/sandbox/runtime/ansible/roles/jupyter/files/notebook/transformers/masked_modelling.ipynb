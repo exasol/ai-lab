{
 "cells": [
  {
   "cell_type": "markdown",
   "id": "b25130b6-6e01-481a-91a0-838198be3ea8",
   "metadata": {},
   "source": [
    "# Fill-Mask model\n",
    "\n",
    "In this notebook, we will load and use a masked language model. This kind of model predicts which words would replace masked words in a sentence. Learn more about the Fill-Mask task <a href=\"https://huggingface.co/tasks/fill-mask\" target=\"_blank\" rel=\"noopener\">here</a>. Please also refer to the Transformer Extension <a href=\"https://github.com/exasol/transformers-extension/blob/main/doc/user_guide/user_guide.md\" target=\"_blank\" rel=\"noopener\">User Guide</a> to find more information about the UDF used in this notebook.\n",
    "\n",
    "We will be running SQL queries using <a href=\"https://jupysql.ploomber.io/en/latest/quick-start.html\" target=\"_blank\" rel=\"noopener\"> JupySQL</a> SQL Magic.\n",
    "\n",
    "## Prerequisites\n",
    "\n",
    "Prior to using this notebook the following steps need to be completed:\n",
    "1. [Configure the sandbox](../sandbox_config.ipynb).\n",
    "2. [Initialize the Transformer Extension](te_init.ipynb).\n",
    "\n",
    "## Set up\n",
    "\n",
    "### Access configuration"
   ]
  },
  {
   "cell_type": "code",
   "execution_count": null,
   "id": "3d9a1e16-acad-4f19-b105-a0e67de4a0e6",
   "metadata": {},
   "outputs": [],
   "source": [
    "%run ../utils/access_store_ui.ipynb\n",
    "display(get_access_store_ui('../'))"
   ]
  },
  {
   "cell_type": "markdown",
   "id": "ff882542-d473-4767-a035-5c2615080cae",
   "metadata": {},
   "source": [
    "Let's bring up JupySQL and connect to the database via SQLAlchemy. Please refer to the documentation of <a href=\"https://github.com/exasol/sqlalchemy-exasol\" target=\"_blank\" rel=\"noopener\">sqlalchemy-exasol</a> for details on how to connect to the database using the Exasol SQLAlchemy driver."
   ]
  },
  {
   "cell_type": "code",
   "execution_count": null,
   "id": "f0cc45d2-d5ae-4afc-9f1d-251923995990",
   "metadata": {},
   "outputs": [],
   "source": [
    "%run ../utils/jupysql_init.ipynb"
   ]
  },
  {
   "cell_type": "markdown",
   "id": "e0ad672a-8b26-467b-8649-0bf95b1efb61",
   "metadata": {},
   "source": [
    "## Get language model\n",
    "\n",
    "To demonstrate the filling of a masked word task we will use a [RadBERT model](https://huggingface.co/StanfordAIMI/RadBERT) which was pre-trained on radiology reports.\n",
    "\n",
    "We need to load the model from the Huggingface hub into the BucketFS. This could potentially be a long process. Unfortunately, we cannot tell exactly when it has finished. The notebook's hourglass may not be a reliable indicator. BucketFS will still be doing some work when the call issued by the notebook returns. Please wait for a few moments after that, before querying the model."
   ]
  },
  {
   "cell_type": "code",
   "execution_count": null,
   "id": "dede4beb-9bfe-413c-846a-a2e5c6eaa784",
   "metadata": {},
   "outputs": [],
   "source": [
    "# This is the name of the model at the Huggingface Hub\n",
    "MODEL_NAME = 'StanfordAIMI/RadBERT'"
   ]
  },
  {
   "cell_type": "code",
   "execution_count": null,
   "id": "d4ca7457-501f-4c8e-a5c4-85d9e05670f2",
   "metadata": {},
   "outputs": [],
   "source": [
    "%run utils/model_retrieval.ipynb\n",
    "load_huggingface_model(MODEL_NAME, sb_config)"
   ]
  },
  {
   "cell_type": "markdown",
   "id": "9825231e-f7fa-4011-9d11-f94890f6ba7d",
   "metadata": {},
   "source": [
    "## Use language model\n",
    "\n",
    "Let's see if the model can fill in a masked word in the following text. This is an instruction usually given to a patient when a radiographer is doing a chest X-ray."
   ]
  },
  {
   "cell_type": "code",
   "execution_count": null,
   "id": "dca587eb-3213-4089-a844-4bb89cf1afa3",
   "metadata": {},
   "outputs": [],
   "source": [
    "# This is a sentence with a masked word that will be given to the model.\n",
    "MY_TEXT = 'Take a deep [MASK] and hold it'\n",
    "\n",
    "# Make sure our text can be used in an SQL statement.\n",
    "MY_TEXT = MY_TEXT.replace(\"'\", \"''\")"
   ]
  },
  {
   "cell_type": "markdown",
   "id": "f3727075-4680-4f2f-83c2-17e5c22c6a57",
   "metadata": {},
   "source": [
    "We will collect 5 best answers."
   ]
  },
  {
   "cell_type": "code",
   "execution_count": null,
   "id": "0d8288e3-0658-44a3-8fc6-92d6e1c4b3f1",
   "metadata": {},
   "outputs": [],
   "source": [
    "%%sql\n",
    "WITH MODEL_OUTPUT AS\n",
    "(\n",
    "    SELECT TE_FILLING_MASK_UDF(\n",
    "        NULL,\n",
    "        '{{sb_config.TE_BFS_CONN}}',\n",
    "        '{{sb_config.TE_TOKEN_CONN}}',\n",
    "        '{{sb_config.TE_MODELS_BFS_DIR}}',\n",
    "        '{{MODEL_NAME}}',\n",
    "        '{{MY_TEXT}}',\n",
    "        5\n",
    "    )\n",
    ")\n",
    "SELECT filled_text, score, error_message FROM MODEL_OUTPUT ORDER BY SCORE DESC"
   ]
  },
  {
   "cell_type": "markdown",
   "id": "5c3c4047-2cbb-4111-a932-0224844c0f43",
   "metadata": {},
   "source": [
    "The code above shows how the model works on a toy example. However, the main purpose of having a model deployed in the database is to get a quick response for a batch input. The performance gain comes from two factors - localization and parallelization. The first means that the input data never crosses the machine boundaries. The second means that multiple instances of the model are processing the data on all available nodes in parallel.\n",
    "\n",
    "Another advantage of making predictions within the database is enhanced data security. The task of safeguarding privacy can be simplified given the fact that the source data never leaves the database machine.\n",
    "\n",
    "In a more practical application, the input text would be stored in a column of a database table. For example, if we wanted to get the best answer for each row of the input table `MY_TEXT_TABLE`, where text with a masked word is in the column `MY_TEXT_COLUMN`, the SQL would look similar to this:\n",
    "```\n",
    "SELECT TE_FILLING_MASK_UDF(..., MY_TEXT_COLUMN, 1) FROM MY_TEXT_TABLE;\n",
    "```\n",
    "Please note, that the response time observed on the provided example with a single input will not be scaled up linearly in case of multiple inputs. Much of the latency falls on loading the model into the CPU memory from BucketFS. This needs to be done only once regardless of the number of inputs."
   ]
  },
  {
   "cell_type": "code",
   "execution_count": null,
   "id": "851eadbc-a8fb-4ddf-bdda-4f4016ed0913",
   "metadata": {},
   "outputs": [],
   "source": []
  }
 ],
 "metadata": {
  "kernelspec": {
   "display_name": "Python 3 (ipykernel)",
   "language": "python",
   "name": "python3"
  },
  "language_info": {
   "codemirror_mode": {
    "name": "ipython",
    "version": 3
   },
   "file_extension": ".py",
   "mimetype": "text/x-python",
   "name": "python",
   "nbconvert_exporter": "python",
   "pygments_lexer": "ipython3",
   "version": "3.8.10"
  }
 },
 "nbformat": 4,
 "nbformat_minor": 5
}
