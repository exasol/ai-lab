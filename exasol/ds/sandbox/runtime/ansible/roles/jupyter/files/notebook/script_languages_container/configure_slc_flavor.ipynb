{
 "cells": [
  {
   "cell_type": "markdown",
   "id": "70724412-6577-4e69-86a1-b0d94e32eb96",
   "metadata": {},
   "source": [
    "# Configure Flavor path\n",
    "\n",
    "Here we will give the user the option between:\n",
    " - the Exasol <a href=\"https://github.com/exasol/script-languages-release\" target=\"_blank\" rel=\"noopener\">Script-Languages-Release</a> Github repository which provides the Script-Languages-Container flavor used to build the builtin container of the Exasol DB or to build customized container\n",
    " - to use a custom flavor path\n",
    "\n",
    "## Prerequisites\n",
    "\n",
    "Prior to using this notebook the following steps need to be completed:\n",
    "1. [Configure the AI-Lab](../main_config.ipynb).\n",
    "\n",
    "## Setup\n",
    "\n",
    "### Open Secure Configuration Storage\n"
   ]
  },
  {
   "cell_type": "code",
   "execution_count": 2,
   "id": "e70ad0a9-7042-4fe8-814b-5c586b9bee6d",
   "metadata": {},
   "outputs": [
    {
     "data": {
      "application/vnd.jupyter.widget-view+json": {
       "model_id": "7f884dbc7fb341d59a09f61a4e481ddc",
       "version_major": 2,
       "version_minor": 0
      },
      "text/plain": [
       "Output()"
      ]
     },
     "metadata": {},
     "output_type": "display_data"
    },
    {
     "data": {
      "application/vnd.jupyter.widget-view+json": {
       "model_id": "bd2517c70c614851a15e7b0a232e8fbd",
       "version_major": 2,
       "version_minor": 0
      },
      "text/plain": [
       "Box(children=(Box(children=(Label(value='Configuration Store', layout=Layout(border_bottom='solid 1px', border…"
      ]
     },
     "metadata": {},
     "output_type": "display_data"
    }
   ],
   "source": [
    "%run ../utils/access_store_ui.ipynb\n",
    "display(get_access_store_ui('../'))"
   ]
  },
  {
   "cell_type": "markdown",
   "id": "9f02bc2f-411f-4479-b2e2-1afef96e4bd8",
   "metadata": {},
   "source": [
    "# Load UI functions\n",
    "Let's import some other UI functions that may be used in this notebook."
   ]
  },
  {
   "cell_type": "code",
   "execution_count": 22,
   "id": "224345da-f14e-4a45-bf8a-07e3ba0870dc",
   "metadata": {},
   "outputs": [
    {
     "data": {
      "application/vnd.jupyter.widget-view+json": {
       "model_id": "a61cdcc9e89242dc814755e1e4827e67",
       "version_major": 2,
       "version_minor": 0
      },
      "text/plain": [
       "Output()"
      ]
     },
     "metadata": {},
     "output_type": "display_data"
    }
   ],
   "source": [
    "%run ./utils/slc_ui.ipynb"
   ]
  },
  {
   "cell_type": "markdown",
   "id": "178b59e9-8f46-43b1-b4f8-9cd6d6bf5076",
   "metadata": {},
   "source": [
    "# Configure the Flavor path\n",
    "### Choose the flavor source"
   ]
  },
  {
   "cell_type": "code",
   "execution_count": 23,
   "id": "0f8caa77-35a0-403d-af96-e5f8056ba489",
   "metadata": {},
   "outputs": [
    {
     "data": {
      "application/vnd.jupyter.widget-view+json": {
       "model_id": "a9e42e4fc483437889da729c972b6eea",
       "version_major": 2,
       "version_minor": 0
      },
      "text/plain": [
       "Box(children=(Box(children=(Label(value='Flavor choice', layout=Layout(border_bottom='solid 1px', border_left=…"
      ]
     },
     "metadata": {},
     "output_type": "display_data"
    }
   ],
   "source": [
    "display(get_slc_source_selection_ui(ai_lab_config))"
   ]
  },
  {
   "cell_type": "markdown",
   "id": "fc0fe1a5-8861-4f18-8bcf-92600f86f33f",
   "metadata": {},
   "source": [
    "### Use existing script-languages-repository\n",
    "If the user has chosen to use an existing script-languages-repository path we simply let him choose the path."
   ]
  },
  {
   "cell_type": "code",
   "execution_count": 24,
   "id": "56e16540-5f4b-4d5c-8c83-d34c1217eb00",
   "metadata": {},
   "outputs": [
    {
     "ename": "ParentPathError",
     "evalue": "/home/jupyter/script_languages_release is not a part of /home/jupyter/notebooks",
     "output_type": "error",
     "traceback": [
      "\u001b[0;31m---------------------------------------------------------------------------\u001b[0m",
      "\u001b[0;31mParentPathError\u001b[0m                           Traceback (most recent call last)",
      "Cell \u001b[0;32mIn[24], line 1\u001b[0m\n\u001b[0;32m----> 1\u001b[0m display(\u001b[43mget_existing_slc_ui\u001b[49m\u001b[43m(\u001b[49m\u001b[43mai_lab_config\u001b[49m\u001b[43m)\u001b[49m)\n",
      "File \u001b[0;32m/tmp/ipykernel_388/3108480495.py:94\u001b[0m, in \u001b[0;36mget_existing_slc_ui\u001b[0;34m(conf)\u001b[0m\n\u001b[1;32m     92\u001b[0m src_dir_chooser_widget \u001b[38;5;241m=\u001b[39m FileChooser(path\u001b[38;5;241m=\u001b[39mdefault_src_dir, select_default\u001b[38;5;241m=\u001b[39mselect_default)\n\u001b[1;32m     93\u001b[0m src_dir_chooser_widget\u001b[38;5;241m.\u001b[39mshow_only_dirs \u001b[38;5;241m=\u001b[39m \u001b[38;5;28;01mTrue\u001b[39;00m\n\u001b[0;32m---> 94\u001b[0m \u001b[43msrc_dir_chooser_widget\u001b[49m\u001b[38;5;241;43m.\u001b[39;49m\u001b[43msandbox_path\u001b[49m \u001b[38;5;241m=\u001b[39m NOTEBOOKS_DIRECTORY\n\u001b[1;32m     96\u001b[0m inputs \u001b[38;5;241m=\u001b[39m [\n\u001b[1;32m     97\u001b[0m     [\n\u001b[1;32m     98\u001b[0m         (\u001b[38;5;124m'\u001b[39m\u001b[38;5;124mFlavor source directory\u001b[39m\u001b[38;5;124m'\u001b[39m, src_dir_chooser_widget, slc_target_dir_store_key),\n\u001b[1;32m     99\u001b[0m     ]\n\u001b[1;32m    100\u001b[0m ]\n\u001b[1;32m    102\u001b[0m ui_look \u001b[38;5;241m=\u001b[39m get_config_styles()\n",
      "File \u001b[0;32m~/jupyterenv/lib/python3.10/site-packages/ipyfilechooser/filechooser.py:525\u001b[0m, in \u001b[0;36mFileChooser.sandbox_path\u001b[0;34m(self, sandbox_path)\u001b[0m\n\u001b[1;32m    523\u001b[0m \u001b[38;5;66;03m# Check if path and sandbox_path align\u001b[39;00m\n\u001b[1;32m    524\u001b[0m \u001b[38;5;28;01mif\u001b[39;00m sandbox_path \u001b[38;5;129;01mand\u001b[39;00m \u001b[38;5;129;01mnot\u001b[39;00m has_parent_path(\u001b[38;5;28mself\u001b[39m\u001b[38;5;241m.\u001b[39m_default_path, normalize_path(sandbox_path)):\n\u001b[0;32m--> 525\u001b[0m     \u001b[38;5;28;01mraise\u001b[39;00m ParentPathError(\u001b[38;5;28mself\u001b[39m\u001b[38;5;241m.\u001b[39m_default_path, sandbox_path)\n\u001b[1;32m    527\u001b[0m \u001b[38;5;28mself\u001b[39m\u001b[38;5;241m.\u001b[39m_sandbox_path \u001b[38;5;241m=\u001b[39m normalize_path(sandbox_path) \u001b[38;5;28;01mif\u001b[39;00m sandbox_path \u001b[38;5;129;01mis\u001b[39;00m \u001b[38;5;129;01mnot\u001b[39;00m \u001b[38;5;28;01mNone\u001b[39;00m \u001b[38;5;28;01melse\u001b[39;00m \u001b[38;5;28;01mNone\u001b[39;00m\n\u001b[1;32m    529\u001b[0m \u001b[38;5;66;03m# Reset the dialog\u001b[39;00m\n",
      "\u001b[0;31mParentPathError\u001b[0m: /home/jupyter/script_languages_release is not a part of /home/jupyter/notebooks"
     ]
    }
   ],
   "source": [
    "display(get_existing_slc_ui(ai_lab_config))"
   ]
  },
  {
   "cell_type": "markdown",
   "id": "1db0f115-9382-4e53-be08-53586b831d0b",
   "metadata": {},
   "source": [
    "### Clone the Script-Languages-Release repository\n",
    "If the user wants to use the Exasol script-languages-repository we need first to choose the root path where the repository should be stored."
   ]
  },
  {
   "cell_type": "code",
   "execution_count": 8,
   "id": "7d84889f-7c3a-4f69-9bf1-c193481867af",
   "metadata": {},
   "outputs": [
    {
     "data": {
      "application/vnd.jupyter.widget-view+json": {
       "model_id": "cf962b5cf83047d48703a9633999d2dd",
       "version_major": 2,
       "version_minor": 0
      },
      "text/plain": [
       "Box(children=(Box(children=(Label(value='Target Directory', layout=Layout(border_bottom='solid 1px', border_le…"
      ]
     },
     "metadata": {},
     "output_type": "display_data"
    }
   ],
   "source": [
    "display(get_slc_target_dir_ui(ai_lab_config))"
   ]
  },
  {
   "cell_type": "markdown",
   "id": "a02ee33f-1958-4f9c-a796-01c6bc2a8787",
   "metadata": {},
   "source": [
    "#### Now we can clone the repository"
   ]
  },
  {
   "cell_type": "code",
   "execution_count": 9,
   "id": "31132726-9827-4c9b-8fb8-0884d2f36e67",
   "metadata": {},
   "outputs": [
    {
     "name": "stdout",
     "output_type": "stream",
     "text": [
      "Cloning into /home/jupyter/script_languages_release...\n",
      "Fetching submodules...\n",
      "Ready\n"
     ]
    }
   ],
   "source": [
    "from pathlib import Path\n",
    "if clone_slc_repo(ai_lab_config):\n",
    "    from git import Repo\n",
    "    \n",
    "    slc_dir = Path(ai_lab_config.get(slc_target_dir_store_key))\n",
    "    if not slc_dir.is_dir():\n",
    "        print (f\"Cloning into {slc_dir}...\")\n",
    "        repo = Repo.clone_from(\"https://github.com/exasol/script-languages-release\", slc_dir)\n",
    "        print (\"Fetching submodules...\")\n",
    "        repo.submodule_update(recursive=True)\n",
    "    else:\n",
    "        print(f\"Directory '{slc_dir}' already exists. Skipping cloning....\")\n",
    "print(\"Ready\")"
   ]
  },
  {
   "cell_type": "markdown",
   "id": "53997bff-b4be-406f-b54f-ae9f39939ede",
   "metadata": {},
   "source": [
    "#### Now we verify that the required flavor for the tutorial is present."
   ]
  },
  {
   "cell_type": "code",
   "execution_count": 18,
   "id": "bb6b26b9-cb24-4b66-85c9-e15a0c92ff2c",
   "metadata": {
    "scrolled": true
   },
   "outputs": [
    {
     "data": {
      "text/plain": [
       "<exasol.nb_connector.secret_store.Secrets at 0x797340435360>"
      ]
     },
     "execution_count": 18,
     "metadata": {},
     "output_type": "execute_result"
    }
   ],
   "source": [
    "flavor_base_dir = Path(slc_dir) / \"flavors\"\n",
    "flavor_dirs =  [flavor_dir.name for flavor_dir in flavor_base_dir.iterdir() if flavor_dir.is_dir()]\n",
    "required_flavor = \"template-Exasol-all-python-3.10\"\n",
    "filtered_flavors = [flavor for flavor in flavor_dirs if str(flavor) == required_flavor]\n",
    "if len(filtered_flavors) == 0:\n",
    "    popup_message(f\"The script-languages repository at '{slc_dir}' does not contain flavor '{required_flavor}'\")\n",
    "assert len(filtered_flavors) == 1\n",
    "ai_lab_config.save(slc_source_flavor_store_key, str(required_flavor))"
   ]
  }
 ],
 "metadata": {
  "kernelspec": {
   "display_name": "Python 3 (ipykernel)",
   "language": "python",
   "name": "python3"
  },
  "language_info": {
   "codemirror_mode": {
    "name": "ipython",
    "version": 3
   },
   "file_extension": ".py",
   "mimetype": "text/x-python",
   "name": "python",
   "nbconvert_exporter": "python",
   "pygments_lexer": "ipython3",
   "version": "3.10.12"
  }
 },
 "nbformat": 4,
 "nbformat_minor": 5
}
