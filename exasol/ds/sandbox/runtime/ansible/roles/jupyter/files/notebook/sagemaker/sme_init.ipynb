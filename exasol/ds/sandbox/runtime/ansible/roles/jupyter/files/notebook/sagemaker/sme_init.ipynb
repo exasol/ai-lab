{
 "cells": [
  {
   "cell_type": "markdown",
   "id": "9d14c2ca-1191-4a01-b3fc-e246bc4d0504",
   "metadata": {},
   "source": [
    "# SageMaker Extension initialization\n",
    "\n",
    "Here we will perform all the steps to get the SageMaker Extension functionality up and running. Please refer to the SageMaker Extension <a href=\"https://github.com/exasol/sagemaker-extension/blob/main/doc/user_guide/user_guide.md\" target=\"_blank\" rel=\"noopener\">User Guide</a> for details on the required initialization steps. The extension module should have already been installed during the installation of this product, therefore the first step mentioned in the guide can be skipped.\n",
    "\n",
    "We will be running SQL queries using <a href=\"https://jupysql.ploomber.io/en/latest/quick-start.html\" target=\"_blank\" rel=\"noopener\"> JupySQL</a> SQL Magic and <a href=\"https://github.com/exasol/pyexasol\" target=\"_blank\" rel=\"noopener\">`pyexasol`</a> module.\n",
    "\n",
    "## Prerequisites\n",
    "\n",
    "Before using this notebook the following steps need to be completed:\n",
    "1. [Configure the sandbox](../sandbox_config.ipynb).\n",
    "\n",
    "## Setup\n",
    "\n",
    "### Access configuration"
   ]
  },
  {
   "cell_type": "code",
   "execution_count": null,
   "id": "3e148311-05eb-451e-b02c-05e4f0b4e521",
   "metadata": {},
   "outputs": [],
   "source": [
    "%run ../utils/access_store_ui.ipynb\n",
    "display(get_access_store_ui('../'))"
   ]
  },
  {
   "cell_type": "markdown",
   "id": "71245ff5-8788-463c-97f5-8e20f33fd909",
   "metadata": {},
   "source": [
    "### Set AWS credentials\n",
    "\n",
    "We need to enter security credentials that will allow us to use the AWS services."
   ]
  },
  {
   "cell_type": "code",
   "execution_count": null,
   "id": "d5dda5f1-317f-4b51-9204-d31f7b757be5",
   "metadata": {},
   "outputs": [],
   "source": [
    "%run utils/sme_init_ui.ipynb\n",
    "display(get_sme_config_ui())"
   ]
  },
  {
   "cell_type": "markdown",
   "id": "30607dd7-f4eb-4d4d-8bf2-8fcbbbc0631e",
   "metadata": {},
   "source": [
    "### Other variables\n",
    "\n",
    "Let's define the Script Language Container parameters. Please refer to the <a href=\"https://github.com/exasol/script-languages-release\" target=\"_blank\" rel=\"noopener\">Script Languages Container</a> documentation to find out the meaning of these parameters."
   ]
  },
  {
   "cell_type": "code",
   "execution_count": null,
   "id": "38ab2153-4a5e-49f8-b1bc-a47664f7c9db",
   "metadata": {},
   "outputs": [],
   "source": [
    "# The SageMaker Extension requires the Language name alias to be set to a particular value. \n",
    "SCRIPT_LANGUAGE_NAME = 'PYTHON3_SME'\n",
    "\n",
    "UDF_FLAVOR = 'python3-ds-EXASOL-6.0.0'\n",
    "\n",
    "UDF_CLIENT = 'exaudfclient_py3'"
   ]
  },
  {
   "cell_type": "code",
   "execution_count": null,
   "id": "bf066f09-4d07-4d44-b340-e0f6c02df3b4",
   "metadata": {},
   "outputs": [],
   "source": [
    "# Derive some useful variables from sandbox configuration parameters\n",
    "\n",
    "EXTERNAL_HOST = f\"{sb_config.EXTERNAL_HOST_NAME}:{sb_config.HOST_PORT}\"\n",
    "\n",
    "WEBSOCKET_URL = f\"exa+websocket://{sb_config.USER}:{sb_config.PASSWORD}\" \\\n",
    "    f\"@{EXTERNAL_HOST}/{sb_config.SCHEMA}?SSLCertificate=SSL_VERIFY_NONE\"\n",
    "\n",
    "SCRIPT_LANGUAGES = f\"{SCRIPT_LANGUAGE_NAME}=localzmq+protobuf:///{sb_config.BUCKETFS_SERVICE}/\" \\\n",
    "    f\"{sb_config.BUCKETFS_BUCKET}/{UDF_FLAVOR}?lang=python#buckets/{sb_config.BUCKETFS_SERVICE}/\" \\\n",
    "    f\"{sb_config.BUCKETFS_BUCKET}/{UDF_FLAVOR}/exaudf/{UDF_CLIENT}\";"
   ]
  },
  {
   "cell_type": "markdown",
   "id": "7381fa10-5117-474e-93a8-c3b108d0a55f",
   "metadata": {},
   "source": [
    "Let's bring up JupySQL and connect to the database via SQLAlchemy. Please refer to the documentation of sqlalchemy-exasol for details on how to connect to the database using the Exasol SQLAlchemy driver."
   ]
  },
  {
   "cell_type": "code",
   "execution_count": null,
   "id": "727a39dd-bf06-416e-acf5-90c0047328e9",
   "metadata": {},
   "outputs": [],
   "source": [
    "from sqlalchemy import create_engine\n",
    "\n",
    "engine = create_engine(WEBSOCKET_URL)\n",
    "\n",
    "%load_ext sql\n",
    "%sql engine"
   ]
  },
  {
   "cell_type": "markdown",
   "id": "cc96d904-e54a-4abd-bcdd-fc55b96e97ca",
   "metadata": {},
   "source": [
    "## Upload and activate the Script-Language-Container (SLC)\n",
    "\n",
    "We will start with loading the Script Language Container (SLC) specially built for the SageMaker Extension. The latest release of both the Extension and its SLC can be found <a href=\"https://github.com/exasol/sagemaker-extension/releases\" target=\"_blank\" rel=\"noopener\">here</a>. We will use an http(s) client for that."
   ]
  },
  {
   "cell_type": "code",
   "execution_count": null,
   "id": "5c53041c-710e-4e6a-9ed8-89d376d40d33",
   "metadata": {},
   "outputs": [],
   "source": [
    "import tempfile\n",
    "from stopwatch import Stopwatch\n",
    "\n",
    "# Get a temporary file name for the SLC.\n",
    "_, tmp_file = tempfile.mkstemp(suffix='.tar.gz')\n",
    "\n",
    "# Download SLC.\n",
    "stopwatch = Stopwatch()\n",
    "download_command = f'curl -L -o {tmp_file} https://github.com/exasol/sagemaker-extension/releases/download/0.5.0/' \\\n",
    "    f'exasol_sagemaker_extension_container-release-CYEVORMGO3X5JZJZTXFLS23FZYKIKDG7MVNUSSJK6FUST5WRPZUQ.tar.gz'\n",
    "! {download_command}\n",
    "print(f\"Downloading the SLC took: {stopwatch}\")\n",
    "\n",
    "# Upload SLC into the BucketFS\n",
    "stopwatch = Stopwatch()\n",
    "bfs_url_prefix = \"https://\" if sb_config.BUCKETFS_USE_HTTPS.lower() == 'true' else \"http://\"\n",
    "bfs_host = f'{sb_config.EXTERNAL_HOST_NAME}:{sb_config.BUCKETFS_PORT}'\n",
    "upload_command = f'curl {bfs_url_prefix}{sb_config.BUCKETFS_USER}:{sb_config.BUCKETFS_PASSWORD}' \\\n",
    "    f'@{bfs_host}/{sb_config.BUCKETFS_BUCKET}/{sb_config.UDF_FLAVOR}.tar.gz --upload-file {tmp_file}'\n",
    "! {upload_command}\n",
    "print(f\"Uploading the SLC took: {stopwatch}\")\n",
    "\n",
    "# Delete SLC file on the local drive.\n",
    "! rm {tmp_file}"
   ]
  },
  {
   "cell_type": "markdown",
   "id": "eab7332a-a78a-4411-b567-e9734556e35b",
   "metadata": {},
   "source": [
    "We need to activate the uploaded SLC by updating the system parameter `SCRIPT_LANGUAGES`."
   ]
  },
  {
   "cell_type": "code",
   "execution_count": null,
   "id": "cb68aa44-e9ad-4609-b347-158901632e2f",
   "metadata": {},
   "outputs": [],
   "source": [
    "%%sql\n",
    "ALTER SYSTEM SET SCRIPT_LANGUAGES='{{SCRIPT_LANGUAGES}}';\n",
    "ALTER SESSION SET SCRIPT_LANGUAGES='{{SCRIPT_LANGUAGES}}';"
   ]
  },
  {
   "cell_type": "markdown",
   "id": "fbfc9c58-924c-4007-8c67-6af7165f6354",
   "metadata": {},
   "source": [
    "## Create objects in the database.\n",
    "### Scripts\n",
    "Once the SLC is installed we can upload all the required scripts into the database. "
   ]
  },
  {
   "cell_type": "code",
   "execution_count": null,
   "id": "e4d40cc4-d3b7-4abc-94d7-0b81e3a57f07",
   "metadata": {},
   "outputs": [],
   "source": [
    "deploy_command = f\"\"\"\n",
    "python -m exasol_sagemaker_extension.deployment.deploy_cli \\\n",
    "    --host {sb_config.EXTERNAL_HOST_NAME} \\\n",
    "    --port {sb_config.HOST_PORT} \\\n",
    "    --user {sb_config.USER} \\\n",
    "    --pass {sb_config.PASSWORD} \\\n",
    "    --schema {sb_config.SCHEMA}\n",
    "\"\"\"\n",
    "\n",
    "print(deploy_command)\n",
    "!{deploy_command}"
   ]
  },
  {
   "cell_type": "markdown",
   "id": "c0eb9568-dd20-4806-b02b-11b3f3065cf6",
   "metadata": {},
   "source": [
    "Let's verify that the scripts have been created. We should see 4 new UDF scripts and 4 new Lua scripts."
   ]
  },
  {
   "cell_type": "code",
   "execution_count": null,
   "id": "d13d3754-1015-405a-81e3-76d6a61bc7a4",
   "metadata": {},
   "outputs": [],
   "source": [
    "%%sql\n",
    "SELECT SCRIPT_NAME, SCRIPT_TYPE FROM SYS.EXA_ALL_SCRIPTS WHERE SCRIPT_SCHEMA='{{sb_config.SCHEMA}}'"
   ]
  },
  {
   "cell_type": "markdown",
   "id": "8ae7837a-c167-4f70-ad84-7e391bc927f4",
   "metadata": {},
   "source": [
    "### AWS connection\n",
    "\n",
    "The SageMaker Extension needs to connect to AWS SageMaker and our AWS S3 bucket. For that, it needs AWS credentials with Sagemaker Execution permissions. The required credentials are AWS Access Key (Please check how to <a href=\"https://docs.aws.amazon.com/IAM/latest/UserGuide/id_credentials_access-keys.html#Using_CreateAccessKey\" target=\"_blank\" rel=\"noopener\">create an access key</a>).\n",
    "\n",
    "For the SageMaker-Extension to use the Access Key we need to create an Exasol CONNECTION object which securely stores the keys. For more information, please check Exasol documentation on how to <a href=\"https://docs.exasol.com/db/latest/sql/create_connection.htm?Highlight=connection\" target=\"_blank\" rel=\"noopener\">create a connection</a>."
   ]
  },
  {
   "cell_type": "code",
   "execution_count": null,
   "id": "ae6c14ae-ea9d-4be7-ae46-89a1d75607ae",
   "metadata": {},
   "outputs": [],
   "source": [
    "import pyexasol\n",
    "\n",
    "sql = f\"\"\"\n",
    "CREATE OR REPLACE  CONNECTION [{sb_config.AWS_CONN}]\n",
    "    TO 'https://{sb_config.AWS_BUCKET}.s3.{sb_config.AWS_REGION}.amazonaws.com/'\n",
    "    USER {{AWS_ACCESS_KEY_ID!s}}\n",
    "    IDENTIFIED BY {{AWS_SECRET_ACCESS_KEY!s}}\n",
    "\"\"\"\n",
    "query_params = {\n",
    "    \"AWS_ACCESS_KEY_ID\": sb_config.AWS_ACCESS_KEY_ID, \n",
    "    \"AWS_SECRET_ACCESS_KEY\": sb_config.AWS_SECRET_ACCESS_KEY\n",
    "}\n",
    "with pyexasol.connect(dsn=EXTERNAL_HOST, user=sb_config.USER, password=sb_config.PASSWORD, compression=True) as conn:\n",
    "    conn.execute(query=sql, query_params=query_params)"
   ]
  },
  {
   "cell_type": "markdown",
   "id": "326d3ff1-d6ae-419d-926b-a7c129b76dc5",
   "metadata": {},
   "source": [
    "Now we are ready to start training a model. We will do this in the [following](sme_train_model.ipynb) notebook."
   ]
  }
 ],
 "metadata": {
  "kernelspec": {
   "display_name": "Python 3 (ipykernel)",
   "language": "python",
   "name": "python3"
  },
  "language_info": {
   "codemirror_mode": {
    "name": "ipython",
    "version": 3
   },
   "file_extension": ".py",
   "mimetype": "text/x-python",
   "name": "python",
   "nbconvert_exporter": "python",
   "pygments_lexer": "ipython3",
   "version": "3.8.10"
  }
 },
 "nbformat": 4,
 "nbformat_minor": 5
}
