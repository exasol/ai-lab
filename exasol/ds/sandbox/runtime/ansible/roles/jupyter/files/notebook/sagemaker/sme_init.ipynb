{
 "cells": [
  {
   "cell_type": "markdown",
   "id": "9d14c2ca-1191-4a01-b3fc-e246bc4d0504",
   "metadata": {},
   "source": [
    "# SageMaker Extension initialization\n",
    "\n",
    "Here we will perform all the steps to get the SageMaker Extension functionality up and running. Please refer to the SageMaker Extension <a href=\"https://github.com/exasol/sagemaker-extension/blob/main/doc/user_guide/user_guide.md\" target=\"_blank\" rel=\"noopener\">User Guide</a> for details on the required initialization steps. The extension module should have already been installed during the installation of this product, therefore the first step mentioned in the guide can be skipped.\n",
    "\n",
    "We will be running SQL queries using <a href=\"https://jupysql.ploomber.io/en/latest/quick-start.html\" target=\"_blank\" rel=\"noopener\"> JupySQL</a> SQL Magic and <a href=\"https://github.com/exasol/pyexasol\" target=\"_blank\" rel=\"noopener\">`pyexasol`</a> module.\n",
    "\n",
    "## Prerequisites\n",
    "\n",
    "Before using this notebook the following steps need to be completed:\n",
    "1. [Configure the sandbox](../sandbox_config.ipynb).\n",
    "\n",
    "## Setup\n",
    "\n",
    "### Access configuration"
   ]
  },
  {
   "cell_type": "code",
   "execution_count": null,
   "id": "3e148311-05eb-451e-b02c-05e4f0b4e521",
   "metadata": {},
   "outputs": [],
   "source": [
    "%run ../utils/access_store_ui.ipynb\n",
    "display(get_access_store_ui('../'))"
   ]
  },
  {
   "cell_type": "markdown",
   "id": "71245ff5-8788-463c-97f5-8e20f33fd909",
   "metadata": {},
   "source": [
    "### Set AWS credentials\n",
    "\n",
    "We need to enter security credentials that will allow us to use the AWS services."
   ]
  },
  {
   "cell_type": "code",
   "execution_count": null,
   "id": "d5dda5f1-317f-4b51-9204-d31f7b757be5",
   "metadata": {},
   "outputs": [],
   "source": [
    "%run utils/sme_init_ui.ipynb\n",
    "display(get_sme_config_ui())"
   ]
  },
  {
   "cell_type": "markdown",
   "id": "30607dd7-f4eb-4d4d-8bf2-8fcbbbc0631e",
   "metadata": {},
   "source": [
    "## Initialize the extension\n",
    "\n",
    "<b>This operation normally takes a considerable amount of time to complete</b>\n",
    "\n",
    "When the initialization finishes we should see a printed output suggesting us to activate the language container. Let's take it as an indication of the successful completion of the initialization procedure. We are not going to do the language container activation manually."
   ]
  },
  {
   "cell_type": "code",
   "execution_count": null,
   "id": "38ab2153-4a5e-49f8-b1bc-a47664f7c9db",
   "metadata": {},
   "outputs": [],
   "source": [
    "from exasol.sagemaker_extension_wrapper import initialize_sme_extension\n",
    "\n",
    "initialize_sme_extension(sb_config)"
   ]
  },
  {
   "cell_type": "markdown",
   "id": "326d3ff1-d6ae-419d-926b-a7c129b76dc5",
   "metadata": {},
   "source": [
    "Now we are ready to start training a model. We will do this in the [following](sme_train_model.ipynb) notebook."
   ]
  }
 ],
 "metadata": {
  "kernelspec": {
   "display_name": "Python 3 (ipykernel)",
   "language": "python",
   "name": "python3"
  },
  "language_info": {
   "codemirror_mode": {
    "name": "ipython",
    "version": 3
   },
   "file_extension": ".py",
   "mimetype": "text/x-python",
   "name": "python",
   "nbconvert_exporter": "python",
   "pygments_lexer": "ipython3",
   "version": "3.8.10"
  }
 },
 "nbformat": 4,
 "nbformat_minor": 5
}
