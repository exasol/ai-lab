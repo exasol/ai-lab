{
 "cells": [
  {
   "cell_type": "markdown",
   "id": "620c1d78-830e-4bfd-8561-d3b6c78824bd",
   "metadata": {},
   "source": [
    "# List of available data to load\n",
    "\n",
    "1. [MAGIC Gamma Telescope](data_telescope.ipynb)\n",
    "2. [Abalone Rings](data_abalone.ipynb)\n",
    "3. [Flight Data](data_flights.ipynb)\n",
    "4. [Customer Support Tickets](data_customer_support.ipynb)"
   ]
  },
  {
   "cell_type": "code",
   "execution_count": null,
   "id": "d780dcfe-ad7f-44ec-b135-3f0aedad2496",
   "metadata": {},
   "outputs": [],
   "source": []
  }
 ],
 "metadata": {
  "kernelspec": {
   "display_name": "Python 3 (ipykernel)",
   "language": "python",
   "name": "python3"
  },
  "language_info": {
   "codemirror_mode": {
    "name": "ipython",
    "version": 3
   },
   "file_extension": ".py",
   "mimetype": "text/x-python",
   "name": "python",
   "nbconvert_exporter": "python",
   "pygments_lexer": "ipython3",
   "version": "3.8.10"
  }
 },
 "nbformat": 4,
 "nbformat_minor": 5
}
