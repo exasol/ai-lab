{
 "cells": [
  {
   "cell_type": "markdown",
   "id": "6d15b185-49e1-489a-b8be-78d1ad3c67bc",
   "metadata": {},
   "source": [
    "# Introduction\n",
    "\n",
    "This set of notebooks demonstrates the functionality of the Exasol Text AI. Text AI is a native Exasol solution that leverages AI to transform unstructured and semi-structured business data into relational data that can power analytics and drive insight.\n",
    "\n",
    "## Prerequisites\n",
    "\n",
    "Before using this notebook the following steps need to be completed:\n",
    "1. [Configure the AI-Lab](../main_config.ipynb).\n",
    "\n",
    "## Setup\n",
    "\n",
    "Please start with the [Extension Initialization](./txaie_init.ipynb) page."
   ]
  }
 ],
 "metadata": {
  "kernelspec": {
   "display_name": "Python 3 (ipykernel)",
   "language": "python",
   "name": "python3"
  },
  "language_info": {
   "codemirror_mode": {
    "name": "ipython",
    "version": 3
   },
   "file_extension": ".py",
   "mimetype": "text/x-python",
   "name": "python",
   "nbconvert_exporter": "python",
   "pygments_lexer": "ipython3",
   "version": "3.8.10"
  }
 },
 "nbformat": 4,
 "nbformat_minor": 5
}
