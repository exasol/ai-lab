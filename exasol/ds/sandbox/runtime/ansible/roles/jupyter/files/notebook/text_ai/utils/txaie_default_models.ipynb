{
 "cells": [
  {
   "cell_type": "markdown",
   "id": "dfbe2236-ed9b-4b6e-be18-11281d74161b",
   "metadata": {},
   "source": [
    "# Downlod default models for Ai-Lab Demos\n",
    "\n",
    "This notebook will download a number of transformers models from HuggingFace. These are models we use as default modelf for our Text AI Extebsion demo Notebooks.\n",
    "                                                                                                                       \n",
    "First, we import the \"load_huggingface_model\" defined in another notebook, which will help us download the models."
   ]
  },
  {
   "cell_type": "code",
   "execution_count": null,
   "id": "4b31c770-4f1f-4e0c-b550-290d4b338e8f",
   "metadata": {},
   "outputs": [],
   "source": [
    "%run ../transformers/utils/model_retrieval.ipynb"
   ]
  },
  {
   "cell_type": "markdown",
   "id": "3527c269-de1d-4b07-aae6-2fe6fb27c497",
   "metadata": {},
   "source": [
    "Here, we define which models we want to use. You can browse for your preferred model [here](https://huggingface.co/models)."
   ]
  },
  {
   "cell_type": "code",
   "execution_count": null,
   "id": "eb553da3-2f36-4ac1-8f51-effd21f65fee",
   "metadata": {},
   "outputs": [],
   "source": [
    "NAMED_ENTITY_MODEL=\"guishe/nuner-v2_fewnerd_fine_super\"\n",
    "NLI_MODEL=\"tasksource/ModernBERT-base-nli\"\n",
    "FEATURE_EXTRACTION_MODEL=\"answerdotai/ModernBERT-base\""
   ]
  },
  {
   "cell_type": "markdown",
   "id": "1e6e2f63-c6d4-4290-a494-ebe24e0ebd6e",
   "metadata": {},
   "source": [
    "And now we are ready to download our models. Each of these calls will take some time, depending on your internet connection.\n",
    "    \n",
    "**Note** : If these operations fail with a Error indicating a lost connection, please increase the size of your Database and try again."
   ]
  },
  {
   "cell_type": "code",
   "execution_count": null,
   "id": "8fab51f3-d34d-4e63-b883-357a3d81fc7e",
   "metadata": {},
   "outputs": [],
   "source": [
    "load_huggingface_model(ai_lab_config, NAMED_ENTITY_MODEL, 'token-classification')"
   ]
  },
  {
   "cell_type": "code",
   "execution_count": null,
   "id": "3e6dc51a-4cc3-4a74-be9d-2c9694eeb356",
   "metadata": {},
   "outputs": [],
   "source": [
    "load_huggingface_model(ai_lab_config, NLI_MODEL, 'zero-shot-classification')"
   ]
  },
  {
   "cell_type": "code",
   "execution_count": null,
   "id": "6bb0d71e-851a-4746-80f1-d0d99de8b065",
   "metadata": {},
   "outputs": [],
   "source": [
    "load_huggingface_model(ai_lab_config, FEATURE_EXTRACTION_MODEL, 'feature-extraction')"
   ]
  }
 ],
 "metadata": {
  "kernelspec": {
   "display_name": "Python 3 (ipykernel)",
   "language": "python",
   "name": "python3"
  },
  "language_info": {
   "codemirror_mode": {
    "name": "ipython",
    "version": 3
   },
   "file_extension": ".py",
   "mimetype": "text/x-python",
   "name": "python",
   "nbconvert_exporter": "python",
   "pygments_lexer": "ipython3",
   "version": "3.10.12"
  }
 },
 "nbformat": 4,
 "nbformat_minor": 5
}
