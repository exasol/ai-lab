{
 "cells": [
  {
   "cell_type": "markdown",
   "id": "3e21b55a-32e5-47bf-a226-1a56a72e4699",
   "metadata": {
    "editable": true,
    "slideshow": {
     "slide_type": ""
    },
    "tags": []
   },
   "source": [
    "<div style=\"text-align: right;\">\n",
    "  <img src=\"https://raw.githubusercontent.com/exasol/ai-lab/refs/heads/main/assets/Exasol_Logo_2025_Dark.svg\" style=\"width:200px; margin: 10px;\" />\n",
    "</div>\n",
    "\n",
    "# US Flights\n",
    "\n",
    "In this notebook we will load a dataset with information about US Flights. The data is publicly accessible at the [Bureau of Transportation Statistics](https://www.transtats.bts.gov/Homepage.asp) of the US Department of Transportation. We will load a selection of this data stored in a AWS cloudfront.\n",
    "\n",
    "We will be running SQL queries using <a href=\"https://jupysql.ploomber.io/en/latest/quick-start.html\" target=\"_blank\" rel=\"noopener\"> JupySQL</a> SQL Magic.\n",
    "\n",
    "## Prerequisites\n",
    "\n",
    "Prior to using this notebook the following steps need to be completed:\n",
    "1. [Configure the AI-Lab](../main_config.ipynb).\n",
    "\n",
    "## Setup\n",
    "\n",
    "### Open Secure Configuration Storage"
   ]
  },
  {
   "cell_type": "code",
   "execution_count": null,
   "id": "f5fa71bb-193e-438b-b126-cdd558d44e48",
   "metadata": {},
   "outputs": [],
   "source": [
    "%run ../utils/access_store_ui.ipynb\n",
    "display(get_access_store_ui('../'))"
   ]
  },
  {
   "cell_type": "markdown",
   "id": "1ce12284-f647-4435-a8a4-48aeb83d4c14",
   "metadata": {},
   "source": [
    "Let's bring up JupySQL and connect to the database via SQLAlchemy. Please refer to the documentation of <a href=\"https://github.com/exasol/sqlalchemy-exasol\" target=\"_blank\" rel=\"noopener\">sqlalchemy-exasol</a> for details on how to connect to the database using the Exasol SQLAlchemy driver."
   ]
  },
  {
   "cell_type": "code",
   "execution_count": null,
   "id": "fad4e5e2-5674-470f-ac6c-d07885ad2b33",
   "metadata": {},
   "outputs": [],
   "source": [
    "%run ../utils/jupysql_init.ipynb"
   ]
  },
  {
   "cell_type": "markdown",
   "id": "2d088386-edc1-4ddf-a89d-9b329cf54488",
   "metadata": {},
   "source": [
    "## Create tables"
   ]
  },
  {
   "cell_type": "code",
   "execution_count": null,
   "id": "d50e1a26-3fc0-47a1-a56a-9ded22e144ae",
   "metadata": {},
   "outputs": [],
   "source": [
    "%%sql\n",
    "CREATE OR REPLACE TABLE US_FLIGHTS (\n",
    "        FL_DATE DATE,\n",
    "        OP_CARRIER_AIRLINE_ID DECIMAL(10, 0),\n",
    "        ORIGIN_AIRPORT_SEQ_ID DECIMAL(10, 0),\n",
    "        ORIGIN_STATE_ABR CHAR(2),\n",
    "        DEST_AIRPORT_SEQ_ID DECIMAL(10, 0),\n",
    "        DEST_STATE_ABR CHAR(2),\n",
    "        CRS_DEP_TIME CHAR(4),\n",
    "        DEP_DELAY DECIMAL(6, 2),\n",
    "        CRS_ARR_TIME CHAR(4),\n",
    "        ARR_DELAY DECIMAL(6, 2),\n",
    "        CANCELLED BOOLEAN,\n",
    "        CANCELLATION_CODE CHAR(1),\n",
    "        DIVERTED BOOLEAN,\n",
    "        CRS_ELAPSED_TIME DECIMAL(6, 2),\n",
    "        ACTUAL_ELAPSED_TIME DECIMAL(6, 2),\n",
    "        DISTANCE DECIMAL(6, 2),\n",
    "        CARRIER_DELAY DECIMAL(6, 2),\n",
    "        WEATHER_DELAY DECIMAL(6, 2),\n",
    "        NAS_DELAY DECIMAL(6, 2),\n",
    "        SECURITY_DELAY DECIMAL(6, 2),\n",
    "        LATE_AIRCRAFT_DELAY DECIMAL(6, 2)\n",
    ");"
   ]
  },
  {
   "cell_type": "code",
   "execution_count": null,
   "id": "3018f314-3046-4460-94cc-3985e6a7500a",
   "metadata": {},
   "outputs": [],
   "source": [
    "%%sql\n",
    "CREATE OR REPLACE TABLE US_AIRLINES (\n",
    "        OP_CARRIER_AIRLINE_ID DECIMAL(10, 0) IDENTITY PRIMARY KEY,\n",
    "        CARRIER_NAME VARCHAR(1000)\n",
    ");"
   ]
  },
  {
   "cell_type": "markdown",
   "id": "5daf1eeb-7835-4c49-8abf-2b21e381ba9b",
   "metadata": {},
   "source": [
    "## Bring in the UI functions\n",
    "\n",
    "We will need some UI functions that will handle loading the data."
   ]
  },
  {
   "cell_type": "code",
   "execution_count": null,
   "id": "196760d5-4ab7-4386-a7c1-a3adae70f4ac",
   "metadata": {
    "scrolled": true
   },
   "outputs": [],
   "source": [
    "%run utils/flight_utils.ipynb"
   ]
  },
  {
   "cell_type": "markdown",
   "id": "be9d3cfc-df08-4095-804d-fe7153684a24",
   "metadata": {},
   "source": [
    "## Load the data\n",
    "\n",
    "Please select one or more data periods for the flights in the table below. Once the data for the selected periods is loaded the entries will be removed from the table. Please do not load data for the same period more than once.\n",
    "\n",
    "Load the airlines' data (their codes and names). A repeated attempt to load the airlines' data will result in the primary key violation error."
   ]
  },
  {
   "cell_type": "code",
   "execution_count": null,
   "id": "35ce66da-4c13-4af4-8bcf-6cdcfc377b36",
   "metadata": {
    "tags": [
     "data_selection"
    ]
   },
   "outputs": [],
   "source": [
    "display(get_data_selection_ui(ai_lab_config))"
   ]
  },
  {
   "cell_type": "code",
   "execution_count": null,
   "id": "16b44e84-d811-4b10-a9a2-172ff6629e93",
   "metadata": {},
   "outputs": [],
   "source": []
  }
 ],
 "metadata": {
  "kernelspec": {
   "display_name": "Python 3 (ipykernel)",
   "language": "python",
   "name": "python3"
  },
  "language_info": {
   "codemirror_mode": {
    "name": "ipython",
    "version": 3
   },
   "file_extension": ".py",
   "mimetype": "text/x-python",
   "name": "python",
   "nbconvert_exporter": "python",
   "pygments_lexer": "ipython3",
   "version": "3.11.9"
  }
 },
 "nbformat": 4,
 "nbformat_minor": 5
}
