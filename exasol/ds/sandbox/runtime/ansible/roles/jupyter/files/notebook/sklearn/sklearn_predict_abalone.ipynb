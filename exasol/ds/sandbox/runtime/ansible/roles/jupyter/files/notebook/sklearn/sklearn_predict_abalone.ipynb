{
 "cells": [
  {
   "cell_type": "markdown",
   "id": "a81062d6-1ec8-43f6-923a-65b8b73d7655",
   "metadata": {},
   "source": [
    "# Predicting with Regression Model\n",
    "\n",
    "In this notebook, we will use a <a href=\"https://scikit-learn.org/stable/\" target=\"_blank\" rel=\"noopener\">`scikit-learn`</a> model created earlier to predict the age of an abalone from its physical measurements and sex. You can find more information about the problem domain <a href=\"https://archive.ics.uci.edu/dataset/1/abalone\" target=\"_blank\" rel=\"noopener\">here</a>.\n",
    "\n",
    "We will be using a generic prediction UDF script. To execute queries and load data from the Exasol database we will be using the <a href=\"https://github.com/exasol/pyexasol\" target=\"_blank\" rel=\"noopener\">`pyexasol`</a> module.\n",
    "\n",
    "## Prerequisites\n",
    "\n",
    "Prior to using this notebook the following steps need to be completed:\n",
    "1. [Create generic scikit-learn prediction UDF script](sklearn_predict_udf.ipynb).\n",
    "2. [Train a model on the Abalone dataset](sklearn_train_abalone.ipynb).\n",
    "\n",
    "## Setup\n",
    "\n",
    "### Access configuration"
   ]
  },
  {
   "cell_type": "code",
   "execution_count": null,
   "id": "8a5489b1-5471-4dcc-8010-62d7662b3581",
   "metadata": {},
   "outputs": [],
   "source": [
    "%run ../utils/access_store_ui.ipynb\n",
    "display(get_access_store_ui('../'))"
   ]
  },
  {
   "cell_type": "markdown",
   "id": "d0861a8c-17dc-4734-8028-f26c94f61e91",
   "metadata": {},
   "source": [
    "## Run predictions\n",
    "\n",
    "Let's make predictions on the data we have in table `ABALONE_TEST`. This table also includes a column with ground truth labels. We will use it to assess the performance of our predictor. In the code below we will add the ROWID to the output columns (as required by the generic prediction UDF). This will allow us to link the result to the ground truth."
   ]
  },
  {
   "cell_type": "code",
   "execution_count": null,
   "id": "795d44f8-bfb7-49de-9964-53e5d8cf159a",
   "metadata": {},
   "outputs": [],
   "source": [
    "from exasol.connections import open_pyexasol_connection, get_udf_bucket_path\n",
    "from stopwatch import Stopwatch\n",
    "\n",
    "target_column = 'RINGS'\n",
    "bfs_model_path = get_udf_bucket_path(sb_config) + '/abalone_svm_model.pkl'\n",
    "params = {'schema': sb_config.SCHEMA, 'test_table': 'ABALONE_TEST', 'model_path': bfs_model_path}\n",
    "\n",
    "stopwatch = Stopwatch()\n",
    "\n",
    "with open_pyexasol_connection(sb_config, compression=True) as conn:\n",
    "    # Get the list of feature columns\n",
    "    sql = 'SELECT * FROM {schema!q}.{test_table!q} LIMIT 1'\n",
    "    df_tmp = conn.export_to_pandas(query_or_table=sql, query_params=params)\n",
    "    params['column_names'] = [f'[{c}]' for c in df_tmp.columns if c != target_column]\n",
    "\n",
    "    # Get the predictions for all rows in the TEST table calling the prediction UDF.\n",
    "    # Provide the model path and the row ID in the first two parameters.\n",
    "    sql = f'SELECT {{schema!q}}.SKLEARN_PREDICT({{model_path!s}}, ROWID, {{column_names!r}}) ' \\\n",
    "        f'emits ([sample_id] DECIMAL(20,0), [{target_column}] DOUBLE) FROM {{schema!q}}.{{test_table!q}}'\n",
    "    df_pred = conn.export_to_pandas(query_or_table=sql, query_params=params)\n",
    "\n",
    "print(f\"Getting predictions took: {stopwatch}\")\n",
    "df_pred.head()"
   ]
  },
  {
   "cell_type": "markdown",
   "id": "a033fce3-59f7-428b-b71c-1077cfa34670",
   "metadata": {},
   "source": [
    "## Evaluate predictions\n",
    "\n",
    "We are going to check the performance of our predictor by linking the results to the ground truth labels and computing some regression metrics. This should give us similar results to what we have seen in the [training notebook](sklearn_train_abalone.ipynb)."
   ]
  },
  {
   "cell_type": "code",
   "execution_count": null,
   "id": "caa69fda-279e-4357-95f1-da9702982a67",
   "metadata": {},
   "outputs": [],
   "source": [
    "import pandas as pd\n",
    "from sklearn.metrics import explained_variance_score, mean_absolute_error, mean_squared_error\n",
    "import matplotlib.pyplot as plt\n",
    "\n",
    "# Get the ground truth labels for the test set.\n",
    "with open_pyexasol_connection(sb_config, compression=True) as conn:\n",
    "    sql = f'SELECT ROWID AS [sample_id], [{target_column}] FROM {{schema!q}}.{{test_table!q}}'\n",
    "    df_true = conn.export_to_pandas(query_or_table=sql, query_params=params)\n",
    "\n",
    "# Merge predictions and the ground truth on the sample ID.\n",
    "df_res = pd.merge(left=df_true, right=df_pred, on='sample_id', suffixes=['_true', '_pred'])\n",
    "\n",
    "print('Mean absolute error:', mean_absolute_error(df_res[f'{target_column}_true'], df_res[f'{target_column}_pred']))\n",
    "print('Mean squared error:', mean_squared_error(df_res[f'{target_column}_true'], df_res[f'{target_column}_pred']))\n",
    "print('Explained variance:', explained_variance_score(df_res[f'{target_column}_true'], df_res[f'{target_column}_pred']))"
   ]
  },
  {
   "cell_type": "code",
   "execution_count": null,
   "id": "2ee060d2-d4c9-48c8-90b2-a0e9b42d1448",
   "metadata": {},
   "outputs": [],
   "source": []
  }
 ],
 "metadata": {
  "kernelspec": {
   "display_name": "Python 3 (ipykernel)",
   "language": "python",
   "name": "python3"
  },
  "language_info": {
   "codemirror_mode": {
    "name": "ipython",
    "version": 3
   },
   "file_extension": ".py",
   "mimetype": "text/x-python",
   "name": "python",
   "nbconvert_exporter": "python",
   "pygments_lexer": "ipython3",
   "version": "3.8.10"
  }
 },
 "nbformat": 4,
 "nbformat_minor": 5
}
