{
 "cells": [
  {
   "cell_type": "markdown",
   "id": "a467374a-b083-4970-9810-57eb528141fe",
   "metadata": {},
   "source": [
    "# Customize a flavor\n",
    "\n",
    "Sometimes you need very specific dependencies or versions of dependencies in the Exasol UDFs. In such case you can customize a Script-Language Container.\n",
    "You find additional information in the [Exasol official documentation](https://docs.exasol.com/db/latest/database_concepts/udf_scripts/adding_new_packages_script_languages.htm#)."
   ]
  },
  {
   "cell_type": "markdown",
   "id": "b61aa708-9383-4e5b-b072-b50492604f9c",
   "metadata": {},
   "source": [
    "## Setup\n",
    "### Open Secure Configuration Storage"
   ]
  },
  {
   "cell_type": "code",
   "execution_count": null,
   "id": "afd25eb3-a320-4375-8f5c-07ade762f28f",
   "metadata": {},
   "outputs": [],
   "source": [
    "%run ../utils/access_store_ui.ipynb\n",
    "display(get_access_store_ui('../'))"
   ]
  },
  {
   "cell_type": "markdown",
   "id": "8ef77c92-a796-4b02-9747-f711dca9a9b6",
   "metadata": {},
   "source": [
    "### Instantiate SLCT Manager\n",
    "\n",
    "We create an instance of the SlctManager class from the notebook connector. SLCT Manager, which stands for \"Script-Languages-Container-Tools\" Manager. \n",
    "This class has some utility function which simplifies the use of the exaslct API."
   ]
  },
  {
   "cell_type": "code",
   "execution_count": null,
   "id": "20c8c4cc-bc8a-45e8-b9df-b71021fd9476",
   "metadata": {},
   "outputs": [],
   "source": [
    "from exasol.nb_connector import slct_manager\n",
    "slctmanager = slct_manager.SlctManager(ai_lab_config)"
   ]
  },
  {
   "cell_type": "markdown",
   "id": "264f7b58-093a-41db-8f09-c848896a1318",
   "metadata": {},
   "source": [
    "### Import some utility functions"
   ]
  },
  {
   "cell_type": "code",
   "execution_count": null,
   "id": "79e9843d-d436-4f97-b20e-56d2a42afdaa",
   "metadata": {},
   "outputs": [],
   "source": [
    "%run ./utils/file_system_ui.ipynb\n",
    "%run ./utils/slc_ui.ipynb"
   ]
  },
  {
   "attachments": {},
   "cell_type": "markdown",
   "id": "b632c4b5-3bb9-46c1-8c68-009102432a71",
   "metadata": {},
   "source": [
    "## Customize\n",
    "\n",
    "First you need to define an alias for the new script-languages-container. The alias will be used to reference the container later from the UDF's.\n",
    "\n",
    "Note: In this tutorial the alias also will be used as part of the export file (tar.gz) and the uploaded container to the BucketFS. This allows you to create, upload and use different script-language-containers: one per alias."
   ]
  },
  {
   "cell_type": "code",
   "execution_count": null,
   "id": "a88f47d9-7337-45fb-b2d4-08b74bc95f5f",
   "metadata": {},
   "outputs": [],
   "source": [
    "display(get_alias_ui(ai_lab_config, \"my_custom_python\"))"
   ]
  },
  {
   "cell_type": "markdown",
   "id": "410312a2-0976-423a-bdf5-2100a0085528",
   "metadata": {},
   "source": [
    "### Flavor Customization Build Step\n",
    "\n",
    "The **flavor_customization** build step consists of a Dockerfile and several package lists which can be modified. We recommend to use the package lists to add new packages to the flavor and only modify the Dockerfile if you need very specific changes, like adding additional resources."
   ]
  },
  {
   "cell_type": "code",
   "execution_count": null,
   "id": "ed0ad229-06b6-4083-8daa-a23e176b59d4",
   "metadata": {},
   "outputs": [],
   "source": [
    "show_directory_content(slctmanager.slc_dir.flavor_dir / \"flavor_customization\")"
   ]
  },
  {
   "cell_type": "markdown",
   "id": "8b0f6884-8fda-44d1-92a4-ae23040b109c",
   "metadata": {},
   "source": [
    "The Dockerfile consists of two parts. The first part installs the packages from the package list and should only be change with care. The second part is free for your changes. Read the description in the Dockerfile carefully to find out what you can and shouldn't do."
   ]
  },
  {
   "cell_type": "markdown",
   "id": "65cc2597-cb90-494c-af6e-e8a7c51f4130",
   "metadata": {},
   "source": [
    "#### Package Lists\n",
    "The package lists have a unified format. Each line consists of the package name and the package version separated by \"|\", e.g `xgboost|1.3.3`. You can comment out a whole line by adding\"#\" at the beginning. You can also add a trailing comment to a package definition by adding a \"#\" after the package definition. We usually recommend to pin the version, such that there are no surprises for which version gets installed."
   ]
  },
  {
   "cell_type": "code",
   "execution_count": null,
   "id": "e9720186-a4b2-43f3-81d5-3f96adc48e60",
   "metadata": {},
   "outputs": [],
   "source": [
    "show_files([slctmanager.slc_dir.custom_pip_file])"
   ]
  },
  {
   "cell_type": "markdown",
   "id": "be4ac7a0-b7de-4168-b177-9b728f4d9a30",
   "metadata": {},
   "source": [
    "We are now going to append the \"xgboost\" Python package to one of the package lists by adding `xgboost|2.0.3` and `scikit-learn|1.5.0` to the `flavor_customization/packages/python3_pip_packages` file. \n",
    "Notes:\n",
    " - running the following command multiple times will iteratively append the packages\n",
    " - you can also click on the link and modify the file directly"
   ]
  },
  {
   "cell_type": "code",
   "execution_count": null,
   "id": "6b1ebb00-3ba2-4bbc-b923-f9a7d66d5a1f",
   "metadata": {},
   "outputs": [],
   "source": [
    "xgboost_pkg = slct_manager.PipPackageDefinition(pkg=\"xgboost\", version=\"2.0.3\")\n",
    "scikit_learn_pkg = slct_manager.PipPackageDefinition(pkg=\"scikit-learn\", version=\"1.5.0\")\n",
    "slctmanager.append_custom_packages([xgboost_pkg, scikit_learn_pkg])\n",
    "show_files([slctmanager.slc_dir.custom_pip_file])"
   ]
  },
  {
   "cell_type": "markdown",
   "id": "a841d351-2bc3-49c1-89e3-d84c265fbf69",
   "metadata": {},
   "source": [
    "#### Rebuilding the customized Flavor\n",
    "\n",
    "After changing the flavor you need to rebuild it. You can do it by running `export` again. Exaslct automatically recognizes that the flavor has changed and builds a new version of the container."
   ]
  },
  {
   "cell_type": "code",
   "execution_count": null,
   "id": "06e8ee1f-7121-4e78-8a7f-35951bf685df",
   "metadata": {},
   "outputs": [],
   "source": [
    "slctmanager.export()"
   ]
  },
  {
   "cell_type": "markdown",
   "id": "c58b9172-e607-437a-9568-4063a88d446f",
   "metadata": {},
   "source": [
    "Lets check the resulting tar gz file:"
   ]
  },
  {
   "cell_type": "code",
   "execution_count": null,
   "id": "aabe7634-6d47-40c8-a363-4f53bf8702f3",
   "metadata": {},
   "outputs": [],
   "source": [
    "show_directory_content(slctmanager.working_path.export_path)"
   ]
  },
  {
   "cell_type": "markdown",
   "id": "fc792fc1-5591-4449-879e-8c2866e2a21c",
   "metadata": {},
   "source": [
    "#### Upload the Container to the Database\n",
    "To use our container we need to upload it to the BucketFS . If the build machine has access to the BucketFS we can do it with the exaslct upload command, otherwise you need to export the container and transfer it to a machine that has access to the BucketFS and upload it via curl, as described in our documentation.\n",
    "\n",
    "With the following command you upload the new script language container.\n",
    "\n"
   ]
  },
  {
   "cell_type": "code",
   "execution_count": null,
   "id": "4e4f1c13-2d80-4a90-9dad-6883ec92dcfe",
   "metadata": {},
   "outputs": [],
   "source": [
    "slctmanager.upload()"
   ]
  },
  {
   "cell_type": "markdown",
   "id": "679730d4-820c-4547-8098-9885818cb4e8",
   "metadata": {},
   "source": [
    "This command also stores the activation statement in the ai-lab-config. You can verify it with:"
   ]
  },
  {
   "cell_type": "code",
   "execution_count": null,
   "id": "dc2863fc-791c-4035-807b-62abcc705753",
   "metadata": {},
   "outputs": [],
   "source": [
    "slctmanager.activation_key"
   ]
  },
  {
   "cell_type": "markdown",
   "id": "8797d3e3-a43e-4250-a5f0-50fb04aa1514",
   "metadata": {},
   "source": [
    "The syntax is: `alias=url`. The activation key will be used in the `ALTER_SESSION` or `ALTER_SYSTEM` commands to \"register\" the script-language-container for usage in the UDF's."
   ]
  },
  {
   "cell_type": "markdown",
   "id": "15ffe9e0-3598-44bc-b66d-9f4b9104da75",
   "metadata": {},
   "source": [
    "You can now continue [testing the uploaded container](./test_slc.ipynb)."
   ]
  }
 ],
 "metadata": {
  "kernelspec": {
   "display_name": "Python 3 (ipykernel)",
   "language": "python",
   "name": "python3"
  },
  "language_info": {
   "codemirror_mode": {
    "name": "ipython",
    "version": 3
   },
   "file_extension": ".py",
   "mimetype": "text/x-python",
   "name": "python",
   "nbconvert_exporter": "python",
   "pygments_lexer": "ipython3",
   "version": "3.10.12"
  }
 },
 "nbformat": 4,
 "nbformat_minor": 5
}
