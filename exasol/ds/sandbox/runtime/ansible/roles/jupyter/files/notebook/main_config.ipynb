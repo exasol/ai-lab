{
 "cells": [
  {
   "cell_type": "markdown",
   "id": "f54817a6-4e92-4d65-ada7-797905b26efd",
   "metadata": {},
   "source": [
    "# Main Configuration\n",
    "\n",
    "This notebook must be visited first, before we start with the examples, in order to set up the main configuration parameters. These parameters include the location of the Exasol database and access credentials for the database and its BucketFS file system.\n",
    "\n",
    "Once specified the parameters are stored in a local lightweight database. All notebooks including this one access configuration data in this database. The configuration database is encrypted and protected with a password.\n",
    "\n",
    "Before starting working with any notebook in the AI-Lab one needs to connect to the configuration database providing the name of the file where the data is stored and the password. If the file with the specified name doesn't exist a new file will be created and protected with the entered password. However, if the file does exist it will be opened only if the provided password matches the password the file was created with.\n",
    "\n",
    "## Access configuration"
   ]
  },
  {
   "cell_type": "code",
   "execution_count": null,
   "id": "8bdbff36-230c-4b08-b85e-d2cf37e28a40",
   "metadata": {},
   "outputs": [],
   "source": [
    "%run utils/access_store_ui.ipynb\n",
    "display(get_access_store_ui())"
   ]
  },
  {
   "cell_type": "markdown",
   "id": "f859bc51-2ba7-48aa-878e-64ef7a2f2917",
   "metadata": {},
   "source": [
    "## Set up main configuration"
   ]
  },
  {
   "cell_type": "code",
   "execution_count": null,
   "id": "911c6bcc-f357-469f-a862-3f6e246581c4",
   "metadata": {},
   "outputs": [],
   "source": [
    "%run utils/main_config_ui.ipynb\n",
    "display(get_sandbox_config_ui())"
   ]
  },
  {
   "cell_type": "markdown",
   "id": "ad66c1d7-3207-4567-b933-5eb116b18a19",
   "metadata": {},
   "source": [
    "## Create DB schema\n",
    "\n",
    "We will now check if the schema specified in the configuration exists. The SQL statement below will attempt to create the schema if it doesn't already exist. This may fail if the provided credentials do not include sufficient permissions. The other reason for failure would be invalid credentials. In either case please check the credentials with your database administrator.\n",
    "\n",
    "To execute a query on the Exasol database we will be using the pyexasol module."
   ]
  },
  {
   "cell_type": "code",
   "execution_count": null,
   "id": "66c7215f-0101-4ab1-9ce7-67ab039e6fea",
   "metadata": {},
   "outputs": [],
   "source": [
    "from exasol.connections import open_pyexasol_connection\n",
    "from stopwatch import Stopwatch\n",
    "\n",
    "stopwatch = Stopwatch()\n",
    "\n",
    "sql = f'CREATE SCHEMA IF NOT EXISTS \"{sb_config.SCHEMA}\"'\n",
    "with open_pyexasol_connection(sb_config, compression=True) as conn:\n",
    "    conn.execute(query=sql)\n",
    "\n",
    "print(f\"Schema created in {stopwatch}\")"
   ]
  },
  {
   "cell_type": "code",
   "execution_count": null,
   "id": "d18f4f90-3b87-4f69-8e67-6c2e9e37085e",
   "metadata": {},
   "outputs": [],
   "source": []
  }
 ],
 "metadata": {
  "kernelspec": {
   "display_name": "Python 3 (ipykernel)",
   "language": "python",
   "name": "python3"
  },
  "language_info": {
   "codemirror_mode": {
    "name": "ipython",
    "version": 3
   },
   "file_extension": ".py",
   "mimetype": "text/x-python",
   "name": "python",
   "nbconvert_exporter": "python",
   "pygments_lexer": "ipython3",
   "version": "3.8.10"
  }
 },
 "nbformat": 4,
 "nbformat_minor": 5
}
