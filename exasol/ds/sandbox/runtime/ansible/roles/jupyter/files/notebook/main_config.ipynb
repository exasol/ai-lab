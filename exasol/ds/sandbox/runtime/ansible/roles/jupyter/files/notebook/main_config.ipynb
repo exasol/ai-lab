{
 "cells": [
  {
   "cell_type": "markdown",
   "id": "f54817a6-4e92-4d65-ada7-797905b26efd",
   "metadata": {},
   "source": [
    "# Main Configuration\n",
    "\n",
    "This notebook may need to be visited first before we start with the examples. The notebook includes several steps outlined below. Under various conditions, some or all of these steps can be skipped.\n",
    "\n",
    "* Accessing the configuration store.\n",
    "* Choosing the database.\n",
    "* Setting up the main configuration parameters, depending on the choice of the database.\n",
    "* Creating the database schema.\n",
    "\n",
    "The configuration parameters may include the location of the Exasol database, the access credentials for the database, and the parameters of its BucketFS file system.\n",
    "\n",
    "Once specified, the parameters are stored in a local lightweight database. All notebooks, including this one, access configuration data in this database. The configuration database is encrypted and protected with a password.\n",
    "\n",
    "Before starting working with any notebook in the AI-Lab one needs to connect to the configuration database providing the name of the file where the data is stored and the password. If the file with the specified name doesn't exist a new file will be created and protected with the entered password. However, if the file does exist it will be opened only if the provided password matches the password the file was created with.\n",
    "\n",
    "## Access configuration"
   ]
  },
  {
   "cell_type": "code",
   "execution_count": null,
   "id": "8bdbff36-230c-4b08-b85e-d2cf37e28a40",
   "metadata": {},
   "outputs": [],
   "source": [
    "%run utils/access_store_ui.ipynb\n",
    "display(get_access_store_ui())"
   ]
  },
  {
   "cell_type": "markdown",
   "id": "55850367-41bc-4b1c-8058-edc9f3721af6",
   "metadata": {},
   "source": [
    "## Load UI functions\n",
    "\n",
    "Let's import some other UI functions that may be used in this notebook."
   ]
  },
  {
   "cell_type": "code",
   "execution_count": null,
   "id": "76a0e8d0-85d1-471e-8014-aaee984f4029",
   "metadata": {},
   "outputs": [],
   "source": [
    "%run utils/main_config_ui.ipynb"
   ]
  },
  {
   "cell_type": "markdown",
   "id": "c7f23cf7-fc47-44ea-9bec-54665c2856d6",
   "metadata": {},
   "source": [
    "## Choose the database\n",
    "\n",
    "First, we need to choose which database we will work with. The AI-Lab includes a so-called Integration Test Docker Environment (ITDE). This is a single-node database running in a Docker container. It's a good choice of a database for any light-weight experiment designed as a proof of concept.\n",
    "\n",
    "For more practical work one might choose a customer database with real data.\n",
    "\n",
    "The choice of the database is saved in the configuration store. If this step has already been completed there is no need to repeat it unless we want to start using another database."
   ]
  },
  {
   "cell_type": "code",
   "execution_count": null,
   "id": "7f8efa4a-413f-4210-bbc9-76a864581847",
   "metadata": {},
   "outputs": [],
   "source": [
    "display(get_db_selection_ui())"
   ]
  },
  {
   "cell_type": "markdown",
   "id": "f859bc51-2ba7-48aa-878e-64ef7a2f2917",
   "metadata": {},
   "source": [
    "## Set up main configuration\n",
    "\n",
    "Here we are going to set or update one lot of configuration parameters or the other depending on the choice of the database. All configuration parameters are saved in the configuration store. If this step has already been completed there is no need to repeat it unless we want to update some of the parameter values."
   ]
  },
  {
   "cell_type": "code",
   "execution_count": null,
   "id": "911c6bcc-f357-469f-a862-3f6e246581c4",
   "metadata": {},
   "outputs": [],
   "source": [
    "display(get_config_ui())"
   ]
  },
  {
   "cell_type": "markdown",
   "id": "c57ab0bf-8b56-433e-b8a8-55d8bd4ff931",
   "metadata": {},
   "source": [
    "## Start ITDE database\n",
    "\n",
    "If we choose to use the ITDE database we need to launch it after every restart of the AI-Lab. This operation may take a few moments. Please wait till it is completed before proceeding with the next step.\n",
    "\n",
    "For a customer database, this operation will take no effect."
   ]
  },
  {
   "cell_type": "code",
   "execution_count": null,
   "id": "2331884d-dfdd-4d60-ac74-2da565fc636d",
   "metadata": {},
   "outputs": [],
   "source": [
    "display(get_start_itde_ui())"
   ]
  },
  {
   "cell_type": "markdown",
   "id": "ad66c1d7-3207-4567-b933-5eb116b18a19",
   "metadata": {},
   "source": [
    "## Create DB schema\n",
    "\n",
    "We will now check if the schema specified in the configuration exists. The SQL statement below will attempt to create the schema if it doesn't already exist. This may fail if the provided credentials do not include sufficient permissions. The other reason for failure would be invalid credentials. In either case please check the credentials with your database administrator.\n",
    "\n",
    "To execute a query on the Exasol database we will be using the pyexasol module."
   ]
  },
  {
   "cell_type": "code",
   "execution_count": null,
   "id": "66c7215f-0101-4ab1-9ce7-67ab039e6fea",
   "metadata": {},
   "outputs": [],
   "source": [
    "from exasol.connections import open_pyexasol_connection\n",
    "from stopwatch import Stopwatch\n",
    "\n",
    "stopwatch = Stopwatch()\n",
    "\n",
    "sql = f'CREATE SCHEMA IF NOT EXISTS \"{sb_config.SCHEMA}\"'\n",
    "with open_pyexasol_connection(sb_config, compression=True) as conn:\n",
    "    conn.execute(query=sql)\n",
    "\n",
    "print(f\"Schema created in {stopwatch}\")"
   ]
  },
  {
   "cell_type": "code",
   "execution_count": null,
   "id": "8bde4466-fc3c-481f-b880-e4ffabb29656",
   "metadata": {},
   "outputs": [],
   "source": [
    "num_changes"
   ]
  },
  {
   "cell_type": "code",
   "execution_count": null,
   "id": "47d0ace6-8fb7-403e-9fab-b5d55edd9866",
   "metadata": {},
   "outputs": [],
   "source": []
  }
 ],
 "metadata": {
  "kernelspec": {
   "display_name": "Python 3 (ipykernel)",
   "language": "python",
   "name": "python3"
  },
  "language_info": {
   "codemirror_mode": {
    "name": "ipython",
    "version": 3
   },
   "file_extension": ".py",
   "mimetype": "text/x-python",
   "name": "python",
   "nbconvert_exporter": "python",
   "pygments_lexer": "ipython3",
   "version": "3.8.10"
  }
 },
 "nbformat": 4,
 "nbformat_minor": 5
}
