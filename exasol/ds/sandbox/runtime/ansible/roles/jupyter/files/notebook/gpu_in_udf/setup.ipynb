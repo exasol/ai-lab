{
 "cells": [
  {
   "metadata": {},
   "cell_type": "markdown",
   "source": [
    "<div style=\"text-align: right;\">\n",
    "  <img src=\"https://raw.githubusercontent.com/exasol/ai-lab/refs/heads/main/assets/Exasol_Logo_2025_Dark.svg\" style=\"width:200px; margin: 10px;\" />\n",
    "</div>\n",
    "\n",
    "# Setup Script Language Container with GPU Support\n",
    "\n",
    "We will create a custom Script Language Container with GPU support and install two machine learning libraries to it:\n",
    "* `pytorch`\n",
    "* `exasol-transformers-extension`"
   ],
   "id": "943571d97496d02b"
  },
  {
   "metadata": {},
   "cell_type": "markdown",
   "source": "## Open Secure Configuration Storage",
   "id": "1b8185535b68f440"
  },
  {
   "metadata": {},
   "cell_type": "code",
   "outputs": [],
   "execution_count": null,
   "source": [
    "%run ../utils/access_store_ui.ipynb\n",
    "display(get_access_store_ui('../'))"
   ],
   "id": "87f9a3474f31dd1c"
  },
  {
   "metadata": {},
   "cell_type": "markdown",
   "source": "### Check that we don't have a SaaS backend configured",
   "id": "82302316f2f3c3b6"
  },
  {
   "metadata": {},
   "cell_type": "code",
   "outputs": [],
   "execution_count": null,
   "source": [
    "from exasol.nb_connector.ai_lab_config import StorageBackend, AILabConfig\n",
    "if ai_lab_config.get(AILabConfig.storage_backend, ) == StorageBackend.saas.name:\n",
    "    popup_message(f\"This tutorial will not work correctly with a SaaS as backend. You can export the Script-Languages-Container to a local file, but the upload to the database will fail.\")"
   ],
   "id": "243fcbaa761a06d3"
  },
  {
   "metadata": {},
   "cell_type": "markdown",
   "source": [
    "## Preparation\n",
    "Similar to the [Script Languages Container tutorial](../script_languages_container/using_the_script_languages_container_tool.ipynb), we instantiate the class `ScriptLanguagesContainer`. Exasol provides a special flavor for CUDA enabled Script Language Container: `template-Exasol-8-python-3.10-cuda-conda`. This flavor already brings basic packages (e.g. CUDA) and configurations which are necessary to use GPU's in UDF's.\n"
   ],
   "id": "32940312a78ab6b9"
  },
  {
   "metadata": {},
   "cell_type": "code",
   "outputs": [],
   "execution_count": null,
   "source": [
    "from exasol.nb_connector.slc import ScriptLanguageContainer\n",
    "flavor = \"template-Exasol-8-python-3.10-cuda-conda\"\n",
    "slc = ScriptLanguageContainer.create(secrets=ai_lab_config, name=\"gpu_slc\", flavor=flavor)\n",
    "print(f\"{slc.name} is ready.\")"
   ],
   "id": "1f17a8b3bb61f308"
  },
  {
   "metadata": {},
   "cell_type": "markdown",
   "source": [
    "### Add ML Libraries\n",
    "In this example we use the [pytorch](https://anaconda.org/conda-forge/pytorch) Conda package to create a basic UDF and check if the GPU is available. We specify explictily to use the CUDA 12.9 version of `pytorch`, the same CUDA version which is already installed in `template-Exasol-8-python-3.10-cuda-conda`. Also, we add Exasol's `exasol-transformers-extension` package which will be used in the more advanced example."
   ],
   "id": "ff24405dccb541f5"
  },
  {
   "metadata": {},
   "cell_type": "code",
   "outputs": [],
   "execution_count": null,
   "source": [
    "from exasol.nb_connector.slc import CondaPackageDefinition, PipPackageDefinition\n",
    "pytorch_pkg = CondaPackageDefinition(pkg=\"pytorch\", version=\"2.7.1=cuda129_mkl_py310_hecdad2d_304\")\n",
    "slc.append_custom_conda_packages([pytorch_pkg])\n",
    "te_pkg = PipPackageDefinition(pkg=\"exasol-transformers-extension\", version=\"2.2.1\")\n",
    "test_pkg = PipPackageDefinition(pkg=\"#test\", version=\"2.2.1\")\n",
    "slc.append_custom_pip_packages([te_pkg, test_pkg])\n"
   ],
   "id": "ff2736e8bcd8202d"
  },
  {
   "metadata": {},
   "cell_type": "markdown",
   "source": [
    "### Export the Container to a File\n",
    "We can now build and export the new Script Language Container to a tar.gz file. As the file gets quite large, we do not want to copy the file to an export path. The internal file is enough for this tutorial. The class `ScriptLanguageContainer` offers the method `export_no_copy` for this use case. **Note:** this step might take very long (>1h)."
   ],
   "id": "5dd47059ddcc1e06"
  },
  {
   "metadata": {},
   "cell_type": "code",
   "outputs": [],
   "execution_count": null,
   "source": [
    "slc.export_no_copy()\n",
    "print(\"Ready\")"
   ],
   "id": "6326d6dffae5df35"
  },
  {
   "metadata": {},
   "cell_type": "markdown",
   "source": [
    "### Deploy the Container to the Database\n",
    "Now we are ready to deploy the new Script Language Container to the database. **Note:** this step might also take very long..."
   ],
   "id": "2a5140c8d4caab2c"
  },
  {
   "metadata": {},
   "cell_type": "code",
   "source": [
    "slc.deploy()\n",
    "print(\"Ready\")"
   ],
   "id": "cde832079eb5b8b1",
   "outputs": [],
   "execution_count": null
  },
  {
   "metadata": {},
   "cell_type": "markdown",
   "source": [
    "### Finish\n",
    "Now you can continue with [Basic UDF with GPU support](./basic_udf_with_gpu.ipynb)"
   ],
   "id": "768ce8b5835f96b9"
  }
 ],
 "metadata": {
  "kernelspec": {
   "display_name": "Python 3",
   "language": "python",
   "name": "python3"
  },
  "language_info": {
   "codemirror_mode": {
    "name": "ipython",
    "version": 2
   },
   "file_extension": ".py",
   "mimetype": "text/x-python",
   "name": "python",
   "nbconvert_exporter": "python",
   "pygments_lexer": "ipython2",
   "version": "2.7.6"
  }
 },
 "nbformat": 4,
 "nbformat_minor": 5
}
