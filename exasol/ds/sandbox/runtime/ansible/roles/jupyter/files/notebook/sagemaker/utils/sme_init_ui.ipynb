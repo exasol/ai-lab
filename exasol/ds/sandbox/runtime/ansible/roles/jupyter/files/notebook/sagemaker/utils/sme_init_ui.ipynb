{
 "cells": [
  {
   "cell_type": "markdown",
   "id": "08f75a9a-f769-4703-a950-9832a4ca55b6",
   "metadata": {},
   "source": [
    "# AWS Credentials UI\n",
    "\n",
    "<b>This notebook is not supposed to be used on its own.<b>"
   ]
  },
  {
   "cell_type": "code",
   "execution_count": null,
   "id": "6f259f07-a801-415e-904f-de9a0589aeb7",
   "metadata": {},
   "outputs": [],
   "source": [
    "from exasol.utils import upward_file_search\n",
    "\n",
    "# This NB may be running from various locations in the NB hierarchy.\n",
    "# Need to search for other supporting NBs from the current directory upwards.\n",
    "\n",
    "%run {upward_file_search('utils/generic_config_ui.ipynb')}"
   ]
  },
  {
   "cell_type": "code",
   "execution_count": null,
   "id": "af3d13c6-e8cc-4f3c-8f01-f9622223503e",
   "metadata": {},
   "outputs": [],
   "source": [
    "from enum import Enum\n",
    "import ipywidgets as widgets\n",
    "\n",
    "\n",
    "class ExasolAWSConfig(Enum):\n",
    "    # AWS access credentials\n",
    "    key_id = 'AWS_ACCESS_KEY_ID'\n",
    "    secret_key = 'AWS_SECRET_ACCESS_KEY'\n",
    "    region = 'AWS_REGION'\n",
    "    role = 'AWS_ROLE'\n",
    "    # S3 bucket, which must exist\n",
    "    bucket = 'AWS_BUCKET'\n",
    "\n",
    "\n",
    "def get_sme_config_ui() -> widgets.Widget:\n",
    "\n",
    "    Cfg = ExasolAWSConfig\n",
    "    inputs = [\n",
    "        ('Access Key ID', widgets.Password(value=sb_config.get(Cfg.key_id.value)), Cfg.key_id.value),\n",
    "        ('Secret Access Key', widgets.Password(value=sb_config.get(Cfg.secret_key.value)), Cfg.secret_key.value),\n",
    "        ('Region', widgets.Text(value=sb_config.get(Cfg.region.value)), Cfg.region.value),\n",
    "        ('Role', widgets.Text(value=sb_config.get(Cfg.role.value)), Cfg.role.value),\n",
    "        ('S3 Bucket', widgets.Text(value=sb_config.get(Cfg.bucket.value)), Cfg.bucket.value),\n",
    "    ]\n",
    "\n",
    "    return get_generic_config_ui(sb_config, [inputs], ['AWS Access Parameters'])\n"
   ]
  }
 ],
 "metadata": {
  "kernelspec": {
   "display_name": "Python 3 (ipykernel)",
   "language": "python",
   "name": "python3"
  },
  "language_info": {
   "codemirror_mode": {
    "name": "ipython",
    "version": 3
   },
   "file_extension": ".py",
   "mimetype": "text/x-python",
   "name": "python",
   "nbconvert_exporter": "python",
   "pygments_lexer": "ipython3",
   "version": "3.8.10"
  }
 },
 "nbformat": 4,
 "nbformat_minor": 5
}
