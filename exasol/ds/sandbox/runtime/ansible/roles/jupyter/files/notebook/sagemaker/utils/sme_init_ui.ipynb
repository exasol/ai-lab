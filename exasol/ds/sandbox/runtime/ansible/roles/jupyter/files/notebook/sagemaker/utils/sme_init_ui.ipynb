{
 "cells": [
  {
   "cell_type": "markdown",
   "id": "08f75a9a-f769-4703-a950-9832a4ca55b6",
   "metadata": {},
   "source": [
    "# AWS Credentials UI\n",
    "\n",
    "<b>This notebook is not supposed to be used on its own.<b>"
   ]
  },
  {
   "cell_type": "code",
   "execution_count": null,
   "id": "6f259f07-a801-415e-904f-de9a0589aeb7",
   "metadata": {},
   "outputs": [],
   "source": [
    "from exasol.utils import upward_file_search\n",
    "\n",
    "# This NB may be running from various locations in the NB hierarchy.\n",
    "# Need to search for the styles NB from the current directory upwards.\n",
    "\n",
    "%run {upward_file_search('utils/sandbox_ui_styles.ipynb')}"
   ]
  },
  {
   "cell_type": "code",
   "execution_count": null,
   "id": "af3d13c6-e8cc-4f3c-8f01-f9622223503e",
   "metadata": {},
   "outputs": [],
   "source": [
    "from enum import Enum\n",
    "    \n",
    "class ExasolAWSConfig(Enum):\n",
    "    # AWS access credentials\n",
    "    key_id = 'AWS_ACCESS_KEY_ID'\n",
    "    secret_key = 'AWS_SECRET_ACCESS_KEY'\n",
    "    region = 'AWS_REGION'\n",
    "    role = 'AWS_ROLE'\n",
    "    # S3 bucket, which must exist\n",
    "    bucket = 'AWS_BUCKET'\n",
    "\n",
    "def get_sme_config_ui():\n",
    "\n",
    "    import ipywidgets as widgets\n",
    "\n",
    "    ui_look = get_config_styles()\n",
    "\n",
    "    Cfg = ExasolAWSConfig\n",
    "    inputs = [\n",
    "        ('Access Key ID', widgets.Password(value=sb_config.get(Cfg.key_id.value)), Cfg.key_id),\n",
    "        ('Secret Access Key', widgets.Password(value=sb_config.get(Cfg.secret_key.value)), Cfg.secret_key),\n",
    "        ('Region', widgets.Text(value=sb_config.get(Cfg.region.value)), Cfg.region),\n",
    "        ('Role', widgets.Text(value=sb_config.get(Cfg.role.value)), Cfg.role),\n",
    "        ('S3 Bucket', widgets.Text(value=sb_config.get(Cfg.bucket.value)), Cfg.bucket),\n",
    "    ]\n",
    "\n",
    "    header_lbl = widgets.Label(value='AWS Access Parameters', style=ui_look.header_style, layout=ui_look.header_layout)\n",
    "    save_btn = widgets.Button(description='Save', style=ui_look.button_style, layout=ui_look.button_layout)\n",
    "\n",
    "    def save_configuration(btn):\n",
    "        for row in inputs:\n",
    "            _, widget, key = row\n",
    "            sb_config.save(key.value, widget.value)\n",
    "        save_btn.icon = 'check'\n",
    "\n",
    "    save_btn.on_click(save_configuration)\n",
    "\n",
    "    # Apply the styles and layouts\n",
    "    for row in inputs:\n",
    "        widget = row[1]\n",
    "        widget.style = ui_look.input_style\n",
    "        widget.layout = ui_look.input_layout\n",
    "    group_items = [header_lbl]\n",
    "    for row in inputs:\n",
    "        group_items.append(widgets.Box([widgets.Label(value=row[0], style=ui_look.label_style, layout=ui_look.label_layout), \n",
    "                                        row[1]], layout=ui_look.row_layout))\n",
    "    items = [widgets.Box(group_items, layout=ui_look.group_layout), save_btn]\n",
    "    ui = widgets.Box(items, layout=ui_look.outer_layout)\n",
    "    return ui"
   ]
  }
 ],
 "metadata": {
  "kernelspec": {
   "display_name": "Python 3 (ipykernel)",
   "language": "python",
   "name": "python3"
  },
  "language_info": {
   "codemirror_mode": {
    "name": "ipython",
    "version": 3
   },
   "file_extension": ".py",
   "mimetype": "text/x-python",
   "name": "python",
   "nbconvert_exporter": "python",
   "pygments_lexer": "ipython3",
   "version": "3.8.10"
  }
 },
 "nbformat": 4,
 "nbformat_minor": 5
}
