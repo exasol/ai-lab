{
 "cells": [
  {
   "cell_type": "markdown",
   "id": "08f75a9a-f769-4703-a950-9832a4ca55b6",
   "metadata": {},
   "source": [
    "# AWS Credentials UI\n",
    "\n",
    "<b>This notebook is not supposed to be used on its own.<b>"
   ]
  },
  {
   "cell_type": "code",
   "execution_count": null,
   "id": "6f259f07-a801-415e-904f-de9a0589aeb7",
   "metadata": {},
   "outputs": [],
   "source": [
    "from exasol.nb_connector.utils import upward_file_search\n",
    "\n",
    "# This NB may be running from various locations in the NB hierarchy.\n",
    "# Need to search for other supporting NBs from the current directory upwards.\n",
    "\n",
    "%run {upward_file_search('utils/generic_config_ui.ipynb')}"
   ]
  },
  {
   "cell_type": "code",
   "execution_count": null,
   "id": "af3d13c6-e8cc-4f3c-8f01-f9622223503e",
   "metadata": {},
   "outputs": [],
   "source": [
    "from enum import Enum\n",
    "import ipywidgets as widgets\n",
    "\n",
    "from exasol.nb_connector.secret_store import Secrets\n",
    "from exasol.nb_connector.ai_lab_config import AILabConfig as CKey\n",
    "\n",
    "\n",
    "def get_sme_config_ui(conf: Secrets) -> widgets.Widget:\n",
    "\n",
    "    inputs = [\n",
    "        ('Access Key ID', widgets.Password(value=conf.get(CKey.aws_access_key_id)), CKey.aws_access_key_id),\n",
    "        ('Secret Access Key', widgets.Password(value=conf.get(CKey.aws_secret_access_key)), CKey.aws_secret_access_key),\n",
    "        ('Region', widgets.Text(value=conf.get(CKey.aws_region)), CKey.aws_region),\n",
    "        ('Sagemaker AWS Role', widgets.Text(value=conf.get(CKey.sme_aws_role)), CKey.sme_aws_role),\n",
    "        ('Sagemaker S3 Bucket', widgets.Text(value=conf.get(CKey.sme_aws_bucket)), CKey.sme_aws_bucket),\n",
    "    ]\n",
    "\n",
    "    return get_generic_config_ui(conf, [inputs], ['Set AWS Credentials'])\n"
   ]
  }
 ],
 "metadata": {
  "kernelspec": {
   "display_name": "Python 3 (ipykernel)",
   "language": "python",
   "name": "python3"
  },
  "language_info": {
   "codemirror_mode": {
    "name": "ipython",
    "version": 3
   },
   "file_extension": ".py",
   "mimetype": "text/x-python",
   "name": "python",
   "nbconvert_exporter": "python",
   "pygments_lexer": "ipython3",
   "version": "3.8.10"
  }
 },
 "nbformat": 4,
 "nbformat_minor": 5
}
