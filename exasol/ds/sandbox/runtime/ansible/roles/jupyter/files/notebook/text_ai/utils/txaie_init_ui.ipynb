{
 "cells": [
  {
   "cell_type": "markdown",
   "id": "0a120330-9d4b-4839-a212-ba1a6409e96f",
   "metadata": {},
   "source": [
    "# Pre-release access UI\n",
    "\n",
    "<b>This notebook is not supposed to be used on its own.<b>"
   ]
  },
  {
   "cell_type": "code",
   "execution_count": null,
   "id": "5b1e7bec-5f87-4a93-abf7-0aad0b5695fa",
   "metadata": {},
   "outputs": [],
   "source": [
    "from exasol.nb_connector.utils import upward_file_search\n",
    "\n",
    "# This NB may be running from various locations in the NB hierarchy.\n",
    "# Need to search for other supporting NBs from the current directory upwards.\n",
    "\n",
    "%run {upward_file_search('utils/generic_config_ui.ipynb')}"
   ]
  },
  {
   "cell_type": "code",
   "execution_count": null,
   "id": "d3d5bc13-e05e-4e74-b3f5-dc2c43108404",
   "metadata": {},
   "outputs": [],
   "source": [
    "from enum import Enum\n",
    "import ipywidgets as widgets\n",
    "\n",
    "from exasol.nb_connector.secret_store import Secrets\n",
    "from exasol.nb_connector.ai_lab_config import AILabConfig as CKey\n",
    "\n",
    "\n",
    "def get_txaie_pre_release_ui(conf: Secrets) -> widgets.Widget:\n",
    "\n",
    "    inputs = [\n",
    "        ('Pre-release URL', widgets.Text(value=conf.get(CKey.text_ai_pre_release_url)), CKey.text_ai_pre_release_url),\n",
    "        ('Zip Password', widgets.Password(value=conf.get(CKey.text_ai_zip_password)), CKey.text_ai_zip_password),\n",
    "    ]\n",
    "\n",
    "    return get_generic_config_ui(conf, [inputs], ['Pre-release Access'])"
   ]
  },
  {
   "cell_type": "code",
   "execution_count": null,
   "id": "305db4e6-c629-405b-97ae-b733cc1c00ae",
   "metadata": {},
   "outputs": [],
   "source": [
    "def get_txaie_SLC_name_ui(conf: Secrets) -> widgets.Widget:#todo do we want to use a specific language alias var instead\n",
    "    inputs = [\n",
    "        ('Language Alias', widgets.Text(value=conf.get(CKey.language_alias)), CKey.language_alias),\n",
    "    ]\n",
    "\n",
    "    return get_generic_config_ui(conf, [inputs], ['Language Alias'])"
   ]
  }
 ],
 "metadata": {
  "kernelspec": {
   "display_name": "Python 3 (ipykernel)",
   "language": "python",
   "name": "python3"
  },
  "language_info": {
   "codemirror_mode": {
    "name": "ipython",
    "version": 3
   },
   "file_extension": ".py",
   "mimetype": "text/x-python",
   "name": "python",
   "nbconvert_exporter": "python",
   "pygments_lexer": "ipython3",
   "version": "3.10.12"
  }
 },
 "nbformat": 4,
 "nbformat_minor": 5
}
