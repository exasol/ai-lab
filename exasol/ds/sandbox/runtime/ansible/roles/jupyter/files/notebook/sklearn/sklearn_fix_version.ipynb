{
 "cells": [
  {
   "cell_type": "markdown",
   "id": "289d2a8c-953d-46e5-8c73-ad810c29b20f",
   "metadata": {},
   "source": [
    "# Fix the Version of Python Library Scikit-learn\n",
    "\n",
    "This notebook ensures the AI-Lab using the same version of python library `scikit-learn` as the one used by the <a href=\"https://docs.exasol.com/db/latest/database_concepts/udf_scripts/adding_new_packages_script_languages.htm\" target=\"_blank\" rel=\"noopener\">Script Language Container (SLC)</a> inside Exasol database.\n",
    "\n",
    "## Rationale\n",
    "\n",
    "Using identical versions is required when transferring the sklearn model from the AI-Lab to the database SLC.\n",
    "\n",
    "The AI-Lab serializes the sklearn model and uploads it into the database SLC. The SLC can only _deserialize_ the model if using the same version of the `scikit-learn` library. The specific version of the library used by the SLC depends on the release version of the database and cannot be controlled by the AI-Lab. Claiming to be intelligent, the AI-Lab adapts its own version of the library if required.\n",
    "\n",
    "## Open Secure Configuration Storage"
   ]
  },
  {
   "cell_type": "code",
   "execution_count": 23,
   "id": "d86ca808-044e-4fbd-be30-5ba8324f501e",
   "metadata": {},
   "outputs": [
    {
     "data": {
      "application/vnd.jupyter.widget-view+json": {
       "model_id": "20a8ba8e6ff34e9ebe5f9f452191da56",
       "version_major": 2,
       "version_minor": 0
      },
      "text/plain": [
       "Output()"
      ]
     },
     "metadata": {},
     "output_type": "display_data"
    },
    {
     "data": {
      "application/vnd.jupyter.widget-view+json": {
       "model_id": "2e99e294d01244d68fb6e66812674c7b",
       "version_major": 2,
       "version_minor": 0
      },
      "text/plain": [
       "Box(children=(Box(children=(Label(value='Configuration Store', layout=Layout(border_bottom='solid 1px', border…"
      ]
     },
     "metadata": {},
     "output_type": "display_data"
    }
   ],
   "source": [
    "%run ../utils/access_store_ui.ipynb\n",
    "display(get_access_store_ui('../'))"
   ]
  },
  {
   "cell_type": "markdown",
   "id": "055ed302-69aa-426c-b5ec-861c63b82d33",
   "metadata": {},
   "source": [
    "## Detect Versions and Update Installation if Required"
   ]
  },
  {
   "cell_type": "code",
   "execution_count": 31,
   "id": "fa6c628f-853e-4850-8bab-46f7f645856e",
   "metadata": {},
   "outputs": [
    {
     "name": "stdout",
     "output_type": "stream",
     "text": [
      "AI-Lab scikit-learn version 1.0.2 differs from SLC.\n",
      "Installing version 1.4.2 ...\n",
      "Collecting scikit_learn==1.4.2\n",
      "  Downloading scikit_learn-1.4.2-cp310-cp310-manylinux_2_17_x86_64.manylinux2014_x86_64.whl.metadata (11 kB)\n",
      "Requirement already satisfied: numpy>=1.19.5 in /home/jupyter/jupyterenv/lib/python3.10/site-packages (from scikit_learn==1.4.2) (1.26.4)\n",
      "Requirement already satisfied: scipy>=1.6.0 in /home/jupyter/jupyterenv/lib/python3.10/site-packages (from scikit_learn==1.4.2) (1.14.0)\n",
      "Requirement already satisfied: joblib>=1.2.0 in /home/jupyter/jupyterenv/lib/python3.10/site-packages (from scikit_learn==1.4.2) (1.4.2)\n",
      "Requirement already satisfied: threadpoolctl>=2.0.0 in /home/jupyter/jupyterenv/lib/python3.10/site-packages (from scikit_learn==1.4.2) (3.5.0)\n",
      "Downloading scikit_learn-1.4.2-cp310-cp310-manylinux_2_17_x86_64.manylinux2014_x86_64.whl (12.1 MB)\n",
      "\u001b[2K   \u001b[90m━━━━━━━━━━━━━━━━━━━━━━━━━━━━━━━━━━━━━━━━\u001b[0m \u001b[32m12.1/12.1 MB\u001b[0m \u001b[31m6.5 MB/s\u001b[0m eta \u001b[36m0:00:00\u001b[0ma \u001b[36m0:00:01\u001b[0m\n",
      "\u001b[?25hInstalling collected packages: scikit_learn\n",
      "  Attempting uninstall: scikit_learn\n",
      "    Found existing installation: scikit-learn 1.0.2\n",
      "    Uninstalling scikit-learn-1.0.2:\n",
      "      Successfully uninstalled scikit-learn-1.0.2\n",
      "Successfully installed scikit_learn-1.4.2\n",
      "Note: you may need to restart the kernel to use updated packages.\n"
     ]
    }
   ],
   "source": [
    "import textwrap\n",
    "import sklearn\n",
    "from exasol.nb_connector.connections import open_pyexasol_connection\n",
    "\n",
    "# Create script to test the model\n",
    "sql = textwrap.dedent(\"\"\"\n",
    "CREATE OR REPLACE PYTHON3 SCALAR SCRIPT {schema!q}.detect_skikit_learn_version() RETURNS VARCHAR(100) AS\n",
    "import sklearn\n",
    "def run(ctx):\n",
    "    return sklearn.__version__ \n",
    "/\n",
    "\"\"\")\n",
    "\n",
    "with open_pyexasol_connection(ai_lab_config, compression=True) as conn:\n",
    "    query_params={'schema': ai_lab_config.db_schema}\n",
    "    conn.execute(sql, query_params)\n",
    "    result = conn.execute(\"select {schema!q}.detect_skikit_learn_version()\", query_params).fetchone()\n",
    "    slc_version = result[0]\n",
    "\n",
    "# slc_version = \"1.4.2\"\n",
    "\n",
    "my_version = sklearn.__version__\n",
    "\n",
    "if slc_version == my_version:\n",
    "    print(f\"AI-Lab scikit-learn version {my_version} is identical to that of the SLC.\\nNothing to do.\")\n",
    "else:\n",
    "    print(f\"AI-Lab scikit-learn version {my_version} differs from SLC.\\nInstalling version {slc_version} ...\")\n",
    "    %pip install \"scikit_learn=={slc_version}\"\n",
    "    # print(f'%pip install f\"scikit_learn=={slc_version}\"')\n",
    "    # %pip show scikit_learn"
   ]
  },
  {
   "cell_type": "code",
   "execution_count": null,
   "id": "33a2b545-c7fb-43a3-9113-ac3fe04eb68f",
   "metadata": {},
   "outputs": [],
   "source": []
  }
 ],
 "metadata": {
  "kernelspec": {
   "display_name": "Python 3 (ipykernel)",
   "language": "python",
   "name": "python3"
  },
  "language_info": {
   "codemirror_mode": {
    "name": "ipython",
    "version": 3
   },
   "file_extension": ".py",
   "mimetype": "text/x-python",
   "name": "python",
   "nbconvert_exporter": "python",
   "pygments_lexer": "ipython3",
   "version": "3.10.12"
  }
 },
 "nbformat": 4,
 "nbformat_minor": 5
}
