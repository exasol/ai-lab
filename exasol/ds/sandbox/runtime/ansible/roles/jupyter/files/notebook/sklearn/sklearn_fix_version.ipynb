{
 "cells": [
  {
   "cell_type": "markdown",
   "id": "289d2a8c-953d-46e5-8c73-ad810c29b20f",
   "metadata": {},
   "source": [
    "# Fix Sklearn Version\n",
    "\n",
    "This notebook ensures the AI-Lab using the same version of python library `scikit-learn` as the one used by the <a href=\"https://docs.exasol.com/db/latest/database_concepts/udf_scripts/adding_new_packages_script_languages.htm\" target=\"_blank\" rel=\"noopener\">Script Language Container (SLC)</a> inside Exasol database.\n",
    "\n",
    "## Rationale\n",
    "\n",
    "Using identical versions is required when transferring the sklearn model from the AI-Lab to the database SLC.\n",
    "\n",
    "The AI-Lab serializes the sklearn model and uploads it into the database SLC. The SLC can only _deserialize_ the model if using the same version of the `scikit-learn` library. The specific version of the library used by the SLC depends on the release version of the database and cannot be controlled by the AI-Lab. Claiming to be intelligent, the AI-Lab adapts its own version of the library if required.\n",
    "\n",
    "## Detect the Version of Library `scikit-learn` Inside the SLC and Replace Installed Version if Required"
   ]
  },
  {
   "cell_type": "code",
   "execution_count": 5,
   "id": "fa6c628f-853e-4850-8bab-46f7f645856e",
   "metadata": {},
   "outputs": [],
   "source": [
    "#--/\n",
    "#CREATE OR REPLACE PYTHON3 SCALAR SCRIPT detect_skikit_learn_version() RETURNS VARCHAR(100) AS\n",
    "#import sklearn\n",
    "#def run(ctx):\n",
    "#    return sklearn.__version__ \n",
    "#/\n",
    "\n",
    "#select detect_skikit_learn_version();\n",
    "\n",
    "# python -c \"import sklearn; print(sklearn.__version__)\"\n",
    "# %pip install \"scikit_learn==1.4.2\""
   ]
  },
  {
   "cell_type": "markdown",
   "id": "34edb448-40b9-4e6a-9d32-4a499334c467",
   "metadata": {},
   "source": [
    "Now we are ready to use this model in our SQL queries. This will be demonstrated in the [following notebook](sklearn_predict_abalone.ipynb)."
   ]
  }
 ],
 "metadata": {
  "kernelspec": {
   "display_name": "Python 3 (ipykernel)",
   "language": "python",
   "name": "python3"
  },
  "language_info": {
   "codemirror_mode": {
    "name": "ipython",
    "version": 3
   },
   "file_extension": ".py",
   "mimetype": "text/x-python",
   "name": "python",
   "nbconvert_exporter": "python",
   "pygments_lexer": "ipython3",
   "version": "3.10.12"
  }
 },
 "nbformat": 4,
 "nbformat_minor": 5
}
