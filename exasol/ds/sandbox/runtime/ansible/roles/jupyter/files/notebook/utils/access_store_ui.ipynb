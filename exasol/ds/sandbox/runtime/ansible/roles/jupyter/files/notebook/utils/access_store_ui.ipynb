{
 "cells": [
  {
   "cell_type": "markdown",
   "id": "60a822de-01a8-484f-8810-a5126384a393",
   "metadata": {},
   "source": [
    "# Configuration Access\n",
    "\n",
    "<b>This notebook is not supposed to be used on its own.<b>"
   ]
  },
  {
   "cell_type": "code",
   "execution_count": 1,
   "id": "74f55112-92dc-4a54-ac1a-b068fadfbcc7",
   "metadata": {},
   "outputs": [],
   "source": [
    "from exasol.utils import upward_file_search\n",
    "\n",
    "# This NB may be running from various locations in the NB hierarchy.\n",
    "# Need to search for the styles NB from the current directory upwards.\n",
    "\n",
    "%run {upward_file_search('utils/ui_styles.ipynb')}"
   ]
  },
  {
   "cell_type": "code",
   "execution_count": null,
   "id": "e542d21f-e082-494a-b00a-661abcc5bd12",
   "metadata": {},
   "outputs": [],
   "source": [
    "def get_access_store_ui(root_dir: str = '.'):\n",
    "    \n",
    "    from enum import Enum\n",
    "    from pathlib import Path\n",
    "    import ipywidgets as widgets\n",
    "    from IPython.display import Javascript, display, clear_output\n",
    "    from exasol.secret_store import Secrets\n",
    "    \n",
    "    # Try to find the file name in the shared store.\n",
    "    # Create a global variable only temporarily.\n",
    "    %store -r\n",
    "    if 'sb_store_file' in globals():\n",
    "        global sb_store_file\n",
    "        sb_store_file_ = sb_store_file\n",
    "        del sb_store_file\n",
    "    else:\n",
    "        sb_store_file_ = 'dss_config.sqlite'\n",
    "\n",
    "    ui_look = get_config_styles()\n",
    "\n",
    "    header_lbl = widgets.Label(value='Configuration Store', style=ui_look.header_style, layout=ui_look.header_layout)\n",
    "    file_lbl = widgets.Label(value='File Path', style=ui_look.label_style, layout=ui_look.label_layout)\n",
    "    password_lbl = widgets.Label(value='Password', style=ui_look.label_style, layout=ui_look.label_layout)\n",
    "    file_txt = widgets.Text(value=sb_store_file_, style=ui_look.input_style, layout=ui_look.input_layout)\n",
    "    password_txt = widgets.Password(style=ui_look.input_style, layout=ui_look.input_layout)\n",
    "    open_btn = widgets.Button(description='Open', style=ui_look.button_style, layout=ui_look.button_layout)\n",
    "\n",
    "    # Prepare to display an error message\n",
    "    notify_output = widgets.Output()\n",
    "    display(notify_output)\n",
    "\n",
    "    @notify_output.capture()\n",
    "    def popup_message(message):\n",
    "        clear_output()\n",
    "        display(Javascript(f\"alert('{message}')\"))\n",
    "\n",
    "    def open_or_create_config_store(btn):\n",
    "        global sb_config, sb_store_file\n",
    "        sb_store_file = file_txt.value\n",
    "        try:\n",
    "            sb_config = Secrets(Path(root_dir) / sb_store_file, password_txt.value)\n",
    "            sb_config.connection()\n",
    "        except:\n",
    "            popup_message('Failed to open the store. Please check that the password is correct')\n",
    "        else:\n",
    "            open_btn.icon = 'check'\n",
    "        finally:\n",
    "            # Save the file in the shared store.\n",
    "            %store sb_store_file\n",
    "            del sb_store_file\n",
    "    \n",
    "    open_btn.on_click(open_or_create_config_store)\n",
    "\n",
    "    group_items = [\n",
    "        header_lbl,\n",
    "        widgets.Box([file_lbl, file_txt], layout=ui_look.row_layout),\n",
    "        widgets.Box([password_lbl, password_txt], layout=ui_look.row_layout)\n",
    "    ]\n",
    "    items = [widgets.Box(group_items, layout=ui_look.group_layout), open_btn]\n",
    "    ui = widgets.Box(items, layout=ui_look.outer_layout)\n",
    "    return ui"
   ]
  }
 ],
 "metadata": {
  "kernelspec": {
   "display_name": "Python 3 (ipykernel)",
   "language": "python",
   "name": "python3"
  },
  "language_info": {
   "codemirror_mode": {
    "name": "ipython",
    "version": 3
   },
   "file_extension": ".py",
   "mimetype": "text/x-python",
   "name": "python",
   "nbconvert_exporter": "python",
   "pygments_lexer": "ipython3",
   "version": "3.8.10"
  }
 },
 "nbformat": 4,
 "nbformat_minor": 5
}
