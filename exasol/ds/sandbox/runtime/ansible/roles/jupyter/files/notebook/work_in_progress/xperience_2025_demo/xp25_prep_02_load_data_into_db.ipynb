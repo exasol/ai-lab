{
 "cells": [
  {
   "cell_type": "code",
   "execution_count": 2,
   "id": "636c1313-1ca1-464a-a460-2bc7d4397501",
   "metadata": {},
   "outputs": [
    {
     "data": {
      "application/vnd.jupyter.widget-view+json": {
       "model_id": "d517f7cd8e084c42830f80dc6e08557c",
       "version_major": 2,
       "version_minor": 0
      },
      "text/plain": [
       "Output()"
      ]
     },
     "metadata": {},
     "output_type": "display_data"
    },
    {
     "data": {
      "application/vnd.jupyter.widget-view+json": {
       "model_id": "44c1a3a290164d1999a357c50e9dc424",
       "version_major": 2,
       "version_minor": 0
      },
      "text/plain": [
       "Box(children=(Box(children=(Label(value='Configuration Store', layout=Layout(border_bottom='solid 1px', border…"
      ]
     },
     "metadata": {},
     "output_type": "display_data"
    }
   ],
   "source": [
    "%run ../../utils/access_store_ui.ipynb\n",
    "display(get_access_store_ui('../../'))"
   ]
  },
  {
   "cell_type": "code",
   "execution_count": 3,
   "id": "3d9263a8-4f44-419d-8dce-76a2cd8fcda7",
   "metadata": {},
   "outputs": [],
   "source": [
    "from exasol.nb_connector.connections import open_pyexasol_connection"
   ]
  },
  {
   "cell_type": "code",
   "execution_count": 4,
   "id": "2e5938ec-1ebf-48fe-a1ff-be56615e8f77",
   "metadata": {},
   "outputs": [],
   "source": [
    "with open_pyexasol_connection(ai_lab_config, compression=True) as conn:\n",
    "    result = conn.execute(f\"\"\"\n",
    "    CREATE OR REPLACE TABLE \"{ai_lab_config.db_schema}\".\"MY_PRODUCTS\" (\n",
    "        PRODUCT_ID INTEGER,\n",
    "        PRODUCT_NAME VARCHAR(2000000)\n",
    "    )\n",
    "    \"\"\")\n",
    "    result = conn.execute(f\"\"\"\n",
    "    IMPORT INTO \"{ai_lab_config.db_schema}\".\"PRODUCTS\" \n",
    "    FROM CSV AT 'https://dut5tonqye28.cloudfront.net/ai_lab/text_ai/' FILE 'products.csv'\n",
    "    SKIP = 1\n",
    "    \"\"\")"
   ]
  },
  {
   "cell_type": "code",
   "execution_count": 7,
   "id": "b94c12cb-29cb-4e85-910a-6511be1f0659",
   "metadata": {},
   "outputs": [],
   "source": [
    "with open_pyexasol_connection(ai_lab_config, compression=True) as conn:\n",
    "    result = conn.execute(f\"\"\"\n",
    "    CREATE OR REPLACE TABLE \"{ai_lab_config.db_schema}\".\"CUSTOMER_SUPPORT_TICKETS\" (\n",
    "        TICKET_ID DECIMAL(10,0), \n",
    "        CUSTOMER_NAME VARCHAR(100), \n",
    "        DATE_OF_PURCHASE DATE, \n",
    "        TICKET_SUBJECT VARCHAR(255), \n",
    "        TICKET_DESCRIPTION VARCHAR(2000), \n",
    "        TICKET_STATUS VARCHAR(50),\n",
    "        TICKET_CHANNEL VARCHAR(100)\n",
    "    )\n",
    "    \"\"\")\n",
    "    result = conn.execute(f\"\"\"\n",
    "    IMPORT INTO \"{ai_lab_config.db_schema}\".\"CUSTOMER_SUPPORT_TICKETS\" \n",
    "    FROM CSV AT 'https://dut5tonqye28.cloudfront.net/ai_lab/text_ai/' FILE 'customer_support_tickets.csv'\n",
    "    SKIP = 1\n",
    "    \"\"\")"
   ]
  }
 ],
 "metadata": {
  "kernelspec": {
   "display_name": "Python 3 (ipykernel)",
   "language": "python",
   "name": "python3"
  },
  "language_info": {
   "codemirror_mode": {
    "name": "ipython",
    "version": 3
   },
   "file_extension": ".py",
   "mimetype": "text/x-python",
   "name": "python",
   "nbconvert_exporter": "python",
   "pygments_lexer": "ipython3",
   "version": "3.10.12"
  }
 },
 "nbformat": 4,
 "nbformat_minor": 5
}
