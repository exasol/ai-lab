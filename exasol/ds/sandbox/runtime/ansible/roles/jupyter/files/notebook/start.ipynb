{
 "cells": [
  {
   "cell_type": "markdown",
   "id": "b4445f60-e831-4e22-9b93-2ca56c1befcb",
   "metadata": {},
   "source": [
    "# Welcome to the Exasol AI-Lab\n",
    "\n",
    "## Introduction\n",
    "\n",
    "We present a collection of tutorials demonstrating the capabilities of the Exasol infrastructure in the context of Machine Learning and AI. We will show how Exasol can help deploy ML pipelines and productionize ML/AI solutions.\n",
    "\n",
    "### Exasol provisions for ML/AI\n",
    "\n",
    "At the core of The AI-Lab are three fundamental features of Exasol: \n",
    "- Massively Parallel Processing (MPP) Architecture.\n",
    "- User Defined Functions (UDF).\n",
    "- BucketFS file system.\n",
    "\n",
    "The MPP Architecture of the Exasol database allows running a predictive model on multiple nodes in parallel. This can significantly reduce the response time when a prediction needs to be computed for a large number of data points.\n",
    "\n",
    "[User Defined Functions](https://docs.exasol.com/db/latest/database_concepts/udf_scripts.htm) are one of the most powerful features of Exasol. It offers endless opportunities for embedding customer and third-party computational modules and frameworks into the database. For instance, it is possible to compute a complex AI model based on PyTorch inside the database. Examples of that are included in the tutorials. Given the parallel architecture of the database, the model will be simultaneously computed on each node. \n",
    "\n",
    "The UDFs are backed by [BucketFS](https://docs.exasol.com/db/latest/database_concepts/bucketfs/bucketfs.htm) - an Exasol proprietary replicated file system. This is where the model is usually stored. The file system is called replicated because the copies of all its files are stored at every node of the database cluster.\n",
    "\n",
    "Now it is easy to see how it all comes together. Each node in the database cluster stores its portion of input data, but all nodes have a copy of the same model and the required infrastructure. The UDF invokes the computation of the model on all nodes simultaneously and assembles the results to form a coherent output.\n",
    "\n",
    "## Structure of the tutorials\n",
    "\n",
    "The tutorials are organized into topics, each one in a separate directory. The links below lead to the main page of a topic, usually an introduction. From there one can follow through the tutorials on the topic or go to a particular notebook.\n",
    "\n",
    "The configuration notebook must be visited at least once. When using the provided demo database - Exasol Docker-DB - the configuration notebook may need to be re-visited at the beginning of every session with AI-Lab to start or restart this database. \n",
    "\n",
    "Some tutorials require example data. The data can be loaded into the database using notebooks in the data loading topic. \n",
    "\n",
    "1. [Configuration](./main_config.ipynb)\n",
    "1. [Loading data](data/data_content.ipynb)\n",
    "1. [Using scikit-learn](sklearn/sklearn_introduction.ipynb)\n",
    "1. [SageMaker extension](sagemaker/sme_introduction.ipynb)\n",
    "1. [Transformers extension](transformers/te_introduction.ipynb)\n",
    "1. [Cloud store](cloud/01_import_data.ipynb)\n",
    "1. [Script Languages Container](script_languages_container/using_the_script_languages_container_tool.ipynb)\n",
    "\n"
   ]
  }
 ],
 "metadata": {
  "kernelspec": {
   "display_name": "Python 3 (ipykernel)",
   "language": "python",
   "name": "python3"
  },
  "language_info": {
   "codemirror_mode": {
    "name": "ipython",
    "version": 3
   },
   "file_extension": ".py",
   "mimetype": "text/x-python",
   "name": "python",
   "nbconvert_exporter": "python",
   "pygments_lexer": "ipython3",
   "version": "3.10.12"
  }
 },
 "nbformat": 4,
 "nbformat_minor": 5
}
