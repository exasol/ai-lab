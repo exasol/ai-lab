{
 "cells": [
  {
   "cell_type": "markdown",
   "source": [
    "# Cloud Storage Extension Configuration\n",
    "\n",
    "This notebook configures [cloud-storage-extension](https://github.com/exasol/cloud-storage-extension/) using \n",
    "functions from [notebook-connector library](https://github.com/exasol/notebook-connector/).\n",
    "\n",
    "On the high level it does the following:\n",
    "* retrieves latest release of cloud-storage-extension jar\n",
    "* uploads it into [BucketFS](https://docs.exasol.com/db/latest/database_concepts/bucketfs/bucketfs.htm)\n",
    "* registers UDF scripts for the cloud-storage-extension"
   ],
   "metadata": {
    "collapsed": false
   },
   "id": "5d878fcbb2f8481d"
  },
  {
   "cell_type": "markdown",
   "source": [
    "## Cloud Storage Extension setup"
   ],
   "metadata": {
    "collapsed": false
   },
   "id": "eddf3fc3c79fa4ef"
  },
  {
   "cell_type": "code",
   "execution_count": null,
   "outputs": [],
   "source": [
    "from exasol import github, bfs_utils, cloud_storage\n",
    "from exasol.connections import open_bucketfs_connection, open_pyexasol_connection\n",
    "\n",
    "jar_local_path = github.retrieve_jar(github.Project.CLOUD_STORAGE_EXTENSION, use_local_cache=True)\n",
    "bfs_bucket = open_bucketfs_connection(ai_lab_config)\n",
    "bfs_path = bfs_utils.put_file(bfs_bucket, jar_local_path)\n",
    "\n",
    "with open_pyexasol_connection(ai_lab_config) as conn:\n",
    "    cloud_storage.setup_scripts(conn, ai_lab_config.db_schema, bfs_path)\n",
    "    \n",
    "print(\"Could Storage Extension was initialized\")"
   ],
   "metadata": {
    "collapsed": false
   },
   "id": "a86f5b8661854f35"
  }
 ],
 "metadata": {
  "kernelspec": {
   "display_name": "Python 3",
   "language": "python",
   "name": "python3"
  },
  "language_info": {
   "codemirror_mode": {
    "name": "ipython",
    "version": 2
   },
   "file_extension": ".py",
   "mimetype": "text/x-python",
   "name": "python",
   "nbconvert_exporter": "python",
   "pygments_lexer": "ipython2",
   "version": "2.7.6"
  }
 },
 "nbformat": 4,
 "nbformat_minor": 5
}
