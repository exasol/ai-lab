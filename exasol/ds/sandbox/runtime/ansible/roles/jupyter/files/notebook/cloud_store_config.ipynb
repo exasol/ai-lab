{
 "cells": [
  {
   "cell_type": "markdown",
   "id": "5d878fcbb2f8481d",
   "metadata": {
    "collapsed": false
   },
   "source": [
    "# Cloud Storage Extension Configuration\n",
    "\n",
    "This notebook configures [cloud-storage-extension](https://github.com/exasol/cloud-storage-extension/) using \n",
    "functions from [notebook-connector library](https://github.com/exasol/notebook-connector/).\n",
    "\n",
    "On the high level it does the following:\n",
    "* retrieves latest release of cloud-storage-extension jar\n",
    "* uploads it into [BucketFS](https://docs.exasol.com/db/latest/database_concepts/bucketfs/bucketfs.htm)\n",
    "* registers UDF scripts for the cloud-storage-extension"
   ]
  },
  {
   "cell_type": "markdown",
   "id": "eddf3fc3c79fa4ef",
   "metadata": {
    "collapsed": false
   },
   "source": [
    "## Cloud Storage Extension setup"
   ]
  },
  {
   "cell_type": "code",
   "execution_count": null,
   "id": "a86f5b8661854f35",
   "metadata": {
    "collapsed": false
   },
   "outputs": [],
   "source": [
    "from exasol.nb_connector import github, bfs_utils, cloud_storage\n",
    "from exasol.nb_connector.connections import open_bucketfs_connection, open_pyexasol_connection\n",
    "from exasol.bucketfs.path import BucketPath\n",
    "import pathlib\n",
    "\n",
    "jar_local_path = github.retrieve_jar(github.Project.CLOUD_STORAGE_EXTENSION, use_local_cache=True)\n",
    "local_name = jar_local_path.name\n",
    "bfs_path = BucketPath(open_bucketfs_connection(ai_lab_config)) / local_name\n",
    "with jar_local_path.open(\"rb\") as file:\n",
    "    bfs_path.write(file)\n",
    "udf_path = bfs_path.as_udf_path()\n",
    "\n",
    "with open_pyexasol_connection(ai_lab_config) as conn:\n",
    "    cloud_storage.setup_scripts(conn, ai_lab_config.db_schema, udf_path)\n",
    "    \n",
    "print(\"Could Storage Extension was initialized\")"
   ]
  }
 ],
 "metadata": {
  "kernelspec": {
   "display_name": "Python 3",
   "language": "python",
   "name": "python3"
  },
  "language_info": {
   "codemirror_mode": {
    "name": "ipython",
    "version": 2
   },
   "file_extension": ".py",
   "mimetype": "text/x-python",
   "name": "python",
   "nbconvert_exporter": "python",
   "pygments_lexer": "ipython2",
   "version": "2.7.6"
  }
 },
 "nbformat": 4,
 "nbformat_minor": 5
}
