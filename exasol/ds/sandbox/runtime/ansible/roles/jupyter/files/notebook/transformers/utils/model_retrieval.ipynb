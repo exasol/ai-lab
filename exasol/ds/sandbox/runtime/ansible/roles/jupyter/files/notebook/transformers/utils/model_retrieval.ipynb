{
 "cells": [
  {
   "cell_type": "markdown",
   "id": "79e01c65-a263-48a9-8c45-51c5d0123f49",
   "metadata": {},
   "source": [
    "# Load Model from Huggingface Hub\n",
    "\n",
    "To use a model with the Transformer Extension one needs to download it from the Huggingface Hub and put it into the [BucketFS](https://docs.exasol.com/db/latest/database_concepts/bucketfs/bucketfs.htm). Please refer to the Transformer Extension <a href=\"https://github.com/exasol/transformers-extension/blob/main/doc/user_guide/user_guide.md\" target=\"_blank\" rel=\"noopener\">User Guide</a> to find more information about model loading functionality it provides.\n",
    "\n",
    "There are two ways of doing this.\n",
    "\n",
    "1. Using the TE_MODEL_DOWNLOADER_UDF UDF.\n",
    "2. Downloading a model to a local drive and subsequently uploading it into the [BucketFS](https://docs.exasol.com/db/latest/database_concepts/bucketfs/bucketfs.htm) using CLI or an API.\n",
    "\n",
    "The first method requires the database machine to have internet access. The second method provides a workaround if this is a problem. Another advantage of the second method is that it caches downloaded models on the local drive. This can make the model transfer quicker if it needs to be repeated.\n",
    "\n",
    "<b>This notebook is not supposed to be run on its own. It contains model loading functions that are called by other notebooks.</b>"
   ]
  },
  {
   "cell_type": "markdown",
   "id": "ee4e9765-c67b-4f85-85c2-c7bb99a464ac",
   "metadata": {},
   "source": [
    "## Loading model with UDF\n",
    "\n",
    "Here is the first way of loading the model. We wrap it into a function so that other notebooks can call it."
   ]
  },
  {
   "cell_type": "code",
   "execution_count": null,
   "id": "a7d88d33-8028-4843-a05c-ff4ddb7b02af",
   "metadata": {},
   "outputs": [],
   "source": [
    "def load_huggingface_model_udf(model_name: str) -> None:\n",
    "    \"\"\"\n",
    "    Loads specified model into BucketFS using a UDF provided with the Transformer Extension.\n",
    "    There must be a global variable - sb_config - providing access to the secret store holding\n",
    "    the configuration data.\n",
    "\n",
    "    model_name     - Name of the model at Huggingface hub, e.g. facebook/nllb-moe-54b.\n",
    "    \"\"\"\n",
    "\n",
    "    from exasol.connections import open_pyexasol_connection\n",
    "    from exasol.language_container_activation import get_activation_sql\n",
    "    from exasol.ai_lab_config import AILabConfig as CKey\n",
    "\n",
    "    sql = f\"\"\"\n",
    "    SELECT {sb_config.get(CKey.db_schema)}.TE_MODEL_DOWNLOADER_UDF(\n",
    "        '{model_name}',\n",
    "        '{sb_config.get(CKey.te_models_bfs_dir)}',\n",
    "        '{sb_config.get(CKey.te_bfs_connection)}',\n",
    "        '{sb_config.get(CKey.te_hf_connection)}'\n",
    "    )\n",
    "    \"\"\"\n",
    "\n",
    "    with open_pyexasol_connection(sb_config, compression=True) as conn:\n",
    "        conn.execute(query=get_activation_sql(sb_config))\n",
    "        conn.execute(query=sql)"
   ]
  },
  {
   "cell_type": "markdown",
   "id": "e187f53b-e9c1-4376-800f-50571dce0b06",
   "metadata": {},
   "source": [
    "## Loading model using the notebook\n",
    "\n",
    "Here is the second way of loading the model. This method is very similar to the command line interface. For details on how to use the CLI please refer to the Transformer Extension <a href=\"https://github.com/exasol/transformers-extension/blob/main/doc/user_guide/user_guide.md\" target=\"_blank\" rel=\"noopener\">User Guide</a>."
   ]
  },
  {
   "cell_type": "code",
   "execution_count": null,
   "id": "8a5d00ad-4e99-4f4b-888c-78a080142d68",
   "metadata": {},
   "outputs": [],
   "source": [
    "def load_huggingface_model_cli(model_name: str, force_download: bool = False) -> None:\n",
    "    \"\"\"\n",
    "    Loads specified model into BucketFS by saving it first to a local drive, as per the command-line interface.\n",
    "    There must be a global variable - sb_config - providing access to the secret store holding\n",
    "    the configuration data.\n",
    "\n",
    "    model_name     - Name of the model at Huggingface hub, e.g. facebook/nllb-moe-54b.\n",
    "    force_download - If True the model will be reloaded from the hub even if it has been cached before.\n",
    "    \"\"\"\n",
    "\n",
    "    from pathlib import Path\n",
    "    import re\n",
    "    from exasol.transformers_extension_wrapper import upload_model\n",
    "    from exasol.ai_lab_config import AILabConfig as CKey\n",
    "\n",
    "    # Make a name for the model sub-directory\n",
    "    sub_dir = re.sub(r\"[/\\\\?%*:|\\\"<>\\x7F\\x00-\\x1F]\", \"-\", model_name)\n",
    "    models_dir = sb_config.get(CKey.te_models_cache_dir)\n",
    "    cache_dir = str(Path(models_dir) / sub_dir)\n",
    "\n",
    "    # Upload it to the BucketFS\n",
    "    upload_model(sb_config, model_name=model_name, cache_dir=cache_dir, force_download=force_download)"
   ]
  },
  {
   "cell_type": "markdown",
   "id": "8332928b-6ee5-4a04-aca3-4e60c93836f5",
   "metadata": {},
   "source": [
    "## Method selector\n",
    "\n",
    "This is the main entry point. The call will be dispatched to one of the above functions depending on the selected method."
   ]
  },
  {
   "cell_type": "code",
   "execution_count": null,
   "id": "d4968774-3054-4762-8d0a-462c7cc712c5",
   "metadata": {},
   "outputs": [],
   "source": [
    "def load_huggingface_model(model_name: str, method: str = 'cli', force_download: bool = False) -> None:\n",
    "    \"\"\"\n",
    "    Loads specified model into BucketFS choosing one of the two available methods.\n",
    "\n",
    "    model_name     - Name of the model at Huggingface hub, e.g. facebook/nllb-moe-54b.\n",
    "    method         - The recognized values are \"udf\" and \"cli\". If the parameter is not set then\n",
    "                     will look for method selection in the configuration. That failed the CLI method\n",
    "                     is used. \n",
    "    force_download - If True the model will be reloaded from the hub even if it has been cached before.\n",
    "    \"\"\"\n",
    "\n",
    "    method = method.lower()\n",
    "    if method == 'udf':\n",
    "        load_huggingface_model_udf(model_name)\n",
    "    else:\n",
    "        load_huggingface_model_cli(model_name, force_download=force_download)"
   ]
  },
  {
   "cell_type": "code",
   "execution_count": null,
   "id": "c6bc718d-6811-4963-9a65-bb030eae711e",
   "metadata": {},
   "outputs": [],
   "source": []
  }
 ],
 "metadata": {
  "kernelspec": {
   "display_name": "Python 3 (ipykernel)",
   "language": "python",
   "name": "python3"
  },
  "language_info": {
   "codemirror_mode": {
    "name": "ipython",
    "version": 3
   },
   "file_extension": ".py",
   "mimetype": "text/x-python",
   "name": "python",
   "nbconvert_exporter": "python",
   "pygments_lexer": "ipython3",
   "version": "3.8.10"
  }
 },
 "nbformat": 4,
 "nbformat_minor": 5
}
