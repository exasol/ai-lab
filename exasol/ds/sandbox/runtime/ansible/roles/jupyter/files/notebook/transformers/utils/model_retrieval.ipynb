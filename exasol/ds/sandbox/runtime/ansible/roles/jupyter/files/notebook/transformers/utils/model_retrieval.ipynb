{
 "cells": [
  {
   "cell_type": "markdown",
   "id": "79e01c65-a263-48a9-8c45-51c5d0123f49",
   "metadata": {},
   "source": [
    "# Load Model from Huggingface Hub\n",
    "\n",
    "To use a model with the Transformer Extension one needs to download it from the Huggingface Hub and put it into the [BucketFS](https://docs.exasol.com/db/latest/database_concepts/bucketfs/bucketfs.htm). Please refer to the Transformer Extension <a href=\"https://github.com/exasol/transformers-extension/blob/main/doc/user_guide/user_guide.md\" target=\"_blank\" rel=\"noopener\">User Guide</a> to find more information about model loading functionality it provides.\n",
    "\n",
    "There are two ways of doing this.\n",
    "\n",
    "1. Using the TE_MODEL_DOWNLOADER_UDF UDF.\n",
    "2. Calling the CLI script `upload_model.py`.\n",
    "\n",
    "Here we will use the first method.\n",
    "\n",
    "<b>This notebook is not supposed to be run on its own. It contains model loading functions that are called by other notebooks.</b>"
   ]
  },
  {
   "cell_type": "markdown",
   "id": "ee4e9765-c67b-4f85-85c2-c7bb99a464ac",
   "metadata": {},
   "source": [
    "## Loading model with UDF"
   ]
  },
  {
   "cell_type": "code",
   "execution_count": 1,
   "id": "a7d88d33-8028-4843-a05c-ff4ddb7b02af",
   "metadata": {},
   "outputs": [],
   "source": [
    "from exasol.nb_connector.secret_store import Secrets\n",
    "\n",
    "\n",
    "def load_huggingface_model(conf: Secrets, model_name: str, task_type: str) -> None:\n",
    "    \"\"\"\n",
    "    Loads specified model into BucketFS using a UDF provided with the Transformer Extension.\n",
    "\n",
    "    conf           - Access to the secret store holding the configuration data.\n",
    "    model_name     - Name of the model at Huggingface hub, e.g. facebook/nllb-moe-54b.\n",
    "    task_type      - Name of the task the model will be used for.\n",
    "    \"\"\"\n",
    "\n",
    "    from exasol.nb_connector.connections import open_pyexasol_connection\n",
    "    from exasol.nb_connector.language_container_activation import get_activation_sql\n",
    "    from exasol.nb_connector.ai_lab_config import AILabConfig as CKey\n",
    "\n",
    "    sql = f\"\"\"\n",
    "    SELECT {conf.get(CKey.db_schema)}.TE_MODEL_DOWNLOADER_UDF(\n",
    "        '{model_name}',\n",
    "        '{task_type}',\n",
    "        '{conf.get(CKey.te_models_bfs_dir)}',\n",
    "        '{conf.get(CKey.te_bfs_connection)}',\n",
    "        '{conf.get(CKey.te_hf_connection)}'\n",
    "    )\n",
    "    \"\"\"\n",
    "\n",
    "    with open_pyexasol_connection(conf, compression=True) as conn:\n",
    "        conn.execute(query=get_activation_sql(conf))\n",
    "        conn.execute(query=sql)"
   ]
  }
 ],
 "metadata": {
  "kernelspec": {
   "display_name": "Python 3 (ipykernel)",
   "language": "python",
   "name": "python3"
  },
  "language_info": {
   "codemirror_mode": {
    "name": "ipython",
    "version": 3
   },
   "file_extension": ".py",
   "mimetype": "text/x-python",
   "name": "python",
   "nbconvert_exporter": "python",
   "pygments_lexer": "ipython3",
   "version": "3.11.9"
  }
 },
 "nbformat": 4,
 "nbformat_minor": 5
}
