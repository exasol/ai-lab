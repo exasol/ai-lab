{
 "cells": [
  {
   "metadata": {},
   "cell_type": "markdown",
   "source": [
    "# S3 Virtual Schema configuration\n",
    "\n",
    "[S3 Virtual Schema](https://github.com/exasol/s3-document-files-virtual-schema) is an Exasol extension that allows access\n",
    "to structured and semi-structured documents residing in AWS S3 buckets. Once configured and set up, you can query JSON, \n",
    "Parquet and CSV data directly from the database, as if they were imported into the Exasol tables.\n",
    "\n",
    "In this notebook we setting up the extension in the database and creating the required scripts."
   ],
   "id": "b2ec73c7cc2ca7de"
  },
  {
   "cell_type": "code",
   "execution_count": null,
   "id": "initial_id",
   "metadata": {
    "collapsed": true
   },
   "outputs": [],
   "source": [
    "from exasol.nb_connector import github, bfs_utils, cloud_storage\n",
    "from exasol.nb_connector.connections import open_bucketfs_connection, open_pyexasol_connection\n",
    "\n",
    "# TODO: to be moved into notebook-connector's Project enum\n",
    "import enum\n",
    "\n",
    "class MyProj(enum.Enum):\n",
    "    S3_DOCUMENT_VS = \"s3-document-files-virtual-schema\" \n",
    "\n",
    "\n",
    "jar_local_path = github.retrieve_jar(MyProj.S3_DOCUMENT_VS, use_local_cache=True)\n",
    "bfs_bucket = open_bucketfs_connection(ai_lab_config)\n",
    "bfs_path = bfs_utils.put_file(bfs_bucket, jar_local_path)"
   ]
  },
  {
   "metadata": {},
   "cell_type": "code",
   "outputs": [],
   "execution_count": null,
   "source": [
    "SQLS = [\n",
    "        \"OPEN SCHEMA {schema!i}\",\n",
    "        \"\"\"\n",
    "--/\n",
    "CREATE OR REPLACE JAVA ADAPTER SCRIPT S3_FILES_ADAPTER AS\n",
    "    %scriptclass com.exasol.adapter.RequestDispatcher;\n",
    "    %jar {jar_path!r};\n",
    "/\n",
    "        \"\"\",\n",
    "        \"\"\"\n",
    "--/\n",
    "CREATE OR REPLACE JAVA SET SCRIPT IMPORT_FROM_S3_DOCUMENT_FILES(\n",
    "  DATA_LOADER VARCHAR(2000000),\n",
    "  SCHEMA_MAPPING_REQUEST VARCHAR(2000000),\n",
    "  CONNECTION_NAME VARCHAR(500))\n",
    "  EMITS(...) AS\n",
    "    %scriptclass com.exasol.adapter.document.UdfEntryPoint;\n",
    "    %jar {jar_path!r};\n",
    "/\n",
    "        \"\"\",\n",
    "]"
   ],
   "id": "69422ac03d02bb03"
  },
  {
   "metadata": {},
   "cell_type": "code",
   "outputs": [],
   "execution_count": null,
   "source": [
    "with open_pyexasol_connection(ai_lab_config) as conn:\n",
    "    for sql in SQLS:\n",
    "        conn.execute(sql, query_params={\n",
    "            \"schema\": ai_lab_config.db_schema,\n",
    "            \"jar_path\": bfs_path.as_udf_path(),\n",
    "        })\n",
    "\n",
    "print(\"S3 Virtual Schema was initialized\")"
   ],
   "id": "75b31161b2ffbc72"
  }
 ],
 "metadata": {
  "kernelspec": {
   "display_name": "Python 3",
   "language": "python",
   "name": "python3"
  },
  "language_info": {
   "codemirror_mode": {
    "name": "ipython",
    "version": 2
   },
   "file_extension": ".py",
   "mimetype": "text/x-python",
   "name": "python",
   "nbconvert_exporter": "python",
   "pygments_lexer": "ipython2",
   "version": "2.7.6"
  }
 },
 "nbformat": 4,
 "nbformat_minor": 5
}
