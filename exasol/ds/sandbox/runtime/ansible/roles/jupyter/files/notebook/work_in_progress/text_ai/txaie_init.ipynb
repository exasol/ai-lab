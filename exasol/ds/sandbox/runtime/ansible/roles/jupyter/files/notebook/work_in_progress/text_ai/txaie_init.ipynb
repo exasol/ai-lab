{
 "cells": [
  {
   "cell_type": "markdown",
   "id": "d89333d8-58be-4d52-a483-510b6fd30920",
   "metadata": {},
   "source": [
    "# Text AI Extension initialization\n",
    "\n",
    "Here we will bring the Text AI Extension functionality up and running. We will do this via a single call to function in the support library.\n",
    "\n",
    "## Prerequisites\n",
    "\n",
    "Prior to using this notebook one needs to complete the following steps:\n",
    "1. [Configure the AI-Lab](../../main_config.ipynb).\n",
    "\n",
    "## Setup\n",
    "\n",
    "### Open Secure Configuration Storage"
   ]
  },
  {
   "cell_type": "code",
   "execution_count": 1,
   "id": "ca9cc3b0-2191-4e57-8e02-0256b5574b4f",
   "metadata": {},
   "outputs": [
    {
     "data": {
      "application/vnd.jupyter.widget-view+json": {
       "model_id": "ce237d11ab63402cb71eedfce4c6309c",
       "version_major": 2,
       "version_minor": 0
      },
      "text/plain": [
       "Output()"
      ]
     },
     "metadata": {},
     "output_type": "display_data"
    },
    {
     "data": {
      "application/vnd.jupyter.widget-view+json": {
       "model_id": "3a4c62f5d582452aba855709e51cd0ea",
       "version_major": 2,
       "version_minor": 0
      },
      "text/plain": [
       "Box(children=(Box(children=(Label(value='Configuration Store', layout=Layout(border_bottom='solid 1px', border…"
      ]
     },
     "metadata": {},
     "output_type": "display_data"
    }
   ],
   "source": [
    "%run ../../utils/access_store_ui.ipynb\n",
    "display(get_access_store_ui('../../'))"
   ]
  },
  {
   "cell_type": "markdown",
   "id": "2d16b32a-1a2c-4236-a6c5-21cd4e6b7f1a",
   "metadata": {},
   "source": [
    "## Configure access to a pre-release version"
   ]
  },
  {
   "cell_type": "code",
   "execution_count": 2,
   "id": "61af171a-df95-4f9f-a911-4f9f2a003a48",
   "metadata": {},
   "outputs": [
    {
     "data": {
      "application/vnd.jupyter.widget-view+json": {
       "model_id": "c47b425a78cc4f688256927782aeb698",
       "version_major": 2,
       "version_minor": 0
      },
      "text/plain": [
       "Box(children=(Box(children=(Label(value='Pre-release Access', layout=Layout(border_bottom='solid 1px', border_…"
      ]
     },
     "metadata": {},
     "output_type": "display_data"
    }
   ],
   "source": [
    "%run utils/txaie_init_ui.ipynb\n",
    "display(get_txaie_pre_release_ui(ai_lab_config))"
   ]
  },
  {
   "cell_type": "markdown",
   "id": "5e7893b2-a99c-477c-bade-e15b3af1aa25",
   "metadata": {},
   "source": [
    "## Initialize the extension\n",
    "\n",
    "<b>This operation normally takes a considerable amount of time to complete</b>\n",
    "\n",
    "When the initialization finishes we should see a printed output suggesting us to activate the language container. Let's take it as an indication of the successful completion of the initialization procedure. The language container activation will be executed at the session level once the connection to the database is established. In tutorials using JupySQL the container activation is included in the routine that enables the JupySQL."
   ]
  },
  {
   "cell_type": "code",
   "execution_count": 3,
   "id": "7b8d3ea7-30f1-46ff-9a89-573e0d7cdc34",
   "metadata": {
    "editable": true,
    "slideshow": {
     "slide_type": ""
    },
    "tags": [
     "uploading_model"
    ]
   },
   "outputs": [
    {
     "name": "stderr",
     "output_type": "stream",
     "text": [
      "WARNING:root:The requested language alias PYTHON3_TXAIE is already in use.\n"
     ]
    },
    {
     "name": "stdout",
     "output_type": "stream",
     "text": [
      "\n",
      "In SQL, you can activate the SLC\n",
      "by using the following statements:\n",
      "\n",
      "To activate the SLC only for the current session:\n",
      "ALTER SESSION SET SCRIPT_LANGUAGES='R=builtin_r JAVA=builtin_java PYTHON3=builtin_python3 PYTHON3_TXAIE=localzmq+protobuf:///bfsdefault/default/TXAIE/exasol_text_ai_extension_container_release?lang=python#/buckets/bfsdefault/default/TXAIE/exasol_text_ai_extension_container_release/exaudf/exaudfclient_py3';\n",
      "\n",
      "To activate the SLC on the system:\n",
      "ALTER SYSTEM SET SCRIPT_LANGUAGES='R=builtin_r JAVA=builtin_java PYTHON3=builtin_python3 PYTHON3_TXAIE=localzmq+protobuf:///bfsdefault/default/TXAIE/exasol_text_ai_extension_container_release?lang=python#/buckets/bfsdefault/default/TXAIE/exasol_text_ai_extension_container_release/exaudf/exaudfclient_py3';\n",
      "\n"
     ]
    }
   ],
   "source": [
    "import subprocess\n",
    "from exasol.nb_connector.text_ai_extension_wrapper import initialize_text_ai_extension, download_pre_release\n",
    "\n",
    "with download_pre_release(ai_lab_config) as unzipped_files:\n",
    "    project_wheel, slc_tar_gz = unzipped_files\n",
    "\n",
    "    wheel_path = str(project_wheel)\n",
    "    !pip install {wheel_path}\n",
    "    from exasol.ai.text.extraction.extraction import Extraction\n",
    "    initialize_text_ai_extension(ai_lab_config, container_file=slc_tar_gz)\n"
   ]
  },
  {
   "cell_type": "code",
   "execution_count": null,
   "id": "af077fea-54d3-4f43-bfe9-3d2e36eba436",
   "metadata": {},
   "outputs": [],
   "source": []
  }
 ],
 "metadata": {
  "kernelspec": {
   "display_name": "Python 3 (ipykernel)",
   "language": "python",
   "name": "python3"
  },
  "language_info": {
   "codemirror_mode": {
    "name": "ipython",
    "version": 3
   },
   "file_extension": ".py",
   "mimetype": "text/x-python",
   "name": "python",
   "nbconvert_exporter": "python",
   "pygments_lexer": "ipython3",
   "version": "3.10.12"
  }
 },
 "nbformat": 4,
 "nbformat_minor": 5
}
