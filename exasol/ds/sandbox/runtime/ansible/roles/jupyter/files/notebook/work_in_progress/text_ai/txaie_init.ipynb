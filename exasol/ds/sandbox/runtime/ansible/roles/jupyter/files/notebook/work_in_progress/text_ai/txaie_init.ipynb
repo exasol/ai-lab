{
 "cells": [
  {
   "cell_type": "markdown",
   "id": "d89333d8-58be-4d52-a483-510b6fd30920",
   "metadata": {},
   "source": [
    "# Text AI Extension initialization\n",
    "\n",
    "Here we will bring the Text AI Extension functionality up and running. We will do this via a single call to function in the support library.\n",
    "\n",
    "## Prerequisites\n",
    "\n",
    "Prior to using this notebook one needs to complete the following steps:\n",
    "1. [Configure the AI-Lab](../../main_config.ipynb).\n",
    "\n",
    "## Setup\n",
    "\n",
    "### Open Secure Configuration Storage"
   ]
  },
  {
   "cell_type": "code",
   "execution_count": null,
   "id": "ca9cc3b0-2191-4e57-8e02-0256b5574b4f",
   "metadata": {},
   "outputs": [],
   "source": [
    "%run ../../utils/access_store_ui.ipynb\n",
    "display(get_access_store_ui('../'))"
   ]
  },
  {
   "cell_type": "markdown",
   "id": "2d16b32a-1a2c-4236-a6c5-21cd4e6b7f1a",
   "metadata": {},
   "source": [
    "## Configure access to a pre-release version"
   ]
  },
  {
   "cell_type": "code",
   "execution_count": null,
   "id": "61af171a-df95-4f9f-a911-4f9f2a003a48",
   "metadata": {},
   "outputs": [],
   "source": [
    "%run utils/txaie_init_ui.ipynb\n",
    "display(get_txaie_pre_release_ui(ai_lab_config))"
   ]
  },
  {
   "cell_type": "markdown",
   "id": "5e7893b2-a99c-477c-bade-e15b3af1aa25",
   "metadata": {},
   "source": [
    "## Initialize the extension\n",
    "\n",
    "<b>This operation normally takes a considerable amount of time to complete</b>\n",
    "\n",
    "When the initialization finishes we should see a printed output suggesting us to activate the language container. Let's take it as an indication of the successful completion of the initialization procedure. The language container activation will be executed at the session level once the connection to the database is established. In tutorials using JupySQL the container activation is included in the routine that enables the JupySQL."
   ]
  },
  {
   "cell_type": "code",
   "execution_count": null,
   "id": "7b8d3ea7-30f1-46ff-9a89-573e0d7cdc34",
   "metadata": {
    "editable": true,
    "slideshow": {
     "slide_type": ""
    },
    "tags": [
     "uploading_model"
    ]
   },
   "outputs": [],
   "source": [
    "import subprocess\n",
    "from exasol.nb_connector.text_ai_extension_wrapper import initialize_text_ai_extension, download_pre_release\n",
    "\n",
    "with download_pre_release(ai_lab_config) as unzipped_files:\n",
    "    project_wheel, slc_tar_gz = unzipped_files\n",
    "\n",
    "    pip_cmd = ['pip', 'install', str(project_wheel)]\n",
    "    subprocess.run(pip_cmd, check=True, capture_output=True)\n",
    "\n",
    "    initialize_text_ai_extension(ai_lab_config, container_file=slc_tar_gz)"
   ]
  }
 ],
 "metadata": {
  "kernelspec": {
   "display_name": "Python 3 (ipykernel)",
   "language": "python",
   "name": "python3"
  },
  "language_info": {
   "codemirror_mode": {
    "name": "ipython",
    "version": 3
   },
   "file_extension": ".py",
   "mimetype": "text/x-python",
   "name": "python",
   "nbconvert_exporter": "python",
   "pygments_lexer": "ipython3",
   "version": "3.11.9"
  }
 },
 "nbformat": 4,
 "nbformat_minor": 5
}
