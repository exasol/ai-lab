{
 "cells": [
  {
   "cell_type": "markdown",
   "id": "a959fe32-bf73-47dc-9e22-40cc3ea96db8",
   "metadata": {},
   "source": [
    "# Test the new Script-Languages-Container\n",
    "\n",
    "This notebooks shows how to:\n",
    "- activate the new script-languages-container in the Exasol database\n",
    "- create UDF's for the new script-languages-container\n",
    "- run those UDF's"
   ]
  },
  {
   "cell_type": "markdown",
   "id": "379f0b9c-3b7f-4c3e-aa0f-6a9fe86cd02b",
   "metadata": {},
   "source": [
    "## Setup\n",
    "### Open Secure Configuration Storage"
   ]
  },
  {
   "cell_type": "code",
   "execution_count": null,
   "id": "3543a7c3-43f7-4f54-a91d-89a9c6229c49",
   "metadata": {},
   "outputs": [],
   "source": [
    "%run ../utils/access_store_ui.ipynb\n",
    "display(get_access_store_ui('../'))"
   ]
  },
  {
   "cell_type": "markdown",
   "id": "9a4f44ef-5c9f-4345-b674-f400adeec03e",
   "metadata": {},
   "source": [
    "### Instantiate SLCT Manager\n",
    "\n",
    "We create an instance of the SlctManager class from the notebook connector. SLCT Manager, which stands for \"Script-Languages-Container-Tools\" Manager. \n",
    "This class has some utility function which simplifies the use of the exaslct API."
   ]
  },
  {
   "cell_type": "code",
   "execution_count": null,
   "id": "b4afd420-ff1d-4c67-af2f-083af15d8623",
   "metadata": {},
   "outputs": [],
   "source": [
    "from exasol.nb_connector import slct_manager\n",
    "slctmanager = slct_manager.SlctManager(ai_lab_config)"
   ]
  },
  {
   "cell_type": "markdown",
   "id": "4631cf8b-025a-4571-a7b7-b0d1ac80dc45",
   "metadata": {},
   "source": [
    "## Use the new Script-Languages-Container\n",
    "\n",
    "### Connect to the database and activate the container\n",
    "Once you have a connection to the database you can run either the ALTER SESSION statement or ALTER SYSTEM statement. The latter statement will activate the container permanently and globally.\n",
    "The `notebook` connector package provides a utility method, for creating an `pyexasol` connection and applying the `ALTER SESSION` command for all registered languages:"
   ]
  },
  {
   "cell_type": "code",
   "execution_count": null,
   "id": "071aad1e-1cbf-407f-bae5-b8b000667867",
   "metadata": {},
   "outputs": [],
   "source": [
    "from exasol.nb_connector.language_container_activation import open_pyexasol_connection_with_lang_definitions\n",
    "\n",
    "conn = open_pyexasol_connection_with_lang_definitions(ai_lab_config, compression=True)\n",
    "conn.execute(\"CREATE SCHEMA SLC_TUTORIAL\")"
   ]
  },
  {
   "cell_type": "markdown",
   "id": "688d5eab-005b-4780-a239-4d0f3e0da191",
   "metadata": {},
   "source": [
    "### Check if your customization did work\n",
    "\n",
    "You first create a helper UDF which allows you to run arbitrary shell commands inside of a UDF instance. With that you can easily inspect the container."
   ]
  },
  {
   "cell_type": "code",
   "execution_count": null,
   "id": "bb303818-8b5b-4d12-b117-f398a249264f",
   "metadata": {},
   "outputs": [],
   "source": [
    "import textwrap\n",
    "\n",
    "conn.execute(textwrap.dedent(f\"\"\"\n",
    "CREATE OR REPLACE {slctmanager.language_alias} SCALAR SCRIPT execute_shell_command_py3(command VARCHAR(2000000), split_output boolean)\n",
    "EMITS (lines VARCHAR(2000000)) AS\n",
    "import subprocess\n",
    "\n",
    "def run(ctx):\n",
    "    try:\n",
    "        p = subprocess.Popen(ctx.command,\n",
    "                             stdout    = subprocess.PIPE,\n",
    "                             stderr    = subprocess.STDOUT,\n",
    "                             close_fds = True,\n",
    "                             shell     = True)\n",
    "        out, err = p.communicate()\n",
    "        if isinstance(out,bytes):\n",
    "            out=out.decode('utf8')\n",
    "        if ctx.split_output:\n",
    "            for line in out.strip().split('\\\\n'):\n",
    "                ctx.emit(line)\n",
    "        else:\n",
    "            ctx.emit(out)\n",
    "    finally:\n",
    "        if p is not None:\n",
    "            try: p.kill()\n",
    "            except: pass\n",
    "/\n",
    "\"\"\"))"
   ]
  },
  {
   "cell_type": "markdown",
   "id": "4c727768-193a-4be0-bd9e-f2d5c6ebd484",
   "metadata": {},
   "source": [
    "Check with \"pip list\" if the \"xgboost\" package is installed\n",
    "We use our helper UDF to run `python3 -m pip list` directly in the container and get the list of currently available python3 packages."
   ]
  },
  {
   "cell_type": "code",
   "execution_count": null,
   "id": "7b09e840-e5c6-4490-a6cf-0f640c2a3a83",
   "metadata": {},
   "outputs": [],
   "source": [
    "rs=conn.execute(\"\"\"select execute_shell_command_py3('python3 -m pip list', true)\"\"\")\n",
    "for r in rs: \n",
    "    print(r[0])"
   ]
  },
  {
   "cell_type": "markdown",
   "id": "d321eb44-ddc0-43be-bfeb-556c6a524c4a",
   "metadata": {},
   "source": [
    "Running `pip list` inside the container displays the available packages. In case of unexpected results, please have a look at the information stored by `exaslct` during build-time inside the container.\n",
    "\n",
    "#### Embedded Build Information of the Container\n",
    "Here we see an overview about the build information which `exaslct` embedded into the container. `exaslct` stores all packages lists (as defined in the flavor and what actually got installed), the final Dockerfiles and the image info. The image info describes how the underlying Docker images of the container got built. The build information is stored in the `/build_info` directory in the container. You can use again our helper UDF to inspect the build information."
   ]
  },
  {
   "cell_type": "code",
   "execution_count": null,
   "id": "771caaaa-10af-4179-ad30-d76ea49de069",
   "metadata": {},
   "outputs": [],
   "source": [
    "rs=conn.execute(\"\"\"select execute_shell_command_py3('find /build_info', true)\"\"\")\n",
    "for r in rs: \n",
    "    print(r[0])"
   ]
  },
  {
   "cell_type": "markdown",
   "id": "a29627f2-c01d-45f4-ab0b-b71736d432dd",
   "metadata": {},
   "source": [
    "Now you could examine the python3 pip packages file, which was created directly after building the container image by `exaslct`."
   ]
  },
  {
   "cell_type": "code",
   "execution_count": null,
   "id": "7ebe46fc-80dc-43c3-a803-833d9786dab7",
   "metadata": {},
   "outputs": [],
   "source": [
    "rs=conn.execute(\"\"\"select execute_shell_command_py3('cat /build_info/actual_installed_packages/release/python3_pip_packages', true)\"\"\")\n",
    "for r in rs: \n",
    "    print(r[0])"
   ]
  },
  {
   "cell_type": "markdown",
   "id": "4d52adf9-5630-4612-90a1-23ed21299771",
   "metadata": {},
   "source": [
    "All your packages from the flavor-customization build step should be included. If you want to double check this, you can run:"
   ]
  },
  {
   "cell_type": "code",
   "execution_count": null,
   "id": "c9d76165-e775-46c0-ab87-e0f14aa36f51",
   "metadata": {},
   "outputs": [],
   "source": [
    "rs=conn.execute(\"\"\"select execute_shell_command_py3('cat /build_info/packages/flavor_customization/python3_pip_packages', true)\"\"\")\n",
    "for r in rs:\n",
    "    if r[0] is None:\n",
    "        print()\n",
    "    else:\n",
    "        print(r[0])"
   ]
  },
  {
   "cell_type": "markdown",
   "id": "02b5ea6b-a79e-4223-9eb9-a9c01ddacf04",
   "metadata": {},
   "source": [
    "### Testing the new package\n",
    "\n",
    "After you made sure that the required packages are installed, you need to try importing and using them. Importing is usually a good first test if a package got successfully installed, because often you might already get errors at this step. However, sometimes you only will recognize errors when using the package. We recommend to have a test suite for each new package to check if it works properly before you start your UDF development. It is usually easier to debug problems if you have very narrow tests."
   ]
  },
  {
   "cell_type": "code",
   "execution_count": null,
   "id": "613335a7-c716-4c2a-aee4-c15269a9d74a",
   "metadata": {},
   "outputs": [],
   "source": [
    "conn.execute(textwrap.dedent(f\"\"\"\n",
    "CREATE OR REPLACE {slctmanager.language_alias} SET SCRIPT test_xgboost(i integer)\n",
    "EMITS (o VARCHAR(2000000)) AS\n",
    "\n",
    "def run(ctx):\n",
    "    import xgboost\n",
    "    import sklearn \n",
    "    \n",
    "    ctx.emit(\"success\")\n",
    "/\n",
    "\"\"\"))\n",
    "\n",
    "rs = conn.execute(\"select test_xgboost(1)\")\n",
    "rs.fetchall()"
   ]
  },
  {
   "cell_type": "markdown",
   "id": "43bdfaa2",
   "metadata": {},
   "source": [
    "Finally, import and use the new packages. The following UDF uses the `xgboost` and `sklearn` modules to solve a small machine learning problem."
   ]
  },
  {
   "cell_type": "code",
   "execution_count": null,
   "id": "c476f9a2-38c5-4b1e-8fa6-8a2f07e928a6",
   "metadata": {},
   "outputs": [],
   "source": [
    "conn.execute(textwrap.dedent(f\"\"\"\n",
    "CREATE OR REPLACE {slctmanager.language_alias} SET SCRIPT test_xgboost(i integer)\n",
    "EMITS (o1 DOUbLE, o2 DOUbLE, o3 DOUbLE) AS\n",
    "\n",
    "def run(ctx):\n",
    "    import pandas as pd\n",
    "    import xgboost as xgb\n",
    "    from sklearn import datasets\n",
    "    from sklearn.model_selection import train_test_split\n",
    "    \n",
    "    iris = datasets.load_iris()\n",
    "    X = iris.data\n",
    "    y = iris.target\n",
    "    \n",
    "    X_train, X_test, y_train, y_test = train_test_split(X, y, test_size=0.2, random_state=42)\n",
    "    \n",
    "    dtrain = xgb.DMatrix(X_train, label=y_train)\n",
    "    dtest = xgb.DMatrix(X_test, label=y_test)\n",
    "    param = {{\n",
    "        'max_depth': 3,  # the maximum depth of each tree\n",
    "        'eta': 0.3,  # the training step for each iteration\n",
    "        'silent': 1,  # logging mode - quiet\n",
    "        'objective': 'multi:softprob',  # error evaluation for multiclass training\n",
    "        'num_class': 3  # the number of classes that exist in this datset\n",
    "        }}\n",
    "    num_round = 20  # the number of training iterations\n",
    "    bst = xgb.train(param, dtrain, num_round)\n",
    "    preds = bst.predict(dtest)\n",
    "    \n",
    "    ctx.emit(pd.DataFrame(preds))\n",
    "/\n",
    "\"\"\"))\n",
    "\n",
    "conn.export_to_pandas(\"select test_xgboost(1)\")"
   ]
  }
 ],
 "metadata": {
  "kernelspec": {
   "display_name": "Python 3 (ipykernel)",
   "language": "python",
   "name": "python3"
  },
  "language_info": {
   "codemirror_mode": {
    "name": "ipython",
    "version": 3
   },
   "file_extension": ".py",
   "mimetype": "text/x-python",
   "name": "python",
   "nbconvert_exporter": "python",
   "pygments_lexer": "ipython3",
   "version": "3.10.12"
  }
 },
 "nbformat": 4,
 "nbformat_minor": 5
}
