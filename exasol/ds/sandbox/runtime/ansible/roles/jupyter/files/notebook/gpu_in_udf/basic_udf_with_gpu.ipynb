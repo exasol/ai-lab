{
 "cells": [
  {
   "metadata": {},
   "cell_type": "markdown",
   "source": [
    "<div style=\"text-align: right;\">\n",
    "  <img src=\"https://raw.githubusercontent.com/exasol/ai-lab/refs/heads/main/assets/Exasol_Logo_2025_Dark.svg\" style=\"width:200px; margin: 10px;\" />\n",
    "</div>\n",
    "\n",
    "## Basic UDF with GPU Support\n",
    "\n",
    "In this tutorial we will build a very simple UDF which uses `pytorch` to validate GPU detection."
   ],
   "id": "1e48322dd9672749"
  },
  {
   "metadata": {},
   "cell_type": "markdown",
   "source": "## Open Secure Configuration Storage\n",
   "id": "fe7adb8ae2ad7918"
  },
  {
   "metadata": {},
   "cell_type": "code",
   "outputs": [],
   "execution_count": null,
   "source": [
    "import os\n",
    "%run ../utils/access_store_ui.ipynb\n",
    "display(get_access_store_ui('../'))"
   ],
   "id": "cec4948527eecfb0"
  },
  {
   "metadata": {},
   "cell_type": "markdown",
   "source": [
    "### Instantiate ScriptLanguagesContainer\n",
    "\n",
    "The following cell creates an instance of class `ScriptLanguageContainer` from the notebook-connector,\n",
    "which enables us to use the Script Language Container (SLC)."
   ],
   "id": "297a475cb817d3eb"
  },
  {
   "metadata": {},
   "cell_type": "code",
   "outputs": [],
   "execution_count": null,
   "source": [
    "from exasol.nb_connector.slc import ScriptLanguageContainer\n",
    "slc = ScriptLanguageContainer(secrets=ai_lab_config, name=\"gpu_slc\")"
   ],
   "id": "5fec6566fc1b2fa8"
  },
  {
   "metadata": {},
   "cell_type": "markdown",
   "source": "### Connect to the database and activate the container",
   "id": "ffc984ca5b56f59d"
  },
  {
   "metadata": {},
   "cell_type": "code",
   "outputs": [],
   "execution_count": null,
   "source": [
    "from exasol.nb_connector.language_container_activation import open_pyexasol_connection_with_lang_definitions\n",
    "\n",
    "conn = open_pyexasol_connection_with_lang_definitions(ai_lab_config, schema=ai_lab_config.db_schema, compression=True)"
   ],
   "id": "b0f54594ac5a6242"
  },
  {
   "metadata": {},
   "cell_type": "markdown",
   "source": [
    "### Create GPU enabled UDFs\n",
    "\n",
    "Exasol UDFs provide the script option `%perInstanceRequiredAcceleratorDevices` which allows us to define the behavior of the database when executing UDF's. This option can have the following values:\n",
    "* `None`: NO accelerator selected/required (implicit default for CPU processing)\n",
    "* `GpuNvidia`: NVIDIA GPU accelerator required by the UDF. The invocation of the UDF will fail if the GPU is unavailable or the Script Language Container is not suited for GPU's.\n",
    "* `None|GpuNvidia`: NVIDIA GPU accelerator preferred but fallback to NO accelerator (CPU processing)\n",
    "\n",
    "The following sample UDF requires GPU support by adding the line:\n",
    "```\n",
    " %perInstanceRequiredAcceleratorDevices GpuNvidia;\n",
    "```\n",
    "and checks the environment variables `NVIDIA_VISIBLE_DEVICES` and `CUDA_VISIBLE_DEVICES`."
   ],
   "id": "9d1775bc61c52c7d"
  },
  {
   "metadata": {},
   "cell_type": "code",
   "outputs": [],
   "execution_count": null,
   "source": [
    "import textwrap\n",
    "conn.execute(textwrap.dedent(f\"\"\"\n",
    "CREATE OR REPLACE {slc.language_alias} SCALAR SCRIPT\n",
    "nvidia_env_variable_check()\n",
    "EMITS (var_name VARCHAR(1000), var_value VARCHAR(1000)) AS\n",
    " %perInstanceRequiredAcceleratorDevices GpuNvidia;\n",
    "\n",
    "import os\n",
    "\n",
    "def run(ctx):\n",
    "    ctx.emit(\"NVIDIA_VISIBLE_DEVICES\", os.getenv('NVIDIA_VISIBLE_DEVICES', \"<invalid>\"))\n",
    "    ctx.emit(\"CUDA_VISIBLE_DEVICES\", os.getenv('CUDA_VISIBLE_DEVICES', \"<invalid>\"))\n",
    "/\n",
    "\"\"\"))\n",
    "\n",
    "res = conn.export_to_pandas(\"SELECT nvidia_env_variable_check();\")\n",
    "res"
   ],
   "id": "4dbb8695f5f85632"
  },
  {
   "metadata": {},
   "cell_type": "markdown",
   "source": "The next UDF leverages the `pytorch` package which was installed in our custom Script Language Container and returns the string \"GPU Found\" if the GPU was detected in the UDF by `pytorch`.",
   "id": "aa7ffd622af07f6a"
  },
  {
   "metadata": {},
   "cell_type": "code",
   "outputs": [],
   "execution_count": null,
   "source": [
    "import textwrap\n",
    "conn.execute(textwrap.dedent(f\"\"\"\n",
    "CREATE OR REPLACE {slc.language_alias} SCALAR SCRIPT\n",
    "gpu_available()\n",
    "RETURNS VARCHAR(10000) AS\n",
    " %perInstanceRequiredAcceleratorDevices GpuNvidia;\n",
    "\n",
    "import torch\n",
    "\n",
    "def run(ctx):\n",
    "    if torch.cuda.is_available():\n",
    "        return \"GPU Found\"\n",
    "    else:\n",
    "        return \"GPU Not Found\"\n",
    "/\n",
    "\"\"\"))\n",
    "\n",
    "res = conn.export_to_pandas(\"SELECT gpu_available();\")\n",
    "res"
   ],
   "id": "21e1cf793f2e9a75"
  },
  {
   "metadata": {},
   "cell_type": "markdown",
   "source": "Now, try out the other values for `%perInstanceRequiredAcceleratorDevices` and see what happens.",
   "id": "78c5b0b90eae1d7a"
  },
  {
   "metadata": {},
   "cell_type": "markdown",
   "source": [
    "### Finish\n",
    "Now you can continue with [Advanced UDF with GPU support](./advanced_udf_with_gpu.ipynb)"
   ],
   "id": "a2ca96c72a20f31e"
  }
 ],
 "metadata": {
  "kernelspec": {
   "display_name": "Python 3",
   "language": "python",
   "name": "python3"
  },
  "language_info": {
   "codemirror_mode": {
    "name": "ipython",
    "version": 2
   },
   "file_extension": ".py",
   "mimetype": "text/x-python",
   "name": "python",
   "nbconvert_exporter": "python",
   "pygments_lexer": "ipython2",
   "version": "2.7.6"
  }
 },
 "nbformat": 4,
 "nbformat_minor": 5
}
