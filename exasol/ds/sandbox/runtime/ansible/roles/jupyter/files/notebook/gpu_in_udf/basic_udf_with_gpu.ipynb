{
 "cells": [
  {
   "metadata": {},
   "cell_type": "markdown",
   "source": [
    "<div style=\"text-align: right;\">\n",
    "  <img src=\"https://raw.githubusercontent.com/exasol/ai-lab/refs/heads/main/assets/Exasol_Logo_2025_Dark.svg\" style=\"width:200px; margin: 10px;\" />\n",
    "</div>\n",
    "\n",
    "## Basic UDF with GPU Support\n",
    "\n",
    "In this tutorial we will build a very simple UDF which uses `pytorch` to validate GPU detection."
   ],
   "id": "1e48322dd9672749"
  },
  {
   "metadata": {},
   "cell_type": "markdown",
   "source": "## Open Secure Configuration Storage\n",
   "id": "fe7adb8ae2ad7918"
  },
  {
   "metadata": {},
   "cell_type": "code",
   "outputs": [],
   "execution_count": null,
   "source": [
    "%run ../utils/access_store_ui.ipynb\n",
    "display(get_access_store_ui('../'))"
   ],
   "id": "cec4948527eecfb0"
  },
  {
   "metadata": {},
   "cell_type": "markdown",
   "source": [
    "### Instantiate ScriptLanguagesContainer\n",
    "\n",
    "The following cell creates an instance of class `ScriptLanguageContainer` from the notebook-connector,\n",
    "which enables using the`exaslct` in the AI Lab in a convenient way."
   ],
   "id": "297a475cb817d3eb"
  },
  {
   "metadata": {},
   "cell_type": "code",
   "outputs": [],
   "execution_count": null,
   "source": [
    "from exasol.nb_connector.slc import ScriptLanguageContainer\n",
    "slc = ScriptLanguageContainer(secrets=ai_lab_config, name=\"gpu_slc\")"
   ],
   "id": "5fec6566fc1b2fa8"
  },
  {
   "metadata": {},
   "cell_type": "markdown",
   "source": "### Connect to the database and activate the container",
   "id": "ffc984ca5b56f59d"
  },
  {
   "metadata": {},
   "cell_type": "code",
   "outputs": [],
   "execution_count": null,
   "source": [
    "from exasol.nb_connector.language_container_activation import open_pyexasol_connection_with_lang_definitions\n",
    "\n",
    "conn = open_pyexasol_connection_with_lang_definitions(ai_lab_config, schema=ai_lab_config.db_schema, compression=True)"
   ],
   "id": "b0f54594ac5a6242"
  },
  {
   "metadata": {},
   "cell_type": "markdown",
   "source": [
    "### Create a GPU enabled UDF\n",
    "\n",
    "Exasol's UDF provide the script option `%perInstanceRequiredAcceleratorDevices` which allow the user to define the behavior of the database when executing UDF's. This option can have the following values:\n",
    "* `None`: NO accelerator selected/required (implicit default for CPU processing)\n",
    "* `GpuNvidia`: NVIDIA GPU accelerator required by the UDF. The invocation of the UDF will fail if GPU is unavailable or the Script Language Container is not suited for GPU's.\n",
    "* `None|GpuNvidia`: NVIDIA GPU accelerator preferred but fallback to NO accelerator (CPU processing)\n",
    "\n",
    "The following sample UDF requires GPU support by adding the line:\n",
    "```\n",
    " %perInstanceRequiredAcceleratorDevices GpuNvidia;\n",
    "```\n",
    "and returns the string `\"GPU Found\"` if the GPU was detected in the UDF."
   ],
   "id": "9d1775bc61c52c7d"
  },
  {
   "metadata": {},
   "cell_type": "code",
   "outputs": [],
   "execution_count": null,
   "source": [
    "import textwrap\n",
    "conn.execute(textwrap.dedent(f\"\"\"\n",
    "CREATE OR REPLACE {slc.language_alias} SCALAR SCRIPT\n",
    "gpu_available()\n",
    "RETURNS VARCHAR(10000) AS\n",
    " %perInstanceRequiredAcceleratorDevices GpuNvidia;\n",
    " %env PYTORCH_CUDA_DEBUG=1;\n",
    " %env CUDA_DEVICE_DEBUG=1;\n",
    "\n",
    "\n",
    "import torch\n",
    "import os\n",
    "import subprocess\n",
    "\n",
    "def run(ctx):\n",
    "    #result = subprocess.run(['nvidia-smi'], capture_output=True, text=True)\n",
    "    #return result.stdout\n",
    "    if torch.cuda.is_available():\n",
    "        return \"GPU Found\"\n",
    "    else:\n",
    "        return \"GPU Not Found\"\n",
    "/\n",
    "\"\"\"))\n",
    "\n",
    "res = conn.execute(\"SELECT gpu_available();\")\n",
    "for r in res:\n",
    "    print(r[0])"
   ],
   "id": "4dbb8695f5f85632"
  },
  {
   "metadata": {},
   "cell_type": "markdown",
   "source": "Now, try out the other values for `%perInstanceRequiredAcceleratorDevices` and see what happens.",
   "id": "78c5b0b90eae1d7a"
  },
  {
   "metadata": {},
   "cell_type": "markdown",
   "source": [
    "### Finish\n",
    "Now you can continue with [Advanced UDF with GPU support](./advanced_udf_with_gpu.ipynb)"
   ],
   "id": "a2ca96c72a20f31e"
  }
 ],
 "metadata": {
  "kernelspec": {
   "display_name": "Python 3",
   "language": "python",
   "name": "python3"
  },
  "language_info": {
   "codemirror_mode": {
    "name": "ipython",
    "version": 2
   },
   "file_extension": ".py",
   "mimetype": "text/x-python",
   "name": "python",
   "nbconvert_exporter": "python",
   "pygments_lexer": "ipython2",
   "version": "2.7.6"
  }
 },
 "nbformat": 4,
 "nbformat_minor": 5
}
