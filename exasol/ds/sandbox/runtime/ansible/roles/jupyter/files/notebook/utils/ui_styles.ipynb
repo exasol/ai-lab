{
 "cells": [
  {
   "cell_type": "markdown",
   "id": "c86561e6-5490-474a-9779-af0f65a97124",
   "metadata": {},
   "source": [
    "# UI Styles and Layouts\n",
    "\n",
    "<b>This notebook is not supposed to be used on its own.<b>\n",
    "\n",
    "## Assumptions about the UI layout\n",
    "The UI design aims to provide a convenient way of setting up various configuration parameters.\n",
    "\n",
    "A user form would consist of one or more blocks of data laid out vertically or horizontally. The positioning of these blocks is defined by the `outer_layout` property.\n",
    "\n",
    "A block includes a collection of UI elements. Each element is represented by a pair of widgets - a Label with the description of an element and the input widget, e.g. a Text. The layout of the elements within the block is defined by the `group_layout` property.\n",
    "\n",
    "The layout of the description Label and the input widget is defined by the `row_layout` property. As the name suggests, an input and its description are assumed to be placed next to one another in a row, although such design is not strictly required.\n",
    "\n",
    "A block may include a header Label where one can put the name of the input data group. `header_style` and `header_layout` define respectively the style and the layout of such labels.\n",
    "\n",
    "Likewise, the Labels of input elements have their style and layout defined by the `label_style` and `label_layout` properties. The input elements themselves have similar properties - `input_style` and `input_layout`.\n",
    "\n",
    "A user form may include one or more buttons. Their style and layout are defined as `button_style` and `button_layout`."
   ]
  },
  {
   "cell_type": "code",
   "execution_count": null,
   "id": "eb26994a-df37-466f-83e4-c57d7920d69b",
   "metadata": {},
   "outputs": [],
   "source": [
    "def get_config_styles():\n",
    "\n",
    "    from dataclasses import dataclass, field\n",
    "    import ipywidgets as widgets\n",
    "\n",
    "    @dataclass(frozen=True)\n",
    "    class UI_Look:\n",
    "        header_style: dict = field(default_factory=dict)\n",
    "        header_layout: widgets.Layout = field(default_factory=widgets.Layout)\n",
    "        label_style: dict = field(default_factory=dict)\n",
    "        label_layout: widgets.Layout = field(default_factory=widgets.Layout)\n",
    "        input_style: dict = field(default_factory=dict)\n",
    "        input_layout: widgets.Layout = field(default_factory=widgets.Layout)\n",
    "        button_style: dict = field(default_factory=dict)\n",
    "        button_layout: widgets.Layout = field(default_factory=widgets.Layout)\n",
    "        row_layout: widgets.Layout = field(default_factory=widgets.Layout)\n",
    "        group_layout: widgets.Layout = field(default_factory=widgets.Layout)\n",
    "        outer_layout: widgets.Layout = field(default_factory=widgets.Layout)\n",
    "        \n",
    "    return UI_Look(\n",
    "        header_style = {'background': 'Beige'},\n",
    "        header_layout = widgets.Layout(display='flex', justify_content='center', border='solid 1px'),\n",
    "        label_layout = widgets.Layout(max_width='130px'),\n",
    "        input_layout = widgets.Layout(max_width='200px'),\n",
    "        button_style = {'button_color': 'LightCyan'},\n",
    "        button_layout = widgets.Layout(border='solid 1px', margin='12px 0 0 0'),\n",
    "        row_layout = widgets.Layout(display='flex', flex_flow='row', max_width='350px', justify_content='space-between', \n",
    "                                    padding='0 0 0 10px'),\n",
    "        group_layout = widgets.Layout(display='flex', flex_flow='column', border='solid 1px', max_width='350px', \n",
    "                                      margin='12px 0 0 0'),\n",
    "        outer_layout = widgets.Layout(display='flex', flex_flow='column', align_items='stretch', padding='0 0 0 50px')\n",
    "    )"
   ]
  }
 ],
 "metadata": {
  "kernelspec": {
   "display_name": "Python 3 (ipykernel)",
   "language": "python",
   "name": "python3"
  },
  "language_info": {
   "codemirror_mode": {
    "name": "ipython",
    "version": 3
   },
   "file_extension": ".py",
   "mimetype": "text/x-python",
   "name": "python",
   "nbconvert_exporter": "python",
   "pygments_lexer": "ipython3",
   "version": "3.8.10"
  }
 },
 "nbformat": 4,
 "nbformat_minor": 5
}
