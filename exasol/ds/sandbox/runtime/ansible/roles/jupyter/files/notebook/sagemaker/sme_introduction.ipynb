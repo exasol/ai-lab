{
 "cells": [
  {
   "cell_type": "markdown",
   "id": "3d4712f3-3f71-487a-a8a4-5765efbb4cc7",
   "metadata": {},
   "source": [
    "# Introduction\n",
    "\n",
    "The Exasol Sagemaker Extension allows the development of an end-to-end machine learning project on data stored in Exasol using the AWS SageMaker Autopilot service.\n",
    "\n",
    "### AWS Sagemaker Autopilot Service\n",
    "\n",
    "AWS SageMaker is an AWS public cloud service in which users can build and deploy machine learning models. SageMaker provides a number of levels of abstraction for machine learning model development. At one of its highest levels of abstraction, SageMaker enables users to use an Automated machine learning (AutoML) service, called Autopilot in AWS, which automates the process of applying machine learning to real-world problems.\n",
    "\n",
    "Autopilot covers a complete pipeline of developing an end-to-end machine learning project, from raw data to a deployable model. It is able to automatically build, train, and tune a number of machine-learning models by inspecting the input data set. In this way, the following tasks, which are repeatedly applied by ML-experts in machine learning projects, are automated:\n",
    "* Pre-process and clean the data.\n",
    "* Perform feature engineering, selecting the most appropriate features.\n",
    "* Determine the most appropriate ML algorithm.\n",
    "* Tune and optimize model hyper-parameters.\n",
    "* Post-process machine learning models.\n",
    "\n",
    "The Exasol Sagemaker Extension takes these advantages of AWS Autopilot and enables users to easily create effective and efficient machine learning models without expert knowledge.\n",
    "\n",
    "### Exasol SageMaker Extension\n",
    "\n",
    "The Exasol Sagemaker Extension provides a Python library together with Exasol Scripts and UDFs that train Machine Learning Models on data stored in Exasol using AWS SageMaker Autopilot service.\n",
    "\n",
    "The extension exports a given Exasol table into AWS S3, and then triggers Machine Learning training using the AWS Autopilot service. It provides a script for polling training status. In order to perform predictions on a trained Autopilot model, one of the methods is to deploy the model to the real-time AWS endpoint. This extension provides Lua scripts for creating/deleting real-time endpoints and creates a model-specific UDF script for making real-time predictions. Here is the schematic picture of the solution.\n",
    "\n",
    "<img src=\"utils/sme_overview.png\"/>\n",
    "<center>Solution overview</center>"
   ]
  },
  {
   "cell_type": "markdown",
   "id": "1d5c821c-5ef5-469c-a1fc-cb845390a8c3",
   "metadata": {},
   "source": [
    "The extension requires a number of initialization steps.\n",
    "Please proceed to the [extension initialization](sme_int.ipynb) notebook."
   ]
  },
  {
   "cell_type": "code",
   "execution_count": null,
   "id": "4ef82228-2a0d-45fd-9ab1-3ba3e580839f",
   "metadata": {},
   "outputs": [],
   "source": []
  }
 ],
 "metadata": {
  "kernelspec": {
   "display_name": "Python 3 (ipykernel)",
   "language": "python",
   "name": "python3"
  },
  "language_info": {
   "codemirror_mode": {
    "name": "ipython",
    "version": 3
   },
   "file_extension": ".py",
   "mimetype": "text/x-python",
   "name": "python",
   "nbconvert_exporter": "python",
   "pygments_lexer": "ipython3",
   "version": "3.8.10"
  }
 },
 "nbformat": 4,
 "nbformat_minor": 5
}
