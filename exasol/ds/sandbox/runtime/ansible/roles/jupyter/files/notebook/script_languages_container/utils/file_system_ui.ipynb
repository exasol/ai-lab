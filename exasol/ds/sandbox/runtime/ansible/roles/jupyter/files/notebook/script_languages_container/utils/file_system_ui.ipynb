{
 "cells": [
  {
   "cell_type": "code",
   "execution_count": null,
   "id": "758126d0-4421-43da-b681-21ae4e37b571",
   "metadata": {},
   "outputs": [],
   "source": [
    "from pathlib import Path\n",
    "from typing import List\n",
    "from IPython.display import Code, display, FileLink, FileLinks\n",
    "import os\n",
    "\n",
    "import os\n",
    "import contextlib\n",
    "from pathlib import Path\n",
    "\n",
    "def show_directory_content(p: Path, max_depth: int = 1):\n",
    "    for path in p.iterdir():\n",
    "        if path.is_file():\n",
    "            display(FileLink(str(os.path.relpath(path))))\n",
    "        if path.is_dir() and max_depth > 1:\n",
    "            show_directory_content(path, max_depth - 1)\n",
    "\n",
    "def show_files(paths: List[Path]):\n",
    "        for path in paths:\n",
    "            if path.is_file():\n",
    "                display(FileLink(str(os.path.relpath(path))))\n",
    "\n",
    "def tail_file(path: Path, length: int):\n",
    "    with open(path) as f:\n",
    "        lines = f.readlines()\n",
    "        print(\"\".join(lines[-length:]))\n",
    "\n",
    "def show_docker_file(path: Path):\n",
    "    display(Code(filename=str(path), language=\"Docker\"))\n",
    "\n",
    "def show_pip_file(path: Path):\n",
    "    display(Code(filename=str(path), language=\"toml\"))"
   ]
  }
 ],
 "metadata": {
  "kernelspec": {
   "display_name": "Python 3 (ipykernel)",
   "language": "python",
   "name": "python3"
  },
  "language_info": {
   "codemirror_mode": {
    "name": "ipython",
    "version": 3
   },
   "file_extension": ".py",
   "mimetype": "text/x-python",
   "name": "python",
   "nbconvert_exporter": "python",
   "pygments_lexer": "ipython3",
   "version": "3.10.12"
  }
 },
 "nbformat": 4,
 "nbformat_minor": 5
}
