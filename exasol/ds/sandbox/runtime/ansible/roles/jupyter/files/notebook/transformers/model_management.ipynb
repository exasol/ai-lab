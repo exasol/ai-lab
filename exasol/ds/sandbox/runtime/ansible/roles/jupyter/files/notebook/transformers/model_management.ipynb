{
 "cells": [
  {
   "cell_type": "markdown",
   "id": "8fa128b9-3c22-4f33-85c5-be5d9c5b290f",
   "metadata": {},
   "source": [
    "# Model Management\n",
    "\n",
    "This model shows how you can manage the installed models in BucketFS.\n",
    "\n",
    "## Prerequisites\n",
    "\n",
    "Prior to using this notebook the following steps need to be completed:\n",
    "1. [Configure the AI-Lab](../main_config.ipynb).\n",
    "2. [Initialize the Transformer Extension](te_init.ipynb).\n",
    "\n",
    "## Setup\n",
    "\n",
    "### Open Secure Configuration Storage"
   ]
  },
  {
   "cell_type": "code",
   "execution_count": null,
   "id": "0ca8f5fb-0fe7-4f07-895d-0857d6c82af2",
   "metadata": {},
   "outputs": [],
   "source": [
    "%run ../utils/access_store_ui.ipynb\n",
    "display(get_access_store_ui('../'))"
   ]
  },
  {
   "cell_type": "markdown",
   "id": "836f39d7-26f1-4419-bfa9-a0057a45380f",
   "metadata": {},
   "source": [
    "Let's bring up JupySQL and connect to the database via SQLAlchemy. \n",
    "Please refer to the documentation of [sqlalchemy-exasol](https://github.com/exasol/sqlalchemy-exasol) for details on how to connect to the database using the Exasol SQLAlchemy driver."
   ]
  },
  {
   "cell_type": "code",
   "execution_count": null,
   "id": "9fe38507-de1a-417e-81d4-70c956a70914",
   "metadata": {},
   "outputs": [],
   "source": [
    "%run ../utils/jupysql_init.ipynb"
   ]
  },
  {
   "cell_type": "markdown",
   "id": "aaee4351-6210-4266-9525-d35f4381ba30",
   "metadata": {},
   "source": [
    "## Install a model\n",
    "\n",
    "In this example we need some model to demonstrate the available administration UDFs. For this we install the [Ekman emotions classifier](https://huggingface.co/arpanghoshal/EkmanClassifier) model.\n",
    "\n",
    "We need to load the model from the Huggingface hub into the [BucketFS](https://docs.exasol.com/db/latest/database_concepts/bucketfs/bucketfs.htm). This could potentially be a long process. Unfortunately, we cannot tell exactly when it has finished. The notebook's hourglass may not be a reliable indicator. BucketFS will still be doing some work when the call issued by the notebook returns. Please wait for a few moments after that, before querying the model.\n",
    "\n",
    "You might see a warning that some weights are newly initialized and the model should be trained on a down-stream task. Please ignore this warning. For the purpose of this demonstration, it is not important."
   ]
  },
  {
   "cell_type": "code",
   "execution_count": null,
   "id": "5f1ff6db-1bd5-4886-b353-27f3c72db2bf",
   "metadata": {},
   "outputs": [],
   "source": [
    "from exasol.nb_connector.model_installation import install_model, TransformerModel\n",
    "from transformers import AutoModelForSequenceClassification\n",
    "# This is the name of the model at the Huggingface Hub\n",
    "MODEL_NAME = 'arpanghoshal/EkmanClassifier'\n",
    "install_model(ai_lab_config, TransformerModel(MODEL_NAME, 'sequence_classification', AutoModelForSequenceClassification))"
   ]
  },
  {
   "cell_type": "markdown",
   "id": "5cf5a2a7-ddab-40b8-aed1-7e6ddaec867a",
   "metadata": {},
   "source": [
    "## List available models\n",
    "\n",
    "Now we have at least one model installed in BucketFS. (If you have already executed other notebooks from the Transformer Extension tuturial, you probably will have more models installed)\n",
    "\n",
    "We now can use the `TE_LIST_MODELS_UDF` UDF to check all available models."
   ]
  },
  {
   "cell_type": "code",
   "execution_count": null,
   "id": "a6a9e9b4-d9ce-410b-b374-a7d9f8feccea",
   "metadata": {
    "slideshow": {
     "slide_type": ""
    },
    "tags": [
     "running_model"
    ]
   },
   "outputs": [],
   "source": [
    "%%sql --save udf_output\n",
    "SELECT TE_LIST_MODELS_UDF(\n",
    "    '{{ai_lab_config.bfs_connection_name}}',\n",
    "    '{{ai_lab_config.bfs_model_subdir}}'\n",
    ")"
   ]
  },
  {
   "cell_type": "markdown",
   "id": "04ce1452-2571-447b-94f9-b923e6a2cb75",
   "metadata": {},
   "source": [
    "## Delete a model\n",
    "\n",
    "You can delete a model using the `TE_DELETE_MODEL_UDF` UDF.\n",
    "In the following example we delete the model, which was installed before.\n",
    "Note: We don't use the `%%sql` expression here because it interfers with the test tools. But feel free to use `%%sql` in your own notebooks.\n"
   ]
  },
  {
   "cell_type": "code",
   "execution_count": null,
   "id": "1eb66252-36b6-441f-9e7d-bf9ffcb3f8df",
   "metadata": {
    "slideshow": {
     "slide_type": ""
    },
    "tags": [
     "running_model_delete"
    ]
   },
   "outputs": [],
   "source": [
    "model_delete = %sql SELECT TE_DELETE_MODEL_UDF( \\\n",
    "    '{{ai_lab_config.bfs_connection_name}}', \\\n",
    "    '{{ai_lab_config.bfs_model_subdir}}', \\\n",
    "    'arpanghoshal/EkmanClassifier', \\\n",
    "    'text-classification' \\\n",
    ")\n",
    "model_delete"
   ]
  },
  {
   "cell_type": "markdown",
   "id": "16f68d93-3cea-4db5-82b9-23a2e3bad9a5",
   "metadata": {},
   "source": [
    "Running now `TE_LIST_MODELS_UDF` again will show that the model was removed from BucketFS."
   ]
  },
  {
   "cell_type": "code",
   "execution_count": null,
   "id": "9ad81a7f-f0ca-4473-a4ba-25349313f5d9",
   "metadata": {
    "tags": [
     "running_model"
    ]
   },
   "outputs": [],
   "source": [
    "%%sql --save udf_output\n",
    "SELECT TE_LIST_MODELS_UDF(\n",
    "    '{{ai_lab_config.bfs_connection_name}}',\n",
    "    '{{ai_lab_config.bfs_model_subdir}}'\n",
    ")"
   ]
  },
  {
   "cell_type": "markdown",
   "id": "6d785139-c83a-4474-ad1c-66870a9dcc2c",
   "metadata": {},
   "source": [
    "`TE_DELETE_MODEL_UDF` will not fail if an invalid parameter was given, but it will indicate an error in the output columns `success` and `error_message`.\n",
    "We can observe if we now try to delete the same model again.",
    "Note: We don't use the `%%sql` expression here because it interfers with the test tools. But feel free to use `%%sql` in your own notebooks.\n"
   ]
  },
  {
   "cell_type": "code",
   "execution_count": null,
   "id": "9e6baa6d-82ed-4cd1-9e03-c91d984f23b5",
   "metadata": {
    "tags": [
     "running_model_delete_error"
    ]
   },
   "outputs": [],
   "source": [
    "model_delete_with_error = %sql SELECT TE_DELETE_MODEL_UDF( \\\n",
    "    '{{ai_lab_config.bfs_connection_name}}', \\\n",
    "    '{{ai_lab_config.bfs_model_subdir}}', \\\n",
    "    'arpanghoshal/EkmanClassifier', \\\n",
    "    'text-classification' \\\n",
    ")\n",
    "model_delete_with_error"
   ]
  }
 ],
 "metadata": {
  "kernelspec": {
   "display_name": "Python 3 (ipykernel)",
   "language": "python",
   "name": "python3"
  },
  "language_info": {
   "codemirror_mode": {
    "name": "ipython",
    "version": 3
   },
   "file_extension": ".py",
   "mimetype": "text/x-python",
   "name": "python",
   "nbconvert_exporter": "python",
   "pygments_lexer": "ipython3",
   "version": "3.10.12"
  }
 },
 "nbformat": 4,
 "nbformat_minor": 5
}
