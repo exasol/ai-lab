{
 "cells": [
  {
   "cell_type": "markdown",
   "id": "51056cb1-6ee5-413e-a3b6-6ab2890ab887",
   "metadata": {},
   "source": [
    "# List of URLs used in the code\n",
    "\n",
    "<b>This notebook is not supposed to be used on its own.<b>"
   ]
  },
  {
   "cell_type": "code",
   "execution_count": null,
   "id": "d8fffc12-50f6-4f54-8911-75a387cc5245",
   "metadata": {},
   "outputs": [],
   "source": [
    "from enum import Enum\n",
    "\n",
    "class UsefulURLs(Enum):\n",
    "    user_manual_docker_db = 'https://github.com/exasol/ai-lab/blob/main/doc/user_guide/docker/docker-usage.md#ai-lab-with-integrated-exasol-docker-db'"
   ]
  }
 ],
 "metadata": {
  "kernelspec": {
   "display_name": "Python 3 (ipykernel)",
   "language": "python",
   "name": "python3"
  },
  "language_info": {
   "codemirror_mode": {
    "name": "ipython",
    "version": 3
   },
   "file_extension": ".py",
   "mimetype": "text/x-python",
   "name": "python",
   "nbconvert_exporter": "python",
   "pygments_lexer": "ipython3",
   "version": "3.8.10"
  }
 },
 "nbformat": 4,
 "nbformat_minor": 5
}
