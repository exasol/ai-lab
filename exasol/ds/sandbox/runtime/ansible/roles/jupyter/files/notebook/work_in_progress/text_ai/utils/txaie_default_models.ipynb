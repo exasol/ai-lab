{
 "cells": [
  {
   "cell_type": "markdown",
   "id": "dfbe2236-ed9b-4b6e-be18-11281d74161b",
   "metadata": {},
   "source": [
    "# Downlod default models for Ai-Lab Demos\n",
    "\n",
    "This notebook will download a number of transformers models from HuggingFace. These are models we use as default modelf for our Text AI Extension demo Notebooks.\n",
    "                                                                                                                       "
   ]
  },
  {
   "cell_type": "markdown",
   "id": "3527c269-de1d-4b07-aae6-2fe6fb27c497",
   "metadata": {},
   "source": [
    "First, some imports:"
   ]
  },
  {
   "cell_type": "code",
   "execution_count": null,
   "id": "eb553da3-2f36-4ac1-8f51-effd21f65fee",
   "metadata": {},
   "outputs": [],
   "source": [
    "from transformers import (\n",
    "    AutoModel,\n",
    "    AutoModelForTokenClassification,\n",
    "    AutoModelForSequenceClassification\n",
    ")\n",
    "from exasol.nb_connector.connections import open_bucketfs_location\n",
    "from exasol.nb_connector.text_ai_extension_wrapper import PATH_IN_BUCKET\n",
    "from exasol.ai.text.extractors.default_models import *\n",
    "from exasol.ai.text.impl.utils.transformers_utils import download_transformers_model"
   ]
  },
  {
   "cell_type": "markdown",
   "id": "c4f8026c-84ca-43a5-a1cc-60556e67d4c0",
   "metadata": {},
   "source": [
    "Now, we define a function which can download a model for us."
   ]
  },
  {
   "cell_type": "code",
   "execution_count": null,
   "id": "a303ff9a-086b-4673-af64-fb64ad7ee128",
   "metadata": {},
   "outputs": [],
   "source": [
    "bucketfs_location = open_bucketfs_location(ai_lab_config) / PATH_IN_BUCKET\n",
    "\n",
    "def download_transformers_model_for_txaie(model, task_type, model_factory):\n",
    "    download_transformers_model(\n",
    "        bucketfs_location=bucketfs_location,\n",
    "        sub_dir=ai_lab_config.txaie_models_bfs_dir,\n",
    "        task_type=task_type,\n",
    "        model_name=model,\n",
    "        model_factory=model_factory\n",
    "    )"
   ]
  },
  {
   "cell_type": "markdown",
   "id": "1e6e2f63-c6d4-4290-a494-ebe24e0ebd6e",
   "metadata": {},
   "source": [
    "And now we are ready to download our models. Each of these calls will take some time, depending on your internet connection.\n",
    "    \n",
    "**Note** : If these operations fail with a Error indicating a lost connection, please increase the size of your Database and try again."
   ]
  },
  {
   "cell_type": "code",
   "execution_count": null,
   "id": "6f2e25e3-8848-4eae-9955-dab1b13bb85a",
   "metadata": {},
   "outputs": [],
   "source": [
    "download_transformers_model_for_txaie(DEFAULT_FEATURE_EXTRACTION_MODEL, 'feature-extraction', AutoModel)"
   ]
  },
  {
   "cell_type": "code",
   "execution_count": null,
   "id": "5173f08c-6cd4-4c81-b780-e9e5d4593a0b",
   "metadata": {},
   "outputs": [],
   "source": [
    "download_transformers_model_for_txaie(DEFAULT_NAMED_ENTITY_MODEL, 'token-classification', AutoModelForTokenClassification)"
   ]
  },
  {
   "cell_type": "code",
   "execution_count": null,
   "id": "dadba1d6-2925-4b06-a60f-696f344a2d17",
   "metadata": {},
   "outputs": [],
   "source": [
    "download_transformers_model_for_txaie(DEFAULT_NLI_MODEL, 'zero-shot-classification', AutoModelForSequenceClassification)"
   ]
  },
  {
   "cell_type": "code",
   "execution_count": null,
   "id": "33529f6a-361c-40a9-b50f-70cdcbd331e2",
   "metadata": {},
   "outputs": [],
   "source": [
    "print(\"Model download done.\")"
   ]
  }
 ],
 "metadata": {
  "kernelspec": {
   "display_name": "Python 3 (ipykernel)",
   "language": "python",
   "name": "python3"
  },
  "language_info": {
   "codemirror_mode": {
    "name": "ipython",
    "version": 3
   },
   "file_extension": ".py",
   "mimetype": "text/x-python",
   "name": "python",
   "nbconvert_exporter": "python",
   "pygments_lexer": "ipython3",
   "version": "3.10.12"
  }
 },
 "nbformat": 4,
 "nbformat_minor": 5
}
