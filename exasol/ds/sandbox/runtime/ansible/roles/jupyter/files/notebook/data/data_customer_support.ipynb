{
 "cells": [
  {
   "metadata": {},
   "cell_type": "markdown",
   "source": [
    "# Customer Support ticket Dataset\n",
    "\n",
    "Here we will load a dataset containing customer support Tickets. There are ca. 8500 customer tickets, and each tickets as values such as customer details, purchased product, description, ticket types and various ticket labels. #todo link\n",
    "\n",
    "\n",
    "## Prerequisites\n",
    "\n",
    "Prior to using this notebook the following steps need to be completed:\n",
    "1. [Configure the AI-Lab](../main_config.ipynb).\n",
    "\n",
    "## Setup\n",
    "\n",
    "### Open Secure Configuration Storage"
   ],
   "id": "738b2deeb6043fb5"
  },
  {
   "cell_type": "code",
   "execution_count": null,
   "id": "initial_id",
   "metadata": {
    "collapsed": true
   },
   "outputs": [],
   "source": [
    "%run ../utils/access_store_ui.ipynb\n",
    "display(get_access_store_ui('../'))"
   ]
  },
  {
   "metadata": {},
   "cell_type": "markdown",
   "source": [
    "## Download data\n",
    "\n",
    "We will access the dataset on [Kaggle](https://www.kaggle.com/) using [kagglehub](https://github.com/Kaggle/kagglehub)."
   ],
   "id": "740c0630675f5c8b"
  },
  {
   "metadata": {},
   "cell_type": "code",
   "outputs": [],
   "execution_count": null,
   "source": [
    "!pip install kagglehub\n",
    "import kagglehub\n",
    "\n",
    "#todo switch to S3 download, put filtered data there first\n",
    "# Download latest version\n",
    "download_path = kagglehub.dataset_download(\"suraj520/customer-support-ticket-dataset\")\n",
    "\n",
    "print(\"Path to dataset files:\", download_path)"
   ],
   "id": "2cc9cc97741db1c7"
  },
  {
   "metadata": {},
   "cell_type": "markdown",
   "source": "Then we will load the data into a csv and convert it into a pandas dataframe for ease of use.",
   "id": "87c913b68ff37913"
  },
  {
   "metadata": {},
   "cell_type": "code",
   "outputs": [],
   "execution_count": null,
   "source": [
    "from pathlib import Path\n",
    "import pandas as pd\n",
    "\n",
    "csv_file = next(Path(path).glob(\"*\"))\n",
    "df = pd.read_csv(csv_file)\n",
    "print(df.head())\n"
   ],
   "id": "6e05ed696fc66688"
  },
  {
   "metadata": {},
   "cell_type": "markdown",
   "source": "Upload into Database",
   "id": "2247d8377f0e4c2b"
  },
  {
   "metadata": {},
   "cell_type": "code",
   "outputs": [],
   "execution_count": null,
   "source": [
    "from exasol.nb_connector.connections import open_pyexasol_connection\n",
    "\n",
    "with open_pyexasol_connection(ai_lab_config, compression=True) as conn:\n",
    "    conn.execute(f\"\"\"\n",
    "    CREATE OR REPLACE TABLE \"{ai_lab_config.db_schema}\".\"CUSTOMER_SUPPORT_TICKETS\" (\n",
    "        \"TICKET_ID\" INTEGER,\n",
    "        \"CUSTOMER_NAME\" VARCHAR(2000000),\n",
    "        \"CUSTOMER_EMAIL\" VARCHAR(2000000),\n",
    "        \"CUSTOMER_AGE\" INTEGER,\n",
    "        \"CUSTOMER_GENDER\" VARCHAR(2000000),\n",
    "        \"PRODUCT_PURCHASED\" VARCHAR(2000000),\n",
    "        \"DATE_OF_PURCHASE\" VARCHAR(2000000),\n",
    "        \"TICKET_TYPE\" VARCHAR(2000000),\n",
    "        \"TICKET_SUBJECT\" VARCHAR(2000000),\n",
    "        \"TICKET_DESCRIPTION\" VARCHAR(2000000),\n",
    "        \"TICKET_STATUS\" VARCHAR(2000000),\n",
    "        \"RESOLUTION\" VARCHAR(2000000),\n",
    "        \"TICKET_PRIORITY\" VARCHAR(2000000),\n",
    "        \"TICKET_CHANNEL\" VARCHAR(2000000),\n",
    "        \"FIRST_RESPONSE_TIME\" VARCHAR(2000000),\n",
    "        \"TIME_TO_RESOLUTION\" VARCHAR(2000000),\n",
    "        \"CUSTOMER_SATISFACTION_RATING\" VARCHAR(2000000)\n",
    "    );\n",
    "    \"\"\")\n",
    "    conn.import_from_pandas(split_df_list[0], table=(ai_lab_config.db_schema,\"ORIGINAL_CUSTOMER_SUPPORT_TICKETS\"))\n"
   ],
   "id": "2c33db2724e611a6"
  }
 ],
 "metadata": {
  "kernelspec": {
   "display_name": "Python 3",
   "language": "python",
   "name": "python3"
  },
  "language_info": {
   "codemirror_mode": {
    "name": "ipython",
    "version": 2
   },
   "file_extension": ".py",
   "mimetype": "text/x-python",
   "name": "python",
   "nbconvert_exporter": "python",
   "pygments_lexer": "ipython2",
   "version": "2.7.6"
  }
 },
 "nbformat": 4,
 "nbformat_minor": 5
}
