{
 "cells": [
  {
   "cell_type": "markdown",
   "id": "738b2deeb6043fb5",
   "metadata": {},
   "source": [
    "<div style=\"text-align: right;\">\n",
    "  <img src=\"https://raw.githubusercontent.com/exasol/ai-lab/refs/heads/main/assets/Exasol_Logo_2025_Dark.svg\" style=\"width:200px; margin: 10px;\" />\n",
    "</div>\n",
    "\n",
    "# Customer Support Ticket Dataset\n",
    "\n",
    "Here we will load a dataset containing customer support tickets. We are using a modified version of the following [dataset](https://www.kaggle.com/datasets/suraj520/customer-support-ticket-dataset). \n",
    "\n",
    "We modified the original dataset by removing data that was not needed for this demonstration. Furthermore, we replaced the purchased product placeholders in the ticket description with the actual product name, to show you in later notebooks, how you can extract this information from text with the help of Exasol.\n",
    "\n",
    "\n",
    "## Prerequisites\n",
    "\n",
    "Prior to using this notebook the following steps need to be completed:\n",
    "1. [Configure the AI-Lab](../main_config.ipynb).\n",
    "\n",
    "## Setup\n",
    "\n",
    "### Open Secure Configuration Storage"
   ]
  },
  {
   "cell_type": "code",
   "execution_count": null,
   "id": "initial_id",
   "metadata": {},
   "outputs": [],
   "source": [
    "%run ../utils/access_store_ui.ipynb\n",
    "display(get_access_store_ui('../'))"
   ]
  },
  {
   "cell_type": "markdown",
   "id": "0f7d485e",
   "metadata": {},
   "source": [
    "## Create Customer Support Ticket Table\n",
    "\n",
    "First we have to create the table to import the customer support dataset into."
   ]
  },
  {
   "cell_type": "code",
   "execution_count": null,
   "id": "c036a7df",
   "metadata": {},
   "outputs": [],
   "source": [
    "from exasol.nb_connector.connections import open_pyexasol_connection\n",
    "with open_pyexasol_connection(ai_lab_config, compression=True) as conn:\n",
    "    conn.execute(f\"\"\"\n",
    "    CREATE OR REPLACE TABLE {ai_lab_config.db_schema}.CUSTOMER_SUPPORT_TICKETS (\n",
    "        TICKET_ID DECIMAL(10,0), \n",
    "        CUSTOMER_NAME VARCHAR(100), \n",
    "        DATE_OF_PURCHASE DATE, \n",
    "        TICKET_SUBJECT VARCHAR(255), \n",
    "        TICKET_DESCRIPTION VARCHAR(2000), \n",
    "        TICKET_STATUS VARCHAR(50), \n",
    "        TICKET_CHANNEL VARCHAR(100)\n",
    "    );\n",
    "    \"\"\")"
   ]
  },
  {
   "cell_type": "markdown",
   "id": "97b1e6a8",
   "metadata": {},
   "source": [
    "## Import Data\n",
    "\n",
    "We will import the data via Exasols CSV Import statement."
   ]
  },
  {
   "cell_type": "code",
   "execution_count": null,
   "id": "e317a810",
   "metadata": {},
   "outputs": [],
   "source": [
    "from exasol.nb_connector.connections import open_pyexasol_connection\n",
    "with open_pyexasol_connection(ai_lab_config, compression=True) as conn:\n",
    "    conn.execute(f\"\"\"\n",
    "    IMPORT INTO {ai_lab_config.db_schema}.CUSTOMER_SUPPORT_TICKETS\n",
    "    FROM CSV \n",
    "    AT 'https://dut5tonqye28.cloudfront.net/ai_lab/text_ai/'\n",
    "    FILE 'customer_support_tickets.csv'\n",
    "    SKIP = 1\n",
    "    \"\"\")"
   ]
  },
  {
   "cell_type": "markdown",
   "id": "4c86d4f3",
   "metadata": {},
   "source": [
    "## Inspect the Data\n",
    "\n",
    "Now we can inspect the data."
   ]
  },
  {
   "cell_type": "code",
   "execution_count": null,
   "id": "9550497b",
   "metadata": {},
   "outputs": [],
   "source": [
    "from pandas import option_context\n",
    "with open_pyexasol_connection(ai_lab_config, compression=True) as conn:\n",
    "    df = conn.export_to_pandas(f\"\"\"\n",
    "    SELECT * FROM {ai_lab_config.db_schema}.CUSTOMER_SUPPORT_TICKETS\n",
    "    LIMIT 10\n",
    "    \"\"\")\n",
    "    with option_context('display.max_rows', 10, 'display.max_colwidth', 1000):\n",
    "        display(df)"
   ]
  }
 ],
 "metadata": {
  "kernelspec": {
   "display_name": "Python 3 (ipykernel)",
   "language": "python",
   "name": "python3"
  },
  "language_info": {
   "codemirror_mode": {
    "name": "ipython",
    "version": 3
   },
   "file_extension": ".py",
   "mimetype": "text/x-python",
   "name": "python",
   "nbconvert_exporter": "python",
   "pygments_lexer": "ipython3",
   "version": "3.10.12"
  }
 },
 "nbformat": 4,
 "nbformat_minor": 5
}
