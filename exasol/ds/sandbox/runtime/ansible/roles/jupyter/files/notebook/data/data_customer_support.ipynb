{
 "cells": [
  {
   "cell_type": "markdown",
   "id": "738b2deeb6043fb5",
   "metadata": {},
   "source": [
    "# Customer Support ticket Dataset\n",
    "\n",
    "Here we will load a dataset containing customer support Tickets. There are ca. 8500 customer tickets, and each tickets as values such as customer details, purchased product, description, ticket types and various ticket labels. Find the dataset [here](https://www.kaggle.com/datasets/suraj520/customer-support-ticket-dataset).\n",
    "\n",
    "\n",
    "## Prerequisites\n",
    "\n",
    "Prior to using this notebook the following steps need to be completed:\n",
    "1. [Configure the AI-Lab](../main_config.ipynb).\n",
    "\n",
    "## Setup\n",
    "\n",
    "### Open Secure Configuration Storage"
   ]
  },
  {
   "cell_type": "code",
   "execution_count": 8,
   "id": "initial_id",
   "metadata": {},
   "outputs": [
    {
     "data": {
      "application/vnd.jupyter.widget-view+json": {
       "model_id": "c8d955bb513a44d595d427c6366debbc",
       "version_major": 2,
       "version_minor": 0
      },
      "text/plain": [
       "Output()"
      ]
     },
     "metadata": {},
     "output_type": "display_data"
    },
    {
     "data": {
      "application/vnd.jupyter.widget-view+json": {
       "model_id": "2b7b36e798bc4ed5ac30a8d54d8a45b1",
       "version_major": 2,
       "version_minor": 0
      },
      "text/plain": [
       "Box(children=(Box(children=(Label(value='Configuration Store', layout=Layout(border_bottom='solid 1px', border…"
      ]
     },
     "metadata": {},
     "output_type": "display_data"
    }
   ],
   "source": [
    "%run ../utils/access_store_ui.ipynb\n",
    "display(get_access_store_ui('../'))"
   ]
  },
  {
   "cell_type": "markdown",
   "id": "740c0630675f5c8b",
   "metadata": {},
   "source": [
    "## Download data\n",
    "\n",
    "We will access the dataset on [Kaggle](https://www.kaggle.com/) using [kagglehub](https://github.com/Kaggle/kagglehub), and load it into a pandas dataframe."
   ]
  },
  {
   "cell_type": "code",
   "execution_count": 44,
   "id": "2cc9cc97741db1c7",
   "metadata": {},
   "outputs": [
    {
     "name": "stdout",
     "output_type": "stream",
     "text": [
      "Requirement already satisfied: kagglehub[pandas-datasets] in /home/jupyter/jupyterenv/lib/python3.10/site-packages (0.3.12)\n",
      "Requirement already satisfied: packaging in /home/jupyter/jupyterenv/lib/python3.10/site-packages (from kagglehub[pandas-datasets]) (24.2)\n",
      "Requirement already satisfied: pyyaml in /home/jupyter/jupyterenv/lib/python3.10/site-packages (from kagglehub[pandas-datasets]) (6.0.2)\n",
      "Requirement already satisfied: requests in /home/jupyter/jupyterenv/lib/python3.10/site-packages (from kagglehub[pandas-datasets]) (2.32.3)\n",
      "Requirement already satisfied: tqdm in /home/jupyter/jupyterenv/lib/python3.10/site-packages (from kagglehub[pandas-datasets]) (4.67.1)\n",
      "Requirement already satisfied: pandas in /home/jupyter/jupyterenv/lib/python3.10/site-packages (from kagglehub[pandas-datasets]) (2.2.3)\n",
      "Requirement already satisfied: numpy>=1.22.4 in /home/jupyter/jupyterenv/lib/python3.10/site-packages (from pandas->kagglehub[pandas-datasets]) (1.26.4)\n",
      "Requirement already satisfied: python-dateutil>=2.8.2 in /home/jupyter/jupyterenv/lib/python3.10/site-packages (from pandas->kagglehub[pandas-datasets]) (2.9.0.post0)\n",
      "Requirement already satisfied: pytz>=2020.1 in /home/jupyter/jupyterenv/lib/python3.10/site-packages (from pandas->kagglehub[pandas-datasets]) (2025.2)\n",
      "Requirement already satisfied: tzdata>=2022.7 in /home/jupyter/jupyterenv/lib/python3.10/site-packages (from pandas->kagglehub[pandas-datasets]) (2025.2)\n",
      "Requirement already satisfied: charset-normalizer<4,>=2 in /home/jupyter/jupyterenv/lib/python3.10/site-packages (from requests->kagglehub[pandas-datasets]) (3.4.1)\n",
      "Requirement already satisfied: idna<4,>=2.5 in /home/jupyter/jupyterenv/lib/python3.10/site-packages (from requests->kagglehub[pandas-datasets]) (3.10)\n",
      "Requirement already satisfied: urllib3<3,>=1.21.1 in /home/jupyter/jupyterenv/lib/python3.10/site-packages (from requests->kagglehub[pandas-datasets]) (2.3.0)\n",
      "Requirement already satisfied: certifi>=2017.4.17 in /home/jupyter/jupyterenv/lib/python3.10/site-packages (from requests->kagglehub[pandas-datasets]) (2025.1.31)\n",
      "Requirement already satisfied: six>=1.5 in /home/jupyter/jupyterenv/lib/python3.10/site-packages (from python-dateutil>=2.8.2->pandas->kagglehub[pandas-datasets]) (1.17.0)\n",
      "\n",
      "\u001B[1m[\u001B[0m\u001B[34;49mnotice\u001B[0m\u001B[1;39;49m]\u001B[0m\u001B[39;49m A new release of pip is available: \u001B[0m\u001B[31;49m25.0.1\u001B[0m\u001B[39;49m -> \u001B[0m\u001B[32;49m25.1.1\u001B[0m\n",
      "\u001B[1m[\u001B[0m\u001B[34;49mnotice\u001B[0m\u001B[1;39;49m]\u001B[0m\u001B[39;49m To update, run: \u001B[0m\u001B[32;49mpip install --upgrade pip\u001B[0m\n"
     ]
    }
   ],
   "source": [
    "!pip install kagglehub[pandas-datasets]\n",
    "import re\n",
    "import kagglehub\n",
    "from kagglehub import KaggleDatasetAdapter\n",
    "\n",
    "# Download latest version\n",
    "df = kagglehub.dataset_load(\n",
    "    KaggleDatasetAdapter.PANDAS, \n",
    "    \"suraj520/customer-support-ticket-dataset\", \n",
    "    \"customer_support_tickets.csv\"\n",
    ")\n"
   ]
  },
  {
   "cell_type": "code",
   "execution_count": 48,
   "id": "597cca4e-bcad-4f23-a9a6-af8b49708a32",
   "metadata": {},
   "outputs": [],
   "source": [
    "\n",
    "# replace {product purchased} placeholder in the ticket description with the product name\n",
    "pattern = re.compile(\n",
    "    r'\\{\\w*(product|purchase|name|item)\\w*\\}', \n",
    "    re.IGNORECASE\n",
    ")\n",
    "df['Ticket Description'] = df.apply(\n",
    "    lambda row: pattern.sub(row['Product Purchased'], row['Ticket Description']),\n",
    "    axis=1\n",
    ")\n",
    "\n"
   ]
  },
  {
   "cell_type": "markdown",
   "id": "2247d8377f0e4c2b",
   "metadata": {},
   "source": [
    "Now we are ready to upload the data to the Exasol Database:"
   ]
  },
  {
   "cell_type": "code",
   "execution_count": 49,
   "id": "2c33db2724e611a6",
   "metadata": {},
   "outputs": [],
   "source": [
    "from exasol.nb_connector.connections import open_pyexasol_connection\n",
    "\n",
    "with open_pyexasol_connection(ai_lab_config, compression=True) as conn:\n",
    "    conn.execute(f\"\"\"\n",
    "    CREATE OR REPLACE TABLE \"{ai_lab_config.db_schema}\".\"CUSTOMER_SUPPORT_TICKETS\" (\n",
    "        \"TICKET_ID\" INTEGER,\n",
    "        \"CUSTOMER_NAME\" VARCHAR(2000000),\n",
    "        \"CUSTOMER_EMAIL\" VARCHAR(2000000),\n",
    "        \"CUSTOMER_AGE\" INTEGER,\n",
    "        \"CUSTOMER_GENDER\" VARCHAR(2000000),\n",
    "        \"PRODUCT_PURCHASED\" VARCHAR(2000000),\n",
    "        \"DATE_OF_PURCHASE\" VARCHAR(2000000),\n",
    "        \"TICKET_TYPE\" VARCHAR(2000000),\n",
    "        \"TICKET_SUBJECT\" VARCHAR(2000000),\n",
    "        \"TICKET_DESCRIPTION\" VARCHAR(2000000),\n",
    "        \"TICKET_STATUS\" VARCHAR(2000000),\n",
    "        \"RESOLUTION\" VARCHAR(2000000),\n",
    "        \"TICKET_PRIORITY\" VARCHAR(2000000),\n",
    "        \"TICKET_CHANNEL\" VARCHAR(2000000),\n",
    "        \"FIRST_RESPONSE_TIME\" VARCHAR(2000000),\n",
    "        \"TIME_TO_RESOLUTION\" VARCHAR(2000000),\n",
    "        \"CUSTOMER_SATISFACTION_RATING\" VARCHAR(2000000)\n",
    "    );\n",
    "    \"\"\")\n",
    "    conn.import_from_pandas(df, table=(ai_lab_config.db_schema,\"CUSTOMER_SUPPORT_TICKETS\"))\n"
   ]
  },
  {
   "cell_type": "code",
   "execution_count": null,
   "id": "c18ad6a6-0216-48f7-bf4e-ac68d6e7fe94",
   "metadata": {},
   "outputs": [],
   "source": []
  }
 ],
 "metadata": {
  "kernelspec": {
   "display_name": "Python 3 (ipykernel)",
   "language": "python",
   "name": "python3"
  },
  "language_info": {
   "codemirror_mode": {
    "name": "ipython",
    "version": 3
   },
   "file_extension": ".py",
   "mimetype": "text/x-python",
   "name": "python",
   "nbconvert_exporter": "python",
   "pygments_lexer": "ipython3",
   "version": "3.10.12"
  }
 },
 "nbformat": 4,
 "nbformat_minor": 5
}
