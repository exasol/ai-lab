{
 "cells": [
  {
   "cell_type": "markdown",
   "id": "738b2deeb6043fb5",
   "metadata": {},
   "source": [
    "# Customer Support ticket Dataset\n",
    "\n",
    "Here we will load a dataset containing customer support Tickets. There are ca. 8500 customer tickets, and each tickets as values such as customer details, purchased product, description, ticket types and various ticket labels. #todo link\n",
    "\n",
    "\n",
    "## Prerequisites\n",
    "\n",
    "Prior to using this notebook the following steps need to be completed:\n",
    "1. [Configure the AI-Lab](../main_config.ipynb).\n",
    "\n",
    "## Setup\n",
    "\n",
    "### Open Secure Configuration Storage"
   ]
  },
  {
   "cell_type": "code",
   "execution_count": 1,
   "id": "initial_id",
   "metadata": {},
   "outputs": [
    {
     "data": {
      "application/vnd.jupyter.widget-view+json": {
       "model_id": "0cc3fde7cb644c959b066c14bcbd2f73",
       "version_major": 2,
       "version_minor": 0
      },
      "text/plain": [
       "Output()"
      ]
     },
     "metadata": {},
     "output_type": "display_data"
    },
    {
     "data": {
      "application/vnd.jupyter.widget-view+json": {
       "model_id": "5e6070f0cd724adaa02f4f6acfb98ce8",
       "version_major": 2,
       "version_minor": 0
      },
      "text/plain": [
       "Box(children=(Box(children=(Label(value='Configuration Store', layout=Layout(border_bottom='solid 1px', border…"
      ]
     },
     "metadata": {},
     "output_type": "display_data"
    }
   ],
   "source": [
    "%run ../utils/access_store_ui.ipynb\n",
    "display(get_access_store_ui('../'))"
   ]
  },
  {
   "cell_type": "markdown",
   "id": "740c0630675f5c8b",
   "metadata": {},
   "source": [
    "## Download data\n",
    "\n",
    "We will access the dataset on [Kaggle](https://www.kaggle.com/) using [kagglehub](https://github.com/Kaggle/kagglehub)."
   ]
  },
  {
   "cell_type": "code",
   "execution_count": 2,
   "id": "2cc9cc97741db1c7",
   "metadata": {},
   "outputs": [
    {
     "name": "stdout",
     "output_type": "stream",
     "text": [
      "Requirement already satisfied: kagglehub in /home/jupyter/jupyterenv/lib/python3.10/site-packages (0.3.12)\n",
      "Requirement already satisfied: packaging in /home/jupyter/jupyterenv/lib/python3.10/site-packages (from kagglehub) (24.2)\n",
      "Requirement already satisfied: pyyaml in /home/jupyter/jupyterenv/lib/python3.10/site-packages (from kagglehub) (6.0.2)\n",
      "Requirement already satisfied: requests in /home/jupyter/jupyterenv/lib/python3.10/site-packages (from kagglehub) (2.32.3)\n",
      "Requirement already satisfied: tqdm in /home/jupyter/jupyterenv/lib/python3.10/site-packages (from kagglehub) (4.67.1)\n",
      "Requirement already satisfied: charset-normalizer<4,>=2 in /home/jupyter/jupyterenv/lib/python3.10/site-packages (from requests->kagglehub) (3.4.1)\n",
      "Requirement already satisfied: idna<4,>=2.5 in /home/jupyter/jupyterenv/lib/python3.10/site-packages (from requests->kagglehub) (3.10)\n",
      "Requirement already satisfied: urllib3<3,>=1.21.1 in /home/jupyter/jupyterenv/lib/python3.10/site-packages (from requests->kagglehub) (2.3.0)\n",
      "Requirement already satisfied: certifi>=2017.4.17 in /home/jupyter/jupyterenv/lib/python3.10/site-packages (from requests->kagglehub) (2025.1.31)\n",
      "\n",
      "\u001b[1m[\u001b[0m\u001b[34;49mnotice\u001b[0m\u001b[1;39;49m]\u001b[0m\u001b[39;49m A new release of pip is available: \u001b[0m\u001b[31;49m25.0.1\u001b[0m\u001b[39;49m -> \u001b[0m\u001b[32;49m25.1.1\u001b[0m\n",
      "\u001b[1m[\u001b[0m\u001b[34;49mnotice\u001b[0m\u001b[1;39;49m]\u001b[0m\u001b[39;49m To update, run: \u001b[0m\u001b[32;49mpip install --upgrade pip\u001b[0m\n",
      "Path to dataset files: /home/jupyter/.cache/kagglehub/datasets/suraj520/customer-support-ticket-dataset/versions/1\n"
     ]
    }
   ],
   "source": [
    "!pip install kagglehub\n",
    "import kagglehub\n",
    "\n",
    "#todo switch to S3 download, put filtered data there first\n",
    "# Download latest version\n",
    "download_path = kagglehub.dataset_download(\"suraj520/customer-support-ticket-dataset\")\n",
    "\n",
    "print(\"Path to dataset files:\", download_path)"
   ]
  },
  {
   "cell_type": "markdown",
   "id": "87c913b68ff37913",
   "metadata": {},
   "source": [
    "Then we will load the data into a csv and convert it into a pandas dataframe for ease of use."
   ]
  },
  {
   "cell_type": "code",
   "execution_count": 3,
   "id": "6e05ed696fc66688",
   "metadata": {},
   "outputs": [],
   "source": [
    "from pathlib import Path\n",
    "import pandas as pd\n",
    "\n",
    "csv_file = next(Path(download_path).glob(\"*\"))\n",
    "df = pd.read_csv(csv_file)"
   ]
  },
  {
   "cell_type": "markdown",
   "id": "2247d8377f0e4c2b",
   "metadata": {},
   "source": [
    "Now we are ready to upload the data to the Exasol Database:"
   ]
  },
  {
   "cell_type": "code",
   "execution_count": 7,
   "id": "2c33db2724e611a6",
   "metadata": {},
   "outputs": [],
   "source": [
    "from exasol.nb_connector.connections import open_pyexasol_connection\n",
    "\n",
    "with open_pyexasol_connection(ai_lab_config, compression=True) as conn:\n",
    "    conn.execute(f\"\"\"\n",
    "    CREATE OR REPLACE TABLE \"{ai_lab_config.db_schema}\".\"CUSTOMER_SUPPORT_TICKETS\" (\n",
    "        \"TICKET_ID\" INTEGER,\n",
    "        \"CUSTOMER_NAME\" VARCHAR(2000000),\n",
    "        \"CUSTOMER_EMAIL\" VARCHAR(2000000),\n",
    "        \"CUSTOMER_AGE\" INTEGER,\n",
    "        \"CUSTOMER_GENDER\" VARCHAR(2000000),\n",
    "        \"PRODUCT_PURCHASED\" VARCHAR(2000000),\n",
    "        \"DATE_OF_PURCHASE\" VARCHAR(2000000),\n",
    "        \"TICKET_TYPE\" VARCHAR(2000000),\n",
    "        \"TICKET_SUBJECT\" VARCHAR(2000000),\n",
    "        \"TICKET_DESCRIPTION\" VARCHAR(2000000),\n",
    "        \"TICKET_STATUS\" VARCHAR(2000000),\n",
    "        \"RESOLUTION\" VARCHAR(2000000),\n",
    "        \"TICKET_PRIORITY\" VARCHAR(2000000),\n",
    "        \"TICKET_CHANNEL\" VARCHAR(2000000),\n",
    "        \"FIRST_RESPONSE_TIME\" VARCHAR(2000000),\n",
    "        \"TIME_TO_RESOLUTION\" VARCHAR(2000000),\n",
    "        \"CUSTOMER_SATISFACTION_RATING\" VARCHAR(2000000)\n",
    "    );\n",
    "    \"\"\")\n",
    "    conn.import_from_pandas(df, table=(ai_lab_config.db_schema,\"CUSTOMER_SUPPORT_TICKETS\"))\n"
   ]
  },
  {
   "cell_type": "code",
   "execution_count": null,
   "id": "7caa2154-5254-4d8c-beca-05f9f22ad7dd",
   "metadata": {},
   "outputs": [],
   "source": []
  }
 ],
 "metadata": {
  "kernelspec": {
   "display_name": "Python 3 (ipykernel)",
   "language": "python",
   "name": "python3"
  },
  "language_info": {
   "codemirror_mode": {
    "name": "ipython",
    "version": 3
   },
   "file_extension": ".py",
   "mimetype": "text/x-python",
   "name": "python",
   "nbconvert_exporter": "python",
   "pygments_lexer": "ipython3",
   "version": "3.10.12"
  }
 },
 "nbformat": 4,
 "nbformat_minor": 5
}
