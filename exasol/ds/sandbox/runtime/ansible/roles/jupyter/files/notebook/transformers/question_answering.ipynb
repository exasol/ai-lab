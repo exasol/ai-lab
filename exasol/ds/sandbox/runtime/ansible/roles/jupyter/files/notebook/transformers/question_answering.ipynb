{
 "cells": [
  {
   "cell_type": "markdown",
   "id": "0faec19c-8e4f-4ae8-8772-38dcca47d9e4",
   "metadata": {},
   "source": [
    "# Question answering model\n",
    "\n",
    "In this notebook, we will load and use a question-answering language model that can retrieve the answer to a question from a given text. Learn more about the Question Answering task <a href=\"https://huggingface.co/tasks/question-answering\" target=\"_blank\" rel=\"noopener\">here</a>. Please also refer to the Transformer Extension <a href=\"https://github.com/exasol/transformers-extension/blob/main/doc/user_guide/user_guide.md\" target=\"_blank\" rel=\"noopener\">User Guide</a> to find more information about the UDF used in this notebook.\n",
    "\n",
    "We will be running SQL queries using <a href=\"https://jupysql.ploomber.io/en/latest/quick-start.html\" target=\"_blank\" rel=\"noopener\"> JupySQL</a> SQL Magic.\n",
    "\n",
    "## Prerequisites\n",
    "\n",
    "Prior to using this notebook the following steps need to be completed:\n",
    "1. [Configure the sandbox](../sandbox_config.ipynb).\n",
    "2. [Initialize the Transformer Extension](te_init.ipynb).\n",
    "\n",
    "## Set up\n",
    "\n",
    "### Access configuration"
   ]
  },
  {
   "cell_type": "code",
   "execution_count": null,
   "id": "264c9323-7f40-40ca-93cf-db4853470206",
   "metadata": {},
   "outputs": [],
   "source": [
    "%run ../utils/access_store_ui.ipynb\n",
    "display(get_access_store_ui('../'))"
   ]
  },
  {
   "cell_type": "code",
   "execution_count": null,
   "id": "38994c13-a7eb-45bb-b0d0-4266830a481d",
   "metadata": {},
   "outputs": [],
   "source": [
    "EXTERNAL_HOST = f\"{sb_config.EXTERNAL_HOST_NAME}:{sb_config.HOST_PORT}\"\n",
    "\n",
    "WEBSOCKET_URL = f\"exa+websocket://{sb_config.USER}:{sb_config.PASSWORD}\" \\\n",
    "    f\"@{EXTERNAL_HOST}/{sb_config.SCHEMA}?SSLCertificate=SSL_VERIFY_NONE\""
   ]
  },
  {
   "cell_type": "markdown",
   "id": "cd5e24a7-ecde-42cb-bdff-7df4fc4f5c84",
   "metadata": {},
   "source": [
    "Let's bring up JupySQL and connect to the database via SQLAlchemy. Please refer to the documentation of <a href=\"https://github.com/exasol/sqlalchemy-exasol\" target=\"_blank\" rel=\"noopener\">sqlalchemy-exasol</a> for details on how to connect to the database using the Exasol SQLAlchemy driver."
   ]
  },
  {
   "cell_type": "code",
   "execution_count": null,
   "id": "13fa8443-17f5-4f75-8c2a-3a86d13d7911",
   "metadata": {},
   "outputs": [],
   "source": [
    "from sqlalchemy import create_engine\n",
    "\n",
    "engine = create_engine(WEBSOCKET_URL)\n",
    "\n",
    "%load_ext sql\n",
    "%sql engine"
   ]
  },
  {
   "cell_type": "markdown",
   "id": "b60ef68c-3556-4742-91b9-836b31699e4c",
   "metadata": {},
   "source": [
    "## Get language model\n",
    "\n",
    "To demonstrate the question-answering task we will use the [roberta model](https://huggingface.co/deepset/roberta-base-squad2).\n",
    "\n",
    "We need to load the model from the Huggingface hub into the BucketFS. This could potentially be a long process. Unfortunately, we cannot tell exactly when it has finished. The notebook's hourglass may not be a reliable indicator. BucketFS will still be doing some work when the call issued by the notebook returns. Please wait for a few moments after that, before querying the model."
   ]
  },
  {
   "cell_type": "code",
   "execution_count": null,
   "id": "6244f4ff-5054-486c-86ef-4f2389744ed9",
   "metadata": {},
   "outputs": [],
   "source": [
    "# This is the name of the model at the Huggingface Hub\n",
    "MODEL_NAME = 'deepset/roberta-base-squad2'"
   ]
  },
  {
   "cell_type": "code",
   "execution_count": null,
   "id": "823b02ed-c50e-4908-a9de-7b358b449e8d",
   "metadata": {},
   "outputs": [],
   "source": [
    "%run utils/model_retrieval.ipynb\n",
    "load_huggingface_model(MODEL_NAME, sb_config)"
   ]
  },
  {
   "cell_type": "markdown",
   "id": "3122d4bf-4942-4ee1-a73f-3f61ac46c4af",
   "metadata": {},
   "source": [
    "## Use language model\n",
    "\n",
    "We are going to check the model output given the same question but two different contexts. In neither case the context has a direct answer to the question. We expect the answer to be relevant to the context."
   ]
  },
  {
   "cell_type": "code",
   "execution_count": null,
   "id": "087ac7fa-945a-429a-87ed-b45de2c69259",
   "metadata": {},
   "outputs": [],
   "source": [
    "# This will be our question\n",
    "TEST_QUESTION = 'What bitumen is used for?'\n",
    "\n",
    "# Let's first try it first with the following context\n",
    "TEST_CONTEXT1 = \"\"\"\n",
    "Apart from the stylish design features of new flat roofs, the other thing that’s moved on considerably is the technology\n",
    "used to keep them weather-proof. Once flat roofs were notoriously prone to leaking and the problem could only be solved\n",
    "with a boiling cauldron of tar. These days there are patch repair kits, liquid rubber membranes, and even quick,\n",
    "efficient waterproofing paint that lasts for ages – and can even be applied in damp weather.\n",
    "\"\"\"\n",
    "\n",
    "# Make sure our texts can be used in an SQL statement.\n",
    "TEST_QUESTION = TEST_QUESTION.replace(\"'\", \"''\")\n",
    "TEST_CONTEXT1 = TEST_CONTEXT1.replace(\"'\", \"''\")"
   ]
  },
  {
   "cell_type": "markdown",
   "id": "43f3f6e9-6f40-49b2-bbba-8954c35b5e06",
   "metadata": {},
   "source": [
    "We will collect 5 best answers."
   ]
  },
  {
   "cell_type": "code",
   "execution_count": null,
   "id": "346b1b8a-b1aa-4bea-b351-83b8ee6ab7b7",
   "metadata": {},
   "outputs": [],
   "source": [
    "%%sql\n",
    "WITH MODEL_OUTPUT AS\n",
    "(\n",
    "    SELECT TE_QUESTION_ANSWERING_UDF(\n",
    "        NULL,\n",
    "        '{{sb_config.TE_BFS_CONN}}',\n",
    "        '{{sb_config.TE_TOKEN_CONN}}',\n",
    "        '{{sb_config.TE_MODELS_BFS_DIR}}',\n",
    "        '{{MODEL_NAME}}',\n",
    "        '{{TEST_QUESTION}}',\n",
    "        '{{TEST_CONTEXT1}}',\n",
    "        5\n",
    "    )\n",
    ")\n",
    "SELECT answer, score, error_message FROM MODEL_OUTPUT ORDER BY SCORE DESC"
   ]
  },
  {
   "cell_type": "markdown",
   "id": "061139b0-2f3c-41c5-8176-d83789cb39e5",
   "metadata": {},
   "source": [
    "Let's change the context and see a different set of answers."
   ]
  },
  {
   "cell_type": "code",
   "execution_count": null,
   "id": "0787b6ac-f3db-4971-b010-0eac38bd1921",
   "metadata": {},
   "outputs": [],
   "source": [
    "# New context\n",
    "TEST_CONTEXT2 = \"\"\"\n",
    "You can make a wooden planter in a day, using treated timber. Simply work out how big an area you need,\n",
    "cut the wood to size and follow our steps to putting the planter together. Make sure your wooden planter\n",
    "has drainage holes, so plants don’t become waterlogged.\n",
    "\"\"\"\n",
    "\n",
    "TEST_CONTEXT2 = TEST_CONTEXT2.replace(\"'\", \"''\")"
   ]
  },
  {
   "cell_type": "code",
   "execution_count": null,
   "id": "07b71013-b0ae-44c9-a299-ade8e307213c",
   "metadata": {},
   "outputs": [],
   "source": [
    "%%sql\n",
    "WITH MODEL_OUTPUT AS\n",
    "(\n",
    "    SELECT TE_QUESTION_ANSWERING_UDF(\n",
    "        NULL,\n",
    "        '{{sb_config.TE_BFS_CONN}}',\n",
    "        '{{sb_config.TE_TOKEN_CONN}}',\n",
    "        '{{sb_config.TE_MODELS_BFS_DIR}}',\n",
    "        '{{MODEL_NAME}}',\n",
    "        '{{TEST_QUESTION}}',\n",
    "        '{{TEST_CONTEXT2}}',\n",
    "        5\n",
    "    )\n",
    ")\n",
    "SELECT answer, score, error_message FROM MODEL_OUTPUT ORDER BY SCORE DESC"
   ]
  },
  {
   "cell_type": "markdown",
   "id": "64bb5eca-b4e0-447c-bafd-f273c7c53a70",
   "metadata": {},
   "source": [
    "The code above shows how the model works on a toy example. However, the main purpose of having a model deployed in the database is to get a quick response for a batch input. The performance gain comes from two factors - localization and parallelization. The first means that the input data never crosses the machine boundaries. The second means that multiple instances of the model are processing the data on all available nodes in parallel.\n",
    "\n",
    "Another advantage of making predictions within the database is enhanced data security. The task of safeguarding privacy can be simplified given the fact that the source data never leaves the database machine.\n",
    "\n",
    "In a more practical application, the question and the context would be stored in columns of a database table. For example, if we wanted to get the best answer for each row of the input table `MY_TEXT_TABLE`, where the question is in the column `MY_QUESTION` and the context is in the column `MY_CONTEXT`, the SQL would look similar to this:\n",
    "```\n",
    "SELECT TE_QUESTION_ANSWERING_UDF(..., MY_QUESTION, MY_CONTEXT, 1) FROM MY_TEXT_TABLE;\n",
    "```\n",
    "Please note, that the response time observed on the provided example with a single input will not be scaled up linearly in case of multiple inputs. Much of the latency falls on loading the model into the CPU memory from BucketFS. This needs to be done only once regardless of the number of inputs."
   ]
  },
  {
   "cell_type": "code",
   "execution_count": null,
   "id": "e3486cfa-53e2-47be-a445-cd6c13e654bb",
   "metadata": {},
   "outputs": [],
   "source": []
  }
 ],
 "metadata": {
  "kernelspec": {
   "display_name": "Python 3 (ipykernel)",
   "language": "python",
   "name": "python3"
  },
  "language_info": {
   "codemirror_mode": {
    "name": "ipython",
    "version": 3
   },
   "file_extension": ".py",
   "mimetype": "text/x-python",
   "name": "python",
   "nbconvert_exporter": "python",
   "pygments_lexer": "ipython3",
   "version": "3.8.10"
  }
 },
 "nbformat": 4,
 "nbformat_minor": 5
}
