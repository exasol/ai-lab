{
 "cells": [
  {
   "cell_type": "markdown",
   "id": "70724412-6577-4e69-86a1-b0d94e32eb96",
   "metadata": {},
   "source": [
    "# Configure Tutorial Script Languages Container\n",
    "\n",
    "## Prerequisites\n",
    "\n",
    "Prior to using this notebook the following steps need to be completed:\n",
    "1. [Configure the AI-Lab](../main_config.ipynb).\n",
    "\n",
    "### Open Secure Configuration Storage\n"
   ]
  },
  {
   "cell_type": "code",
   "execution_count": null,
   "id": "e70ad0a9-7042-4fe8-814b-5c586b9bee6d",
   "metadata": {},
   "outputs": [],
   "source": [
    "%run ../utils/access_store_ui.ipynb\n",
    "display(get_access_store_ui('../'))"
   ]
  },
  {
   "cell_type": "markdown",
   "id": "b81b0103-1014-4bc9-8724-0c0bafa83a23",
   "metadata": {},
   "source": [
    "### Check that we don't have a SaaS backend configured"
   ]
  },
  {
   "cell_type": "code",
   "execution_count": null,
   "id": "95d1e0e1-e334-4154-91cd-765d78868eaa",
   "metadata": {},
   "outputs": [],
   "source": [
    "from exasol.nb_connector.ai_lab_config import StorageBackend, AILabConfig\n",
    "if ai_lab_config.get(AILabConfig.storage_backend, ) == StorageBackend.saas.name:\n",
    "    popup_message(f\"This tutorial will not work correctly with a SaaS as backend. You can export the Script-Languages-Container to a local file, but the upload to the database will fail.\")\n"
   ]
  },
  {
   "metadata": {},
   "cell_type": "markdown",
   "source": [
    "## Specific Configuration for this Tutorial\n",
    "\n",
    "For this tutorial we need the build definition of a Script-Languages container.\n",
    "\n",
    "The tutorial will clone the Script-Languages-Release repository and use a specifc version.\n",
    "First we import a convenience class from the notebook connector, called `ScriptLanguagesContainer`."
   ],
   "id": "1adb7d2770b9906e"
  },
  {
   "metadata": {},
   "cell_type": "code",
   "execution_count": null,
   "source": "from exasol.nb_connector.slc import ScriptLanguageContainer",
   "id": "43aa33006ffa975a",
   "outputs": []
  },
  {
   "metadata": {},
   "cell_type": "markdown",
   "source": "This class provides a constant pointing to the Github release used in the current version.",
   "id": "eb25fa82fea00c28"
  },
  {
   "metadata": {},
   "cell_type": "code",
   "outputs": [],
   "execution_count": null,
   "source": "ScriptLanguageContainer.GITHUB_URL",
   "id": "779378af80ac043f"
  },
  {
   "metadata": {},
   "cell_type": "markdown",
   "source": "The class `ScriptLanguageContainer` also provides a function to fetch and show all available template flavors:",
   "id": "9b7c3ae4940a3bda"
  },
  {
   "metadata": {},
   "cell_type": "code",
   "outputs": [],
   "execution_count": null,
   "source": "ScriptLanguageContainer.list_available_flavors()",
   "id": "9084014cfef72742"
  },
  {
   "cell_type": "markdown",
   "id": "395d6f4f-6e06-45e3-a9a7-54dc94e73332",
   "metadata": {},
   "source": [
    "### Define the flavor for our Script Languages Container\n",
    "\n",
    "Now let's the define the flavor we want to use in this tutorial. In this tutorial we will use the [template-Exasol-all-python-3.10](https://github.com/exasol/script-languages/blob/master/flavors/template-Exasol-all-python-3.10/FLAVOR_DESCRIPTION.md) flavor.\n"
   ]
  },
  {
   "cell_type": "code",
   "execution_count": null,
   "id": "8281a4f32b1bade9",
   "metadata": {},
   "outputs": [],
   "source": [
    "flavor = \"template-Exasol-all-python-3.10\""
   ]
  },
  {
   "cell_type": "markdown",
   "id": "24d0d337bbf26c47",
   "metadata": {},
   "source": [
    "### Create an instance of class ScriptLanguagesContainer\n",
    "\n",
    "The following cell creates an instance of class `ScriptLanguageContainer` from the notebook-connector,\n",
    "which enables using the`exaslct` in the AI Lab in a convenient way.\n",
    "Creating this instance will:\n",
    "* Check that no other entries exist in Secret Store\n",
    "* Add all necessary entries to the Secret Store\n",
    "* Clone the [script-languages-release](https://github.com/exasol/script-languages-release) repository"
   ]
  },
  {
   "cell_type": "code",
   "execution_count": null,
   "id": "9f42c7c6-0297-4cb4-bedf-d3a2a58e69fc",
   "metadata": {
    "ExecuteTime": {
     "end_time": "2025-08-13T17:41:30.750592Z",
     "start_time": "2025-08-13T17:41:30.554520Z"
    }
   },
   "outputs": [],
   "source": "slc = ScriptLanguageContainer.create(secrets=ai_lab_config, name=\"sample_slc\", flavor=flavor)"
  },
  {
   "cell_type": "markdown",
   "id": "21840146-28bd-413f-a9ce-cd22b17939b2",
   "metadata": {},
   "source": [
    "## Finish\n",
    "Now you can continue with [Using the script-languages-container tool](./using_the_script_languages_container_tool.ipynb) "
   ]
  }
 ],
 "metadata": {
  "kernelspec": {
   "display_name": "Python 3 (ipykernel)",
   "language": "python",
   "name": "python3"
  },
  "language_info": {
   "codemirror_mode": {
    "name": "ipython",
    "version": 3
   },
   "file_extension": ".py",
   "mimetype": "text/x-python",
   "name": "python",
   "nbconvert_exporter": "python",
   "pygments_lexer": "ipython3",
   "version": "3.10.12"
  }
 },
 "nbformat": 4,
 "nbformat_minor": 5
}
