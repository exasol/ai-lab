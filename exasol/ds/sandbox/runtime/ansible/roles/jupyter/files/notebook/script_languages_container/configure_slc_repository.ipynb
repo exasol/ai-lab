{
 "cells": [
  {
   "cell_type": "markdown",
   "id": "70724412-6577-4e69-86a1-b0d94e32eb96",
   "metadata": {},
   "source": [
    "# Configure Tutorial Script Languages Container\n",
    "\n",
    "## Prerequisites\n",
    "\n",
    "Prior to using this notebook the following steps need to be completed:\n",
    "1. [Configure the AI-Lab](../main_config.ipynb).\n",
    "\n",
    "### Open Secure Configuration Storage\n"
   ]
  },
  {
   "cell_type": "code",
   "execution_count": null,
   "id": "e70ad0a9-7042-4fe8-814b-5c586b9bee6d",
   "metadata": {},
   "outputs": [],
   "source": [
    "%run ../utils/access_store_ui.ipynb\n",
    "display(get_access_store_ui('../'))"
   ]
  },
  {
   "cell_type": "markdown",
   "id": "6cdb53e1-3d9e-40af-a340-4ef224727fa0",
   "metadata": {},
   "source": [
    "## Specific Configuration for this Tutorial\n",
    "\n",
    "For this tutorial we need the build definition of a Script-Languages container.\n",
    "\n",
    "You have two options:\n",
    " - default: Clone the Exasol <a href=\"https://github.com/exasol/script-languages-release\" target=\"_blank\" rel=\"noopener\">Script-Languages-Release</a> Github repository.\n",
    " - for advanced users: Use a custom path to an existing clone of the Exasol <a href=\"https://github.com/exasol/script-languages-release\" target=\"_blank\" rel=\"noopener\">Script-Languages-Release</a> Github repository.\n"
   ]
  },
  {
   "cell_type": "markdown",
   "id": "9f02bc2f-411f-4479-b2e2-1afef96e4bd8",
   "metadata": {},
   "source": [
    "### Load UI functions\n",
    "Let's import some additional UI functions in order to use them in this notebook."
   ]
  },
  {
   "cell_type": "code",
   "execution_count": null,
   "id": "224345da-f14e-4a45-bf8a-07e3ba0870dc",
   "metadata": {},
   "outputs": [],
   "source": [
    "%run ./utils/slc_ui.ipynb"
   ]
  },
  {
   "cell_type": "markdown",
   "id": "b81b0103-1014-4bc9-8724-0c0bafa83a23",
   "metadata": {},
   "source": [
    "### Check that we don't have a SaaS backend configured"
   ]
  },
  {
   "cell_type": "code",
   "execution_count": 5,
   "id": "95d1e0e1-e334-4154-91cd-765d78868eaa",
   "metadata": {},
   "outputs": [],
   "source": [
    "from exasol.nb_connector.ai_lab_config import StorageBackend\n",
    "if ai_lab_config.get(AILabConfig.storage_backend, ) == StorageBackend.saas.name:\n",
    "    popup_message(f\"This tutorial will not work correctly with a SaaS as backend. You can export the Script-Languages-Container to a local file, but the upload to the database will fail.\")\n"
   ]
  },
  {
   "cell_type": "markdown",
   "id": "395d6f4f-6e06-45e3-a9a7-54dc94e73332",
   "metadata": {},
   "source": [
    "### Instantiate SLCT Manager\n",
    "\n",
    "We create an instance of the SlctManager class from the notebook connector. SLCT Manager, which stands for \"Script-Languages-Container-Tools\" Manager. This class has some utility functions which simplifies the use of the exaslct API."
   ]
  },
  {
   "cell_type": "code",
   "execution_count": null,
   "id": "9f42c7c6-0297-4cb4-bedf-d3a2a58e69fc",
   "metadata": {},
   "outputs": [],
   "source": [
    "from exasol.nb_connector.slct_manager import SlctManager\n",
    "slct_manager = SlctManager(ai_lab_config)"
   ]
  },
  {
   "cell_type": "markdown",
   "id": "178b59e9-8f46-43b1-b4f8-9cd6d6bf5076",
   "metadata": {},
   "source": [
    "### Configure the Script-Languages directory\n",
    "#### Choose the source"
   ]
  },
  {
   "cell_type": "code",
   "execution_count": null,
   "id": "0f8caa77-35a0-403d-af96-e5f8056ba489",
   "metadata": {},
   "outputs": [],
   "source": [
    "display(get_slc_source_selection_ui(ai_lab_config))"
   ]
  },
  {
   "cell_type": "markdown",
   "id": "fc0fe1a5-8861-4f18-8bcf-92600f86f33f",
   "metadata": {},
   "source": [
    "### Use existing script-languages-repository\n",
    "If chose to use an existing script-languages-repository path you simply select the path."
   ]
  },
  {
   "cell_type": "code",
   "execution_count": null,
   "id": "56e16540-5f4b-4d5c-8c83-d34c1217eb00",
   "metadata": {},
   "outputs": [],
   "source": [
    "display(get_existing_slc_ui(ai_lab_config))"
   ]
  },
  {
   "cell_type": "markdown",
   "id": "1db0f115-9382-4e53-be08-53586b831d0b",
   "metadata": {},
   "source": [
    "### Clone the Script-Languages-Release repository\n",
    "If you want to use the Exasol script-languages-repository we need first to choose the root path where the repository should be stored."
   ]
  },
  {
   "cell_type": "code",
   "execution_count": null,
   "id": "7d84889f-7c3a-4f69-9bf1-c193481867af",
   "metadata": {},
   "outputs": [],
   "source": [
    "display(get_slc_target_dir_ui(ai_lab_config))"
   ]
  },
  {
   "cell_type": "markdown",
   "id": "a02ee33f-1958-4f9c-a796-01c6bc2a8787",
   "metadata": {},
   "source": [
    "#### Clone the repository"
   ]
  },
  {
   "cell_type": "code",
   "execution_count": null,
   "id": "31132726-9827-4c9b-8fb8-0884d2f36e67",
   "metadata": {},
   "outputs": [],
   "source": [
    "if clone_slc_repo(ai_lab_config):\n",
    "    slct_manager.clone_slc_repo()\n",
    "print(\"Ready\")"
   ]
  },
  {
   "cell_type": "markdown",
   "id": "53997bff-b4be-406f-b54f-ae9f39939ede",
   "metadata": {},
   "source": [
    "#### Verify that the required flavor for the tutorial is present"
   ]
  },
  {
   "cell_type": "code",
   "execution_count": null,
   "id": "bb6b26b9-cb24-4b66-85c9-e15a0c92ff2c",
   "metadata": {
    "scrolled": true
   },
   "outputs": [],
   "source": [
    "if not slct_manager.check_slc_repo_complete():\n",
    "    popup_message(f\"The script-languages repository does not fullfill requirements.\")\n"
   ]
  },
  {
   "cell_type": "markdown",
   "id": "21840146-28bd-413f-a9ce-cd22b17939b2",
   "metadata": {},
   "source": [
    "## Finish\n",
    "Now you can continue with [Using the script-languages-container tool](./using_the_script_languages_container_tool.ipynb) "
   ]
  }
 ],
 "metadata": {
  "kernelspec": {
   "display_name": "Python 3 (ipykernel)",
   "language": "python",
   "name": "python3"
  },
  "language_info": {
   "codemirror_mode": {
    "name": "ipython",
    "version": 3
   },
   "file_extension": ".py",
   "mimetype": "text/x-python",
   "name": "python",
   "nbconvert_exporter": "python",
   "pygments_lexer": "ipython3",
   "version": "3.10.12"
  }
 },
 "nbformat": 4,
 "nbformat_minor": 5
}
