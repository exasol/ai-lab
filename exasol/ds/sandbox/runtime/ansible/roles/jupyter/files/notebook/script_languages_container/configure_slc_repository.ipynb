{
 "cells": [
  {
   "cell_type": "markdown",
   "id": "70724412-6577-4e69-86a1-b0d94e32eb96",
   "metadata": {},
   "source": [
    "# Configure Tutorial Script Languages Container\n",
    "\n",
    "## Prerequisites\n",
    "\n",
    "Prior to using this notebook the following steps need to be completed:\n",
    "1. [Configure the AI-Lab](../main_config.ipynb).\n",
    "\n",
    "### Open Secure Configuration Storage\n"
   ]
  },
  {
   "cell_type": "code",
   "execution_count": 2,
   "id": "e70ad0a9-7042-4fe8-814b-5c586b9bee6d",
   "metadata": {},
   "outputs": [
    {
     "data": {
      "application/vnd.jupyter.widget-view+json": {
       "model_id": "906079c18acf4f34aff184ef9053acb1",
       "version_major": 2,
       "version_minor": 0
      },
      "text/plain": [
       "Output()"
      ]
     },
     "metadata": {},
     "output_type": "display_data"
    },
    {
     "data": {
      "application/vnd.jupyter.widget-view+json": {
       "model_id": "6d69f1ece44244d0bebdf2348a4c029a",
       "version_major": 2,
       "version_minor": 0
      },
      "text/plain": [
       "Box(children=(Box(children=(Label(value='Configuration Store', layout=Layout(border_bottom='solid 1px', border…"
      ]
     },
     "metadata": {},
     "output_type": "display_data"
    }
   ],
   "source": [
    "%run ../utils/access_store_ui.ipynb\n",
    "display(get_access_store_ui('../'))"
   ]
  },
  {
   "cell_type": "markdown",
   "id": "6cdb53e1-3d9e-40af-a340-4ef224727fa0",
   "metadata": {},
   "source": [
    "## Specific Configuration for this Tutorial\n",
    "\n",
    "For this tutorial we need the build definition of a Script-Languages container.\n",
    "\n",
    "You have two options:\n",
    " - default: Clone the Exasol <a href=\"https://github.com/exasol/script-languages-release\" target=\"_blank\" rel=\"noopener\">Script-Languages-Release</a> Github repository.\n",
    " - for advanced users: Use a custom path to an existing clone of the Exasol <a href=\"https://github.com/exasol/script-languages-release\" target=\"_blank\" rel=\"noopener\">Script-Languages-Release</a> Github repository.\n"
   ]
  },
  {
   "cell_type": "markdown",
   "id": "9f02bc2f-411f-4479-b2e2-1afef96e4bd8",
   "metadata": {},
   "source": [
    "### Load UI functions\n",
    "Let's import some additional UI functions in order to use them in this notebook."
   ]
  },
  {
   "cell_type": "code",
   "execution_count": 3,
   "id": "224345da-f14e-4a45-bf8a-07e3ba0870dc",
   "metadata": {},
   "outputs": [
    {
     "data": {
      "application/vnd.jupyter.widget-view+json": {
       "model_id": "6271aa10fd834260aae5775c16d1e2b6",
       "version_major": 2,
       "version_minor": 0
      },
      "text/plain": [
       "Output()"
      ]
     },
     "metadata": {},
     "output_type": "display_data"
    }
   ],
   "source": [
    "%run ./utils/slc_ui.ipynb"
   ]
  },
  {
   "cell_type": "markdown",
   "id": "395d6f4f-6e06-45e3-a9a7-54dc94e73332",
   "metadata": {},
   "source": [
    "### Instantiate SLCT Manager\n",
    "\n",
    "We create an instance of the SlctManager class from the notebook connector. SLCT Manager, which stands for \"Script-Languages-Container-Tools\" Manager. This class has some utility function which simplifies the use of the exaslct API."
   ]
  },
  {
   "cell_type": "code",
   "execution_count": 4,
   "id": "9f42c7c6-0297-4cb4-bedf-d3a2a58e69fc",
   "metadata": {},
   "outputs": [],
   "source": [
    "from exasol.nb_connector.slct_manager import SlctManager\n",
    "slct_manager = SlctManager(ai_lab_config)"
   ]
  },
  {
   "cell_type": "markdown",
   "id": "178b59e9-8f46-43b1-b4f8-9cd6d6bf5076",
   "metadata": {},
   "source": [
    "### Configure the Script-Languages directory\n",
    "#### Choose the source"
   ]
  },
  {
   "cell_type": "code",
   "execution_count": 7,
   "id": "0f8caa77-35a0-403d-af96-e5f8056ba489",
   "metadata": {},
   "outputs": [
    {
     "data": {
      "application/vnd.jupyter.widget-view+json": {
       "model_id": "ed8931af2f9343b7bd733d7bca5c111b",
       "version_major": 2,
       "version_minor": 0
      },
      "text/plain": [
       "Box(children=(Box(children=(Label(value='Flavor choice', layout=Layout(border_bottom='solid 1px', border_left=…"
      ]
     },
     "metadata": {},
     "output_type": "display_data"
    }
   ],
   "source": [
    "display(get_slc_source_selection_ui(ai_lab_config))"
   ]
  },
  {
   "cell_type": "markdown",
   "id": "fc0fe1a5-8861-4f18-8bcf-92600f86f33f",
   "metadata": {},
   "source": [
    "### Use existing script-languages-repository\n",
    "If you have chosen to use an existing script-languages-repository path you simply select the path."
   ]
  },
  {
   "cell_type": "code",
   "execution_count": 8,
   "id": "56e16540-5f4b-4d5c-8c83-d34c1217eb00",
   "metadata": {},
   "outputs": [
    {
     "data": {
      "text/plain": [
       "None"
      ]
     },
     "metadata": {},
     "output_type": "display_data"
    }
   ],
   "source": [
    "display(get_existing_slc_ui(ai_lab_config))"
   ]
  },
  {
   "cell_type": "markdown",
   "id": "1db0f115-9382-4e53-be08-53586b831d0b",
   "metadata": {},
   "source": [
    "### Clone the Script-Languages-Release repository\n",
    "If you want to use the Exasol script-languages-repository we need first to choose the root path where the repository should be stored."
   ]
  },
  {
   "cell_type": "code",
   "execution_count": 10,
   "id": "7d84889f-7c3a-4f69-9bf1-c193481867af",
   "metadata": {},
   "outputs": [
    {
     "data": {
      "application/vnd.jupyter.widget-view+json": {
       "model_id": "7a41cec565a642039dee7971704e7946",
       "version_major": 2,
       "version_minor": 0
      },
      "text/plain": [
       "Box(children=(Box(children=(Label(value='Target Directory', layout=Layout(border_bottom='solid 1px', border_le…"
      ]
     },
     "metadata": {},
     "output_type": "display_data"
    }
   ],
   "source": [
    "display(get_slc_target_dir_ui(ai_lab_config))"
   ]
  },
  {
   "cell_type": "markdown",
   "id": "a02ee33f-1958-4f9c-a796-01c6bc2a8787",
   "metadata": {},
   "source": [
    "#### Clone the repository"
   ]
  },
  {
   "cell_type": "code",
   "execution_count": 11,
   "id": "31132726-9827-4c9b-8fb8-0884d2f36e67",
   "metadata": {},
   "outputs": [
    {
     "name": "stdout",
     "output_type": "stream",
     "text": [
      "Ready\n"
     ]
    }
   ],
   "source": [
    "if clone_slc_repo(ai_lab_config):\n",
    "    slct_manager.clone_slc_repo()\n",
    "print(\"Ready\")"
   ]
  },
  {
   "cell_type": "markdown",
   "id": "53997bff-b4be-406f-b54f-ae9f39939ede",
   "metadata": {},
   "source": [
    "#### Verify that the required flavor for the tutorial is present"
   ]
  },
  {
   "cell_type": "code",
   "execution_count": 12,
   "id": "bb6b26b9-cb24-4b66-85c9-e15a0c92ff2c",
   "metadata": {
    "scrolled": true
   },
   "outputs": [
    {
     "name": "stdout",
     "output_type": "stream",
     "text": [
      "Script-languages repository path is '/home/jupyter/notebooks/script_languages_container/my_slc/script_languages_release'\n"
     ]
    }
   ],
   "source": [
    "if not slct_manager.check_slc_repo_complete():\n",
    "    popup_message(f\"The script-languages repository does not fullfill requirements.\")\n"
   ]
  },
  {
   "cell_type": "markdown",
   "id": "21840146-28bd-413f-a9ce-cd22b17939b2",
   "metadata": {},
   "source": [
    "## Finish\n",
    "Now you can continue with [Using the script-languages-container tool](./using_the_script_languages_container_tool.ipynb) "
   ]
  },
  {
   "cell_type": "code",
   "execution_count": null,
   "id": "7c78e2ab-5050-4b8e-acda-f11bf8a1f178",
   "metadata": {},
   "outputs": [],
   "source": []
  }
 ],
 "metadata": {
  "kernelspec": {
   "display_name": "Python 3 (ipykernel)",
   "language": "python",
   "name": "python3"
  },
  "language_info": {
   "codemirror_mode": {
    "name": "ipython",
    "version": 3
   },
   "file_extension": ".py",
   "mimetype": "text/x-python",
   "name": "python",
   "nbconvert_exporter": "python",
   "pygments_lexer": "ipython3",
   "version": "3.10.12"
  }
 },
 "nbformat": 4,
 "nbformat_minor": 5
}
