{
 "cells": [
  {
   "cell_type": "markdown",
   "id": "0de3cdb5-e08a-426e-a59a-c8f8ef70172f",
   "metadata": {},
   "source": [
    "<div style=\"text-align: right;\">\n",
    "  <img src=\"https://raw.githubusercontent.com/exasol/ai-lab/refs/heads/main/assets/Exasol_Logo_2025_Dark.svg\" style=\"width:200px; margin: 10px;\" />\n",
    "</div>\n",
    "\n",
    "# Huggingface credentials UI\n",
    "\n",
    "<b>This notebook is not supposed to be used on its own.<b>"
   ]
  },
  {
   "cell_type": "code",
   "execution_count": null,
   "id": "e64d54af-2c5e-40c3-8503-ef24c1f18869",
   "metadata": {},
   "outputs": [],
   "source": [
    "from exasol.nb_connector.utils import upward_file_search\n",
    "\n",
    "# This NB may be running from various locations in the NB hierarchy.\n",
    "# Need to search for other supporting NBs from the current directory upwards.\n",
    "\n",
    "%run {upward_file_search('utils/generic_config_ui.ipynb')}"
   ]
  },
  {
   "cell_type": "code",
   "execution_count": null,
   "id": "152c5d14-7596-436e-85f5-f7a1d7f25f09",
   "metadata": {},
   "outputs": [],
   "source": [
    "import ipywidgets as widgets\n",
    "\n",
    "from exasol.nb_connector.secret_store import Secrets\n",
    "from exasol.nb_connector.ai_lab_config import AILabConfig as CKey\n",
    "\n",
    "\n",
    "def get_te_config_ui(conf: Secrets) -> widgets.Widget:\n",
    "\n",
    "    inputs = [\n",
    "        ('Access token', widgets.Password(value=ai_lab_config.get(CKey.huggingface_token)), CKey.huggingface_token)\n",
    "    ]\n",
    "\n",
    "    return get_generic_config_ui(conf, [inputs], ['Huggingface Access Parameters'])\n"
   ]
  }
 ],
 "metadata": {
  "kernelspec": {
   "display_name": "Python 3 (ipykernel)",
   "language": "python",
   "name": "python3"
  },
  "language_info": {
   "codemirror_mode": {
    "name": "ipython",
    "version": 3
   },
   "file_extension": ".py",
   "mimetype": "text/x-python",
   "name": "python",
   "nbconvert_exporter": "python",
   "pygments_lexer": "ipython3",
   "version": "3.8.10"
  }
 },
 "nbformat": 4,
 "nbformat_minor": 5
}
