{
 "cells": [
  {
   "cell_type": "markdown",
   "id": "0de3cdb5-e08a-426e-a59a-c8f8ef70172f",
   "metadata": {},
   "source": [
    "# Huggingface credentials UI\n",
    "\n",
    "<b>This notebook is not supposed to be used on its own.<b>"
   ]
  },
  {
   "cell_type": "code",
   "execution_count": null,
   "id": "e64d54af-2c5e-40c3-8503-ef24c1f18869",
   "metadata": {},
   "outputs": [],
   "source": [
    "from exasol.utils import upward_file_search\n",
    "\n",
    "# This NB may be running from various locations in the NB hierarchy.\n",
    "# Need to search for the styles NB from the current directory upwards.\n",
    "\n",
    "%run {upward_file_search('utils/sandbox_ui_styles.ipynb')}"
   ]
  },
  {
   "cell_type": "code",
   "execution_count": null,
   "id": "152c5d14-7596-436e-85f5-f7a1d7f25f09",
   "metadata": {},
   "outputs": [],
   "source": [
    "def get_te_config_ui():\n",
    "\n",
    "    import ipywidgets as widgets\n",
    "\n",
    "    ui_look = get_config_styles()\n",
    "    token_key = 'HF_TOKEN'\n",
    "\n",
    "    header_lbl = widgets.Label(value='Huggingface Access Parameters', style=ui_look.header_style, layout=ui_look.header_layout)\n",
    "    token_hdr = widgets.Label(value='Access token', style=ui_look.label_style, layout=ui_look.label_layout)\n",
    "    token_inp = widgets.Password(value=sb_config.get(token_key), style = ui_look.input_style, layout=ui_look.input_layout)\n",
    "    save_btn = widgets.Button(description='Save', style=ui_look.button_style, layout=ui_look.button_layout)\n",
    "\n",
    "    def save_configuration(btn):\n",
    "        sb_config.save(token_key, token_inp.value)\n",
    "        save_btn.icon = 'check'\n",
    "\n",
    "    save_btn.on_click(save_configuration)\n",
    "\n",
    "    group_items = [header_lbl, widgets.Box([token_hdr, token_inp], layout=ui_look.row_layout)]\n",
    "    items = [widgets.Box(group_items, layout=ui_look.group_layout), save_btn]\n",
    "    ui = widgets.Box(items, layout=ui_look.outer_layout)\n",
    "    return ui"
   ]
  }
 ],
 "metadata": {
  "kernelspec": {
   "display_name": "Python 3 (ipykernel)",
   "language": "python",
   "name": "python3"
  },
  "language_info": {
   "codemirror_mode": {
    "name": "ipython",
    "version": 3
   },
   "file_extension": ".py",
   "mimetype": "text/x-python",
   "name": "python",
   "nbconvert_exporter": "python",
   "pygments_lexer": "ipython3",
   "version": "3.8.10"
  }
 },
 "nbformat": 4,
 "nbformat_minor": 5
}
