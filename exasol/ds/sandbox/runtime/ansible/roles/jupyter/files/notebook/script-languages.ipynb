{
 "cells": [
  {
   "cell_type": "markdown",
   "metadata": {},
   "source": [
    "# Using the Script-Language Container"
   ]
  },
  {
   "cell_type": "markdown",
   "metadata": {},
   "source": [
    "A [Script-Language Container](https://github.com/exasol/script-languages-release) for the Exasol database consists of a Linux container with a complete Linux distribution and all required libraries, such as a script client. The script client is responsible for the communication with the database and for executing the script code. It allows to also include user specific libraries which can then be used from within the UDF's."
   ]
  },
  {
   "cell_type": "markdown",
   "metadata": {},
   "source": [
    "## Preparing the Notebook"
   ]
  },
  {
   "cell_type": "markdown",
   "metadata": {},
   "source": [
    "First we need to install and import a few Python packages required in the course of this Notebook. Luckily, all dependencies are already installed in the VM."
   ]
  },
  {
   "cell_type": "code",
   "execution_count": 1,
   "metadata": {},
   "outputs": [],
   "source": [
    "import bash_runner as bash # A helper to run bash with interactive output from python\n",
    "import importlib\n",
    "from pathlib import Path\n",
    "import pyexasol\n",
    "import requests\n",
    "import textwrap"
   ]
  },
  {
   "cell_type": "markdown",
   "metadata": {},
   "source": [
    "The [Script-Language Container](https://github.com/exasol/script-languages-release) is also already cloned in the home directory.\n"
   ]
  },
  {
   "cell_type": "code",
   "execution_count": 2,
   "metadata": {},
   "outputs": [],
   "source": [
    "slc_path=\"$HOME/script-languages-release\"\n"
   ]
  },
  {
   "cell_type": "markdown",
   "metadata": {},
   "source": [
    "## Buiding and Exporting a Container"
   ]
  },
  {
   "cell_type": "markdown",
   "metadata": {},
   "source": [
    "To build and export the container you can use `exaslct`. It first builds a series of Docker images and then exports the container as a `tar.gz` package. We provide several flavors of containers with different capabilities. You can find out more about the flavors in our [flavor documentation on Github.](https://github.com/exasol/script-languages-release/blob/master/flavors/README.md). Flavors are described by a flavor definition in the directory `flavors/`. Here is an overview of the available flavors:"
   ]
  },
  {
   "cell_type": "code",
   "execution_count": 3,
   "metadata": {},
   "outputs": [
    {
     "name": "stdout",
     "output_type": "stream",
     "text": [
      "/home/ubuntu/script-languages-release/flavors/python-3.7-minimal-EXASOL-6.2.0\n",
      "/home/ubuntu/script-languages-release/flavors/standard-EXASOL-8.0.0\n",
      "/home/ubuntu/script-languages-release/flavors/standard-EXASOL-7.0.0\n",
      "/home/ubuntu/script-languages-release/flavors/r-4-minimal-EXASOL-6.2.0\n",
      "/home/ubuntu/script-languages-release/flavors/python-3.6-minimal-EXASOL-6.2.0\n",
      "/home/ubuntu/script-languages-release/flavors/python-3.8-minimal-EXASOL-6.2.0\n",
      "/home/ubuntu/script-languages-release/flavors/standard-EXASOL-7.1.0\n",
      "/home/ubuntu/script-languages-release/flavors/standard-EXASOL-7.1.0-without-python2.7\n"
     ]
    }
   ],
   "source": [
    "bash.run(f\"\"\"\n",
    "find {slc_path}/flavors/  -maxdepth 1 -name '*EXASOL*'\n",
    "\"\"\")"
   ]
  },
  {
   "cell_type": "markdown",
   "metadata": {},
   "source": [
    "For this example, we use the `flavors/python-3.8-minimal-EXASOL-6.2.0` flavor and export it to the `containers` directory.\n",
    "\n",
    "A container gets built via a series of Docker images, and then it's exported into a `tar` file."
   ]
  },
  {
   "cell_type": "code",
   "execution_count": 4,
   "metadata": {},
   "outputs": [
    {
     "name": "stdout",
     "output_type": "stream",
     "text": [
      "~/script-languages-release ~/notebooks\n",
      "WARNING - AnalyzeFlavorCustomization_0bd81678ef(job_id=2022_09_22_18_43_33_ExportContainers, no_cache=False, flavor_path=flavors/python-3.8-minimal-EXASOL-6.2.0): Image exasol/script-language-container:python-3.8-minimal-EXASOL-6.2.0-flavor_customization_JNLUKSGDSD6WMNGLJJIVCXRVV46ULM4QSG36KCKFAP4SADAZ6UJQ not in registry, got exception 404 Client Error for http+docker://localhost/v1.41/images/create?tag=python-3.8-minimal-EXASOL-6.2.0-flavor_customization_JNLUKSGDSD6WMNGLJJIVCXRVV46ULM4QSG36KCKFAP4SADAZ6UJQ&fromImage=exasol%2Fscript-language-container: Not Found (\"manifest for exasol/script-language-container:python-3.8-minimal-EXASOL-6.2.0-flavor_customization_JNLUKSGDSD6WMNGLJJIVCXRVV46ULM4QSG36KCKFAP4SADAZ6UJQ not found: manifest unknown: manifest unknown\")\n",
      "WARNING - AnalyzeRelease_0bd81678ef(job_id=2022_09_22_18_43_33_ExportContainers, no_cache=False, flavor_path=flavors/python-3.8-minimal-EXASOL-6.2.0): Image exasol/script-language-container:python-3.8-minimal-EXASOL-6.2.0-release_NSFG3CPFKPLAHL4PLHHPUKG3UDIFENZCN2IC4J7QS6IQACRIKREQ not in registry, got exception 404 Client Error for http+docker://localhost/v1.41/images/create?tag=python-3.8-minimal-EXASOL-6.2.0-release_NSFG3CPFKPLAHL4PLHHPUKG3UDIFENZCN2IC4J7QS6IQACRIKREQ&fromImage=exasol%2Fscript-language-container: Not Found (\"manifest for exasol/script-language-container:python-3.8-minimal-EXASOL-6.2.0-release_NSFG3CPFKPLAHL4PLHHPUKG3UDIFENZCN2IC4J7QS6IQACRIKREQ not found: manifest unknown: manifest unknown\")\n",
      "The command took 339.212854 s\n",
      "\n",
      "Cached container under /home/ubuntu/script-languages-release/.build_output/cache/exports/python-3.8-minimal-EXASOL-6.2.0-release-NSFG3CPFKPLAHL4PLHHPUKG3UDIFENZCN2IC4J7QS6IQACRIKREQ.tar.gz\n",
      "\n",
      "Copied container to containers/python-3.8-minimal-EXASOL-6.2.0_release.tar.gz\n",
      "\n",
      "=================================================\n",
      "\n"
     ]
    }
   ],
   "source": [
    "bash.run(f\"\"\"\n",
    "pushd {slc_path}\n",
    "./exaslct export --flavor-path flavors/python-3.8-minimal-EXASOL-6.2.0 --export-path containers\n",
    "\"\"\")"
   ]
  },
  {
   "cell_type": "markdown",
   "metadata": {},
   "source": [
    "### What to do if something doesn't work?"
   ]
  },
  {
   "cell_type": "markdown",
   "metadata": {},
   "source": [
    "During the build it can happen that external package repositories might not be available or something is wrong on your machine where you run the build. For these cases, `exaslct` stores many logs to identify the problem."
   ]
  },
  {
   "cell_type": "markdown",
   "metadata": {},
   "source": [
    "#### Exaslsct Log"
   ]
  },
  {
   "cell_type": "markdown",
   "metadata": {},
   "source": [
    "The main log for `exaslct` is stored directly as `main.log` in the build output of the job. With the following command you can find the main logs for all previous executions."
   ]
  },
  {
   "cell_type": "code",
   "execution_count": 5,
   "metadata": {},
   "outputs": [
    {
     "name": "stdout",
     "output_type": "stream",
     "text": [
      "~/script-languages-release ~/notebooks\n",
      ".build_output/jobs/logs/main.log\n"
     ]
    }
   ],
   "source": [
    "bash.run(f\"\"\"\n",
    "pushd {slc_path}\n",
    "find .build_output -name 'main.log'\n",
    "\"\"\")"
   ]
  },
  {
   "cell_type": "markdown",
   "metadata": {},
   "source": [
    "With the following command you can show the log file from the last execution."
   ]
  },
  {
   "cell_type": "code",
   "execution_count": 6,
   "metadata": {},
   "outputs": [
    {
     "name": "stdout",
     "output_type": "stream",
     "text": [
      "~/script-languages-release ~/notebooks\n",
      "2022-09-22 18:49:12,255 - luigi-interface.AnalyzeRelease - DEBUG - AnalyzeRelease_0bd81678ef(job_id=2022_09_22_18_43_33_ExportContainers, no_cache=False, flavor_path=flavors/python-3.8-minimal-EXASOL-6.2.0): Cleaning up\n",
      "2022-09-22 18:49:12,256 - luigi-interface.AnalyzeLanguageDeps - DEBUG - AnalyzeLanguageDeps_0bd81678ef(job_id=2022_09_22_18_43_33_ExportContainers, no_cache=False, flavor_path=flavors/python-3.8-minimal-EXASOL-6.2.0): Cleaning up\n",
      "2022-09-22 18:49:12,257 - luigi-interface.AnalyzeUDFClientDeps - DEBUG - AnalyzeUDFClientDeps_0bd81678ef(job_id=2022_09_22_18_43_33_ExportContainers, no_cache=False, flavor_path=flavors/python-3.8-minimal-EXASOL-6.2.0): Cleaning up\n",
      "2022-09-22 18:49:12,260 - luigi-interface.AnalyzeUDFClientDeps - DEBUG - AnalyzeUDFClientDeps_0bd81678ef(job_id=2022_09_22_18_43_33_ExportContainers, no_cache=False, flavor_path=flavors/python-3.8-minimal-EXASOL-6.2.0): Cleanup finished\n",
      "2022-09-22 18:49:12,261 - luigi-interface.AnalyzeLanguageDeps - DEBUG - AnalyzeLanguageDeps_0bd81678ef(job_id=2022_09_22_18_43_33_ExportContainers, no_cache=False, flavor_path=flavors/python-3.8-minimal-EXASOL-6.2.0): Cleanup finished\n",
      "2022-09-22 18:49:12,261 - luigi-interface.AnalyzeBuildRun - DEBUG - AnalyzeBuildRun_0bd81678ef(job_id=2022_09_22_18_43_33_ExportContainers, no_cache=False, flavor_path=flavors/python-3.8-minimal-EXASOL-6.2.0): Cleaning up\n",
      "2022-09-22 18:49:12,262 - luigi-interface.AnalyzeLanguageDeps - DEBUG - AnalyzeLanguageDeps_0bd81678ef(job_id=2022_09_22_18_43_33_ExportContainers, no_cache=False, flavor_path=flavors/python-3.8-minimal-EXASOL-6.2.0): Cleaning up\n",
      "2022-09-22 18:49:12,263 - luigi-interface.AnalyzeLanguageDeps - DEBUG - AnalyzeLanguageDeps_0bd81678ef(job_id=2022_09_22_18_43_33_ExportContainers, no_cache=False, flavor_path=flavors/python-3.8-minimal-EXASOL-6.2.0): Cleanup skipped\n",
      "2022-09-22 18:49:12,263 - luigi-interface.AnalyzeBuildDeps - DEBUG - AnalyzeBuildDeps_0bd81678ef(job_id=2022_09_22_18_43_33_ExportContainers, no_cache=False, flavor_path=flavors/python-3.8-minimal-EXASOL-6.2.0): Cleaning up\n",
      "2022-09-22 18:49:12,265 - luigi-interface.AnalyzeBuildDeps - DEBUG - AnalyzeBuildDeps_0bd81678ef(job_id=2022_09_22_18_43_33_ExportContainers, no_cache=False, flavor_path=flavors/python-3.8-minimal-EXASOL-6.2.0): Cleanup finished\n",
      "2022-09-22 18:49:12,266 - luigi-interface.AnalyzeBuildRun - DEBUG - AnalyzeBuildRun_0bd81678ef(job_id=2022_09_22_18_43_33_ExportContainers, no_cache=False, flavor_path=flavors/python-3.8-minimal-EXASOL-6.2.0): Cleanup finished\n",
      "2022-09-22 18:49:12,266 - luigi-interface.AnalyzeFlavorCustomization - DEBUG - AnalyzeFlavorCustomization_0bd81678ef(job_id=2022_09_22_18_43_33_ExportContainers, no_cache=False, flavor_path=flavors/python-3.8-minimal-EXASOL-6.2.0): Cleaning up\n",
      "2022-09-22 18:49:12,267 - luigi-interface.AnalyzeFlavorBaseDeps - DEBUG - AnalyzeFlavorBaseDeps_0bd81678ef(job_id=2022_09_22_18_43_33_ExportContainers, no_cache=False, flavor_path=flavors/python-3.8-minimal-EXASOL-6.2.0): Cleaning up\n",
      "2022-09-22 18:49:12,268 - luigi-interface.AnalyzeLanguageDeps - DEBUG - AnalyzeLanguageDeps_0bd81678ef(job_id=2022_09_22_18_43_33_ExportContainers, no_cache=False, flavor_path=flavors/python-3.8-minimal-EXASOL-6.2.0): Cleaning up\n",
      "2022-09-22 18:49:12,268 - luigi-interface.AnalyzeLanguageDeps - DEBUG - AnalyzeLanguageDeps_0bd81678ef(job_id=2022_09_22_18_43_33_ExportContainers, no_cache=False, flavor_path=flavors/python-3.8-minimal-EXASOL-6.2.0): Cleanup skipped\n",
      "2022-09-22 18:49:12,270 - luigi-interface.AnalyzeFlavorBaseDeps - DEBUG - AnalyzeFlavorBaseDeps_0bd81678ef(job_id=2022_09_22_18_43_33_ExportContainers, no_cache=False, flavor_path=flavors/python-3.8-minimal-EXASOL-6.2.0): Cleanup finished\n",
      "2022-09-22 18:49:12,271 - luigi-interface.AnalyzeFlavorCustomization - DEBUG - AnalyzeFlavorCustomization_0bd81678ef(job_id=2022_09_22_18_43_33_ExportContainers, no_cache=False, flavor_path=flavors/python-3.8-minimal-EXASOL-6.2.0): Cleanup finished\n",
      "2022-09-22 18:49:12,273 - luigi-interface.AnalyzeRelease - DEBUG - AnalyzeRelease_0bd81678ef(job_id=2022_09_22_18_43_33_ExportContainers, no_cache=False, flavor_path=flavors/python-3.8-minimal-EXASOL-6.2.0): Cleanup finished\n",
      "2022-09-22 18:49:12,274 - luigi-interface.ExportFlavorContainer - DEBUG - ExportFlavorContainer_0b63ecd3ea(job_id=2022_09_22_18_43_33_ExportContainers, no_cache=False, flavor_path=flavors/python-3.8-minimal-EXASOL-6.2.0, release_goals=[\"release\"], export_path=containers, release_name=): Cleanup finished\n",
      "2022-09-22 18:49:12,275 - luigi-interface.ExportContainers - DEBUG - ExportContainers_cb384e95d3(job_id=2022_09_22_18_43_33_ExportContainers, flavor_paths=[\"flavors/python-3.8-minimal-EXASOL-6.2.0\"], release_goals=[\"release\"], export_path=containers, release_name=): Cleanup finished\n"
     ]
    }
   ],
   "source": [
    "bash.run(f\"\"\"\n",
    "pushd {slc_path}\n",
    "LAST_LOG=\"$(find .build_output -name 'main.log' | sort |tail -n 1)\"\n",
    "cat $LAST_LOG | tail -n 20\n",
    "\"\"\")"
   ]
  },
  {
   "cell_type": "markdown",
   "metadata": {},
   "source": [
    "#### Build Output Directory"
   ]
  },
  {
   "cell_type": "markdown",
   "metadata": {},
   "source": [
    "More detailed information about the build or other operations can be found in the `.build_output/jobs/*/outputs` directory. Here each run of `exaslct` creates its own directory under `.build_output/jobs`. The `outputs` directory stores the outputs and log files (if any) that each executed task of `exaslct` produces. Especially, the Docker tasks such as build, pull and push store the logs returned by the Docker API. This can be helpful for finding problems during the build."
   ]
  },
  {
   "cell_type": "code",
   "execution_count": 7,
   "metadata": {},
   "outputs": [
    {
     "name": "stdout",
     "output_type": "stream",
     "text": [
      "~/script-languages-release ~/notebooks\n",
      ".build_output/jobs/2022_09_22_18_33_46_ExportContainers/outputs/ExportContainers_1a3be22a34/ExportFlavorContainer_be94de61b2/DockerCreateImageTask_5c09903eb8/DockerPullImageTask_5c09903eb8/logs/pull_docker_db_image.log\n",
      ".build_output/jobs/2022_09_22_18_38_53_ExportContainers/outputs/ExportContainers_d73037b379/ExportFlavorContainer_f91b46c6bc/DockerCreateImageTask_0a7e2ec761/DockerPullImageTask_0a7e2ec761/logs/pull_docker_db_image.log\n",
      ".build_output/jobs/2022_09_22_18_38_53_ExportContainers/outputs/ExportContainers_d73037b379/ExportFlavorContainer_f91b46c6bc/DockerCreateImageTask_31d9d5af1a/DockerPullImageTask_31d9d5af1a/logs/pull_docker_db_image.log\n",
      ".build_output/jobs/2022_09_22_18_38_53_ExportContainers/outputs/ExportContainers_d73037b379/ExportFlavorContainer_f91b46c6bc/DockerCreateImageTaskWithDeps_f950681425/DockerBuildImageTask_1d37740f88/logs/docker-build.log\n",
      ".build_output/jobs/2022_09_22_18_38_53_ExportContainers/outputs/ExportContainers_d73037b379/ExportFlavorContainer_f91b46c6bc/DockerCreateImageTask_3ef6263d56/DockerPullImageTask_3ef6263d56/logs/pull_docker_db_image.log\n",
      ".build_output/jobs/2022_09_22_18_43_33_ExportContainers/outputs/ExportContainers_cb384e95d3/ExportFlavorContainer_0b63ecd3ea/DockerCreateImageTaskWithDeps_df1e1bdede/DockerBuildImageTask_0fa3c63cba/logs/docker-build.log\n",
      ".build_output/jobs/2022_09_22_18_43_33_ExportContainers/outputs/ExportContainers_cb384e95d3/ExportFlavorContainer_0b63ecd3ea/DockerCreateImageTaskWithDeps_669ab3034a/DockerBuildImageTask_5d8046cc82/logs/docker-build.log\n",
      ".build_output/jobs/2022_09_22_18_43_33_ExportContainers/outputs/ExportContainers_cb384e95d3/ExportFlavorContainer_0b63ecd3ea/ExportContainerTask_e081ee517f/logs/extract_release_file.log\n",
      ".build_output/jobs/2022_09_22_18_43_33_ExportContainers/outputs/ExportContainers_cb384e95d3/ExportFlavorContainer_0b63ecd3ea/ExportContainerTask_e081ee517f/logs/pack_release_file.log\n",
      ".build_output/jobs/2022_09_22_18_43_33_ExportContainers/outputs/ExportContainers_cb384e95d3/ExportFlavorContainer_0b63ecd3ea/DockerCreateImageTask_38c85aa666/DockerPullImageTask_38c85aa666/logs/pull_docker_db_image.log\n"
     ]
    }
   ],
   "source": [
    "bash.run(f\"\"\"\n",
    "pushd {slc_path}\n",
    "find .build_output/jobs/*/outputs -type f -name '*log' | tail\n",
    "\"\"\")"
   ]
  },
  {
   "cell_type": "markdown",
   "metadata": {},
   "source": [
    "## Customizing Script-Language Containers"
   ]
  },
  {
   "cell_type": "markdown",
   "metadata": {},
   "source": [
    "Sometimes you need very specific dependencies or versions of dependencies in the Exasol UDFs. In such case you can customize a Script-Language Container."
   ]
  },
  {
   "cell_type": "markdown",
   "metadata": {},
   "source": [
    "### Flavor Definition"
   ]
  },
  {
   "cell_type": "markdown",
   "metadata": {},
   "source": [
    "To customize a flavor, you need to change the flavor definition. A flavor consists of several build steps. The following images gives you an idea about how these build steps are connected with each other.\n",
    "\n",
    "![Flavor Structure](slc_main_build_steps.svg)\n",
    "\n",
    "For customizing a flavor usually the `flavor_customization` build step is most important. It contains everything you need to add dependencies. The remaining build steps should be only changed with care, but sometimes some dependencies are defined in other build steps because the script client depends on them. Here you see the directory structure of the flavor definition for our example flavor `flavors/python-3.8-minimal-EXASOL-6.2.0`."
   ]
  },
  {
   "cell_type": "code",
   "execution_count": 8,
   "metadata": {},
   "outputs": [
    {
     "name": "stdout",
     "output_type": "stream",
     "text": [
      "~/script-languages-release ~/notebooks\n",
      "flavors/python-3.8-minimal-EXASOL-6.2.0\n",
      "flavors/python-3.8-minimal-EXASOL-6.2.0/flavor_customization\n",
      "flavors/python-3.8-minimal-EXASOL-6.2.0/flavor_customization/Dockerfile\n",
      "flavors/python-3.8-minimal-EXASOL-6.2.0/flavor_customization/packages\n",
      "flavors/python-3.8-minimal-EXASOL-6.2.0/FLAVOR_DESCRIPTION.md\n",
      "flavors/python-3.8-minimal-EXASOL-6.2.0/flavor_base\n",
      "flavors/python-3.8-minimal-EXASOL-6.2.0/flavor_base/base_test_deps\n",
      "flavors/python-3.8-minimal-EXASOL-6.2.0/flavor_base/build_run\n",
      "flavors/python-3.8-minimal-EXASOL-6.2.0/flavor_base/build_steps.py\n",
      "flavors/python-3.8-minimal-EXASOL-6.2.0/flavor_base/__pycache__\n",
      "flavors/python-3.8-minimal-EXASOL-6.2.0/flavor_base/release\n",
      "flavors/python-3.8-minimal-EXASOL-6.2.0/flavor_base/build_deps\n",
      "flavors/python-3.8-minimal-EXASOL-6.2.0/flavor_base/base_test_build_run\n",
      "flavors/python-3.8-minimal-EXASOL-6.2.0/flavor_base/security_scan\n",
      "flavors/python-3.8-minimal-EXASOL-6.2.0/flavor_base/flavor_base_deps\n",
      "flavors/python-3.8-minimal-EXASOL-6.2.0/flavor_base/language_definition\n",
      "flavors/python-3.8-minimal-EXASOL-6.2.0/flavor_base/udfclient_deps\n",
      "flavors/python-3.8-minimal-EXASOL-6.2.0/flavor_base/flavor_test_build_run\n",
      "flavors/python-3.8-minimal-EXASOL-6.2.0/flavor_base/testconfig\n",
      "flavors/python-3.8-minimal-EXASOL-6.2.0/flavor_base/language_deps\n"
     ]
    }
   ],
   "source": [
    "bash.run(f\"\"\" \n",
    "pushd {slc_path}\n",
    "find -L flavors/python-3.8-minimal-EXASOL-6.2.0 -maxdepth 2\n",
    "\"\"\")"
   ]
  },
  {
   "cell_type": "markdown",
   "metadata": {},
   "source": [
    "### Flavor Customization Build Step"
   ]
  },
  {
   "cell_type": "markdown",
   "metadata": {},
   "source": [
    "The `flavor_customization` build step consists of a Dockerfile and several package lists which can be modified. We recommend to use the package lists to add new packages to the flavor and only modify the Dockerfile if you need very specific changes, like adding additional resources."
   ]
  },
  {
   "cell_type": "code",
   "execution_count": 9,
   "metadata": {},
   "outputs": [
    {
     "name": "stdout",
     "output_type": "stream",
     "text": [
      "~/script-languages-release ~/notebooks\n",
      "flavors/python-3.8-minimal-EXASOL-6.2.0/flavor_customization/Dockerfile\n",
      "flavors/python-3.8-minimal-EXASOL-6.2.0/flavor_customization/packages/python3_pip_packages\n",
      "flavors/python-3.8-minimal-EXASOL-6.2.0/flavor_customization/packages/apt_get_packages\n"
     ]
    }
   ],
   "source": [
    "bash.run(f\"\"\" \n",
    "pushd {slc_path}\n",
    "find -L flavors/python-3.8-minimal-EXASOL-6.2.0/flavor_customization -type f\n",
    "\"\"\")"
   ]
  },
  {
   "cell_type": "markdown",
   "metadata": {},
   "source": [
    "#### Dockerfile"
   ]
  },
  {
   "cell_type": "markdown",
   "metadata": {},
   "source": [
    "The Dockerfile consists of two parts. The first part installs the packages from the package list and should only be change with care. The second part is free for your changes. Read the description in the Dockerfile carefully to find out what you can and shouldn't do."
   ]
  },
  {
   "cell_type": "code",
   "execution_count": 10,
   "metadata": {},
   "outputs": [
    {
     "name": "stdout",
     "output_type": "stream",
     "text": [
      "~/script-languages-release ~/notebooks\n",
      "############################################################################################\n",
      "############################################################################################\n",
      "# This Dockerfile allows you to extend this flavor by installing packages or adding files. \n",
      "# IF you didn't change the lines below, you can add packages and their version to the  \n",
      "# files in ./packages and they get automatically installed.                                \n",
      "############################################################################################\n",
      "############################################################################################\n",
      "\n",
      "#######################################################################\n",
      "#######################################################################\n",
      "# Do not change the following lines unless you know what you are doing \n",
      "#######################################################################\n",
      "#######################################################################\n",
      "\n",
      "FROM {{flavor_base_deps}}\n",
      "\n",
      "RUN mkdir -p /build_info/packages/flavor_customization\n",
      "\n",
      "COPY flavor_customization/packages/apt_get_packages /build_info/packages/flavor_customization\n",
      "RUN /scripts/install_scripts/install_via_apt.pl --file /build_info/packages/flavor_customization/apt_get_packages --with-versions\n",
      "\n",
      "COPY flavor_customization/packages/python3_pip_packages /build_info/packages/flavor_customization\n",
      "RUN /scripts/install_scripts/install_via_pip.pl --file /build_info/packages/flavor_customization/python3_pip_packages --python-binary python3 --with-versions --allow-no-version\n",
      "\n",
      "\n",
      "##########################################################################\n",
      "##########################################################################\n",
      "# Below this text you can add any Dockerfile commands except of FROM.            \n",
      "# However only commands which change the filesystem will be              \n",
      "# reflected to the final script-language container.                      \n",
      "# We recommend to use only RUN, COPY and ADD. For example, WORKDIR, USER \n",
      "# and ENV will be not carried over into the final container. For more \n",
      "# information about Dockerfile commands, please check the reference \n",
      "# https://docs.docker.com/engine/reference/builder/#dockerfile-reference \n",
      "##########################################################################\n",
      "##########################################################################\n",
      "\n",
      "\n",
      "###########\n",
      "###########\n",
      "# Examples:\n",
      "###########\n",
      "###########\n",
      "\n",
      "#################################################\n",
      "# Execute a command during the build of the image\n",
      "#################################################\n",
      "\n",
      "# With RUN you can excute any command you usally would run in a bash shell.\n",
      "# It usually is a good idea to cleanup downloaded files or packages \n",
      "# caches in the same in the same RUN statement to keep the image size\n",
      "# small. You can execute multiple shell commands in one RUN statement\n",
      "# by combine them with \n",
      "# - `&&` (only execute if the previous command was successfull), \n",
      "# - `||` (only execute if the previous command was unsuccesfull)\n",
      "# - `;` (execute regardless of the success of the previous command)\n",
      "# To format multiple command per RUN statement you can add a line break with `\\`.\n",
      "# If you need to execute complex sequences of commands you should execute\n",
      "# scripts which you can copy into the image.\n",
      "# -------------------------------------------------------------------------------\n",
      "\n",
      "# RUN git clone https://github.com/exasol/data-science-examples\n",
      "# RUN curl -o data-science-examples.zip https://codeload.github.com/exasol/data-science-examples/zip/master && \\\n",
      "#     unzip data-science-examples.zip && \\\n",
      "#     rm data-science-examples.zip\n",
      "\n",
      "#####################################\n",
      "# Copy a file from ./ into the image. \n",
      "#####################################\n",
      "\n",
      "# In case of exaslct it is important to prefix source files or directories with `flavor_customization`\n",
      "# if you want to copy files or directories located in the same directory as this Dockerfile\n",
      "# -----------------------------------------------------------------------------------------------------\n",
      "\n",
      "# COPY flavor_customization/packages/python3_pip_packages /build_info/packages/flavor_customization\n",
      "# ADD flavor_customization/code.tar.gz /code\n",
      "\n"
     ]
    }
   ],
   "source": [
    "bash.run(f\"\"\" \n",
    "pushd {slc_path}\n",
    "cat flavors/python-3.8-minimal-EXASOL-6.2.0/flavor_customization/Dockerfile\n",
    "\"\"\")"
   ]
  },
  {
   "cell_type": "markdown",
   "metadata": {},
   "source": [
    "#### Package Lists"
   ]
  },
  {
   "cell_type": "markdown",
   "metadata": {},
   "source": [
    "The package lists have a unified format. Each line consists of the package name and the package version separated by \"|\", e.g `xgboost|1.3.3`. You can comment out a whole line by adding\"#\" at the beginning. You can also add a trailing comment to a package definition by adding a \"#\" after the package definition. We usually recommend to pin the version, such that there are no surprises for which version gets installed."
   ]
  },
  {
   "cell_type": "code",
   "execution_count": 11,
   "metadata": {},
   "outputs": [
    {
     "name": "stdout",
     "output_type": "stream",
     "text": [
      "~/script-languages-release ~/notebooks\n",
      "xgboost|1.3.3\n",
      "scikit-learn|0.24.2\n"
     ]
    }
   ],
   "source": [
    "bash.run(f\"\"\" \n",
    "pushd {slc_path}\n",
    "cat flavors/python-3.8-minimal-EXASOL-6.2.0/flavor_customization/packages/python3_pip_packages\n",
    "\"\"\")"
   ]
  },
  {
   "cell_type": "markdown",
   "metadata": {},
   "source": [
    "We are now going to append the \"xgboost\" Python package to one of the package lists by adding `\"xgboost|1.3.3\"` and `scikit-learn|0.24.2` to the `flavor_customization/packages/python3_pip_packages` file."
   ]
  },
  {
   "cell_type": "code",
   "execution_count": 12,
   "metadata": {},
   "outputs": [
    {
     "name": "stdout",
     "output_type": "stream",
     "text": [
      "~/script-languages-release ~/notebooks\n"
     ]
    }
   ],
   "source": [
    "bash.run(f\"\"\" \n",
    "pushd {slc_path}\n",
    "echo \"xgboost|1.3.3\" > flavors/python-3.8-minimal-EXASOL-6.2.0/flavor_customization/packages/python3_pip_packages\n",
    "echo \"scikit-learn|0.24.2\" >> flavors/python-3.8-minimal-EXASOL-6.2.0/flavor_customization/packages/python3_pip_packages\n",
    "\"\"\")"
   ]
  },
  {
   "cell_type": "markdown",
   "metadata": {},
   "source": [
    "As you can see below, we now added a new line to our package list."
   ]
  },
  {
   "cell_type": "code",
   "execution_count": 13,
   "metadata": {},
   "outputs": [
    {
     "name": "stdout",
     "output_type": "stream",
     "text": [
      "~/script-languages-release ~/notebooks\n",
      "xgboost|1.3.3\n",
      "scikit-learn|0.24.2\n"
     ]
    }
   ],
   "source": [
    "bash.run(f\"\"\" \n",
    "pushd {slc_path}\n",
    "cat flavors/python-3.8-minimal-EXASOL-6.2.0/flavor_customization/packages/python3_pip_packages\n",
    "\"\"\")"
   ]
  },
  {
   "cell_type": "markdown",
   "metadata": {},
   "source": [
    "#### Rebuilding the customized Flavor"
   ]
  },
  {
   "cell_type": "markdown",
   "metadata": {},
   "source": [
    "After changing the flavor you need to rebuild it. You can do it by running `./exaslsct export --flavor-path <flavor-path>` again. Exaslct automatically recognizes that the flavor has changed and builds a new version of the container."
   ]
  },
  {
   "cell_type": "code",
   "execution_count": 14,
   "metadata": {},
   "outputs": [
    {
     "name": "stdout",
     "output_type": "stream",
     "text": [
      "~/script-languages-release ~/notebooks\n",
      "The command took 2.244718 s\n",
      "\n",
      "Cached container under /home/ubuntu/script-languages-release/.build_output/cache/exports/python-3.8-minimal-EXASOL-6.2.0-release-NSFG3CPFKPLAHL4PLHHPUKG3UDIFENZCN2IC4J7QS6IQACRIKREQ.tar.gz\n",
      "\n",
      "Copied container to containers/python-3.8-minimal-EXASOL-6.2.0_release.tar.gz\n",
      "\n",
      "=================================================\n",
      "\n"
     ]
    }
   ],
   "source": [
    "bash.run(f\"\"\"\n",
    "pushd {slc_path}\n",
    "./exaslct export --flavor-path flavors/python-3.8-minimal-EXASOL-6.2.0 --export-path containers\n",
    "\"\"\")"
   ]
  },
  {
   "cell_type": "markdown",
   "metadata": {},
   "source": [
    "**Note:** Your old container doesn't get lost, because when you change a flavor your container gets a new hash code. If you revert your changes the system automatically uses the existing cached container. Below you can see the content of the cache directory for the containers."
   ]
  },
  {
   "cell_type": "code",
   "execution_count": 15,
   "metadata": {},
   "outputs": [
    {
     "name": "stdout",
     "output_type": "stream",
     "text": [
      "~/script-languages-release ~/notebooks\n",
      "total 611M\n",
      "195M \u001b[0m\u001b[01;31mpython-3.8-minimal-EXASOL-6.2.0-release-G2EN5EEXSTDQNKBBSUJ5JF6OVOKA7VCHHZQUVHMCR3YNKKLDQ62Q.tar.gz\u001b[0m\u001b[K\n",
      "4.0K python-3.8-minimal-EXASOL-6.2.0-release-G2EN5EEXSTDQNKBBSUJ5JF6OVOKA7VCHHZQUVHMCR3YNKKLDQ62Q.tar.gz.sha512sum\n",
      "417M \u001b[01;31mpython-3.8-minimal-EXASOL-6.2.0-release-NSFG3CPFKPLAHL4PLHHPUKG3UDIFENZCN2IC4J7QS6IQACRIKREQ.tar.gz\u001b[0m\u001b[K\n",
      "4.0K python-3.8-minimal-EXASOL-6.2.0-release-NSFG3CPFKPLAHL4PLHHPUKG3UDIFENZCN2IC4J7QS6IQACRIKREQ.tar.gz.sha512sum\n"
     ]
    }
   ],
   "source": [
    "bash.run(f\"\"\"\n",
    "pushd {slc_path}\n",
    "ls -sh .build_output/cache/exports\n",
    "\"\"\")"
   ]
  },
  {
   "cell_type": "markdown",
   "metadata": {},
   "source": [
    "## Testing the new Script-Language Container"
   ]
  },
  {
   "cell_type": "markdown",
   "metadata": {},
   "source": [
    "Now, that we have an updated container, we need to check if our changes were successful. For that we are going to upload the container to an Exasol Database and have a look into it. In this example, we are going to use a local Docker-DB started by `exaslct`, which uses our [integration-test-docker-environment](https://github.com/exasol/integration-test-docker-environment) in the background. \n",
    "\n",
    "**Note:** You could also use your own Exasol Database by changing the variables below. However, this Notebook must be able to access the BucketFS of your Exasol Database or you need to manually upload the container. "
   ]
  },
  {
   "cell_type": "code",
   "execution_count": 16,
   "metadata": {},
   "outputs": [],
   "source": [
    "DATABASE_HOST=\"localhost\"\n",
    "DATABASE_PORT=8886\n",
    "DATABASE_USER=\"sys\"\n",
    "DATABASE_PASSWORD=\"exasol\"\n",
    "BUCKETFS_PORT=6666\n",
    "BUCKETFS_USER=\"w\"\n",
    "BUCKETFS_PASSWORD=\"write\"\n",
    "BUCKETFS_NAME=\"bfsdefault\"\n",
    "BUCKET_NAME=\"default\"\n",
    "PATH_IN_BUCKET=\"container\""
   ]
  },
  {
   "cell_type": "markdown",
   "metadata": {},
   "source": [
    "### Starting a local Docker-DB for Testing"
   ]
  },
  {
   "cell_type": "markdown",
   "metadata": {},
   "source": [
    "The exaslct command also allows us to create rapidly a test environment where we can test the new container!\n",
    "\n",
    "#### Start the environment and forward the database and bucketfs ports to the specified host ports.\n",
    "\n",
    "**Note:** The Exasol Integration-Test-Docker-Environment requires Docker with privileged mode\n",
    "\n",
    "**Note:** Starting the environment can take between 3-5 min."
   ]
  },
  {
   "cell_type": "code",
   "execution_count": 17,
   "metadata": {},
   "outputs": [
    {
     "name": "stdout",
     "output_type": "stream",
     "text": [
      "~/script-languages-release ~/notebooks\n",
      "WARNING - SpawnTestContainer_6d38778a73(job_id=2022_09_22_18_51_37_SpawnTestEnvironmentWithDockerDB, no_cache=False, environment_name=test, test_container_name=test_container_test, attempt=0): Copy tests in test container test_container_test.\n",
      "WARNING - PopulateEngineSmallTestDataToDatabase_d164b7a3ea(job_id=2022_09_22_18_51_37_SpawnTestEnvironmentWithDockerDB, no_cache=False, db_user=sys, environment_name=test): Uploading data\n",
      "The command took 286.471179 s\n"
     ]
    }
   ],
   "source": [
    "bash.run(f\"\"\"\n",
    "pushd {slc_path}\n",
    "./exaslct spawn-test-environment --environment-name test --database-port-forward {DATABASE_PORT} --bucketfs-port-forward {BUCKETFS_PORT}\n",
    "\"\"\")"
   ]
  },
  {
   "cell_type": "markdown",
   "metadata": {},
   "source": [
    "### Upload the Container to the Database"
   ]
  },
  {
   "cell_type": "markdown",
   "metadata": {},
   "source": [
    "To use our container we need to upload it to the BucketFS . If the build machine has access to the BucketFS we can do it with the `exaslct upload` command, otherwise you need to export the container and transfer it to a machine that has access to the BucketFS and upload it via `curl`, as described in our [documentation](https://docs.exasol.com/database_concepts/udf_scripts/adding_new_packages_script_languages.htm).\n",
    "\n",
    "With the following command we upload the new script language container to the previously created test environment."
   ]
  },
  {
   "cell_type": "code",
   "execution_count": 18,
   "metadata": {},
   "outputs": [
    {
     "name": "stdout",
     "output_type": "stream",
     "text": [
      "~/script-languages-release ~/notebooks\n",
      "The command took 84.426359 s\n",
      "\n",
      "Uploaded .build_output/cache/exports/python-3.8-minimal-EXASOL-6.2.0-release-NSFG3CPFKPLAHL4PLHHPUKG3UDIFENZCN2IC4J7QS6IQACRIKREQ.tar.gz to\n",
      "http://localhost:6666/default/container/python-3.8-minimal-EXASOL-6.2.0-release-current.tar.gz\n",
      "\n",
      "\n",
      "In SQL, you can activate the languages supported by the python-3.8-minimal-EXASOL-6.2.0\n",
      "flavor by using the following statements:\n",
      "\n",
      "\n",
      "To activate the flavor only for the current session:\n",
      "\n",
      "ALTER SESSION SET SCRIPT_LANGUAGES='PYTHON3=localzmq+protobuf:///bfsdefault/default/container/python-3.8-minimal-EXASOL-6.2.0-release-current?lang=python#buckets/bfsdefault/default/container/python-3.8-minimal-EXASOL-6.2.0-release-current/exaudf/exaudfclient_py3';\n",
      "\n",
      "\n",
      "To activate the flavor on the system:\n",
      "\n",
      "ALTER SYSTEM SET SCRIPT_LANGUAGES='PYTHON3=localzmq+protobuf:///bfsdefault/default/container/python-3.8-minimal-EXASOL-6.2.0-release-current?lang=python#buckets/bfsdefault/default/container/python-3.8-minimal-EXASOL-6.2.0-release-current/exaudf/exaudfclient_py3';\n",
      "\n",
      "=================================================\n",
      "\n"
     ]
    }
   ],
   "source": [
    "bash.run(f\"\"\"\n",
    "pushd {slc_path}\n",
    "./exaslct upload \\\n",
    "    --flavor-path flavors/python-3.8-minimal-EXASOL-6.2.0 \\\n",
    "    --database-host {DATABASE_HOST}\\\n",
    "    --bucketfs-port {BUCKETFS_PORT} \\\n",
    "    --bucketfs-username {BUCKETFS_USER} \\\n",
    "    --bucketfs-password {BUCKETFS_PASSWORD} \\\n",
    "    --bucketfs-name {BUCKETFS_NAME} \\\n",
    "    --bucket-name {BUCKET_NAME} \\\n",
    "    --path-in-bucket {PATH_IN_BUCKET} \\\n",
    "    --release-name current\n",
    "\"\"\")"
   ]
  },
  {
   "cell_type": "markdown",
   "metadata": {},
   "source": [
    "### Getting the language container activation statement without upload"
   ]
  },
  {
   "cell_type": "markdown",
   "metadata": {},
   "source": [
    "Sometimes you can't use the `upload` command to upload your container to the BucketFS. To get the language activation statement regardless of that, you can use the `generate-language-activation` command."
   ]
  },
  {
   "cell_type": "code",
   "execution_count": null,
   "metadata": {},
   "outputs": [],
   "source": [
    "bash.run(f\"\"\"\n",
    "pushd {slc_path}\n",
    "./exaslct generate-language-activation \\\n",
    "    --flavor-path flavors/python-3.8-minimal-EXASOL-6.2.0 \\\n",
    "    --bucketfs-name {BUCKETFS_NAME} \\\n",
    "    --bucket-name {BUCKET_NAME} \\\n",
    "    --path-in-bucket {PATH_IN_BUCKET} \\\n",
    "    --container-name python-3.8-minimal-EXASOL-6.2.0-current  2>&1 | tail -n 15\n",
    "\"\"\")"
   ]
  },
  {
   "cell_type": "markdown",
   "metadata": {},
   "source": [
    "### Connecting to the database and activate the container"
   ]
  },
  {
   "cell_type": "markdown",
   "metadata": {},
   "source": [
    "Once we have a connection to the database we run the `ALTER SESSION` statement or `ALTER SYSTEM` statement (if you want to activate the container permanently and globally) we got from the upload."
   ]
  },
  {
   "cell_type": "code",
   "execution_count": null,
   "metadata": {},
   "outputs": [],
   "source": [
    "def connect():\n",
    "    con=pyexasol.connect(dsn=f\"{DATABASE_HOST}:{DATABASE_PORT}\",user=DATABASE_USER,password=DATABASE_PASSWORD)\n",
    "    con.execute(\"ALTER SESSION SET SCRIPT_LANGUAGES='PYTHON3=builtin_python3 PYTHON3_DS=localzmq+protobuf:///bfsdefault/default/container/python-3.8-minimal-EXASOL-6.2.0-release-current?lang=python#buckets/bfsdefault/default/container/python-3.8-minimal-EXASOL-6.2.0-release-current/exaudf/exaudfclient_py3';\")\n",
    "    con.execute(\"OPEN SCHEMA TEST\")\n",
    "    return con"
   ]
  },
  {
   "cell_type": "markdown",
   "metadata": {},
   "source": [
    "### Check if your customization did work"
   ]
  },
  {
   "cell_type": "markdown",
   "metadata": {},
   "source": [
    "We first create a helper UDF which allows us to run arbitrary shell commands inside of a UDF instance. With that we can easily inspect the container."
   ]
  },
  {
   "cell_type": "code",
   "execution_count": null,
   "metadata": {},
   "outputs": [],
   "source": [
    "con = connect()\n",
    "\n",
    "con.execute(textwrap.dedent(\"\"\"\n",
    "CREATE OR REPLACE PYTHON3_DS SCALAR SCRIPT execute_shell_command_py3(command VARCHAR(2000000), split_output boolean)\n",
    "EMITS (lines VARCHAR(2000000)) AS\n",
    "import subprocess\n",
    "\n",
    "def run(ctx):\n",
    "    try:\n",
    "        p = subprocess.Popen(ctx.command,\n",
    "                             stdout    = subprocess.PIPE,\n",
    "                             stderr    = subprocess.STDOUT,\n",
    "                             close_fds = True,\n",
    "                             shell     = True)\n",
    "        out, err = p.communicate()\n",
    "        if isinstance(out,bytes):\n",
    "            out=out.decode('utf8')\n",
    "        if ctx.split_output:\n",
    "            for line in out.strip().split('\\\\n'):\n",
    "                ctx.emit(line)\n",
    "        else:\n",
    "            ctx.emit(out)\n",
    "    finally:\n",
    "        if p is not None:\n",
    "            try: p.kill()\n",
    "            except: pass\n",
    "/\n",
    "\"\"\"))"
   ]
  },
  {
   "cell_type": "markdown",
   "metadata": {},
   "source": [
    "#### Check with \"pip list\" if the  \"xgboost\" package is installed"
   ]
  },
  {
   "cell_type": "markdown",
   "metadata": {},
   "source": [
    "We use our helper UDF to run `python3 -m pip list` directly in the container and get the list of currently avaiable python3 packages."
   ]
  },
  {
   "cell_type": "code",
   "execution_count": null,
   "metadata": {},
   "outputs": [],
   "source": [
    "con = connect()\n",
    "rs=con.execute(\"\"\"select execute_shell_command_py3('python3 -m pip list', true)\"\"\")\n",
    "for r in rs: \n",
    "    print(r[0])"
   ]
  },
  {
   "cell_type": "markdown",
   "metadata": {},
   "source": [
    "By running `pip list` directly in the container, we see what is currently available in the container. However, sometimes this might not be what we expected. For these cases, `exaslct` stores information about the flavor the container was build from within the container."
   ]
  },
  {
   "cell_type": "markdown",
   "metadata": {},
   "source": [
    "#### Embedded Build Information of the Container"
   ]
  },
  {
   "cell_type": "markdown",
   "metadata": {},
   "source": [
    "Here we see an overview about the build information which `exaslct` embedded into the container. `Exaslct` stores all packages lists (as defined in the flavor and what actually got installed), the final Dockerfiles and the image info. The image info describes how the underlying Docker images of the container got built. The build information is stored in the `/build_info` directory in the container. We can use again our helper UDF to inspect the build information."
   ]
  },
  {
   "cell_type": "code",
   "execution_count": null,
   "metadata": {},
   "outputs": [],
   "source": [
    "con = connect()\n",
    "rs=con.execute(\"\"\"select execute_shell_command_py3('find /build_info', true)\"\"\")\n",
    "for r in rs: \n",
    "    print(r[0])"
   ]
  },
  {
   "cell_type": "markdown",
   "metadata": {},
   "source": [
    "The following command shows for example, which python3 package pip found directly after the build of the container image."
   ]
  },
  {
   "cell_type": "code",
   "execution_count": null,
   "metadata": {},
   "outputs": [],
   "source": [
    "con = connect()\n",
    "rs=con.execute(\"\"\"select execute_shell_command_py3('cat /build_info/actual_installed_packages/release/python3_pip_packages', true)\"\"\")\n",
    "for r in rs: \n",
    "    print(r[0])"
   ]
  },
  {
   "cell_type": "markdown",
   "metadata": {},
   "source": [
    "You could for example compare this to the package list of the `flavor-customization` build step and check if all your requested packages got installed."
   ]
  },
  {
   "cell_type": "code",
   "execution_count": null,
   "metadata": {},
   "outputs": [],
   "source": [
    "con = connect()\n",
    "rs=con.execute(\"\"\"select execute_shell_command_py3('cat /build_info/packages/flavor_customization/python3_pip_packages', true)\"\"\")\n",
    "for r in rs:\n",
    "    if r[0] is None:\n",
    "        print()\n",
    "    else:\n",
    "        print(r[0])"
   ]
  },
  {
   "cell_type": "markdown",
   "metadata": {},
   "source": [
    "### Testing the new package"
   ]
  },
  {
   "cell_type": "markdown",
   "metadata": {},
   "source": [
    "After we made sure that the required packages are installed, we need to try importing and using it. Importing is usually a good first test if a package got successfully installed, because often you might already get errors at this step. However, sometimes you only will recognize errors when using the package. We recommend to have a test suite for each new package to check if it works properly before you start your UDF development. It is usually easier to debug problems if you have very narrow tests."
   ]
  },
  {
   "cell_type": "code",
   "execution_count": null,
   "metadata": {},
   "outputs": [],
   "source": [
    "con = connect()\n",
    "\n",
    "con.execute(textwrap.dedent(\"\"\"\n",
    "CREATE OR REPLACE PYTHON3_DS SET SCRIPT test_xgboost(i integer)\n",
    "EMITS (o VARCHAR(2000000)) AS\n",
    "\n",
    "def run(ctx):\n",
    "    import xgboost\n",
    "    import sklearn \n",
    "    \n",
    "    ctx.emit(\"success\")\n",
    "/\n",
    "\"\"\"))\n",
    "\n",
    "rs = con.execute(\"select test_xgboost(1)\")\n",
    "rs.fetchall()"
   ]
  },
  {
   "cell_type": "code",
   "execution_count": null,
   "metadata": {},
   "outputs": [],
   "source": [
    "con = connect()\n",
    "\n",
    "con.execute(textwrap.dedent(\"\"\"\n",
    "CREATE OR REPLACE PYTHON3_DS SET SCRIPT test_xgboost(i integer)\n",
    "EMITS (o1 DOUbLE, o2 DOUbLE, o3 DOUbLE) AS\n",
    "\n",
    "def run(ctx):\n",
    "    import pandas as pd\n",
    "    import xgboost as xgb\n",
    "    from sklearn import datasets\n",
    "    from sklearn.model_selection import train_test_split\n",
    "    \n",
    "    iris = datasets.load_iris()\n",
    "    X = iris.data\n",
    "    y = iris.target\n",
    "    \n",
    "    X_train, X_test, y_train, y_test = train_test_split(X, y, test_size=0.2, random_state=42)\n",
    "    \n",
    "    dtrain = xgb.DMatrix(X_train, label=y_train)\n",
    "    dtest = xgb.DMatrix(X_test, label=y_test)\n",
    "    param = {\n",
    "        'max_depth': 3,  # the maximum depth of each tree\n",
    "        'eta': 0.3,  # the training step for each iteration\n",
    "        'silent': 1,  # logging mode - quiet\n",
    "        'objective': 'multi:softprob',  # error evaluation for multiclass training\n",
    "        'num_class': 3  # the number of classes that exist in this datset\n",
    "        }\n",
    "    num_round = 20  # the number of training iterations\n",
    "    bst = xgb.train(param, dtrain, num_round)\n",
    "    preds = bst.predict(dtest)\n",
    "    \n",
    "    ctx.emit(pd.DataFrame(preds))\n",
    "/\n",
    "\"\"\"))\n",
    "\n",
    "con.export_to_pandas(\"select test_xgboost(1)\")"
   ]
  },
  {
   "cell_type": "code",
   "execution_count": null,
   "metadata": {},
   "outputs": [],
   "source": []
  }
 ],
 "metadata": {
  "environment": {
   "name": "common-cpu.m61",
   "type": "gcloud",
   "uri": "gcr.io/deeplearning-platform-release/base-cpu:m61"
  },
  "kernelspec": {
   "display_name": "Python 3 (ipykernel)",
   "language": "python",
   "name": "python3"
  },
  "language_info": {
   "codemirror_mode": {
    "name": "ipython",
    "version": 3
   },
   "file_extension": ".py",
   "mimetype": "text/x-python",
   "name": "python",
   "nbconvert_exporter": "python",
   "pygments_lexer": "ipython3",
   "version": "3.8.10"
  }
 },
 "nbformat": 4,
 "nbformat_minor": 4
}
