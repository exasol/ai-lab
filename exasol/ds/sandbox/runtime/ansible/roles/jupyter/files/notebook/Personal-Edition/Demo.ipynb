{
 "cells": [
  {
   "cell_type": "markdown",
   "id": "91051dad-8d45-435f-b2c9-7572e4050f58",
   "metadata": {},
   "source": [
    "## Open Secure Configuration Storage"
   ]
  },
  {
   "cell_type": "code",
   "execution_count": 6,
   "id": "5970a003-896d-4f06-83ee-be98129c29d8",
   "metadata": {},
   "outputs": [
    {
     "data": {
      "application/vnd.jupyter.widget-view+json": {
       "model_id": "e3e33476d24c492bbb9700edb8cb62e5",
       "version_major": 2,
       "version_minor": 0
      },
      "text/plain": [
       "Output()"
      ]
     },
     "metadata": {},
     "output_type": "display_data"
    },
    {
     "data": {
      "application/vnd.jupyter.widget-view+json": {
       "model_id": "fd06d2445c7549aaae7c0b061b69d8d8",
       "version_major": 2,
       "version_minor": 0
      },
      "text/plain": [
       "Box(children=(Box(children=(Label(value='Configuration Store', layout=Layout(border_bottom='solid 1px', border…"
      ]
     },
     "metadata": {},
     "output_type": "display_data"
    }
   ],
   "source": [
    "%run utils/access_store_ui.ipynb\n",
    "display(get_access_store_ui())"
   ]
  },
  {
   "cell_type": "code",
   "execution_count": 7,
   "id": "73122275-3f4a-4981-b8b3-ee6c49734996",
   "metadata": {},
   "outputs": [
    {
     "data": {
      "application/vnd.jupyter.widget-view+json": {
       "model_id": "0487ade183234a8b8aeb07f3c8b806c3",
       "version_major": 2,
       "version_minor": 0
      },
      "text/plain": [
       "Output()"
      ]
     },
     "metadata": {},
     "output_type": "display_data"
    }
   ],
   "source": [
    "%run utils/access_store_ui.ipynb"
   ]
  },
  {
   "cell_type": "code",
   "execution_count": 10,
   "id": "d7c26107-1618-4bd4-a554-d8abcb2225d2",
   "metadata": {},
   "outputs": [
    {
     "data": {
      "text/plain": [
       "'/home/jupyter/notebooks'"
      ]
     },
     "execution_count": 10,
     "metadata": {},
     "output_type": "execute_result"
    }
   ],
   "source": [
    "import os \n",
    "os.getcwd()"
   ]
  },
  {
   "cell_type": "code",
   "execution_count": 9,
   "id": "a3df73eb-1b35-47b3-8c6c-7d244cfc718b",
   "metadata": {},
   "outputs": [],
   "source": [
    "from exasol.nb_connector.connections import open_pyexasol_connection\n",
    "\n",
    "sql = f'CREATE SCHEMA IF NOT EXISTS \"{ai_lab_config.db_schema}\"'\n",
    "with open_pyexasol_connection(ai_lab_config, compression=True) as conn:\n",
    "    conn.execute(query=sql)\n"
   ]
  },
  {
   "cell_type": "code",
   "execution_count": 11,
   "id": "4b7410c6-c908-4840-94fa-e21026db7cc1",
   "metadata": {},
   "outputs": [
    {
     "ename": "AttributeError",
     "evalue": "'ExaConnection' object has no attribute 'import_from_parquet'",
     "output_type": "error",
     "traceback": [
      "\u001b[0;31m---------------------------------------------------------------------------\u001b[0m",
      "\u001b[0;31mAttributeError\u001b[0m                            Traceback (most recent call last)",
      "Cell \u001b[0;32mIn[11], line 3\u001b[0m\n\u001b[1;32m      1\u001b[0m \u001b[38;5;28;01mwith\u001b[39;00m open_pyexasol_connection(ai_lab_config, compression\u001b[38;5;241m=\u001b[39m\u001b[38;5;28;01mTrue\u001b[39;00m) \u001b[38;5;28;01mas\u001b[39;00m conn:\n\u001b[1;32m      2\u001b[0m     path \u001b[38;5;241m=\u001b[39m Path(\u001b[38;5;124m\"\u001b[39m\u001b[38;5;124mPersonal-Edition/sample.parquet\u001b[39m\u001b[38;5;124m\"\u001b[39m)\n\u001b[0;32m----> 3\u001b[0m     \u001b[43mconn\u001b[49m\u001b[38;5;241;43m.\u001b[39;49m\u001b[43mimport_from_parquet\u001b[49m([path], (ai_lab_config\u001b[38;5;241m.\u001b[39mdb_schema, \u001b[38;5;124m\"\u001b[39m\u001b[38;5;124mSALES\u001b[39m\u001b[38;5;124m\"\u001b[39m))\n",
      "\u001b[0;31mAttributeError\u001b[0m: 'ExaConnection' object has no attribute 'import_from_parquet'"
     ]
    }
   ],
   "source": [
    "with open_pyexasol_connection(ai_lab_config, compression=True) as conn:\n",
    "    path = Path(\"Personal-Edition/sample.parquet\")\n",
    "    conn.import_from_parquet([path], (ai_lab_config.db_schema, \"SALES\"))"
   ]
  }
 ],
 "metadata": {
  "kernelspec": {
   "display_name": "Python 3 (ipykernel)",
   "language": "python",
   "name": "python3"
  },
  "language_info": {
   "codemirror_mode": {
    "name": "ipython",
    "version": 3
   },
   "file_extension": ".py",
   "mimetype": "text/x-python",
   "name": "python",
   "nbconvert_exporter": "python",
   "pygments_lexer": "ipython3",
   "version": "3.10.12"
  }
 },
 "nbformat": 4,
 "nbformat_minor": 5
}
