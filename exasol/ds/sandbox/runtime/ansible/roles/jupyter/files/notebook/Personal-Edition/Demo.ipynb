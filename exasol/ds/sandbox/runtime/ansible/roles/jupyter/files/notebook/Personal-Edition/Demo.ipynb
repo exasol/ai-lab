{
 "cells": [
  {
   "cell_type": "markdown",
   "id": "91051dad-8d45-435f-b2c9-7572e4050f58",
   "metadata": {},
   "source": [
    "## Open Secure Configuration Storage"
   ]
  },
  {
   "cell_type": "code",
   "execution_count": null,
   "id": "5970a003-896d-4f06-83ee-be98129c29d8",
   "metadata": {},
   "outputs": [],
   "source": [
    "%run ../utils/access_store_ui.ipynb\n",
    "display(get_access_store_ui(\"../\"))"
   ]
  },
  {
   "cell_type": "code",
   "execution_count": null,
   "id": "73122275-3f4a-4981-b8b3-ee6c49734996",
   "metadata": {},
   "outputs": [],
   "source": [
    "%run ../utils/access_store_ui.ipynb"
   ]
  },
  {
   "cell_type": "code",
   "execution_count": null,
   "id": "d92aeb4b-bba6-49a7-8903-a7593df288d3",
   "metadata": {},
   "outputs": [],
   "source": [
    "%run ../utils/jupysql_init.ipynb"
   ]
  },
  {
   "cell_type": "code",
   "execution_count": null,
   "id": "a683ce02-668a-43f1-8efa-c71c21bea447",
   "metadata": {},
   "outputs": [],
   "source": [
    "%%sql --save udf_output\n",
    "CREATE SCHEMA IF NOT EXISTS \"{{ai_lab_config.db_schema}}\""
   ]
  },
  {
   "cell_type": "code",
   "execution_count": null,
   "id": "a3df73eb-1b35-47b3-8c6c-7d244cfc718b",
   "metadata": {},
   "outputs": [],
   "source": [
    "from exasol.nb_connector.connections import open_pyexasol_connection\n",
    "sql = f'CREATE SCHEMA IF NOT EXISTS \"{ai_lab_config.db_schema}\"'\n",
    "with open_pyexasol_connection(ai_lab_config, compression=True) as conn:\n",
    "    conn.execute(query=sql)"
   ]
  },
  {
   "cell_type": "code",
   "execution_count": null,
   "id": "40546944-dd3e-4330-a9c0-8ef57c4b5deb",
   "metadata": {},
   "outputs": [],
   "source": [
    "with open_pyexasol_connection(ai_lab_config, compression=True) as conn:\n",
    "    path = Path(\"sample.csv\")\n",
    "    import_params = {\"column_separator\": \";\"}\n",
    "    conn.import_from_file(path, (ai_lab_config.db_schema, \"SALES\"), import_params)"
   ]
  },
  {
   "cell_type": "markdown",
   "id": "a8079523-7ad7-444c-84b2-5245cbee5ab8",
   "metadata": {},
   "source": [
    "This does not work \n",
    "\n",
    "```\n",
    "%%sql \n",
    "import INTO \"{{ai_lab_config.db_schema}}\".\"SALES\"\n",
    "FROM LOCAL csv file 'sample.csv' COLUMN separator = ';'\n",
    "```"
   ]
  },
  {
   "cell_type": "code",
   "execution_count": null,
   "id": "7f6ab083-d7db-4e76-8e1d-7cf7ff369c87",
   "metadata": {},
   "outputs": [],
   "source": [
    "from exasol.nb_connector.connections import open_bucketfs_location\n",
    "file = Path(\"text_file.txt\")\n",
    "bfs = open_bucketfs_location(ai_lab_config)\n",
    "remote = bfs / file.name\n",
    "remote.write(file.read_bytes())\n",
    "for p in bfs.iterdir():\n",
    "    print(f'- {p.name}')"
   ]
  }
 ],
 "metadata": {
  "kernelspec": {
   "display_name": "Python 3 (ipykernel)",
   "language": "python",
   "name": "python3"
  },
  "language_info": {
   "codemirror_mode": {
    "name": "ipython",
    "version": 3
   },
   "file_extension": ".py",
   "mimetype": "text/x-python",
   "name": "python",
   "nbconvert_exporter": "python",
   "pygments_lexer": "ipython3",
   "version": "3.10.12"
  }
 },
 "nbformat": 4,
 "nbformat_minor": 5
}
