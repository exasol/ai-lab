{
 "cells": [
  {
   "cell_type": "markdown",
   "id": "91051dad-8d45-435f-b2c9-7572e4050f58",
   "metadata": {},
   "source": [
    "# Exasol Personal Edition Demo\n",
    "\n",
    "This notebook demonstrates connecting to an Exasol Personal Edition database instance and using some of its features. \n",
    "\n",
    "## 1. Open Secure Configuration Storage\n",
    "\n",
    "First we need to open the Secure Configuration Storage (SCS) containing the connection information such as the database host, user, password, etc."
   ]
  },
  {
   "cell_type": "code",
   "execution_count": null,
   "id": "5970a003-896d-4f06-83ee-be98129c29d8",
   "metadata": {},
   "outputs": [],
   "source": [
    "%run ../utils/access_store_ui.ipynb\n",
    "display(get_access_store_ui(\"../\"))"
   ]
  },
  {
   "cell_type": "markdown",
   "id": "d15075fa-8c9d-4e60-82d9-28d92d38ee0e",
   "metadata": {},
   "source": [
    "## 2. Load UI functions\n",
    "\n",
    "Additionally we will import some basic UI functions used in this notebook and activate the Magic Jupy SQL syntax."
   ]
  },
  {
   "cell_type": "code",
   "execution_count": null,
   "id": "73122275-3f4a-4981-b8b3-ee6c49734996",
   "metadata": {},
   "outputs": [],
   "source": [
    "%run ../utils/access_store_ui.ipynb\n",
    "%run ../utils/jupysql_init.ipynb"
   ]
  },
  {
   "cell_type": "markdown",
   "id": "79d61177-4d5a-4520-8c3d-6122686187e9",
   "metadata": {},
   "source": [
    "## 3. Create the Database Schema\n",
    "\n",
    "We will create a separate database schema to contain our changes and experiments."
   ]
  },
  {
   "cell_type": "code",
   "execution_count": null,
   "id": "a683ce02-668a-43f1-8efa-c71c21bea447",
   "metadata": {},
   "outputs": [],
   "source": [
    "%%sql --save udf_output\n",
    "CREATE SCHEMA IF NOT EXISTS \"{{ai_lab_config.db_schema}}\""
   ]
  },
  {
   "cell_type": "markdown",
   "id": "5bb4d9a9-6c28-4826-8733-8730d9b7fa7c",
   "metadata": {},
   "source": [
    "AlteYou can also use the pyexasol module to create the database schema:"
   ]
  },
  {
   "cell_type": "code",
   "execution_count": null,
   "id": "a3df73eb-1b35-47b3-8c6c-7d244cfc718b",
   "metadata": {},
   "outputs": [],
   "source": [
    "from exasol.nb_connector.connections import open_pyexasol_connection\n",
    "sql = f'CREATE SCHEMA IF NOT EXISTS \"{ai_lab_config.db_schema}\"'\n",
    "with open_pyexasol_connection(ai_lab_config, compression=True) as conn:\n",
    "    conn.execute(query=sql)"
   ]
  },
  {
   "cell_type": "markdown",
   "id": "342a7800-253d-43a0-9bd7-89932876317d",
   "metadata": {},
   "source": [
    "## 4. Importing Data\n",
    "\n",
    "This section demonstrates how to import data into the database. \n",
    "\n",
    "### 4.1 Create a Database Table\n",
    "\n",
    "First we need to create a database table:\n"
   ]
  },
  {
   "cell_type": "code",
   "execution_count": null,
   "id": "4167f28f-36b0-4bae-8450-ddd3bb750f3b",
   "metadata": {},
   "outputs": [],
   "source": [
    "%%sql --save udf_output\n",
    "CREATE OR REPLACE TABLE \"{{ai_lab_config.db_schema}}\".\"SALES\" (\n",
    "    sales_id DECIMAL(18,0),\n",
    "    position_id INTEGER,\n",
    "    article_id INTEGER,\n",
    "    amount INTEGER,\n",
    "    price DOUBLE,\n",
    "    voucher_id INTEGER,\n",
    "    canceled BOOL    \n",
    ")"
   ]
  },
  {
   "cell_type": "markdown",
   "id": "94a62684-1c3f-401d-be89-4e36cdb0b142",
   "metadata": {},
   "source": [
    "### 4.2 Import a CSV File\n",
    "\n",
    "Now we can import a CSV file into the database table:"
   ]
  },
  {
   "cell_type": "code",
   "execution_count": null,
   "id": "40546944-dd3e-4330-a9c0-8ef57c4b5deb",
   "metadata": {},
   "outputs": [],
   "source": [
    "with open_pyexasol_connection(ai_lab_config, compression=True) as conn:\n",
    "    path = Path(\"sample.csv\")\n",
    "    import_params = {\"column_separator\": \";\"}\n",
    "    conn.import_from_file(path, (ai_lab_config.db_schema, \"SALES\"), import_params)"
   ]
  },
  {
   "cell_type": "markdown",
   "id": "a8079523-7ad7-444c-84b2-5245cbee5ab8",
   "metadata": {},
   "source": [
    "This does not work as import from local is only possible when using a JDBC driver.\n",
    "\n",
    "```\n",
    "%%sql \n",
    "import INTO \"{{ai_lab_config.db_schema}}\".\"SALES\"\n",
    "FROM LOCAL csv file 'sample.csv' COLUMN separator = ';'\n",
    "```"
   ]
  },
  {
   "cell_type": "markdown",
   "id": "768ca230-817c-4226-a1b6-ac5c32d4b1c7",
   "metadata": {},
   "source": [
    "## 5. Using the Exasol Bucket File System\n",
    "\n",
    "The [Exasol Bucket File System](https://docs.exasol.com/db/latest/database_concepts/bucketfs/bucketfs.htm) (BucketFS) is a powerful feature to exchange non-relational data with the database nodes in an Exasol cluster.\n",
    "\n",
    "Such data can be arbitrary files including \n",
    "* Data to be processed by [User Defined Scripts](https://docs.exasol.com/db/latest/database_concepts/udf_scripts.htm) (UDFs)\n",
    "* [Script-Language Containers](https://github.com/exasol/script-languages-release) (SLCs)\n",
    "* Pretrained Large Language AI Models\n",
    "\n",
    "### 5.1 Upload a File to the BucketFS\n",
    "\n",
    "Let's upload a simple file into the BucketFS:"
   ]
  },
  {
   "cell_type": "code",
   "execution_count": 37,
   "id": "7f6ab083-d7db-4e76-8e1d-7cf7ff369c87",
   "metadata": {},
   "outputs": [],
   "source": [
    "from exasol.nb_connector.connections import open_bucketfs_location\n",
    "file = Path(\"text_file.txt\")\n",
    "bfs = open_bucketfs_location(ai_lab_config)\n",
    "remote = bfs / file.name\n",
    "remote.write(file.read_bytes())"
   ]
  },
  {
   "cell_type": "markdown",
   "id": "82dc65f7-4d27-41b2-835a-100aa8b79d64",
   "metadata": {},
   "source": [
    "### 5.2 List the Files in the BucketFS \n",
    "\n",
    "We can also list all the files currently available in the BucketFS:"
   ]
  },
  {
   "cell_type": "code",
   "execution_count": null,
   "id": "7597aa88-5c37-4d2d-ae96-be90bf1a5baf",
   "metadata": {},
   "outputs": [],
   "source": [
    "bfs = open_bucketfs_location(ai_lab_config)\n",
    "for p in bfs.iterdir():\n",
    "    print(f'- {p.name}')"
   ]
  }
 ],
 "metadata": {
  "kernelspec": {
   "display_name": "Python 3 (ipykernel)",
   "language": "python",
   "name": "python3"
  },
  "language_info": {
   "codemirror_mode": {
    "name": "ipython",
    "version": 3
   },
   "file_extension": ".py",
   "mimetype": "text/x-python",
   "name": "python",
   "nbconvert_exporter": "python",
   "pygments_lexer": "ipython3",
   "version": "3.10.12"
  }
 },
 "nbformat": 4,
 "nbformat_minor": 5
}
