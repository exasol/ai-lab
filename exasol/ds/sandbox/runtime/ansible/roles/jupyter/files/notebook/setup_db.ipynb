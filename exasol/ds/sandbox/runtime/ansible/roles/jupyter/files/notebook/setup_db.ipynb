{
 "cells": [
  {
   "cell_type": "markdown",
   "id": "26d6af42cc6d777f",
   "metadata": {
    "collapsed": false,
    "jupyter": {
     "outputs_hidden": false
    }
   },
   "source": [
    "# DB Schema Creation\n",
    "\n",
    "To execute a query on the Exasol database we will be using the <a href=\"https://github.com/exasol/pyexasol\" target=\"_blank\" rel=\"noopener\">`pyexasol`</a> module.\n",
    "\n",
    "<b>This notebook is not supposed to be used on its own.<b>\n",
    "\n",
    "## Usage \n",
    "This notebook could be used in other notebooks like this:\n",
    "\n",
    "```\n",
    "%run ../setup_db.ipynb\n",
    "conf = SandboxConfig(EXTERNAL_HOST_NAME=\"127.0.0.1\", HOST_PORT=8563)\n",
    "setup_schema(conf)\n",
    "```"
   ]
  },
  {
   "cell_type": "code",
   "execution_count": 6,
   "id": "7f31ccfd-bd6d-435a-9f4c-ae2e5af04ea3",
   "metadata": {
    "ExecuteTime": {
     "end_time": "2023-10-30T16:20:00.552424Z",
     "start_time": "2023-10-30T16:20:00.540210Z"
    }
   },
   "outputs": [],
   "source": [
    "import pyexasol\n",
    "from stopwatch import Stopwatch\n",
    "\n",
    "def setup_schema(conf):\n",
    "    stopwatch = Stopwatch()\n",
    "\n",
    "    dsn = f'{sb_config.EXTERNAL_HOST_NAME}:{sb_config.HOST_PORT}'\n",
    "    sql = f'CREATE SCHEMA IF NOT EXISTS \"{sb_config.SCHEMA}\"'\n",
    "    with pyexasol.connect(dsn=dsn, user=conf.USER, password=conf.PASSWORD, compression=True) as conn:\n",
    "        conn.execute(query=sql)\n",
    "\n",
    "    print(f\"Schema created in {stopwatch}\")"
   ]
  },
  {
   "cell_type": "code",
   "execution_count": null,
   "id": "207efa4935251bf5",
   "metadata": {
    "collapsed": false,
    "jupyter": {
     "outputs_hidden": false
    }
   },
   "outputs": [],
   "source": []
  }
 ],
 "metadata": {
  "kernelspec": {
   "display_name": "Python 3 (ipykernel)",
   "language": "python",
   "name": "python3"
  },
  "language_info": {
   "codemirror_mode": {
    "name": "ipython",
    "version": 3
   },
   "file_extension": ".py",
   "mimetype": "text/x-python",
   "name": "python",
   "nbconvert_exporter": "python",
   "pygments_lexer": "ipython3",
   "version": "3.8.10"
  }
 },
 "nbformat": 4,
 "nbformat_minor": 5
}
