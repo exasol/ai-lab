{
 "cells": [
  {
   "cell_type": "markdown",
   "id": "411db7e6-2fcc-428d-85c3-9e3b515aeaa7",
   "metadata": {},
   "source": [
    "# Initializing a JupySQL session\n",
    "\n",
    "<b>This notebook is not supposed to be run on its own. It contains model loading functions that are called by other notebooks.</b>"
   ]
  },
  {
   "cell_type": "code",
   "execution_count": null,
   "id": "a24d91e6-146d-41eb-8544-e4de70a9374c",
   "metadata": {},
   "outputs": [],
   "source": [
    "from exasol.connections import open_sqlalchemy_connection\n",
    "from exasol.language_container_activation import get_activation_sql\n",
    "\n",
    "engine = open_sqlalchemy_connection(sb_config)\n",
    "\n",
    "%load_ext sql\n",
    "%sql engine\n",
    "%sql OPEN SCHEMA {{sb_config.SCHEMA}}\n",
    "%sql {{get_activation_sql(sb_config)}}"
   ]
  }
 ],
 "metadata": {
  "kernelspec": {
   "display_name": "Python 3 (ipykernel)",
   "language": "python",
   "name": "python3"
  },
  "language_info": {
   "codemirror_mode": {
    "name": "ipython",
    "version": 3
   },
   "file_extension": ".py",
   "mimetype": "text/x-python",
   "name": "python",
   "nbconvert_exporter": "python",
   "pygments_lexer": "ipython3",
   "version": "3.8.10"
  }
 },
 "nbformat": 4,
 "nbformat_minor": 5
}
