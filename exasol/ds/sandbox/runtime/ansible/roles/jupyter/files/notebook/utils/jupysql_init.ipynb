{
 "cells": [
  {
   "cell_type": "markdown",
   "id": "411db7e6-2fcc-428d-85c3-9e3b515aeaa7",
   "metadata": {},
   "source": [
    "# Initializing a JupySQL session\n",
    "\n",
    "<b>This notebook is not supposed to be run independently. It brings in the sql magic and performs some common DB initialization steps. The latter includes opening the default schema and activating UDF languages at the session level.</b>"
   ]
  },
  {
   "cell_type": "code",
   "execution_count": null,
   "id": "a24d91e6-146d-41eb-8544-e4de70a9374c",
   "metadata": {},
   "outputs": [],
   "source": [
    "from exasol.nb_connector.connections import open_sqlalchemy_connection\n",
    "from exasol.nb_connector.language_container_activation import get_activation_sql\n",
    "\n",
    "engine = open_sqlalchemy_connection(ai_lab_config)\n",
    "\n",
    "%load_ext sql\n",
    "%sql engine\n",
    "%config SqlMagic.short_errors = False\n",
    "%sql OPEN SCHEMA {{ai_lab_config.db_schema}}\n",
    "%sql {{get_activation_sql(ai_lab_config)}}"
   ]
  }
 ],
 "metadata": {
  "kernelspec": {
   "display_name": "Python 3 (ipykernel)",
   "language": "python",
   "name": "python3"
  },
  "language_info": {
   "codemirror_mode": {
    "name": "ipython",
    "version": 3
   },
   "file_extension": ".py",
   "mimetype": "text/x-python",
   "name": "python",
   "nbconvert_exporter": "python",
   "pygments_lexer": "ipython3",
   "version": "3.9.5"
  }
 },
 "nbformat": 4,
 "nbformat_minor": 5
}
