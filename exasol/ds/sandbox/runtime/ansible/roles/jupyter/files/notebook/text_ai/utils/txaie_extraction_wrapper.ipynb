{
 "cells": [
  {
   "cell_type": "code",
   "execution_count": 6,
   "id": "af7de0d2994a4412",
   "metadata": {},
   "outputs": [],
   "source": [
    "\n",
    "from exasol.ai.text.extraction import *\n",
    "from exasol.ai.text.extraction.extraction import Extraction\n",
    "from exasol.ai.text.extraction import AbstractExtraction\n",
    "from exasol.nb_connector.connections import open_pyexasol_connection\n",
    "from exasol.ai.text.extraction.abstract_extraction import Output\n",
    "from exasol.nb_connector.secret_store import Secrets\n",
    "from exasol.nb_connector.ai_lab_config import AILabConfig as CKey\n",
    "from exasol.nb_connector.language_container_activation import get_activation_sql\n",
    "from exasol.nb_connector.connections import open_pyexasol_connection\n",
    "\n",
    "\n",
    "class ExtractionWrapper(AbstractExtraction):\n",
    "\n",
    "    def run(self, conf: Secrets) -> None:\n",
    "        activation_sql = get_activation_sql(conf)\n",
    "        with open_pyexasol_connection(ai_lab_config, compression=True) as connection:\n",
    "            connection.execute(query=activation_sql)\n",
    "            db_schema = conf.db_schema\n",
    "            language_alias = \"PYTHON3_TXAIE\" #conf.get(CKey.language_alias)todo change once var exists in sectret store\n",
    "            Extraction(\n",
    "                extractor=self.extractor,\n",
    "                output=self.output,\n",
    "                defaults=self.defaults).run(\n",
    "                connection,\n",
    "                db_schema,\n",
    "                language_alias,\n",
    "            )\n",
    " \n"
   ]
  },
  {
   "cell_type": "code",
   "execution_count": null,
   "id": "50a145b4-6348-4d59-a6c0-1467b05037df",
   "metadata": {},
   "outputs": [],
   "source": []
  }
 ],
 "metadata": {
  "kernelspec": {
   "display_name": "Python 3 (ipykernel)",
   "language": "python",
   "name": "python3"
  },
  "language_info": {
   "codemirror_mode": {
    "name": "ipython",
    "version": 3
   },
   "file_extension": ".py",
   "mimetype": "text/x-python",
   "name": "python",
   "nbconvert_exporter": "python",
   "pygments_lexer": "ipython3",
   "version": "3.10.12"
  }
 },
 "nbformat": 4,
 "nbformat_minor": 5
}
