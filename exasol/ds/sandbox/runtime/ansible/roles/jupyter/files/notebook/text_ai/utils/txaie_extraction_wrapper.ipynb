{
 "cells": [
  {
   "cell_type": "code",
   "execution_count": 1,
   "id": "af7de0d2994a4412",
   "metadata": {},
   "outputs": [],
   "source": [
    "\n",
    "from exasol.ai.text.extraction import *\n",
    "from exasol.ai.text.extraction.extraction import Extraction\n",
    "from exasol.ai.text.extraction import AbstractExtraction\n",
    "from exasol.nb_connector.connections import open_pyexasol_connection\n",
    "from exasol.ai.text.extraction.abstract_extraction import Output\n",
    "from exasol.nb_connector.secret_store import Secrets #todo is this installed here?\n",
    "from exasol.nb_connector.ai_lab_config import AILabConfig as CKey\n",
    "from exasol.nb_connector.language_container_activation import get_activation_sql\n",
    "from exasol.nb_connector.connections import open_pyexasol_connection\n",
    "\n",
    "\n",
    "class ExtractionWrapper(Extraction, AbstractExtraction):#todo do we nedd the second?\n",
    "\n",
    "    def run(self, conf: Secrets) -> None:\n",
    "        activation_sql = get_activation_sql(conf)\n",
    "        with open_pyexasol_connection(ai_lab_config, compression=True) as connection:\n",
    "            connection.execute(query=activation_sql)\n",
    "            db_schema = conf.db_schema\n",
    "            language_alias = \"PYTHON3_TXAIE\" #conf.get(CKey.language_alias)todo change once var exists in sectret store\n",
    "            #Extraction(\n",
    "            #    extractor=extractor,\n",
    "            #    output=Output(db_schema=schema),\n",
    "            #    defaults=defaults\n",
    "            #).run(\n",
    "            super().run(\n",
    "                connection,\n",
    "                schema,\n",
    "                LANGUAGE_ALIAS,\n",
    "            )\n",
    "\n",
    " \n",
    "\n"
   ]
  }
 ],
 "metadata": {
  "kernelspec": {
   "display_name": "Python 3 (ipykernel)",
   "language": "python",
   "name": "python3"
  },
  "language_info": {
   "codemirror_mode": {
    "name": "ipython",
    "version": 3
   },
   "file_extension": ".py",
   "mimetype": "text/x-python",
   "name": "python",
   "nbconvert_exporter": "python",
   "pygments_lexer": "ipython3",
   "version": "3.10.12"
  }
 },
 "nbformat": 4,
 "nbformat_minor": 5
}
