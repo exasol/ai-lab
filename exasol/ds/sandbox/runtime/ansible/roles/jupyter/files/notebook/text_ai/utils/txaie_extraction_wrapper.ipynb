{
 "cells": [
  {
   "cell_type": "code",
   "execution_count": null,
   "id": "initial_id",
   "metadata": {
    "collapsed": true,
    "jupyter": {
     "outputs_hidden": true
    }
   },
   "outputs": [],
   "source": []
  },
  {
   "cell_type": "code",
   "execution_count": 14,
   "id": "af7de0d2994a4412",
   "metadata": {},
   "outputs": [],
   "source": [
    "#\n",
    "#todo New class that inherits from AbstractExtraction and constructs with the information from the secret store an\n",
    "# exasol.ai.text.extraction.Extraction object and calls its run method\n",
    "\n",
    "from exasol.ai.text.extraction import *\n",
    "from exasol.ai.text.extraction.extraction import Extraction\n",
    "from exasol.ai.text.extraction import AbstractExtraction\n",
    "from exasol.nb_connector.connections import open_pyexasol_connection\n",
    "from exasol.ai.text.extraction.abstract_extraction import Output\n",
    "from exasol.nb_connector.secret_store import Secrets #todo is this installed here?\n",
    "from exasol.nb_connector.ai_lab_config import AILabConfig as CKey\n",
    "from exasol.nb_connector.language_container_activation import get_activation_sql\n",
    "\n",
    "\n",
    "#text_column=\"TEXT_COLUMN\"\n",
    "#key_column=\"KEY_COLUMN\"\n",
    "#table=\"MY_TABLE\"\n",
    "#table=\"CUSTOMER_SUPPORT_TICKETS\"\n",
    "text_column=\"TICKET_DESCRIPTION\"\n",
    "key_column=\"TICKET_ID\"\n",
    "view=\"MY_VIEW\"\n",
    "LABELS=[\"urgent\", \"not urgent\"]#todo which of these are in cof and which are input?\n",
    "topics=[\"hardware issue\", \"software issue\"]\n",
    "\n",
    "#class AbstractExtraction(BaseModel):\n",
    "    # Ignore cython function in raw pydantic class, see https://github.com/pydantic/pydantic/issues/6670\n",
    "#    model_config = {'ignored_types': (CyFunctionDetector,), 'frozen': True}\n",
    "\n",
    "#    extractor: Annotated[Extractor, AfterValidator(validate_source)]\n",
    "#    output: Output\n",
    "##############################\n",
    "\n",
    "#    id: int\n",
    " #   name: str = 'Jane Doe'\n",
    "\n",
    " #   model_config = ConfigDict(str_max_length=10) \n",
    "\n",
    "class ExtractionWrapper(Extraction, AbstractExtraction):#todo do we nedd the second?\n",
    "    def __init__(self, conf: Secrets):# todo get info from conf\n",
    "        schema=conf.db_schema\n",
    "        super().__init__(\n",
    "            extractor=PipelineExtractor( #todo or are these input for the wrapper? probably\n",
    "                steps=[\n",
    "                    SourceTableExtractor(sources=[#todo or does all this happen in the run()?\n",
    "                        SchemaSource(db_schema=NameSelector(pattern=schema),\n",
    "                             tables=[\n",
    "                                 TableSource(table=NameSelector(pattern=view),\n",
    "                                             columns=[NameSelector(pattern=text_column)],\n",
    "                                             keys=[NameSelector(pattern=key_column)])\n",
    "                             ])\n",
    "                    ]),\n",
    "                    DefaultExtractor(\n",
    "                        ai_lab_config,\n",
    "                        named_entity_recognition_enabled = False,# todo enable?\n",
    "                        topic_classification_enabled = True,\n",
    "                        keyword_search_enabled = False,\n",
    "                        topics=topics,\n",
    "                        parallelism_per_node=1)\n",
    "                    ]\n",
    "            ),\n",
    "            output=Output(db_schema=schema, table_prefix=\"TEST_TXAI\")\n",
    "        )\n",
    "        #self.pyexasol_con = conf.get(CKey.text_ai_pre_release_url)\n",
    "        #self.temporary_db_object_schema = conf.get(CKey.temporary_db_object_schema)\n",
    "        #self.language_alias = conf.get(CKey.language_alias)\n",
    "\n",
    "\n",
    "    def run(self, conf: Secrets) -> None:\n",
    "        activation_sql = get_activation_sql(conf)\n",
    "        with open_pyexasol_connection(ai_lab_config, compression=True) as pyexasol_con:#todo or do these as inut?, or just call the run func directly and delete it here?\n",
    "            #temporary_db_object_schema = conf.get(CKey.temporary_db_object_schema)\n",
    "            pyexasol_con.execute(query=activation_sql)\n",
    "            db_schema = conf.db_schema\n",
    "            language_alias = \"PYTHON3_TXAIE\" #conf.get(CKey.language_alias)todo change once var exists in sectret store\n",
    "            #self.run(pyexasol_con, temporary_db_object_schema, language_alias)\n",
    "            super().run(pyexasol_con, db_schema, language_alias)\n",
    " \n",
    "\n"
   ]
  },
  {
   "cell_type": "code",
   "execution_count": null,
   "id": "be788c48b037d6f4",
   "metadata": {},
   "outputs": [],
   "source": [
    "\n",
    "BUCKETFS_CONNECTION_NAME=ai_lab_config.te_bfs_connection\n",
    "BUCKETFS_SUB_DIR=ai_lab_config.te_models_bfs_dir\n"
   ]
  }
 ],
 "metadata": {
  "kernelspec": {
   "display_name": "Python 3 (ipykernel)",
   "language": "python",
   "name": "python3"
  },
  "language_info": {
   "codemirror_mode": {
    "name": "ipython",
    "version": 3
   },
   "file_extension": ".py",
   "mimetype": "text/x-python",
   "name": "python",
   "nbconvert_exporter": "python",
   "pygments_lexer": "ipython3",
   "version": "3.10.12"
  }
 },
 "nbformat": 4,
 "nbformat_minor": 5
}
