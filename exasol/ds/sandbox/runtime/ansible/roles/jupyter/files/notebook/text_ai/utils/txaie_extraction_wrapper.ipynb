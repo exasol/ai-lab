{
 "cells": [
  {
   "cell_type": "code",
   "execution_count": null,
   "id": "initial_id",
   "metadata": {
    "collapsed": true
   },
   "outputs": [],
   "source": [
    ""
   ]
  },
  {
   "metadata": {},
   "cell_type": "code",
   "outputs": [],
   "execution_count": null,
   "source": [
    "#\n",
    "#todo New class that inherits from AbstractExtraction and constructs with the information from the secret store an\n",
    "# exasol.ai.text.extraction.Extraction object and calls its run method\n",
    "\n",
    "from exasol.ai.text.extraction import *\n",
    "from exasol.ai.text.extraction.Extraction import Extraction\n",
    "from exasol.ai.text.extraction import AbstractExtraction\n",
    "from exasol.nb_connector.secret_store import Secrets #todo is this installed here?\n",
    "from exasol.nb_connector.ai_lab_config import AILabConfig as CKey\n",
    "\n",
    "text_column=\"TEXT_COLUMN\"\n",
    "key_column=\"KEY_COLUMN\"\n",
    "table=\"MY_TABLE\"\n",
    "LABELS=[\"urgent\", \"not urgent\"]\n",
    "schema=ai_lab_config.db_schema\n",
    "\n",
    "class ExtractionWrapper(AbstractExtraction):\n",
    "    def __init__(self, conf: Secrets):\n",
    "        self.extraction_obj = Extraction(# todo what exactly?or do this via super.init?\n",
    "            extractor=PipelineExtractor(\n",
    "                steps=[\n",
    "                    SourceTableExtractor(sources=[\n",
    "                        SchemaSource(db_schema=NameSelector(pattern=schema),\n",
    "                             tables=[\n",
    "                                 TableSource(table=NameSelector(pattern=table),\n",
    "                                             columns=[NameSelector(pattern=text_column)],\n",
    "                                             keys=[NameSelector(pattern=key_column)])\n",
    "                             ])\n",
    "                    ]),\n",
    "                    DefaultExtractor(\n",
    "                        ai_lab_config,\n",
    "                        named_entity_recognition_enabled = False,\n",
    "                        topic_classification_enabled = True,\n",
    "                        keyword_search_enabled = False,\n",
    "                        topics=topics,\n",
    "                        parallelism_per_node=1)\n",
    "                    ]\n",
    "            ),\n",
    "            output=Output(db_schema=schema, table_prefix=\"TEST_TXAI\")\n",
    "        )\n",
    "        self.pyexasol_con = conf.get(CKey.text_ai_pre_release_url)\n",
    "        self.temporary_db_object_schema = conf.get(CKey.temporary_db_object_schema)\n",
    "        self.language_alias = conf.get(CKey.language_alias)\n",
    "\n",
    "\n",
    "    def run(self,) -> None:\n",
    "        self.extraction_obj.run(self.pyexasol_con, self.temporary_db_object_schema, self.language_alias)\n"
   ],
   "id": "af7de0d2994a4412"
  },
  {
   "metadata": {},
   "cell_type": "code",
   "outputs": [],
   "execution_count": null,
   "source": [
    "NAMED_ENTITY_MODEL=\"guishe/nuner-v2_fewnerd_fine_super\"\n",
    "NLI_MODEL=\"tasksource/ModernBERT-large-nli\"\n",
    "FEATURE_EXTRACTION_MODEL=\"answerdotai/ModernBERT-large\"\n",
    "\n",
    "BUCKETFS_CONNECTION_NAME=ai_lab_config.te_bfs_connection\n",
    "BUCKETFS_SUB_DIR=ai_lab_config.te_models_bfs_dir\n"
   ],
   "id": "be788c48b037d6f4"
  }
 ],
 "metadata": {
  "kernelspec": {
   "display_name": "Python 3",
   "language": "python",
   "name": "python3"
  },
  "language_info": {
   "codemirror_mode": {
    "name": "ipython",
    "version": 2
   },
   "file_extension": ".py",
   "mimetype": "text/x-python",
   "name": "python",
   "nbconvert_exporter": "python",
   "pygments_lexer": "ipython2",
   "version": "2.7.6"
  }
 },
 "nbformat": 4,
 "nbformat_minor": 5
}
