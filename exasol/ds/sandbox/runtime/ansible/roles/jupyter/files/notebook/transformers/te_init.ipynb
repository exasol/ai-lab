{
 "cells": [
  {
   "cell_type": "markdown",
   "id": "b0273b6a-8147-49d6-9591-c5434db58bc1",
   "metadata": {},
   "source": [
    "# Transformer Extension initialization\n",
    "\n",
    "Here we will perform all the necessary steps to get the Transformer Extension functionality up and running. Please refer to the Transformer Extension <a href=\"https://github.com/exasol/transformers-extension/blob/main/doc/user_guide/user_guide.md\" target=\"_blank\" rel=\"noopener\">User Guide</a> for details on the required initialization steps. The extension module should have already been installed during the installation of this product, therefore the first step mentioned in the guide can be skipped.\n",
    "\n",
    "To execute queries and load data from the Exasol database we will be using the <a href=\"https://github.com/exasol/pyexasol\" target=\"_blank\" rel=\"noopener\">`pyexasol`</a> module.\n",
    "\n",
    "## Prerequisites\n",
    "\n",
    "Prior to using this notebook one needs to complete the following steps:\n",
    "1. [Configure the sandbox](../sandbox_config.ipynb).\n",
    "\n",
    "## Set up\n",
    "\n",
    "### Access configuration"
   ]
  },
  {
   "cell_type": "code",
   "execution_count": null,
   "id": "a8068d04-ef01-443a-abb5-2b0987521b1a",
   "metadata": {},
   "outputs": [],
   "source": [
    "%run ../utils/access_store_ui.ipynb\n",
    "display(get_access_store_ui('../'))"
   ]
  },
  {
   "cell_type": "code",
   "execution_count": null,
   "id": "afbaf706-cc3b-498d-8e7a-3e866ac439f1",
   "metadata": {},
   "outputs": [],
   "source": [
    "EXTERNAL_HOST = f\"{sb_config.EXTERNAL_HOST_NAME}:{sb_config.HOST_PORT}\""
   ]
  },
  {
   "cell_type": "markdown",
   "id": "a77ca3b4-d377-47c4-8dca-cd7da3e5da40",
   "metadata": {},
   "source": [
    "We will add some new variables specific to the Transformer Extension."
   ]
  },
  {
   "cell_type": "code",
   "execution_count": null,
   "id": "013f5167-f1e3-470c-b0c7-00580b9cd98e",
   "metadata": {},
   "outputs": [],
   "source": [
    "%%capture\n",
    "\n",
    "# Huggingface token required for downloading private models.\n",
    "sb_config.save('TE_TOKEN', '-')\n",
    "\n",
    "# Name of the connection encapsulating the Huggingface token. Leave it empty if the token is not used.\n",
    "sb_config.save('TE_TOKEN_CONN', '')\n",
    "\n",
    "# Name of the BucketFS connection.\n",
    "sb_config.save('TE_BFS_CONN', 'MyBFSConn')\n",
    "\n",
    "# Name of a sub-directory of the bucket root.\n",
    "sb_config.save('TE_BFS_DIR', 'my_storage')\n",
    "\n",
    "# We will store all models in this sub-directory at BucketFS.\n",
    "sb_config.save('TE_MODELS_BFS_DIR', 'models')\n",
    "    \n",
    "# We will save a cached model in this sub-directory relative to the current directory on the local machine.\n",
    "sb_config.save('TE_MODELS_CACHE_DIR', 'models_cache')"
   ]
  },
  {
   "cell_type": "markdown",
   "id": "2f52f81c-5b0d-45b9-be11-def723aa4d25",
   "metadata": {},
   "source": [
    "## Upload and activate the Script-Language-Container (SLC)\n",
    "\n",
    "The Transformer Extension requires the installation of a special version of the Script Language Container - a platform for running UDF code. The <a href=\"https://github.com/exasol/transformers-extension/blob/main/doc/user_guide/user_guide.md#the-pre-built-language-container\" target=\"_blank\" rel=\"noopener\">User Guide</a> provides a detailed description of how this can be achieved. Here we will do what is described as Quick Installation - we will use the command-line interface."
   ]
  },
  {
   "cell_type": "code",
   "execution_count": null,
   "id": "d66cd419-d4fd-4aee-8b76-32e358f29d9f",
   "metadata": {},
   "outputs": [],
   "source": [
    "deploy_command = f\"\"\"\n",
    "python -m exasol_transformers_extension.deploy language-container \\\n",
    "    --dsn {EXTERNAL_HOST} \\\n",
    "    --db-user {sb_config.USER} \\\n",
    "    --db-pass {sb_config.PASSWORD} \\\n",
    "    --bucketfs-name {sb_config.BUCKETFS_SERVICE} \\\n",
    "    --bucketfs-host {sb_config.EXTERNAL_HOST_NAME} \\\n",
    "    --bucketfs-port {sb_config.BUCKETFS_PORT} \\\n",
    "    --bucketfs-user {sb_config.BUCKETFS_USER} \\\n",
    "    --bucketfs-password {sb_config.BUCKETFS_PASSWORD} \\\n",
    "    --bucketfs-use-https {sb_config.BUCKETFS_USE_HTTPS} \\\n",
    "    --bucket {sb_config.BUCKETFS_BUCKET} \\\n",
    "    --path-in-bucket . \\\n",
    "    --language-alias {sb_config.SCRIPT_LANGUAGE_NAME} \\\n",
    "    --version 0.5.0\n",
    "\"\"\"\n",
    "\n",
    "!{deploy_command}"
   ]
  },
  {
   "cell_type": "markdown",
   "id": "13d94696-6083-4099-853c-1193d6d111a0",
   "metadata": {},
   "source": [
    "## Create objects in the database.\n",
    "### Scripts\n",
    "Once the SLC is installed we can upload all the required scripts into the database. "
   ]
  },
  {
   "cell_type": "code",
   "execution_count": null,
   "id": "328340bf-aa91-4643-bb80-b16a9c08d4f4",
   "metadata": {},
   "outputs": [],
   "source": [
    "deploy_command = f\"\"\"\n",
    "python -m exasol_transformers_extension.deploy scripts \\\n",
    "    --dsn {EXTERNAL_HOST} \\\n",
    "    --db-user {sb_config.USER} \\\n",
    "    --db-pass {sb_config.PASSWORD} \\\n",
    "    --schema {sb_config.SCHEMA} \\\n",
    "    --language-alias {sb_config.SCRIPT_LANGUAGE_NAME} \\\n",
    "    --no-use-ssl-cert-validation\n",
    "\"\"\"\n",
    "\n",
    "!{deploy_command}"
   ]
  },
  {
   "cell_type": "markdown",
   "id": "63f239be-7e7d-4f1a-8e49-72040254d00d",
   "metadata": {},
   "source": [
    "### BucketFS connection\n",
    "Let's create a connection to the BucketFS where we are going to store all our models. <a href=\"https://docs.exasol.com/db/latest/database_concepts/bucketfs/bucketfs.htm\" target=\"_blank\" rel=\"noopener\">BucketFS</a> is a replicated file system available in the Exasol cluster. We will use this connection hereafter in the queries.\n",
    "\n",
    "Notice that we specify a sub-directory of the bucket root, e.g. \"my_storage\" (the name can be chosen arbitrarily). The BucketFS will create this sub-directory for us the first time we use the connection."
   ]
  },
  {
   "cell_type": "code",
   "execution_count": null,
   "id": "383d7ea8-85dd-43f9-89b2-682060349e83",
   "metadata": {},
   "outputs": [],
   "source": [
    "import pyexasol\n",
    "\n",
    "bfs_host = f\"{sb_config.EXTERNAL_HOST_NAME}:{sb_config.BUCKETFS_PORT}\"\n",
    "bfs_url_prefix = 'https://' if sb_config.BUCKETFS_USE_HTTPS.lower() == 'true' else 'http://'\n",
    "bfs_dest = f\"{bfs_url_prefix}{bfs_host}/{sb_config.BUCKETFS_BUCKET}/{sb_config.TE_BFS_DIR};{sb_config.BUCKETFS_SERVICE}\"\n",
    "\n",
    "sql = f\"\"\"\n",
    "CREATE OR REPLACE CONNECTION [{sb_config.TE_BFS_CONN}]\n",
    "    TO '{bfs_dest}'\n",
    "    USER {{BUCKETFS_USER!s}}\n",
    "    IDENTIFIED BY {{BUCKETFS_PASSWORD!s}}\n",
    "\"\"\"\n",
    "query_params = {\n",
    "    \"BUCKETFS_USER\": sb_config.BUCKETFS_USER, \n",
    "    \"BUCKETFS_PASSWORD\": sb_config.BUCKETFS_PASSWORD\n",
    "}\n",
    "with pyexasol.connect(dsn=EXTERNAL_HOST, user=sb_config.USER, password=sb_config.PASSWORD, compression=True) as conn:\n",
    "    conn.execute(query=sql, query_params=query_params)"
   ]
  },
  {
   "cell_type": "markdown",
   "id": "30957aea-8c8e-4c15-b8a9-5e3a200f12a9",
   "metadata": {},
   "source": [
    "### Huggingface token connection\n",
    "\n",
    "If we need to use a Huggingface token let's put it into an Exasol connection object."
   ]
  },
  {
   "cell_type": "code",
   "execution_count": null,
   "id": "c0715b35-9a6c-4809-aa7a-1460fe7bf41b",
   "metadata": {},
   "outputs": [],
   "source": [
    "import pyexasol\n",
    "\n",
    "if sb_config.TE_TOKEN_CONN:\n",
    "    sql = f\"\"\"\n",
    "    CREATE OR REPLACE CONNECTION [{sb_config.TE_TOKEN_CONN}]\n",
    "        TO ''\n",
    "        IDENTIFIED BY {{TOKEN!s}}\n",
    "    \"\"\"\n",
    "    query_params = {\"TOKEN\": sb_config.TE_TOKEN}\n",
    "    with pyexasol.connect(dsn=EXTERNAL_HOST, user=sb_config.USER, password=sb_config.PASSWORD, compression=True) as conn:\n",
    "        conn.execute(query=sql, query_params=query_params)"
   ]
  },
  {
   "cell_type": "markdown",
   "id": "d6fc18b3-4e98-4f59-b22b-5ba87c9997cc",
   "metadata": {},
   "source": [
    "## Dependencies\n",
    "\n",
    "Some models require the [Sacremoses tokenizer](https://github.com/alvations/sacremoses) to be installed in the local environment when they get downloaded. Let's make sure we have it installed by running the command below."
   ]
  },
  {
   "cell_type": "code",
   "execution_count": null,
   "id": "134fcd15-8b6f-4ebd-9bef-1431c371b437",
   "metadata": {},
   "outputs": [],
   "source": [
    "!pip install sacremoses"
   ]
  }
 ],
 "metadata": {
  "kernelspec": {
   "display_name": "Python 3 (ipykernel)",
   "language": "python",
   "name": "python3"
  },
  "language_info": {
   "codemirror_mode": {
    "name": "ipython",
    "version": 3
   },
   "file_extension": ".py",
   "mimetype": "text/x-python",
   "name": "python",
   "nbconvert_exporter": "python",
   "pygments_lexer": "ipython3",
   "version": "3.8.10"
  }
 },
 "nbformat": 4,
 "nbformat_minor": 5
}
