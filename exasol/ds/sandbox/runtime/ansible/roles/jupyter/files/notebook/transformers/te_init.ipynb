{
 "cells": [
  {
   "cell_type": "markdown",
   "id": "b0273b6a-8147-49d6-9591-c5434db58bc1",
   "metadata": {},
   "source": [
    "# Transformer Extension initialization\n",
    "\n",
    "Here we will bring the Transformers Extension functionality up and running. We will do this via a single call to function in the support library. Please refer to the Transformer Extension <a href=\"https://github.com/exasol/transformers-extension/blob/main/doc/user_guide/user_guide.md\" target=\"_blank\" rel=\"noopener\">User Guide</a> to find out details of what is happening behind the scenes.\n",
    "\n",
    "## Prerequisites\n",
    "\n",
    "Prior to using this notebook one needs to complete the following steps:\n",
    "1. [Configure the sandbox](../sandbox_config.ipynb).\n",
    "\n",
    "## Set up\n",
    "\n",
    "### Access configuration"
   ]
  },
  {
   "cell_type": "code",
   "execution_count": null,
   "id": "a8068d04-ef01-443a-abb5-2b0987521b1a",
   "metadata": {},
   "outputs": [],
   "source": [
    "%run ../utils/access_store_ui.ipynb\n",
    "display(get_access_store_ui('../'))"
   ]
  },
  {
   "cell_type": "markdown",
   "id": "a77ca3b4-d377-47c4-8dca-cd7da3e5da40",
   "metadata": {},
   "source": [
    "We may need to enter a Huggingface access token in case the models we are going to use have a restricted access. This step can be skipped if we only use publicly accessible models."
   ]
  },
  {
   "cell_type": "code",
   "execution_count": null,
   "id": "013f5167-f1e3-470c-b0c7-00580b9cd98e",
   "metadata": {},
   "outputs": [],
   "source": [
    "%run utils/te_init_ui.ipynb\n",
    "display(get_te_config_ui())"
   ]
  },
  {
   "cell_type": "markdown",
   "id": "2f52f81c-5b0d-45b9-be11-def723aa4d25",
   "metadata": {},
   "source": [
    "## Initialize the extension\n",
    "\n",
    "<b>This operation normally takes a considerable amount of time to complete</b>\n",
    "\n",
    "When the initialization finishes we should see a printed output suggesting us to activate the language container. Let's take it as an indication of the successful completion of the initialization procedure. We are not going to do the language container activation manually."
   ]
  },
  {
   "cell_type": "code",
   "execution_count": null,
   "id": "20ea276d-a908-4230-91e4-b3aa8d73f1cc",
   "metadata": {},
   "outputs": [],
   "source": [
    "from exasol.transformers_extension_wrapper import initialize_te_extension\n",
    "\n",
    "initialize_te_extension(sb_config)"
   ]
  },
  {
   "cell_type": "code",
   "execution_count": null,
   "id": "c05bb67d-a5fc-4a46-9fe5-a0c701f42c1c",
   "metadata": {},
   "outputs": [],
   "source": []
  }
 ],
 "metadata": {
  "kernelspec": {
   "display_name": "Python 3 (ipykernel)",
   "language": "python",
   "name": "python3"
  },
  "language_info": {
   "codemirror_mode": {
    "name": "ipython",
    "version": 3
   },
   "file_extension": ".py",
   "mimetype": "text/x-python",
   "name": "python",
   "nbconvert_exporter": "python",
   "pygments_lexer": "ipython3",
   "version": "3.8.10"
  }
 },
 "nbformat": 4,
 "nbformat_minor": 5
}
