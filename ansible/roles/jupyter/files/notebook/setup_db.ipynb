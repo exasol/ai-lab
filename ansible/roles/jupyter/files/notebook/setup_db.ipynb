{
 "cells": [
  {
   "cell_type": "markdown",
   "id": "e274c689-aa6f-4c4d-957f-be0497c7f7fd",
   "metadata": {},
   "source": [
    "This is the first step in every tutorial path. We need to creat a database schema, unless it already exists.\n",
    "\n",
    "To execute a query on Exasol database we will be using the <a href=\"https://github.com/exasol/pyexasol\" target=\"_blank\" rel=\"noopener\">`pyexasol`</a> module.\n",
    "\n",
    "TODO: Consider merging this notebook with the one where we set up the configuration. This would require changing references in other notebooks, which point to this one as a prerequisite step. "
   ]
  },
  {
   "cell_type": "code",
   "execution_count": 3,
   "id": "d6b50070-ae30-4c1c-a56a-bd8881bba1a0",
   "metadata": {
    "ExecuteTime": {
     "end_time": "2023-11-02T11:29:01.133832Z",
     "start_time": "2023-11-02T11:29:01.118835Z"
    }
   },
   "outputs": [],
   "source": [
    "# TODO: Move this to a separate configuration notebook. Here we just need to load this configuration from a store.\n",
    "from dataclasses import dataclass\n",
    "\n",
    "@dataclass\n",
    "class SandboxConfig:\n",
    "    EXTERNAL_HOST_NAME: str = \"192.168.124.93\"\n",
    "    HOST_PORT: int = 8888\n",
    "\n",
    "    @property\n",
    "    def EXTERNAL_HOST(self):\n",
    "        return f\"\"\"{self.EXTERNAL_HOST_NAME}:{self.HOST_PORT}\"\"\"\n",
    "\n",
    "    USER: str = \"sys\"\n",
    "    PASSWORD: str = \"exasol\"\n",
    "    BUCKETFS_PORT: int = 6666\n",
    "    BUCKETFS_USER: str = \"w\"\n",
    "    BUCKETFS_PASSWORD: str = \"write\"\n",
    "    BUCKETFS_USE_HTTPS: bool = False\n",
    "    BUCKETFS_SERVICE: str = \"bfsdefault\"\n",
    "    BUCKETFS_BUCKET: str = \"default\"\n",
    "\n",
    "    @property\n",
    "    def EXTERNAL_BUCKETFS_HOST(self):\n",
    "        return f\"\"\"{self.EXTERNAL_HOST_NAME}:{self.BUCKETFS_PORT}\"\"\"\n",
    "\n",
    "    @property\n",
    "    def BUCKETFS_URL_PREFIX(self):\n",
    "        return \"https://\" if self.BUCKETFS_USE_HTTPS else \"http://\"\n",
    "\n",
    "    @property\n",
    "    def BUCKETFS_PATH(self):\n",
    "        # Filesystem-Path to the read-only mounted BucketFS inside the running UDF Container\n",
    "        return self.bucketfs_path(self.BUCKETFS_BUCKET)\n",
    "    \n",
    "    def bucketfs_path(self, bucket: str) -> str:\n",
    "        return f\"/buckets/{self.BUCKETFS_SERVICE}/{bucket}\"\n",
    "\n",
    "    SCRIPT_LANGUAGE_NAME: str = \"PYTHON3_60\"\n",
    "    UDF_FLAVOR: str = \"python3-ds-EXASOL-6.0.0\"\n",
    "    UDF_RELEASE: str = \"20190116\"\n",
    "    UDF_CLIENT: str = \"exaudfclient\" # or for newer versions of the flavor exaudfclient_py3\n",
    "    SCHEMA: str = \"IDA\"\n",
    "\n",
    "    @property\n",
    "    def SCRIPT_LANGUAGES(self):\n",
    "        return f\"\"\"{self.SCRIPT_LANGUAGE_NAME}=localzmq+protobuf:///{self.BUCKETFS_SERVICE}/\n",
    "            {self.BUCKETFS_BUCKET}/{self.UDF_FLAVOR}?lang=python#buckets/{self.BUCKETFS_SERVICE}/\n",
    "            {self.BUCKETFS_BUCKET}/{self.UDF_FLAVOR}/exaudf/{self.UDF_CLIENT}\"\"\";\n",
    "\n",
    "    @property\n",
    "    def connection_params(self):\n",
    "        return {\"dsn\": self.EXTERNAL_HOST, \"user\": self.USER, \"password\": self.PASSWORD, \"compression\": True}\n",
    "\n",
    "    @property\n",
    "    def params(self):\n",
    "        return {\n",
    "            \"script_languages\": self.SCRIPT_LANGUAGES,\n",
    "            \"script_language_name\": self.SCRIPT_LANGUAGE_NAME,\n",
    "            \"schema\": self.SCHEMA,\n",
    "            \"BUCKETFS_PORT\": self.BUCKETFS_PORT,\n",
    "            \"BUCKETFS_USER\": self.BUCKETFS_USER,\n",
    "            \"BUCKETFS_PASSWORD\": self.BUCKETFS_PASSWORD,\n",
    "            \"BUCKETFS_USE_HTTPS\": self.BUCKETFS_USE_HTTPS,\n",
    "            \"BUCKETFS_BUCKET\": self.BUCKETFS_BUCKET,\n",
    "            \"BUCKETFS_PATH\": self.BUCKETFS_PATH\n",
    "        }\n",
    "\n",
    "#conf = SandboxConfig()"
   ]
  },
  {
   "cell_type": "code",
   "execution_count": 5,
   "id": "7f31ccfd-bd6d-435a-9f4c-ae2e5af04ea3",
   "metadata": {
    "ExecuteTime": {
     "end_time": "2023-11-02T11:35:24.132106Z",
     "start_time": "2023-11-02T11:35:24.126365Z"
    }
   },
   "outputs": [],
   "source": [
    "import pyexasol\n",
    "from stopwatch import Stopwatch\n",
    "\n",
    "def setup_schema(conf: SandboxConfig):\n",
    "    stopwatch = Stopwatch()\n",
    "\n",
    "    with pyexasol.connect(**conf.connection_params) as conn:\n",
    "        conn.execute(query=\"CREATE SCHEMA IF NOT EXISTS {schema!i}\", query_params=conf.params)\n",
    "\n",
    "    print(f\"Schema created in {stopwatch}\")"
   ]
  },
  {
   "cell_type": "markdown",
   "source": [
    "# Usage \n",
    "This notebook could be used in other notebooks like this:\n",
    "\n",
    "```\n",
    "%run ../setup_db.ipynb\n",
    "conf = SandboxConfig(EXTERNAL_HOST_NAME=\"127.0.0.1\", HOST_PORT=8563)\n",
    "setup_schema(conf)\n",
    "```"
   ],
   "metadata": {
    "collapsed": false
   },
   "id": "26d6af42cc6d777f"
  },
  {
   "cell_type": "code",
   "execution_count": null,
   "outputs": [],
   "source": [],
   "metadata": {
    "collapsed": false
   },
   "id": "207efa4935251bf5"
  }
 ],
 "metadata": {
  "kernelspec": {
   "display_name": "Python 3 (ipykernel)",
   "language": "python",
   "name": "python3"
  },
  "language_info": {
   "codemirror_mode": {
    "name": "ipython",
    "version": 3
   },
   "file_extension": ".py",
   "mimetype": "text/x-python",
   "name": "python",
   "nbconvert_exporter": "python",
   "pygments_lexer": "ipython3",
   "version": "3.8.10"
  }
 },
 "nbformat": 4,
 "nbformat_minor": 5
}
