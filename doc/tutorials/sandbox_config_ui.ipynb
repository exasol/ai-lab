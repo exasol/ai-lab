{
 "cells": [
  {
   "cell_type": "markdown",
   "id": "928e7d45-d3f8-4167-a8e6-7fe909da0249",
   "metadata": {},
   "source": [
    "# Sandbox Configuration UI\n",
    "\n",
    "<b>This notebook is not supposed to be used on its own.<b>"
   ]
  },
  {
   "cell_type": "code",
   "execution_count": 2,
   "id": "84648ba3-6622-406c-a58c-7725aa4965aa",
   "metadata": {},
   "outputs": [],
   "source": [
    "from enum import Enum\n",
    "    \n",
    "class ExasolConfig(Enum):\n",
    "    db_name = 'EXTERNAL_HOST_NAME'\n",
    "    db_port = 'HOST_PORT'\n",
    "    db_schema = 'SCHEMA'\n",
    "    db_user = 'USER'\n",
    "    db_password = 'PASSWORD'\n",
    "    bfs_port = 'BUCKETFS_PORT'\n",
    "    bfs_service = 'BUCKETFS_SERVICE'\n",
    "    bfs_bucket = 'BUCKETFS_BUCKET'\n",
    "    bfs_user = 'BUCKETFS_USER'\n",
    "    bfs_password = 'BUCKETFS_PASSWORD'\n",
    "    bfs_protocol = 'BUCKETFS_USE_HTTPS'\n",
    "\n",
    "def get_sandbox_config_ui():\n",
    "\n",
    "    import ipywidgets as widgets\n",
    "\n",
    "    Cfg = ExasolConfig\n",
    "    style = {'description_width': '140px'}\n",
    "    inputs = {\n",
    "        Cfg.db_name:      widgets.Text(description='DB Host Name', value=sb_config.get(Cfg.db_name.value, '127.0.0.1'), style=style),\n",
    "        Cfg.db_port:      widgets.IntText(description='DB Host Port', value=int(sb_config.get(Cfg.db_port.value, '8888')), style=style),\n",
    "        Cfg.db_schema:    widgets.Text(description='DB Schema', value=sb_config.get(Cfg.db_schema.value, 'IDA'), style=style),\n",
    "        Cfg.db_user:      widgets.Text(description='DB User', value=sb_config.get(Cfg.db_user.value), style=style),\n",
    "        Cfg.db_password:  widgets.Password(description='DB Password', value=sb_config.get(Cfg.db_password.value), style=style),\n",
    "        Cfg.bfs_port:     widgets.IntText(description='BucketFS Port', value=int(sb_config.get(Cfg.bfs_port.value, '6666')),\n",
    "                                          style=style),\n",
    "        Cfg.bfs_service:  widgets.Text(description='BucketFS Service Name', value=sb_config.get(Cfg.bfs_service.value, 'bfsdefault'),\n",
    "                                       style=style),\n",
    "        Cfg.bfs_bucket:   widgets.Text(description='BucketFS Bucket', value=sb_config.get(Cfg.bfs_bucket.value, 'default'), style=style),\n",
    "        Cfg.bfs_user:     widgets.Text(description='BucketFS User', value=sb_config.get(Cfg.bfs_user.value), style=style),\n",
    "        Cfg.bfs_password: widgets.Password(description='BucketFS Password', value=sb_config.get(Cfg.bfs_password.value), style=style),\n",
    "        Cfg.bfs_protocol: widgets.RadioButtons(description='BucketFS Protocol', options=['http', 'https'],\n",
    "                                               value='https' if sb_config.get(Cfg.bfs_protocol.value, 'False')=='True' else 'http',\n",
    "                                               style=style),\n",
    "        'save':           widgets.Button(description='Save')\n",
    "    }\n",
    "    \n",
    "    def save_configuration(btn):\n",
    "        for key in Cfg:\n",
    "            if key == Cfg.bfs_protocol:\n",
    "                sb_config.save(key.value, str(inputs[key].value == 'https'))\n",
    "            else:\n",
    "                sb_config.save(key.value, inputs[key].value)\n",
    "\n",
    "    inputs['save'].on_click(save_configuration)\n",
    "    \n",
    "    ui = widgets.VBox(list(inputs.values()))\n",
    "    return ui"
   ]
  },
  {
   "cell_type": "code",
   "execution_count": null,
   "id": "8458cf43-c37d-44a0-9a00-956b86ec9b24",
   "metadata": {},
   "outputs": [],
   "source": []
  }
 ],
 "metadata": {
  "kernelspec": {
   "display_name": "Python 3 (ipykernel)",
   "language": "python",
   "name": "python3"
  },
  "language_info": {
   "codemirror_mode": {
    "name": "ipython",
    "version": 3
   },
   "file_extension": ".py",
   "mimetype": "text/x-python",
   "name": "python",
   "nbconvert_exporter": "python",
   "pygments_lexer": "ipython3",
   "version": "3.8.10"
  }
 },
 "nbformat": 4,
 "nbformat_minor": 5
}
