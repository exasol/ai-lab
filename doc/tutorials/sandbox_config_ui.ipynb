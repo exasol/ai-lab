{
 "cells": [
  {
   "cell_type": "markdown",
   "id": "928e7d45-d3f8-4167-a8e6-7fe909da0249",
   "metadata": {},
   "source": [
    "# Sandbox Configuration UI\n",
    "\n",
    "<b>This notebook is not supposed to be used on its own.<b>"
   ]
  },
  {
   "cell_type": "code",
   "execution_count": 2,
   "id": "84648ba3-6622-406c-a58c-7725aa4965aa",
   "metadata": {},
   "outputs": [],
   "source": [
    "def get_sandbox_config_ui():\n",
    "\n",
    "    import ipywidgets as widgets\n",
    "\n",
    "    style = {'description_width': '120px'}\n",
    "    inputs = {\n",
    "        'db name':      widgets.Text(description='DB Host Name', value=sb_config.get('EXTERNAL_HOST_NAME', '127.0.0.1'), style=style),\n",
    "        'db port':      widgets.IntText(description='DB Host Port', value=int(sb_config.get('HOST_PORT', '8888')), style=style),\n",
    "        'db schema':    widgets.Text(description='DB Schema', value=sb_config.get('SCHEMA', 'IDA'), style=style),\n",
    "        'db user':      widgets.Text(description='DB User', value=sb_config.get('USER'), style=style),\n",
    "        'db password':  widgets.Password(description='DB Password', value=sb_config.get('PASSWORD'), style=style),\n",
    "        'bfs port':     widgets.IntText(description='BucketFS Port', value=int(sb_config.get('BUCKETFS_PORT', '6666')), style=style),\n",
    "        'bfs service':  widgets.Text(description='BucketFS Service', value=sb_config.get('BUCKETFS_SERVICE', 'bfsdefault'), style=style),\n",
    "        'bfs bucket':   widgets.Text(description='BucketFS Bucket', value=sb_config.get('BUCKETFS_BUCKET', 'default'), style=style),\n",
    "        'bfs user':     widgets.Text(description='BucketFS User', value=sb_config.get('BUCKETFS_USER'), style=style),\n",
    "        'bfs password': widgets.Password(description='BucketFS Password', value=sb_config.get('BUCKETFS_PASSWORD'), style=style),\n",
    "        'bfs protocol': widgets.RadioButtons(description='BucketFS Protocol', options=['http', 'https'], \n",
    "                                             value='https' if sb_config.get('BUCKETFS_USE_HTTPS', 'False')=='True' else 'http',\n",
    "                                             style=style),\n",
    "        'save':         widgets.Button(description='Save')\n",
    "    }\n",
    "    \n",
    "    def save_configuration(btn):\n",
    "        sb_config.save('EXTERNAL_HOST_NAME', inputs['db name'].value)\n",
    "        sb_config.save('HOST_PORT', inputs['db port'].value)\n",
    "        sb_config.save('SCHEMA', inputs['db schema'].value)\n",
    "        sb_config.save('USER', inputs['db user'].value),\n",
    "        sb_config.save('PASSWORD', inputs['db password'].value),\n",
    "        sb_config.save('BUCKETFS_PORT', inputs['bfs port'].value),\n",
    "        sb_config.save('BUCKETFS_SERVICE', inputs['bfs service'].value),\n",
    "        sb_config.save('BUCKETFS_BUCKET', inputs['bfs bucket'].value),\n",
    "        sb_config.save('BUCKETFS_USER', inputs['bfs user'].value),\n",
    "        sb_config.save('BUCKETFS_PASSWORD', inputs['bfs password'].value),\n",
    "        sb_config.save('BUCKETFS_USE_HTTPS', str(inputs['bfs protocol'].value == 'https'))\n",
    "        \n",
    "    inputs['save'].on_click(save_configuration)\n",
    "    \n",
    "    ui = widgets.VBox(list(inputs.values()))\n",
    "    return ui"
   ]
  },
  {
   "cell_type": "code",
   "execution_count": null,
   "id": "8458cf43-c37d-44a0-9a00-956b86ec9b24",
   "metadata": {},
   "outputs": [],
   "source": []
  }
 ],
 "metadata": {
  "kernelspec": {
   "display_name": "Python 3 (ipykernel)",
   "language": "python",
   "name": "python3"
  },
  "language_info": {
   "codemirror_mode": {
    "name": "ipython",
    "version": 3
   },
   "file_extension": ".py",
   "mimetype": "text/x-python",
   "name": "python",
   "nbconvert_exporter": "python",
   "pygments_lexer": "ipython3",
   "version": "3.8.10"
  }
 },
 "nbformat": 4,
 "nbformat_minor": 5
}
