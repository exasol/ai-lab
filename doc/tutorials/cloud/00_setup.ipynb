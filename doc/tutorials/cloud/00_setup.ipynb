{
 "cells": [
  {
   "cell_type": "code",
   "execution_count": 19,
   "id": "initial_id",
   "metadata": {
    "collapsed": true,
    "ExecuteTime": {
     "end_time": "2023-10-31T12:54:55.864998Z",
     "start_time": "2023-10-31T12:54:55.794920Z"
    }
   },
   "outputs": [
    {
     "name": "stdout",
     "output_type": "stream",
     "text": [
      "Schema created in 55.96ms\n"
     ]
    }
   ],
   "source": [
    "%run ../setup_db.ipynb\n",
    "conf = SandboxConfig(EXTERNAL_HOST_NAME=\"127.0.0.1\", HOST_PORT=8563, BUCKETFS_PORT=2580)\n",
    "setup_schema(conf)"
   ]
  },
  {
   "cell_type": "markdown",
   "source": [
    "Notebook setup [cloud-storage-extension](https://github.com/exasol/cloud-storage-extension) in the DB\n",
    "\n",
    "- [x] retrieve the last released jar from github \n",
    "- [ ] put it in bucketfs of our DB\n",
    "- [ ] setup connectors"
   ],
   "metadata": {
    "collapsed": false
   },
   "id": "7dd94f1db01ac8e9"
  },
  {
   "cell_type": "code",
   "execution_count": 2,
   "outputs": [],
   "source": [
    "import requests\n",
    "import pathlib\n",
    "import typing as tt"
   ],
   "metadata": {
    "collapsed": false,
    "ExecuteTime": {
     "end_time": "2023-10-31T08:40:01.073415Z",
     "start_time": "2023-10-31T08:40:00.987901Z"
    }
   },
   "id": "39d3eb644ca970c5"
  },
  {
   "cell_type": "markdown",
   "source": [
    "# Retrieve the latest released jar file"
   ],
   "metadata": {
    "collapsed": false
   },
   "id": "5d0ea9b81b7ee1b5"
  },
  {
   "cell_type": "code",
   "execution_count": 3,
   "outputs": [],
   "source": [
    "def get_latest_version_and_jar_url() -> tt.Tuple[str, str]:\n",
    "    r = requests.get(\"https://api.github.com/repos/exasol/cloud-storage-extension/releases/latest\")\n",
    "    if r.status_code != 200:\n",
    "        raise RuntimeError(\"Error sending request to the github api, code: %d\" % r.status_code)\n",
    "    data = r.json()\n",
    "    version = data.get('tag_name')\n",
    "    if version is None:\n",
    "        raise RuntimeError(\"The latests version has no tag, something is wrong\")\n",
    "    for asset in data.get('assets', []):\n",
    "        name = asset['name']\n",
    "        if name.endswith(f\"{version}.jar\"):\n",
    "            dl_url = asset['browser_download_url']\n",
    "            return version, dl_url\n",
    "    raise RuntimeError(\"Could not find proper jar url for the latest release\")"
   ],
   "metadata": {
    "collapsed": false,
    "ExecuteTime": {
     "end_time": "2023-10-31T08:40:01.702604Z",
     "start_time": "2023-10-31T08:40:01.697466Z"
    }
   },
   "id": "9d2c16e81dc7330a"
  },
  {
   "cell_type": "code",
   "execution_count": 10,
   "outputs": [
    {
     "name": "stdout",
     "output_type": "stream",
     "text": [
      "Fetching jar for version 2.7.6 from https://github.com/exasol/cloud-storage-extension/releases/download/2.7.6/exasol-cloud-storage-extension-2.7.6.jar...\n",
      "Saved 572649732 bytes in exasol-cloud-storage-extension-2.7.6.jar\n"
     ]
    }
   ],
   "source": [
    "version, jar_url = get_latest_version_and_jar_url()\n",
    "_, local_jar_name = jar_url.rsplit('/', maxsplit=1)\n",
    "local_jar_path = pathlib.Path(local_jar_name)\n",
    "if local_jar_path.exists():\n",
    "    print(f\"Jar for version {version} already exists in {local_jar_path}, skip downloading\")\n",
    "else:\n",
    "    print(f\"Fetching jar for version {version} from {jar_url}...\")\n",
    "    r = requests.get(jar_url, stream=True)\n",
    "    count_bytes = local_jar_path.write_bytes(r.content)\n",
    "    print(f\"Saved {count_bytes} bytes in {local_jar_path}\")"
   ],
   "metadata": {
    "collapsed": false,
    "ExecuteTime": {
     "end_time": "2023-10-31T08:42:57.227492Z",
     "start_time": "2023-10-31T08:42:40.499265Z"
    }
   },
   "id": "26a9c3d99a84c280"
  },
  {
   "cell_type": "markdown",
   "source": [
    "# Upload the jar to the bucketfs"
   ],
   "metadata": {
    "collapsed": false
   },
   "id": "11f54801bd4f0e52"
  },
  {
   "cell_type": "code",
   "execution_count": 38,
   "outputs": [],
   "source": [
    "from exasol import bucketfs"
   ],
   "metadata": {
    "collapsed": false,
    "ExecuteTime": {
     "end_time": "2023-10-31T13:04:56.196743Z",
     "start_time": "2023-10-31T13:04:56.192806Z"
    }
   },
   "id": "22c106f0dce7686c"
  },
  {
   "cell_type": "code",
   "execution_count": 46,
   "outputs": [],
   "source": [
    "UDFS_BUCKET = \"myudfs\""
   ],
   "metadata": {
    "collapsed": false,
    "ExecuteTime": {
     "end_time": "2023-10-31T13:05:34.722940Z",
     "start_time": "2023-10-31T13:05:34.716676Z"
    }
   },
   "id": "76848da2905675e4"
  },
  {
   "cell_type": "code",
   "execution_count": 39,
   "outputs": [],
   "source": [
    "bfs_url = conf.BUCKETFS_URL_PREFIX + conf.EXTERNAL_BUCKETFS_HOST\n",
    "bfs_creds = {\n",
    "    UDFS_BUCKET: {\n",
    "        \"username\": conf.BUCKETFS_USER,\n",
    "        \"password\": conf.BUCKETFS_PASSWORD,\n",
    "    } \n",
    "}"
   ],
   "metadata": {
    "collapsed": false,
    "ExecuteTime": {
     "end_time": "2023-10-31T13:04:56.818120Z",
     "start_time": "2023-10-31T13:04:56.810084Z"
    }
   },
   "id": "30f7167bfef7541f"
  },
  {
   "cell_type": "code",
   "execution_count": 40,
   "outputs": [],
   "source": [
    "svc = bucketfs.Service(bfs_url, bfs_creds)"
   ],
   "metadata": {
    "collapsed": false,
    "ExecuteTime": {
     "end_time": "2023-10-31T13:04:57.776464Z",
     "start_time": "2023-10-31T13:04:57.768738Z"
    }
   },
   "id": "97cd73ff4671111b"
  },
  {
   "cell_type": "code",
   "execution_count": 42,
   "outputs": [],
   "source": [
    "bucket = svc[UDFS_BUCKET]"
   ],
   "metadata": {
    "collapsed": false,
    "ExecuteTime": {
     "end_time": "2023-10-31T13:05:00.470849Z",
     "start_time": "2023-10-31T13:05:00.457197Z"
    }
   },
   "id": "7a1edeb504facdda"
  },
  {
   "cell_type": "code",
   "execution_count": 50,
   "outputs": [
    {
     "name": "stdout",
     "output_type": "stream",
     "text": [
      "Jar file is already present in the bucketfs\n"
     ]
    }
   ],
   "source": [
    "jar_exists = local_jar_name in list(bucket)\n",
    "if jar_exists:\n",
    "    print(\"Jar file is already present in the bucketfs\")\n",
    "else:\n",
    "    print(\"Upload jar to bucketfs\")\n",
    "    with local_jar_path.open(\"rb\") as fd:\n",
    "        bucket.upload(local_jar_name, fd)    "
   ],
   "metadata": {
    "collapsed": false,
    "ExecuteTime": {
     "end_time": "2023-10-31T13:09:47.544790Z",
     "start_time": "2023-10-31T13:09:47.527581Z"
    }
   },
   "id": "43231d82c5d3cef8"
  },
  {
   "cell_type": "markdown",
   "source": [
    "# Create connection script"
   ],
   "metadata": {
    "collapsed": false
   },
   "id": "54a1efeb33bc7a8"
  },
  {
   "cell_type": "code",
   "execution_count": null,
   "outputs": [],
   "source": [],
   "metadata": {
    "collapsed": false
   },
   "id": "6a11f64e0fd52c71"
  }
 ],
 "metadata": {
  "kernelspec": {
   "display_name": "Python 3",
   "language": "python",
   "name": "python3"
  },
  "language_info": {
   "codemirror_mode": {
    "name": "ipython",
    "version": 2
   },
   "file_extension": ".py",
   "mimetype": "text/x-python",
   "name": "python",
   "nbconvert_exporter": "python",
   "pygments_lexer": "ipython2",
   "version": "2.7.6"
  }
 },
 "nbformat": 4,
 "nbformat_minor": 5
}
