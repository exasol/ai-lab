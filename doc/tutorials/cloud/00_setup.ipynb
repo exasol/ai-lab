{
 "cells": [
  {
   "cell_type": "code",
   "execution_count": 37,
   "id": "initial_id",
   "metadata": {
    "collapsed": true,
    "ExecuteTime": {
     "end_time": "2023-11-02T11:35:30.704518Z",
     "start_time": "2023-11-02T11:35:30.649801Z"
    }
   },
   "outputs": [
    {
     "name": "stdout",
     "output_type": "stream",
     "text": [
      "Schema created in 38.90ms\n"
     ]
    }
   ],
   "source": [
    "# %run ../setup_db.ipynb\n",
    "# conf = SandboxConfig(EXTERNAL_HOST_NAME=\"127.0.0.1\", HOST_PORT=8563, BUCKETFS_PORT=2580)\n",
    "# setup_schema(conf)"
   ]
  },
  {
   "cell_type": "markdown",
   "source": [
    "Notebook setup [cloud-storage-extension](https://github.com/exasol/cloud-storage-extension) in the DB\n",
    "\n",
    "- [x] retrieve the last released jar from github \n",
    "- [x] put it in bucketfs of our DB\n",
    "- [x] setup connectors"
   ],
   "metadata": {
    "collapsed": false
   },
   "id": "7dd94f1db01ac8e9"
  },
  {
   "cell_type": "code",
   "execution_count": 2,
   "outputs": [],
   "source": [
    "import requests\n",
    "import pathlib\n",
    "import typing as tt"
   ],
   "metadata": {
    "collapsed": false,
    "ExecuteTime": {
     "end_time": "2023-11-02T10:41:05.162079Z",
     "start_time": "2023-11-02T10:41:05.065729Z"
    }
   },
   "id": "39d3eb644ca970c5"
  },
  {
   "cell_type": "markdown",
   "source": [
    "# Retrieve the latest released jar file"
   ],
   "metadata": {
    "collapsed": false
   },
   "id": "5d0ea9b81b7ee1b5"
  },
  {
   "cell_type": "code",
   "execution_count": 3,
   "outputs": [],
   "source": [
    "def get_latest_version_and_jar_url() -> tt.Tuple[str, str]:\n",
    "    r = requests.get(\"https://api.github.com/repos/exasol/cloud-storage-extension/releases/latest\")\n",
    "    if r.status_code != 200:\n",
    "        raise RuntimeError(\"Error sending request to the github api, code: %d\" % r.status_code)\n",
    "    data = r.json()\n",
    "    version = data.get('tag_name')\n",
    "    if version is None:\n",
    "        raise RuntimeError(\"The latests version has no tag, something is wrong\")\n",
    "    for asset in data.get('assets', []):\n",
    "        name = asset['name']\n",
    "        if name.endswith(f\"{version}.jar\"):\n",
    "            dl_url = asset['browser_download_url']\n",
    "            return version, dl_url\n",
    "    raise RuntimeError(\"Could not find proper jar url for the latest release\")"
   ],
   "metadata": {
    "collapsed": false,
    "ExecuteTime": {
     "end_time": "2023-11-02T10:41:08.427706Z",
     "start_time": "2023-11-02T10:41:08.424854Z"
    }
   },
   "id": "9d2c16e81dc7330a"
  },
  {
   "cell_type": "code",
   "execution_count": 40,
   "outputs": [],
   "source": [
    "def get_cloud_storage_jar(use_local_cache: bool = True) -> pathlib.Path:\n",
    "    version, jar_url = get_latest_version_and_jar_url()\n",
    "    _, local_jar_name = jar_url.rsplit('/', maxsplit=1)\n",
    "    local_jar_path = pathlib.Path(local_jar_name)\n",
    "    if use_local_cache and local_jar_path.exists():\n",
    "        print(f\"Jar for version {version} already exists in {local_jar_path}, skip downloading\")\n",
    "    else:\n",
    "        print(f\"Fetching jar for version {version} from {jar_url}...\")\n",
    "        r = requests.get(jar_url, stream=True)\n",
    "        count_bytes = local_jar_path.write_bytes(r.content)\n",
    "        print(f\"Saved {count_bytes} bytes in {local_jar_path}\")\n",
    "    return local_jar_path"
   ],
   "metadata": {
    "collapsed": false,
    "ExecuteTime": {
     "end_time": "2023-11-02T11:48:22.854872Z",
     "start_time": "2023-11-02T11:48:22.843710Z"
    }
   },
   "id": "26a9c3d99a84c280"
  },
  {
   "cell_type": "code",
   "execution_count": 41,
   "outputs": [
    {
     "name": "stdout",
     "output_type": "stream",
     "text": [
      "Jar for version 2.7.6 already exists in exasol-cloud-storage-extension-2.7.6.jar, skip downloading\n"
     ]
    }
   ],
   "source": [
    "#local_jar_path = get_cloud_storage_jar()"
   ],
   "metadata": {
    "collapsed": false,
    "ExecuteTime": {
     "end_time": "2023-11-02T11:48:33.139734Z",
     "start_time": "2023-11-02T11:48:32.846671Z"
    }
   },
   "id": "8b6f0058d1c637"
  },
  {
   "cell_type": "markdown",
   "source": [
    "# Upload the jar to the bucketfs"
   ],
   "metadata": {
    "collapsed": false
   },
   "id": "11f54801bd4f0e52"
  },
  {
   "cell_type": "code",
   "execution_count": 5,
   "outputs": [],
   "source": [
    "from exasol import bucketfs"
   ],
   "metadata": {
    "collapsed": false,
    "ExecuteTime": {
     "end_time": "2023-11-02T10:41:16.205257Z",
     "start_time": "2023-11-02T10:41:16.195664Z"
    }
   },
   "id": "22c106f0dce7686c"
  },
  {
   "cell_type": "code",
   "execution_count": 42,
   "outputs": [],
   "source": [
    "def put_in_bucketfs(conf: SandboxConfig, file_path: pathlib.Path, bucket_name: str = \"myudfs\") -> str:\n",
    "    bfs_url = conf.BUCKETFS_URL_PREFIX + conf.EXTERNAL_BUCKETFS_HOST\n",
    "    bfs_creds = {\n",
    "        bucket_name: {\n",
    "            \"username\": conf.BUCKETFS_USER,\n",
    "            \"password\": conf.BUCKETFS_PASSWORD,\n",
    "        } \n",
    "    }\n",
    "    svc = bucketfs.Service(bfs_url, bfs_creds)\n",
    "    bucket = svc[bucket_name]\n",
    "    local_jar_name = file_path.name\n",
    "    jar_exists = local_jar_name in list(bucket)\n",
    "    if jar_exists:\n",
    "        print(\"Jar file is already present in the bucketfs\")\n",
    "    else:\n",
    "        print(\"Upload jar to bucketfs\")\n",
    "        with file_path.open(\"rb\") as fd:\n",
    "            bucket.upload(local_jar_name, fd)\n",
    "    bucketfs_jar = f\"{conf.bucketfs_path(bucket_name)}/{local_jar_name}\"\n",
    "    return bucketfs_jar"
   ],
   "metadata": {
    "collapsed": false,
    "ExecuteTime": {
     "end_time": "2023-11-02T11:52:17.238262Z",
     "start_time": "2023-11-02T11:52:17.227758Z"
    }
   },
   "id": "8f40291a16262549"
  },
  {
   "cell_type": "code",
   "execution_count": 43,
   "outputs": [
    {
     "name": "stdout",
     "output_type": "stream",
     "text": [
      "Jar file is already present in the bucketfs\n"
     ]
    }
   ],
   "source": [
    "#bucketfs_jar = put_in_bucketfs(conf, local_jar_path)"
   ],
   "metadata": {
    "collapsed": false,
    "ExecuteTime": {
     "end_time": "2023-11-02T11:52:54.259013Z",
     "start_time": "2023-11-02T11:52:54.237477Z"
    }
   },
   "id": "37b9e1849973d810"
  },
  {
   "cell_type": "markdown",
   "source": [
    "# Create connection scripts"
   ],
   "metadata": {
    "collapsed": false
   },
   "id": "54a1efeb33bc7a8"
  },
  {
   "cell_type": "code",
   "execution_count": 13,
   "outputs": [],
   "source": [
    "import pyexasol"
   ],
   "metadata": {
    "collapsed": false,
    "ExecuteTime": {
     "end_time": "2023-11-02T10:55:46.074504Z",
     "start_time": "2023-11-02T10:55:46.069635Z"
    }
   },
   "id": "6a11f64e0fd52c71"
  },
  {
   "cell_type": "code",
   "execution_count": 50,
   "outputs": [],
   "source": [
    "def setup_scripts(conf: SandboxConfig, bucketfs_jar: str):\n",
    "    sqls = [ \n",
    "        \"OPEN SCHEMA {schema!i}\",\n",
    "        \"\"\"\n",
    "--/\n",
    "            CREATE OR REPLACE JAVA SET SCRIPT IMPORT_PATH(...) EMITS (...) AS\n",
    "              %scriptclass com.exasol.cloudetl.scriptclasses.FilesImportQueryGenerator;\n",
    "              %jar {jar_path!r};\n",
    "/\n",
    "        \"\"\",\n",
    "        \"\"\"\n",
    "--/\n",
    "        CREATE OR REPLACE JAVA SCALAR SCRIPT IMPORT_METADATA(...) \n",
    "          EMITS (\n",
    "                filename VARCHAR(2000), \n",
    "                partition_index VARCHAR(100), \n",
    "                start_index DECIMAL(36, 0), \n",
    "                end_index DECIMAL(36, 0)\n",
    "          ) AS\n",
    "          %scriptclass com.exasol.cloudetl.scriptclasses.FilesMetadataReader;\n",
    "          %jar {jar_path!r};\n",
    "/\n",
    "        \"\"\",\n",
    "        \"\"\"\n",
    "--/\n",
    "        CREATE OR REPLACE JAVA SET SCRIPT IMPORT_FILES(...) EMITS (...) AS\n",
    "          %scriptclass com.exasol.cloudetl.scriptclasses.FilesDataImporter;\n",
    "          %jar {jar_path!r};\n",
    "/\n",
    "        \"\"\"\n",
    "    ]\n",
    "    with pyexasol.connect(**conf.connection_params) as conn:\n",
    "        for sql in sqls:\n",
    "            conn.execute(sql, query_params={\n",
    "                \"schema\": conf.SCHEMA,\n",
    "                \"jar_path\": bucketfs_jar,\n",
    "            })"
   ],
   "metadata": {
    "collapsed": false,
    "ExecuteTime": {
     "end_time": "2023-11-02T11:54:27.414079Z",
     "start_time": "2023-11-02T11:54:27.406033Z"
    }
   },
   "id": "756f9fff92809b2"
  },
  {
   "cell_type": "code",
   "execution_count": 51,
   "outputs": [],
   "source": [
    "#setup_scripts(conf, bucketfs_jar)"
   ],
   "metadata": {
    "collapsed": false,
    "ExecuteTime": {
     "end_time": "2023-11-02T11:54:28.605461Z",
     "start_time": "2023-11-02T11:54:28.465942Z"
    }
   },
   "id": "b498b8e34679d905"
  },
  {
   "cell_type": "code",
   "execution_count": 52,
   "outputs": [],
   "source": [
    "def setup_cloud_storage_extension(conf: SandboxConfig):\n",
    "    local_jar_path = get_cloud_storage_jar()\n",
    "    bucketfs_jar = put_in_bucketfs(conf, local_jar_path)\n",
    "    setup_scripts(conf, bucketfs_jar)"
   ],
   "metadata": {
    "collapsed": false,
    "ExecuteTime": {
     "end_time": "2023-11-02T11:56:27.396471Z",
     "start_time": "2023-11-02T11:56:27.371958Z"
    }
   },
   "id": "f5dc79f67c089bc3"
  },
  {
   "cell_type": "markdown",
   "source": [
    "This notebook supposed to be loaded from other notebooks to install the cloud storage extension into the DB.\n",
    "Example:\n",
    "\n",
    "```\n",
    "%run ../setup_db.ipynb\n",
    "conf = SandboxConfig(EXTERNAL_HOST_NAME=\"127.0.0.1\", HOST_PORT=8563, BUCKETFS_PORT=2580)\n",
    "setup_schema(conf)\n",
    "\n",
    "%run 00_setup.ipynb\n",
    "setup_cloud_storage_extension(conf)\n",
    "```"
   ],
   "metadata": {
    "collapsed": false
   },
   "id": "504c8887af967e42"
  },
  {
   "cell_type": "code",
   "execution_count": null,
   "outputs": [],
   "source": [],
   "metadata": {
    "collapsed": false
   },
   "id": "e75318d5332cd9ae"
  }
 ],
 "metadata": {
  "kernelspec": {
   "display_name": "Python 3",
   "language": "python",
   "name": "python3"
  },
  "language_info": {
   "codemirror_mode": {
    "name": "ipython",
    "version": 2
   },
   "file_extension": ".py",
   "mimetype": "text/x-python",
   "name": "python",
   "nbconvert_exporter": "python",
   "pygments_lexer": "ipython2",
   "version": "2.7.6"
  }
 },
 "nbformat": 4,
 "nbformat_minor": 5
}
