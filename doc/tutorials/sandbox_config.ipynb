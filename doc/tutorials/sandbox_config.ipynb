{
 "cells": [
  {
   "cell_type": "markdown",
   "id": "f54817a6-4e92-4d65-ada7-797905b26efd",
   "metadata": {},
   "source": [
    "# Sandbox Configuration\n",
    "\n",
    "## Secret Store mock\n",
    "\n",
    "Here is a placeholder for setting up various variables that will be saved in the Secret Store."
   ]
  },
  {
   "cell_type": "code",
   "execution_count": 1,
   "id": "c6b9f13d-8577-4a66-a49b-cfd18b6eb231",
   "metadata": {},
   "outputs": [],
   "source": [
    "from collections import UserDict\n",
    "\n",
    "class Secrets(UserDict):\n",
    "    \"\"\"This class mimics the Secret Store we will start using soon.\"\"\"\n",
    "\n",
    "    def save(self, key: str, value: str) -> \"Secrets\":\n",
    "        self[key] = value\n",
    "        return self\n",
    "\n",
    "def get_value_as_attribute(self, key):\n",
    "    val = self.get(key)\n",
    "    if val is None:\n",
    "        raise AttributeError(f'{key} value is not defined')\n",
    "    return val\n",
    "\n",
    "Secrets.__getattr__ = get_value_as_attribute\n",
    "\n",
    "# For now just hardcode the configuration.\n",
    "sb_config = Secrets({    \n",
    "    'EXTERNAL_HOST_NAME': '192.168.124.93',\n",
    "    'HOST_PORT': '8888',\n",
    "    'USER': 'sys',\n",
    "    'PASSWORD': 'exasol',\n",
    "    'BUCKETFS_PORT': '6666',\n",
    "    'BUCKETFS_USER': 'w',\n",
    "    'BUCKETFS_PASSWORD': 'write',\n",
    "    'BUCKETFS_USE_HTTPS': 'False',\n",
    "    'BUCKETFS_SERVICE': 'bfsdefault',\n",
    "    'BUCKETFS_BUCKET': 'default',\n",
    "    'SCRIPT_LANGUAGE_NAME': 'PYTHON3_60',\n",
    "    'UDF_FLAVOR': 'python3-ds-EXASOL-6.0.0',\n",
    "    'UDF_RELEASE': '20190116',\n",
    "    'UDF_CLIENT': 'exaudfclient_py3',\n",
    "    'SCHEMA': 'IDA'\n",
    "})\n",
    "\n",
    "EXTERNAL_HOST = f\"{sb_config.EXTERNAL_HOST_NAME}:{sb_config.HOST_PORT}\""
   ]
  },
  {
   "cell_type": "markdown",
   "id": "55b128b0-b665-405f-889b-495fe6ff5339",
   "metadata": {},
   "source": [
    "## DB Setup\n",
    "\n",
    "Make sure there is the expected schema in the database."
   ]
  },
  {
   "cell_type": "code",
   "execution_count": 2,
   "id": "cc4246c5-7cb3-477e-9cbb-4b9d8f243d36",
   "metadata": {},
   "outputs": [
    {
     "name": "stdout",
     "output_type": "stream",
     "text": [
      "Schema created in 39.17ms\n"
     ]
    }
   ],
   "source": [
    "import pyexasol\n",
    "from stopwatch import Stopwatch\n",
    "stopwatch = Stopwatch()\n",
    "\n",
    "sql = f\"CREATE SCHEMA IF NOT EXISTS {sb_config.get('SCHEMA')}\"\n",
    "with pyexasol.connect(dsn=EXTERNAL_HOST, user=sb_config.USER, password=sb_config.PASSWORD, compression=True) as conn:\n",
    "    conn.execute(query=sql)\n",
    "\n",
    "print(f\"Schema created in {stopwatch}\")"
   ]
  },
  {
   "cell_type": "code",
   "execution_count": null,
   "id": "06eeb623-a3da-4896-bac0-b267a8beef8a",
   "metadata": {},
   "outputs": [],
   "source": []
  }
 ],
 "metadata": {
  "kernelspec": {
   "display_name": "Python 3 (ipykernel)",
   "language": "python",
   "name": "python3"
  },
  "language_info": {
   "codemirror_mode": {
    "name": "ipython",
    "version": 3
   },
   "file_extension": ".py",
   "mimetype": "text/x-python",
   "name": "python",
   "nbconvert_exporter": "python",
   "pygments_lexer": "ipython3",
   "version": "3.8.10"
  }
 },
 "nbformat": 4,
 "nbformat_minor": 5
}
