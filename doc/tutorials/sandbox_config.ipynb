{
 "cells": [
  {
   "cell_type": "markdown",
   "id": "f54817a6-4e92-4d65-ada7-797905b26efd",
   "metadata": {},
   "source": [
    "# Sandbox Configuration\n",
    "\n",
    "This notebook must be visited first, before we start with the examples, in order to set up the main configuration parameters. These parameters include the location of the Exasol database and access credentials for the database and its BucketFS file system.\n",
    "\n",
    "Once specified the parameters are stored in a local lightweight database. All notebooks including this one access configuration data in this database. The configuration database is encrypted and protected with a password.\n",
    "\n",
    "Before starting working with any notebook in the sandbox one needs to connect to the configuration database providing the name of the file where the data is stored and the password. If the file with the specified name doesn't exist a new file will be created and protected with the entered password. However, if the file does exist it will be opened only if the provided password matches the password the file was created with.\n",
    "\n",
    "### Access configuration"
   ]
  },
  {
   "cell_type": "code",
   "execution_count": null,
   "id": "8bdbff36-230c-4b08-b85e-d2cf37e28a40",
   "metadata": {},
   "outputs": [],
   "source": [
    "%run ./access_store_ui.ipynb\n",
    "display(get_access_store_ui())"
   ]
  },
  {
   "cell_type": "markdown",
   "id": "f859bc51-2ba7-48aa-878e-64ef7a2f2917",
   "metadata": {},
   "source": [
    "## Set up main configuration"
   ]
  },
  {
   "cell_type": "code",
   "execution_count": null,
   "id": "911c6bcc-f357-469f-a862-3f6e246581c4",
   "metadata": {},
   "outputs": [],
   "source": [
    "%run ./sandbox_config_ui.ipynb\n",
    "display(get_sandbox_config_ui())"
   ]
  },
  {
   "cell_type": "code",
   "execution_count": null,
   "id": "ddaff7d2-00f8-48ca-b711-6353d8ea0dbc",
   "metadata": {},
   "outputs": [],
   "source": []
  }
 ],
 "metadata": {
  "kernelspec": {
   "display_name": "Python 3 (ipykernel)",
   "language": "python",
   "name": "python3"
  },
  "language_info": {
   "codemirror_mode": {
    "name": "ipython",
    "version": 3
   },
   "file_extension": ".py",
   "mimetype": "text/x-python",
   "name": "python",
   "nbconvert_exporter": "python",
   "pygments_lexer": "ipython3",
   "version": "3.8.10"
  }
 },
 "nbformat": 4,
 "nbformat_minor": 5
}
