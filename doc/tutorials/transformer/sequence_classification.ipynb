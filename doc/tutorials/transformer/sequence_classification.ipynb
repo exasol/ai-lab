{
 "cells": [
  {
   "cell_type": "markdown",
   "id": "8fa128b9-3c22-4f33-85c5-be5d9c5b290f",
   "metadata": {},
   "source": [
    "In this notebook we will load and use a text classification language model that can assigning a label to a given text. Learn more about the Text Classification task <a href=\"https://huggingface.co/tasks/text-classification\" target=\"_blank\" rel=\"noopener\">here</a>.\n",
    "\n",
    "We will be running SQL queries using <a href=\"https://jupysql.ploomber.io/en/latest/quick-start.html\" target=\"_blank\" rel=\"noopener\"> JupySQL</a> SQL Magic.\n",
    "\n",
    "Prior to using this notebook one needs to complete the follow steps:\n",
    "1. [Create the database schema](../setup_db.ipynb).\n",
    "2. [Initialize the Transformer Extension](te_init.ipynb)."
   ]
  },
  {
   "cell_type": "code",
   "execution_count": 1,
   "id": "b4ef3baf-8292-4db0-b86b-88a110d6feb3",
   "metadata": {},
   "outputs": [],
   "source": [
    "# TODO: Move this to a separate configuration notebook. Here we just need to load this configuration from a store.\n",
    "from dataclasses import dataclass\n",
    "\n",
    "@dataclass\n",
    "class SandboxConfig:\n",
    "    EXTERNAL_HOST_NAME = \"192.168.124.93\"\n",
    "    HOST_PORT = \"8888\"\n",
    "\n",
    "    @property\n",
    "    def EXTERNAL_HOST(self):\n",
    "        return f\"\"\"{self.EXTERNAL_HOST_NAME}:{self.HOST_PORT}\"\"\"\n",
    "\n",
    "    USER = \"sys\"\n",
    "    PASSWORD = \"exasol\"\n",
    "    BUCKETFS_PORT = \"6666\"\n",
    "    BUCKETFS_USER = \"w\"\n",
    "    BUCKETFS_PASSWORD = \"write\"\n",
    "    BUCKETFS_USE_HTTPS = False\n",
    "    BUCKETFS_SERVICE = \"bfsdefault\"\n",
    "    BUCKETFS_BUCKET = \"default\"\n",
    "\n",
    "    @property\n",
    "    def EXTERNAL_BUCKETFS_HOST(self):\n",
    "        return f\"\"\"{self.EXTERNAL_HOST_NAME}:{self.BUCKETFS_PORT}\"\"\"\n",
    "\n",
    "    @property\n",
    "    def BUCKETFS_URL_PREFIX(self):\n",
    "        return \"https://\" if self.BUCKETFS_USE_HTTPS else \"http://\"\n",
    "\n",
    "    @property\n",
    "    def BUCKETFS_PATH(self):\n",
    "        # Filesystem-Path to the read-only mounted BucketFS inside the running UDF Container\n",
    "        return f\"/buckets/{self.BUCKETFS_SERVICE}/{self.BUCKETFS_BUCKET}\"\n",
    "\n",
    "    SCRIPT_LANGUAGE_NAME = \"PYTHON3_60\"\n",
    "    UDF_FLAVOR = \"python3-ds-EXASOL-6.0.0\"\n",
    "    UDF_RELEASE= \"20190116\"\n",
    "    UDF_CLIENT = \"exaudfclient\" # or for newer versions of the flavor exaudfclient_py3\n",
    "    SCHEMA = \"IDA\"\n",
    "\n",
    "    @property\n",
    "    def SCRIPT_LANGUAGES(self):\n",
    "        return f\"\"\"{self.SCRIPT_LANGUAGE_NAME}=localzmq+protobuf:///{self.BUCKETFS_SERVICE}/\n",
    "            {self.BUCKETFS_BUCKET}/{self.UDF_FLAVOR}?lang=python#buckets/{self.BUCKETFS_SERVICE}/\n",
    "            {self.BUCKETFS_BUCKET}/{self.UDF_FLAVOR}/exaudf/{self.UDF_CLIENT}\"\"\";\n",
    "\n",
    "    @property\n",
    "    def connection_params(self):\n",
    "        return {\"dns\": self.EXTERNAL_HOST, \"user\": self.USER, \"password\": self.PASSWORD, \"compression\": True}\n",
    "\n",
    "    @property\n",
    "    def params(self):\n",
    "        return {\n",
    "            \"script_languages\": self.SCRIPT_LANGUAGES,\n",
    "            \"script_language_name\": self.SCRIPT_LANGUAGE_NAME,\n",
    "            \"schema\": self.SCHEMA,\n",
    "            \"BUCKETFS_PORT\": self.BUCKETFS_PORT,\n",
    "            \"BUCKETFS_USER\": self.BUCKETFS_USER,\n",
    "            \"BUCKETFS_PASSWORD\": self.BUCKETFS_PASSWORD,\n",
    "            \"BUCKETFS_USE_HTTPS\": self.BUCKETFS_USE_HTTPS,\n",
    "            \"BUCKETFS_BUCKET\": self.BUCKETFS_BUCKET,\n",
    "            \"BUCKETFS_PATH\": self.BUCKETFS_PATH\n",
    "        }\n",
    "\n",
    "    # Name of the BucketFS connection\n",
    "    BFS_CONN = 'MyBFSConn'\n",
    "\n",
    "    # Name of a sub-directory of the bucket root\n",
    "    BFS_DIR = 'my_storage'\n",
    "\n",
    "    # We will store all models in this sub-directory at BucketFS\n",
    "    TE_MODELS_DIR = 'models'\n",
    "    \n",
    "    # We will save cached model in this sub-directory relative to the current directory on the local machine.\n",
    "    TE_MODELS_CACHE_DIR = 'models_cache'\n",
    "\n",
    "    @property\n",
    "    def WEBSOCKET_URL(self):\n",
    "        return f\"exa+websocket://{self.USER}:{self.PASSWORD}@{self.EXTERNAL_HOST}/{self.SCHEMA}?SSLCertificate=SSL_VERIFY_NONE\"\n",
    "\n",
    "conf = SandboxConfig()"
   ]
  },
  {
   "cell_type": "markdown",
   "id": "836f39d7-26f1-4419-bfa9-a0057a45380f",
   "metadata": {},
   "source": [
    "First let's bring up the JupySQL and connect to the database via the SQLAlchemy. \n",
    "Please refer to the documentation in the [sqlalchemy-exasol](https://github.com/exasol/sqlalchemy-exasol) for details on how to connect to the database using Exasol SQLAlchemy driver."
   ]
  },
  {
   "cell_type": "code",
   "execution_count": null,
   "id": "9fe38507-de1a-417e-81d4-70c956a70914",
   "metadata": {},
   "outputs": [],
   "source": [
    "from sqlalchemy import create_engine\n",
    "\n",
    "engine = create_engine(conf.WEBSOCKET_URL)\n",
    "\n",
    "%load_ext sql\n",
    "%sql engine"
   ]
  },
  {
   "cell_type": "markdown",
   "id": "aaee4351-6210-4266-9525-d35f4381ba30",
   "metadata": {},
   "source": [
    "Now we will download a model from the Huggingface Hub and put into the BucketFS.\n",
    "\n",
    "There are two ways of doing this.\n",
    "1. Using the `TE_MODEL_DOWNLOADER_UDF` UDF.\n",
    "2. Downloading a model to a local drive and subsequently uploading in into the BucketFS using a CLI.\n",
    "\n",
    "The first method requires the database machine to have internet access. Here we assume this condition is met. Otherwise please refer to another notebook where the second method is demonstrated.\n",
    "\n",
    "To demonstrate the text classification task we will use the [Ekman emotions classifier](https://huggingface.co/arpanghoshal/EkmanClassifier) model.\n",
    "\n",
    "This is a public model, therefore the last parameter - the name of the Huggingface token connection - can be an empty string.\n",
    "\n",
    "Please note that loading a model, especially a big one, may take considerable time. At the time of writing we do not have any means to check the completion of this process. Notebook's hourglass may not be a reliable indicator. BucketFS will still be doing some work when the call issued by the notebook returns. Please wait for few moments after that, before querying the model."
   ]
  },
  {
   "cell_type": "code",
   "execution_count": 9,
   "id": "5f1ff6db-1bd5-4886-b353-27f3c72db2bf",
   "metadata": {},
   "outputs": [],
   "source": [
    "# This is the name of the model at the Huggingface Hub\n",
    "MODEL_NAME = 'arpanghoshal/EkmanClassifier'"
   ]
  },
  {
   "cell_type": "code",
   "execution_count": null,
   "id": "72a23643-9ed2-4f17-8c05-3fa40db2d029",
   "metadata": {},
   "outputs": [],
   "source": [
    "%%sql\n",
    "SELECT TE_MODEL_DOWNLOADER_UDF(\n",
    "    '{{MODEL_NAME}}',\n",
    "    '{{conf.TE_MODELS_DIR}}',\n",
    "    '{{conf.BFS_CONN}}',\n",
    "    ''\n",
    ")"
   ]
  },
  {
   "cell_type": "markdown",
   "id": "5cf5a2a7-ddab-40b8-aed1-7e6ddaec867a",
   "metadata": {},
   "source": [
    "Let's try to classify a single phrase which definitely bears emotions but is also somewhat ambiguous - \"Oh my God!\""
   ]
  },
  {
   "cell_type": "code",
   "execution_count": null,
   "id": "a6a9e9b4-d9ce-410b-b374-a7d9f8feccea",
   "metadata": {},
   "outputs": [],
   "source": [
    "%%sql\n",
    "WITH MODEL_OUTPUT AS\n",
    "(\n",
    "    SELECT TE_SEQUENCE_CLASSIFICATION_SINGLE_TEXT_UDF(\n",
    "        NULL,\n",
    "        '{{conf.BFS_CONN}}',\n",
    "        NULL,\n",
    "        '{{conf.TE_MODELS_DIR}}',\n",
    "        '{{MODEL_NAME}}',\n",
    "        'Oh my God!'\n",
    "    )\n",
    ")\n",
    "SELECT label, score, error_message FROM MODEL_OUTPUT  ORDER BY SCORE DESC"
   ]
  },
  {
   "cell_type": "markdown",
   "id": "04ce1452-2571-447b-94f9-b923e6a2cb75",
   "metadata": {},
   "source": [
    "Now we are going to add some context to our exclamation and use another UDF that takes a pair of sentences. Let's see how it will change the model output."
   ]
  },
  {
   "cell_type": "code",
   "execution_count": null,
   "id": "1eb66252-36b6-441f-9e7d-bf9ffcb3f8df",
   "metadata": {},
   "outputs": [],
   "source": [
    "%%sql\n",
    "WITH MODEL_OUTPUT AS\n",
    "(\n",
    "    SELECT TE_SEQUENCE_CLASSIFICATION_TEXT_PAIR_UDF(\n",
    "        NULL,\n",
    "        '{{conf.BFS_CONN}}',\n",
    "        NULL,\n",
    "        '{{conf.TE_MODELS_DIR}}',\n",
    "        '{{MODEL_NAME}}',\n",
    "        'Oh my God!',\n",
    "        'I lost my purse.'\n",
    "    )\n",
    ")\n",
    "SELECT label, score, error_message FROM MODEL_OUTPUT ORDER BY SCORE DESC"
   ]
  },
  {
   "cell_type": "code",
   "execution_count": null,
   "id": "8d8d1de0-a64d-4884-acfc-d4709bb33e58",
   "metadata": {},
   "outputs": [],
   "source": []
  }
 ],
 "metadata": {
  "kernelspec": {
   "display_name": "Python 3 (ipykernel)",
   "language": "python",
   "name": "python3"
  },
  "language_info": {
   "codemirror_mode": {
    "name": "ipython",
    "version": 3
   },
   "file_extension": ".py",
   "mimetype": "text/x-python",
   "name": "python",
   "nbconvert_exporter": "python",
   "pygments_lexer": "ipython3",
   "version": "3.8.10"
  }
 },
 "nbformat": 4,
 "nbformat_minor": 5
}
