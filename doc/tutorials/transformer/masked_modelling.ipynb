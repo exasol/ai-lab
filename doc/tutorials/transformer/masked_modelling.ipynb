{
 "cells": [
  {
   "cell_type": "markdown",
   "id": "b25130b6-6e01-481a-91a0-838198be3ea8",
   "metadata": {},
   "source": [
    "# Fill-Mask model\n",
    "\n",
    "In this notebook we will load and use a masked language model. This kind of a model predicts which words would replace masked words in a sentence. Learn more about the Fill-Mask task <a href=\"https://huggingface.co/tasks/fill-mask\" target=\"_blank\" rel=\"noopener\">here</a>.\n",
    "\n",
    "We will be running SQL queries using <a href=\"https://jupysql.ploomber.io/en/latest/quick-start.html\" target=\"_blank\" rel=\"noopener\"> JupySQL</a> SQL Magic.\n",
    "\n",
    "## Prerequisites\n",
    "\n",
    "Prior to using this notebook one needs to complete the follow steps:\n",
    "1. [Configure the sandbox](../sendbox_config.ipynb).\n",
    "2. [Initialize the Transformer Extension](te_init.ipynb).\n",
    "\n",
    "## Set up"
   ]
  },
  {
   "cell_type": "code",
   "execution_count": 1,
   "id": "4884f64d-aee2-4248-a922-8d28cf70209f",
   "metadata": {},
   "outputs": [],
   "source": [
    "#TODO: start using the secret store.\n",
    "\n",
    "from collections import UserDict\n",
    "\n",
    "class Secrets(UserDict):\n",
    "    \"\"\"This class mimics the Secret Store we will start using soon.\"\"\"\n",
    "\n",
    "    def save(self, key: str, value: str) -> \"Secrets\":\n",
    "        self[key] = value\n",
    "        return self\n",
    "\n",
    "# For now just hardcode the configuration.\n",
    "sb_config = Secrets({\n",
    "    'EXTERNAL_HOST_NAME': '192.168.124.93',\n",
    "    'HOST_PORT': '8888',\n",
    "    'USER': 'sys',\n",
    "    'PASSWORD': 'exasol',\n",
    "    'BUCKETFS_PORT': '6666',\n",
    "    'BUCKETFS_USER': 'w',\n",
    "    'BUCKETFS_PASSWORD': 'write',\n",
    "    'BUCKETFS_USE_HTTPS': 'False',\n",
    "    'BUCKETFS_SERVICE': 'bfsdefault',\n",
    "    'BUCKETFS_BUCKET': 'default',\n",
    "    'SCRIPT_LANGUAGE_NAME': 'PYTHON3_60',\n",
    "    'UDF_FLAVOR': 'python3-ds-EXASOL-6.0.0',\n",
    "    'UDF_RELEASE': '20190116',\n",
    "    'UDF_CLIENT': 'exaudfclient_py3',\n",
    "    'SCHEMA': 'IDA',\n",
    "    'TE_TOKEN': '',\n",
    "    'TE_TOKEN_CONN': '',\n",
    "    'TE_BFS_CONN': 'MyBFSConn',\n",
    "    'TE_BFS_DIR': 'my_storage',\n",
    "    'TE_MODELS_BFS_DIR': 'models',\n",
    "    'TE_MODELS_CACHE_DIR': 'models_cache'\n",
    "})\n",
    "\n",
    "EXTERNAL_HOST = f\"{sb_config.get('EXTERNAL_HOST_NAME')}:{sb_config.get('HOST_PORT')}\"\n",
    "WEBSOCKET_URL = f\"exa+websocket://{sb_config.get('USER')}:{sb_config.get('PASSWORD')}\" \\\n",
    "    f\"@{EXTERNAL_HOST}/{sb_config.get('SCHEMA')}?SSLCertificate=SSL_VERIFY_NONE\""
   ]
  },
  {
   "cell_type": "markdown",
   "id": "ff882542-d473-4767-a035-5c2615080cae",
   "metadata": {},
   "source": [
    "Let's bring up JupySQL and connect to the database via SQLAlchemy. Please refer to the documentation in the <a href=\"https://github.com/exasol/sqlalchemy-exasol\" target=\"_blank\" rel=\"noopener\">sqlalchemy-exasol</a> for details on how to connect to the database using Exasol SQLAlchemy driver."
   ]
  },
  {
   "cell_type": "code",
   "execution_count": 3,
   "id": "f0cc45d2-d5ae-4afc-9f1d-251923995990",
   "metadata": {},
   "outputs": [],
   "source": [
    "from sqlalchemy import create_engine\n",
    "\n",
    "engine = create_engine(WEBSOCKET_URL)\n",
    "\n",
    "%load_ext sql\n",
    "%sql engine"
   ]
  },
  {
   "cell_type": "markdown",
   "id": "e0ad672a-8b26-467b-8649-0bf95b1efb61",
   "metadata": {},
   "source": [
    "## Get language model\n",
    "\n",
    "To demonstrate filling of a masked word task we will use a [RadBERT model](https://huggingface.co/StanfordAIMI/RadBERT) which was pre-trained on radiology reports.\n",
    "\n",
    "We need to load the model from the Huggingface hub into the BucketFS. This could potentially be a long process. Unfortunately we cannot tell exactly when it has finished. Notebook's hourglass may not be a reliable indicator. BucketFS will still be doing some work when the call issued by the notebook returns. Please wait for few moments after that, before querying the model."
   ]
  },
  {
   "cell_type": "code",
   "execution_count": 4,
   "id": "dede4beb-9bfe-413c-846a-a2e5c6eaa784",
   "metadata": {},
   "outputs": [],
   "source": [
    "# This is the name of the model at the Huggingface Hub\n",
    "MODEL_NAME = 'StanfordAIMI/RadBERT'"
   ]
  },
  {
   "cell_type": "code",
   "execution_count": 7,
   "id": "d4ca7457-501f-4c8e-a5c4-85d9e05670f2",
   "metadata": {},
   "outputs": [],
   "source": [
    "%run ./model_retrieval.ipynb\n",
    "load_huggingface_model(MODEL_NAME, sb_config)"
   ]
  },
  {
   "cell_type": "markdown",
   "id": "9825231e-f7fa-4011-9d11-f94890f6ba7d",
   "metadata": {},
   "source": [
    "## Use language model\n",
    "\n",
    "Let's see if the model can fill a masked word in an instruction usually given to a patient when radiographer is doing her chest X-ray."
   ]
  },
  {
   "cell_type": "code",
   "execution_count": 8,
   "id": "7c0ff55c-dada-4f5f-a923-8c86695723bf",
   "metadata": {},
   "outputs": [],
   "source": [
    "# This is a sentence with a masked word that will be given to the model.\n",
    "MY_TEXT = 'Take a deep [MASK] and hold it'\n",
    "\n",
    "# Make sure our text can be used in an SQL statement.\n",
    "MY_TEXT = MY_TEXT.replace(\"'\", \"''\")\n",
    "\n",
    "# We will collect 5 best answers."
   ]
  },
  {
   "cell_type": "code",
   "execution_count": null,
   "id": "0d8288e3-0658-44a3-8fc6-92d6e1c4b3f1",
   "metadata": {},
   "outputs": [],
   "source": [
    "%%sql\n",
    "WITH MODEL_OUTPUT AS\n",
    "(\n",
    "    SELECT TE_FILLING_MASK_UDF(\n",
    "        NULL,\n",
    "        '{{sb_config.get(\"TE_BFS_CONN\")}}',\n",
    "        '{{sb_config.get(\"TE_TOKEN_CONN\")}}',\n",
    "        '{{sb_config.get(\"TE_MODELS_BFS_DIR\")}}',\n",
    "        '{{MODEL_NAME}}',\n",
    "        '{{MY_TEXT}}',\n",
    "        5\n",
    "    )\n",
    ")\n",
    "SELECT filled_text, score, error_message FROM MODEL_OUTPUT ORDER BY SCORE DESC"
   ]
  },
  {
   "cell_type": "code",
   "execution_count": null,
   "id": "6a164578-5d2a-40e2-8bdd-2800765fe5c7",
   "metadata": {},
   "outputs": [],
   "source": []
  }
 ],
 "metadata": {
  "kernelspec": {
   "display_name": "Python 3 (ipykernel)",
   "language": "python",
   "name": "python3"
  },
  "language_info": {
   "codemirror_mode": {
    "name": "ipython",
    "version": 3
   },
   "file_extension": ".py",
   "mimetype": "text/x-python",
   "name": "python",
   "nbconvert_exporter": "python",
   "pygments_lexer": "ipython3",
   "version": "3.8.10"
  }
 },
 "nbformat": 4,
 "nbformat_minor": 5
}
