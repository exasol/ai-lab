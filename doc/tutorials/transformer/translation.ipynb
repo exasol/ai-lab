{
 "cells": [
  {
   "cell_type": "markdown",
   "id": "1e0418df-fcce-493b-aa45-ee4e339e51f5",
   "metadata": {},
   "source": [
    "In this notebook we will load and use a language translation model. Learn more about the Translation task <a href=\"https://huggingface.co/tasks/translation\" target=\"_blank\" rel=\"noopener\">here</a>.\n",
    "\n",
    "We will be running SQL queries using <a href=\"https://jupysql.ploomber.io/en/latest/quick-start.html\" target=\"_blank\" rel=\"noopener\"> JupySQL</a> SQL Magic.\n",
    "\n",
    "Prior to using this notebook one needs to complete the follow steps:\n",
    "1. [Create the database schema](../setup_db.ipynb).\n",
    "2. [Initialize the Transformer Extension](te_init.ipynb)."
   ]
  },
  {
   "cell_type": "code",
   "execution_count": 16,
   "id": "91b9f7ee-524a-428b-aad8-ee3d4a009940",
   "metadata": {},
   "outputs": [],
   "source": [
    "# TODO: Move this to a separate configuration notebook. Here we just need to load this configuration from a store.\n",
    "from dataclasses import dataclass\n",
    "\n",
    "@dataclass\n",
    "class SandboxConfig:\n",
    "    EXTERNAL_HOST_NAME = \"192.168.124.93\"\n",
    "    HOST_PORT = \"8888\"\n",
    "\n",
    "    @property\n",
    "    def EXTERNAL_HOST(self):\n",
    "        return f\"\"\"{self.EXTERNAL_HOST_NAME}:{self.HOST_PORT}\"\"\"\n",
    "\n",
    "    USER = \"sys\"\n",
    "    PASSWORD = \"exasol\"\n",
    "    BUCKETFS_PORT = \"6666\"\n",
    "    BUCKETFS_USER = \"w\"\n",
    "    BUCKETFS_PASSWORD = \"write\"\n",
    "    BUCKETFS_USE_HTTPS = False\n",
    "    BUCKETFS_SERVICE = \"bfsdefault\"\n",
    "    BUCKETFS_BUCKET = \"default\"\n",
    "\n",
    "    @property\n",
    "    def EXTERNAL_BUCKETFS_HOST(self):\n",
    "        return f\"\"\"{self.EXTERNAL_HOST_NAME}:{self.BUCKETFS_PORT}\"\"\"\n",
    "\n",
    "    @property\n",
    "    def BUCKETFS_URL_PREFIX(self):\n",
    "        return \"https://\" if self.BUCKETFS_USE_HTTPS else \"http://\"\n",
    "\n",
    "    @property\n",
    "    def BUCKETFS_PATH(self):\n",
    "        # Filesystem-Path to the read-only mounted BucketFS inside the running UDF Container\n",
    "        return f\"/buckets/{self.BUCKETFS_SERVICE}/{self.BUCKETFS_BUCKET}\"\n",
    "\n",
    "    SCRIPT_LANGUAGE_NAME = \"PYTHON3_60\"\n",
    "    UDF_FLAVOR = \"python3-ds-EXASOL-6.0.0\"\n",
    "    UDF_RELEASE= \"20190116\"\n",
    "    UDF_CLIENT = \"exaudfclient\" # or for newer versions of the flavor exaudfclient_py3\n",
    "    SCHEMA = \"IDA\"\n",
    "\n",
    "    @property\n",
    "    def SCRIPT_LANGUAGES(self):\n",
    "        return f\"\"\"{self.SCRIPT_LANGUAGE_NAME}=localzmq+protobuf:///{self.BUCKETFS_SERVICE}/\n",
    "            {self.BUCKETFS_BUCKET}/{self.UDF_FLAVOR}?lang=python#buckets/{self.BUCKETFS_SERVICE}/\n",
    "            {self.BUCKETFS_BUCKET}/{self.UDF_FLAVOR}/exaudf/{self.UDF_CLIENT}\"\"\";\n",
    "\n",
    "    @property\n",
    "    def connection_params(self):\n",
    "        return {\"dns\": self.EXTERNAL_HOST, \"user\": self.USER, \"password\": self.PASSWORD, \"compression\": True}\n",
    "\n",
    "    @property\n",
    "    def params(self):\n",
    "        return {\n",
    "            \"script_languages\": self.SCRIPT_LANGUAGES,\n",
    "            \"script_language_name\": self.SCRIPT_LANGUAGE_NAME,\n",
    "            \"schema\": self.SCHEMA,\n",
    "            \"BUCKETFS_PORT\": self.BUCKETFS_PORT,\n",
    "            \"BUCKETFS_USER\": self.BUCKETFS_USER,\n",
    "            \"BUCKETFS_PASSWORD\": self.BUCKETFS_PASSWORD,\n",
    "            \"BUCKETFS_USE_HTTPS\": self.BUCKETFS_USE_HTTPS,\n",
    "            \"BUCKETFS_BUCKET\": self.BUCKETFS_BUCKET,\n",
    "            \"BUCKETFS_PATH\": self.BUCKETFS_PATH\n",
    "        }\n",
    "\n",
    "    # Name of the BucketFS connection\n",
    "    BFS_CONN = 'MyBFSConn'\n",
    "\n",
    "    # Name of a sub-directory of the bucket root\n",
    "    BFS_DIR = 'my_storage'\n",
    "\n",
    "    # We will store all models in this sub-directory at BucketFS\n",
    "    TE_MODELS_DIR = 'models'\n",
    "    \n",
    "    # We will save cached model in this sub-directory relative to the current directory on the local machine.\n",
    "    TE_MODELS_CACHE_DIR = 'models_cache'\n",
    "\n",
    "    @property\n",
    "    def WEBSOCKET_URL(self):\n",
    "        return f\"exa+websocket://{self.USER}:{self.PASSWORD}@{self.EXTERNAL_HOST}/{self.SCHEMA}?SSLCertificate=SSL_VERIFY_NONE\"\n",
    "\n",
    "conf = SandboxConfig()"
   ]
  },
  {
   "cell_type": "markdown",
   "id": "bd2d0acf-fd51-4b61-aeb5-e72b1f4be101",
   "metadata": {},
   "source": [
    "First let's bring up the JupySQL and connect to the database via the SQLAlchemy. \n",
    "Please refer to the documentation in the [sqlalchemy-exasol](https://github.com/exasol/sqlalchemy-exasol) for details on how to connect to the database using Exasol SQLAlchemy driver."
   ]
  },
  {
   "cell_type": "code",
   "execution_count": null,
   "id": "48b6a5bb-a1a6-4945-99a8-21fbdbc39392",
   "metadata": {},
   "outputs": [],
   "source": [
    "from sqlalchemy import create_engine\n",
    "\n",
    "engine = create_engine(conf.WEBSOCKET_URL)\n",
    "\n",
    "%load_ext sql\n",
    "%sql engine"
   ]
  },
  {
   "cell_type": "markdown",
   "id": "7dd67dae-b65e-4d57-8a98-2baa07c18c9a",
   "metadata": {},
   "source": [
    "Now we will download a model from the Huggingface Hub and put into the BucketFS.\n",
    "\n",
    "There are two ways of doing this.\n",
    "1. Using the `TE_MODEL_DOWNLOADER_UDF` UDF.\n",
    "2. Downloading a model to a local drive and subsequently uploading in into the BucketFS using a CLI.\n",
    "\n",
    "In this notebook we will use the second method.\n",
    "\n",
    "To demonstrate the translation task we will use [Facebook WMT19 English-German model](https://huggingface.co/facebook/wmt19-en-de).\n",
    "\n",
    "This is a public model, therefore the last parameter - the name of the Huggingface token connection - can be an empty string."
   ]
  },
  {
   "cell_type": "code",
   "execution_count": 30,
   "id": "db9dd34a-ff4e-44dc-9990-dd50f4be06d6",
   "metadata": {},
   "outputs": [],
   "source": [
    "# This is the name of the model at the Huggingface Hub\n",
    "MODEL_NAME = 'facebook/wmt19-en-de'"
   ]
  },
  {
   "cell_type": "code",
   "execution_count": null,
   "id": "50a8cc23-bba5-4497-8947-9adc8c83a76c",
   "metadata": {},
   "outputs": [],
   "source": [
    "from transformers import AutoTokenizer, AutoModelForSeq2SeqLM\n",
    "\n",
    "tokenizer = AutoTokenizer.from_pretrained(MODEL_NAME, cache_dir=conf.TE_MODELS_CACHE_DIR)\n",
    "model = AutoModelForSeq2SeqLM.from_pretrained(MODEL_NAME, cache_dir=conf.TE_MODELS_CACHE_DIR)"
   ]
  },
  {
   "cell_type": "markdown",
   "id": "108df0f9-8404-4e6f-b7dc-5c31fa00799a",
   "metadata": {},
   "source": [
    "Now we can upload the model into the BucketFS using a command line. Unfortunately we cannot tell exactly when this process has finished. Notebook's hourglass may not be a reliable indicator. BucketFS will still be doing some work when the call issued by the notebook returns. Please wait for few moments after that, before querying the model."
   ]
  },
  {
   "cell_type": "code",
   "execution_count": 25,
   "id": "2b25faa6-c75f-45de-9931-ff03a1bcde2e",
   "metadata": {},
   "outputs": [],
   "source": [
    "upload_command = f\"\"\"python -m exasol_transformers_extension.upload_model \\\n",
    "    --bucketfs-name {conf.BUCKETFS_SERVICE} \\\n",
    "    --bucketfs-host {conf.EXTERNAL_HOST_NAME} \\\n",
    "    --bucketfs-port {conf.BUCKETFS_PORT} \\\n",
    "    --bucketfs-user {conf.BUCKETFS_USER} \\\n",
    "    --bucketfs-password {conf.BUCKETFS_PASSWORD} \\\n",
    "    --bucket {conf.BUCKETFS_BUCKET} \\\n",
    "    --path-in-bucket {conf.BFS_DIR} \\\n",
    "    --model-name {MODEL_NAME}  \\\n",
    "    --sub-dir {conf.TE_MODELS_DIR} \\\n",
    "    --local-model-path {conf.TE_MODELS_CACHE_DIR}\n",
    "    \"\"\"\n",
    "!{upload_command}"
   ]
  },
  {
   "cell_type": "code",
   "execution_count": 26,
   "id": "7d96886e-d7ca-4b78-b192-b38bf37f0796",
   "metadata": {},
   "outputs": [],
   "source": [
    "MY_TEXT = 'We all live in a yellow submarine'\n",
    "\n",
    "# Make sure our text can be used in an SQL statement.\n",
    "MY_TEXT = MY_TEXT.replace(\"'\", \"''\")"
   ]
  },
  {
   "cell_type": "code",
   "execution_count": null,
   "id": "1ed978b7-e610-4989-8185-9f32e98c1649",
   "metadata": {},
   "outputs": [],
   "source": [
    "# BLOCKED BY THE ABSENCE OF THE sacremoses TOKENIZER IN THE SLC\n",
    "%%sql\n",
    "SELECT TE_TRANSLATION_UDF(\n",
    "    NULL,\n",
    "    '{{conf.BFS_CONN}}',\n",
    "    NULL,\n",
    "    '{{conf.TE_MODELS_DIR}}',\n",
    "    '{{MODEL_NAME}}',\n",
    "    '{{MY_TEXT}}',\n",
    "    '',\n",
    "    '',\n",
    "    0\n",
    ")"
   ]
  },
  {
   "cell_type": "code",
   "execution_count": null,
   "id": "55077fac-070a-4ab8-8752-84c99410abb4",
   "metadata": {},
   "outputs": [],
   "source": []
  }
 ],
 "metadata": {
  "kernelspec": {
   "display_name": "Python 3 (ipykernel)",
   "language": "python",
   "name": "python3"
  },
  "language_info": {
   "codemirror_mode": {
    "name": "ipython",
    "version": 3
   },
   "file_extension": ".py",
   "mimetype": "text/x-python",
   "name": "python",
   "nbconvert_exporter": "python",
   "pygments_lexer": "ipython3",
   "version": "3.8.10"
  }
 },
 "nbformat": 4,
 "nbformat_minor": 5
}
