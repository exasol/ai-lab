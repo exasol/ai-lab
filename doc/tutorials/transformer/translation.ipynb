{
 "cells": [
  {
   "cell_type": "markdown",
   "id": "1e0418df-fcce-493b-aa45-ee4e339e51f5",
   "metadata": {},
   "source": [
    "# Translation model\n",
    "\n",
    "In this notebook we will load and use a language translation model. Learn more about the Translation task <a href=\"https://huggingface.co/tasks/translation\" target=\"_blank\" rel=\"noopener\">here</a>.\n",
    "\n",
    "We will be running SQL queries using <a href=\"https://jupysql.ploomber.io/en/latest/quick-start.html\" target=\"_blank\" rel=\"noopener\"> JupySQL</a> SQL Magic.\n",
    "\n",
    "## Prerequisites\n",
    "\n",
    "Prior to using this notebook one needs to complete the follow steps:\n",
    "1. [Configure the sandbox](../sendbox_config.ipynb).\n",
    "2. [Initialize the Transformer Extension](te_init.ipynb).\n",
    "\n",
    "## Set up"
   ]
  },
  {
   "cell_type": "code",
   "execution_count": 1,
   "id": "91b9f7ee-524a-428b-aad8-ee3d4a009940",
   "metadata": {},
   "outputs": [],
   "source": [
    "#TODO: start using the secret store.\n",
    "\n",
    "from collections import UserDict\n",
    "\n",
    "class Secrets(UserDict):\n",
    "    \"\"\"This class mimics the Secret Store we will start using soon.\"\"\"\n",
    "\n",
    "    def save(self, key: str, value: str) -> \"Secrets\":\n",
    "        self[key] = value\n",
    "        return self\n",
    "\n",
    "# For now just hardcode the configuration.\n",
    "sb_config = Secrets({\n",
    "    'EXTERNAL_HOST_NAME': '192.168.124.93',\n",
    "    'HOST_PORT': '8888',\n",
    "    'USER': 'sys',\n",
    "    'PASSWORD': 'exasol',\n",
    "    'BUCKETFS_PORT': '6666',\n",
    "    'BUCKETFS_USER': 'w',\n",
    "    'BUCKETFS_PASSWORD': 'write',\n",
    "    'BUCKETFS_USE_HTTPS': 'False',\n",
    "    'BUCKETFS_SERVICE': 'bfsdefault',\n",
    "    'BUCKETFS_BUCKET': 'default',\n",
    "    'SCRIPT_LANGUAGE_NAME': 'PYTHON3_60',\n",
    "    'UDF_FLAVOR': 'python3-ds-EXASOL-6.0.0',\n",
    "    'UDF_RELEASE': '20190116',\n",
    "    'UDF_CLIENT': 'exaudfclient_py3',\n",
    "    'SCHEMA': 'IDA',\n",
    "    'TE_TOKEN': '',\n",
    "    'TE_TOKEN_CONN': '',\n",
    "    'TE_BFS_CONN': 'MyBFSConn',\n",
    "    'TE_BFS_DIR': 'my_storage',\n",
    "    'TE_MODELS_BFS_DIR': 'models',\n",
    "    'TE_MODELS_CACHE_DIR': 'models_cache'\n",
    "})\n",
    "\n",
    "EXTERNAL_HOST = f\"{sb_config.get('EXTERNAL_HOST_NAME')}:{sb_config.get('HOST_PORT')}\"\n",
    "WEBSOCKET_URL = f\"exa+websocket://{sb_config.get('USER')}:{sb_config.get('PASSWORD')}\" \\\n",
    "    f\"@{EXTERNAL_HOST}/{sb_config.get('SCHEMA')}?SSLCertificate=SSL_VERIFY_NONE\""
   ]
  },
  {
   "cell_type": "markdown",
   "id": "bd2d0acf-fd51-4b61-aeb5-e72b1f4be101",
   "metadata": {},
   "source": [
    "Let's bring up JupySQL and connect to the database via SQLAlchemy. \n",
    "Please refer to the documentation in the [sqlalchemy-exasol](https://github.com/exasol/sqlalchemy-exasol) for details on how to connect to the database using Exasol SQLAlchemy driver."
   ]
  },
  {
   "cell_type": "code",
   "execution_count": 2,
   "id": "48b6a5bb-a1a6-4945-99a8-21fbdbc39392",
   "metadata": {},
   "outputs": [],
   "source": [
    "from sqlalchemy import create_engine\n",
    "\n",
    "engine = create_engine(WEBSOCKET_URL)\n",
    "\n",
    "%load_ext sql\n",
    "%sql engine"
   ]
  },
  {
   "cell_type": "markdown",
   "id": "7dd67dae-b65e-4d57-8a98-2baa07c18c9a",
   "metadata": {},
   "source": [
    "## Get language model\n",
    "\n",
    "To demonstrate the translation task we will use [Facebook WMT19 English-German model](https://huggingface.co/facebook/wmt19-en-de).\n",
    "\n",
    "We need to load the model from the Huggingface hub into the BucketFS. This could potentially be a long process. Unfortunately we cannot tell exactly when it has finished. Notebook's hourglass may not be a reliable indicator. BucketFS will still be doing some work when the call issued by the notebook returns. Please wait for few moments after that, before querying the model."
   ]
  },
  {
   "cell_type": "code",
   "execution_count": 3,
   "id": "db9dd34a-ff4e-44dc-9990-dd50f4be06d6",
   "metadata": {},
   "outputs": [],
   "source": [
    "# This is the name of the model at the Huggingface Hub\n",
    "MODEL_NAME = 'facebook/wmt19-en-de'"
   ]
  },
  {
   "cell_type": "code",
   "execution_count": null,
   "id": "50a8cc23-bba5-4497-8947-9adc8c83a76c",
   "metadata": {},
   "outputs": [],
   "source": [
    "%run ./model_retrieval.ipynb\n",
    "load_huggingface_model(MODEL_NAME, sb_config)"
   ]
  },
  {
   "cell_type": "markdown",
   "id": "f0565708-0605-4cda-b45d-592cb43207e9",
   "metadata": {},
   "source": [
    "## Use language model\n",
    "\n",
    "We will now translate some text from English to German."
   ]
  },
  {
   "cell_type": "code",
   "execution_count": 5,
   "id": "7d96886e-d7ca-4b78-b192-b38bf37f0796",
   "metadata": {},
   "outputs": [],
   "source": [
    "# Here is the text in English\n",
    "MY_TEXT = 'We all live in a yellow submarine'\n",
    "\n",
    "# Make sure our text can be used in an SQL statement.\n",
    "MY_TEXT = MY_TEXT.replace(\"'\", \"''\")"
   ]
  },
  {
   "cell_type": "code",
   "execution_count": null,
   "id": "1ed978b7-e610-4989-8185-9f32e98c1649",
   "metadata": {},
   "outputs": [],
   "source": [
    "# BLOCKED BY THE ABSENCE OF THE sacremoses TOKENIZER IN THE SLC\n",
    "%%sql\n",
    "SELECT TE_TRANSLATION_UDF(\n",
    "    NULL,\n",
    "    '{{sb_config.get(\"TE_BFS_CONN\")}}',\n",
    "    '{{sb_config.get(\"TE_TOKEN_CONN\")}}',\n",
    "    '{{sb_config.get(\"TE_MODELS_BFS_DIR\")}}',\n",
    "    '{{MODEL_NAME}}',\n",
    "    '{{MY_TEXT}}',\n",
    "    '',\n",
    "    '',\n",
    "    0\n",
    ")"
   ]
  },
  {
   "cell_type": "code",
   "execution_count": null,
   "id": "55077fac-070a-4ab8-8752-84c99410abb4",
   "metadata": {},
   "outputs": [],
   "source": []
  }
 ],
 "metadata": {
  "kernelspec": {
   "display_name": "Python 3 (ipykernel)",
   "language": "python",
   "name": "python3"
  },
  "language_info": {
   "codemirror_mode": {
    "name": "ipython",
    "version": 3
   },
   "file_extension": ".py",
   "mimetype": "text/x-python",
   "name": "python",
   "nbconvert_exporter": "python",
   "pygments_lexer": "ipython3",
   "version": "3.8.10"
  }
 },
 "nbformat": 4,
 "nbformat_minor": 5
}
