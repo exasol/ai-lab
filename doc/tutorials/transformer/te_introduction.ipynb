{
 "cells": [
  {
   "cell_type": "markdown",
   "id": "6d15b185-49e1-489a-b8be-78d1ad3c67bc",
   "metadata": {},
   "source": [
    "# Introduction\n",
    "\n",
    "This set of notebooks demonstrates the functionality of the Exasol Transformer Extension. The extension allows the use of a pre-trained NLP model that can be found at the Haggingface Model Hub. It consists of a number of UDF and Lua scripts. The scripts can be uploaded into the database using a Python library.\n",
    "\n",
    "For more information, please refer to the Transformer Extension <a href=\"https://github.com/exasol/transformers-extension/blob/main/doc/user_guide/user_guide.md\" target=\"_blank\" rel=\"noopener\">User Guide</a>.\n",
    "\n",
    "## Prerequisites\n",
    "\n",
    "Before using this notebook the following steps need to be completed:\n",
    "1. [Configure the sandbox](../sandbox_config.ipynb).\n",
    "\n",
    "## Setup\n",
    "\n",
    "Please start with the [Extension Initialization](./te_init.ipynb) page.\n",
    "\n",
    "## NLP Tasks\n",
    "\n",
    "The Extension provides the following NLP tasks:\n",
    "\n",
    "* [Sequence Classification](./sequence_classification.ipynb)\n",
    "* [Question Answering](./question_answering.ipynb)\n",
    "* [Masked Language Modelling](./masked_modelling.ipynb)\n",
    "* [Text Generation](./text_generation.ipynb)\n",
    "* [Token Classification](./token_classification.ipynb)\n",
    "* [Text Translation](./translation.ipynb)\n",
    "* [Zero-Shot Text Classification](zero_shot_classification.ipynb)"
   ]
  },
  {
   "cell_type": "code",
   "execution_count": null,
   "id": "a23ef016-549b-4197-a07e-95da58fd7b4c",
   "metadata": {},
   "outputs": [],
   "source": []
  }
 ],
 "metadata": {
  "kernelspec": {
   "display_name": "Python 3 (ipykernel)",
   "language": "python",
   "name": "python3"
  },
  "language_info": {
   "codemirror_mode": {
    "name": "ipython",
    "version": 3
   },
   "file_extension": ".py",
   "mimetype": "text/x-python",
   "name": "python",
   "nbconvert_exporter": "python",
   "pygments_lexer": "ipython3",
   "version": "3.8.10"
  }
 },
 "nbformat": 4,
 "nbformat_minor": 5
}
