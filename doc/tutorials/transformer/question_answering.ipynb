{
 "cells": [
  {
   "cell_type": "markdown",
   "id": "0faec19c-8e4f-4ae8-8772-38dcca47d9e4",
   "metadata": {},
   "source": [
    "# Question answering model\n",
    "\n",
    "In this notebook we will load and use a question answering language model that can retrieve the answer to a question from a given text. Learn more about the Question Answering task <a href=\"https://huggingface.co/tasks/question-answering\" target=\"_blank\" rel=\"noopener\">here</a>.\n",
    "\n",
    "We will be running SQL queries using <a href=\"https://jupysql.ploomber.io/en/latest/quick-start.html\" target=\"_blank\" rel=\"noopener\"> JupySQL</a> SQL Magic.\n",
    "\n",
    "## Prerequisites\n",
    "\n",
    "Prior to using this notebook one needs to complete the follow steps:\n",
    "1. [Configure the sandbox](../sendbox_config.ipynb).\n",
    "2. [Initialize the Transformer Extension](te_init.ipynb).\n",
    "\n",
    "## Set up"
   ]
  },
  {
   "cell_type": "code",
   "execution_count": 22,
   "id": "a28bb232-38d5-445a-9e7a-6f72e80bc2cc",
   "metadata": {},
   "outputs": [],
   "source": [
    "#TODO: start using the secret store.\n",
    "\n",
    "from collections import UserDict\n",
    "\n",
    "class Secrets(UserDict):\n",
    "    \"\"\"This class mimics the Secret Store we will start using soon.\"\"\"\n",
    "\n",
    "    def save(self, key: str, value: str) -> \"Secrets\":\n",
    "        self[key] = value\n",
    "        return self\n",
    "\n",
    "# For now just hardcode the configuration.\n",
    "sb_config = Secrets({\n",
    "    'EXTERNAL_HOST_NAME': '192.168.124.93',\n",
    "    'HOST_PORT': '8888',\n",
    "    'USER': 'sys',\n",
    "    'PASSWORD': 'exasol',\n",
    "    'BUCKETFS_PORT': '6666',\n",
    "    'BUCKETFS_USER': 'w',\n",
    "    'BUCKETFS_PASSWORD': 'write',\n",
    "    'BUCKETFS_USE_HTTPS': 'False',\n",
    "    'BUCKETFS_SERVICE': 'bfsdefault',\n",
    "    'BUCKETFS_BUCKET': 'default',\n",
    "    'SCRIPT_LANGUAGE_NAME': 'PYTHON3_60',\n",
    "    'UDF_FLAVOR': 'python3-ds-EXASOL-6.0.0',\n",
    "    'UDF_RELEASE': '20190116',\n",
    "    'UDF_CLIENT': 'exaudfclient_py3',\n",
    "    'SCHEMA': 'IDA',\n",
    "    'TE_TOKEN': '',\n",
    "    'TE_TOKEN_CONN': '',\n",
    "    'TE_BFS_CONN': 'MyBFSConn',\n",
    "    'TE_BFS_DIR': 'my_storage',\n",
    "    'TE_MODELS_BFS_DIR': 'models',\n",
    "    'TE_MODELS_CACHE_DIR': 'models_cache'\n",
    "})\n",
    "\n",
    "EXTERNAL_HOST = f\"{sb_config.get('EXTERNAL_HOST_NAME')}:{sb_config.get('HOST_PORT')}\"\n",
    "WEBSOCKET_URL = f\"exa+websocket://{sb_config.get('USER')}:{sb_config.get('PASSWORD')}\" \\\n",
    "    f\"@{EXTERNAL_HOST}/{sb_config.get('SCHEMA')}?SSLCertificate=SSL_VERIFY_NONE\""
   ]
  },
  {
   "cell_type": "markdown",
   "id": "cd5e24a7-ecde-42cb-bdff-7df4fc4f5c84",
   "metadata": {},
   "source": [
    "Let's bring up JupySQL and connect to the database via SQLAlchemy. Please refer to the documentation in the <a href=\"https://github.com/exasol/sqlalchemy-exasol\" target=\"_blank\" rel=\"noopener\">sqlalchemy-exasol</a> for details on how to connect to the database using Exasol SQLAlchemy driver."
   ]
  },
  {
   "cell_type": "code",
   "execution_count": null,
   "id": "13fa8443-17f5-4f75-8c2a-3a86d13d7911",
   "metadata": {},
   "outputs": [],
   "source": [
    "from sqlalchemy import create_engine\n",
    "\n",
    "engine = create_engine(WEBSOCKET_URL)\n",
    "\n",
    "%load_ext sql\n",
    "%sql engine"
   ]
  },
  {
   "cell_type": "markdown",
   "id": "b60ef68c-3556-4742-91b9-836b31699e4c",
   "metadata": {},
   "source": [
    "## Get language model\n",
    "\n",
    "To demonstrate the question answering task we will use the [roberta model](https://huggingface.co/deepset/roberta-base-squad2).\n",
    "\n",
    "We need to load the model from the Huggingface hub into the BucketFS. This could potentially be a long process. Unfortunately we cannot tell exactly when it has finished. Notebook's hourglass may not be a reliable indicator. BucketFS will still be doing some work when the call issued by the notebook returns. Please wait for few moments after that, before querying the model."
   ]
  },
  {
   "cell_type": "code",
   "execution_count": 4,
   "id": "6244f4ff-5054-486c-86ef-4f2389744ed9",
   "metadata": {},
   "outputs": [],
   "source": [
    "# This is the name of the model at the Huggingface Hub\n",
    "MODEL_NAME = 'deepset/roberta-base-squad2'"
   ]
  },
  {
   "cell_type": "code",
   "execution_count": 24,
   "id": "823b02ed-c50e-4908-a9de-7b358b449e8d",
   "metadata": {},
   "outputs": [],
   "source": [
    "%run ./model_retrieval.ipynb\n",
    "load_huggingface_model(MODEL_NAME, sb_config)"
   ]
  },
  {
   "cell_type": "markdown",
   "id": "3122d4bf-4942-4ee1-a73f-3f61ac46c4af",
   "metadata": {},
   "source": [
    "## Use language model"
   ]
  },
  {
   "cell_type": "code",
   "execution_count": 25,
   "id": "ccf3eb8d-6fcf-4d49-ba5f-0b8488aa7b0d",
   "metadata": {},
   "outputs": [],
   "source": [
    "# This will be our question\n",
    "TEST_QUESTION = 'What bitumen is used for?'\n",
    "\n",
    "# Let's first try it first with the following context\n",
    "TEST_CONTEXT1 = \"\"\"\n",
    "Apart from stylish design features of new flat roofs, the other thing that’s moved on considerably is the technology\n",
    "used to keep them weather-proof. Once flat roofs were notoriously prone to leaking and the problem could only be solved\n",
    "with a boiling cauldron of tar. These days there are patch repair kits, liquid rubber membranes and even quick,\n",
    "efficient waterproofing paint that last for ages – and can even be applied in damp weather.\n",
    "\"\"\"\n",
    "\n",
    "# Make sure our texts can be used in an SQL statement.\n",
    "TEST_QUESTION = TEST_QUESTION.replace(\"'\", \"''\")\n",
    "TEST_CONTEXT1 = TEST_CONTEXT1.replace(\"'\", \"''\")\n",
    "\n",
    "# We will collect 5 best answers."
   ]
  },
  {
   "cell_type": "code",
   "execution_count": null,
   "id": "346b1b8a-b1aa-4bea-b351-83b8ee6ab7b7",
   "metadata": {},
   "outputs": [],
   "source": [
    "%%sql\n",
    "WITH MODEL_OUTPUT AS\n",
    "(\n",
    "    SELECT TE_QUESTION_ANSWERING_UDF(\n",
    "        NULL,\n",
    "        '{{sb_config.get(\"TE_BFS_CONN\")}}',\n",
    "        '{{sb_config.get(\"TE_TOKEN_CONN\")}}',\n",
    "        '{{sb_config.get(\"TE_MODELS_BFS_DIR\")}}',\n",
    "        '{{MODEL_NAME}}',\n",
    "        '{{TEST_QUESTION}}',\n",
    "        '{{TEST_CONTEXT1}}',\n",
    "        5\n",
    "    )\n",
    ")\n",
    "SELECT answer, score, error_message FROM MODEL_OUTPUT ORDER BY SCORE DESC"
   ]
  },
  {
   "cell_type": "markdown",
   "id": "061139b0-2f3c-41c5-8176-d83789cb39e5",
   "metadata": {},
   "source": [
    "Let's change the context and see a different set of answers."
   ]
  },
  {
   "cell_type": "code",
   "execution_count": 27,
   "id": "0787b6ac-f3db-4971-b010-0eac38bd1921",
   "metadata": {},
   "outputs": [],
   "source": [
    "# New context\n",
    "TEST_CONTEXT2 = \"\"\"\n",
    "You can make a wooden planter in a day, using treated timber. Simply work out how big an area you need,\n",
    "cut the wood to size and follow our steps to putting the planter together. Make sure your wooden planter\n",
    "has drainage holes, so plants don’t become waterlogged.\n",
    "\"\"\"\n",
    "\n",
    "TEST_CONTEXT2 = TEST_CONTEXT2.replace(\"'\", \"''\")"
   ]
  },
  {
   "cell_type": "code",
   "execution_count": null,
   "id": "07b71013-b0ae-44c9-a299-ade8e307213c",
   "metadata": {},
   "outputs": [],
   "source": [
    "%%sql\n",
    "WITH MODEL_OUTPUT AS\n",
    "(\n",
    "    SELECT TE_QUESTION_ANSWERING_UDF(\n",
    "        NULL,\n",
    "        '{{sb_config.get(\"TE_BFS_CONN\")}}',\n",
    "        '{{sb_config.get(\"TE_TOKEN_CONN\")}}',\n",
    "        '{{sb_config.get(\"TE_MODELS_BFS_DIR\")}}',\n",
    "        '{{MODEL_NAME}}',\n",
    "        '{{TEST_QUESTION}}',\n",
    "        '{{TEST_CONTEXT2}}',\n",
    "        5\n",
    "    )\n",
    ")\n",
    "SELECT answer, score, error_message FROM MODEL_OUTPUT ORDER BY SCORE DESC"
   ]
  },
  {
   "cell_type": "code",
   "execution_count": null,
   "id": "83e81353-d82c-44a5-8275-cf7970a65bfc",
   "metadata": {},
   "outputs": [],
   "source": []
  }
 ],
 "metadata": {
  "kernelspec": {
   "display_name": "Python 3 (ipykernel)",
   "language": "python",
   "name": "python3"
  },
  "language_info": {
   "codemirror_mode": {
    "name": "ipython",
    "version": 3
   },
   "file_extension": ".py",
   "mimetype": "text/x-python",
   "name": "python",
   "nbconvert_exporter": "python",
   "pygments_lexer": "ipython3",
   "version": "3.8.10"
  }
 },
 "nbformat": 4,
 "nbformat_minor": 5
}
