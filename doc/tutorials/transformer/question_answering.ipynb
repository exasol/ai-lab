{
 "cells": [
  {
   "cell_type": "markdown",
   "id": "0faec19c-8e4f-4ae8-8772-38dcca47d9e4",
   "metadata": {},
   "source": [
    "In this notebook we will load and use a question answering language model that can retrieve the answer to a question from a given text. Learn more about the Question Answering task <a href=\"https://huggingface.co/tasks/question-answering\" target=\"_blank\" rel=\"noopener\">here</a>.\n",
    "\n",
    "We will be running SQL queries using <a href=\"https://jupysql.ploomber.io/en/latest/quick-start.html\" target=\"_blank\" rel=\"noopener\"> JupySQL</a> SQL Magic.\n",
    "\n",
    "Prior to using this notebook one needs to complete the follow steps:\n",
    "1. [Create the database schema](../setup_db.ipynb).\n",
    "2. [Initialize the Transformer Extension](te_init.ipynb)."
   ]
  },
  {
   "cell_type": "code",
   "execution_count": 5,
   "id": "a28bb232-38d5-445a-9e7a-6f72e80bc2cc",
   "metadata": {},
   "outputs": [],
   "source": [
    "# TODO: Move this to a separate configuration notebook. Here we just need to load this configuration from a store.\n",
    "from dataclasses import dataclass\n",
    "\n",
    "@dataclass\n",
    "class SandboxConfig:\n",
    "    EXTERNAL_HOST_NAME = \"192.168.124.93\"\n",
    "    HOST_PORT = \"8888\"\n",
    "\n",
    "    @property\n",
    "    def EXTERNAL_HOST(self):\n",
    "        return f\"\"\"{self.EXTERNAL_HOST_NAME}:{self.HOST_PORT}\"\"\"\n",
    "\n",
    "    USER = \"sys\"\n",
    "    PASSWORD = \"exasol\"\n",
    "    BUCKETFS_PORT = \"6666\"\n",
    "    BUCKETFS_USER = \"w\"\n",
    "    BUCKETFS_PASSWORD = \"write\"\n",
    "    BUCKETFS_USE_HTTPS = False\n",
    "    BUCKETFS_SERVICE = \"bfsdefault\"\n",
    "    BUCKETFS_BUCKET = \"default\"\n",
    "\n",
    "    @property\n",
    "    def EXTERNAL_BUCKETFS_HOST(self):\n",
    "        return f\"\"\"{self.EXTERNAL_HOST_NAME}:{self.BUCKETFS_PORT}\"\"\"\n",
    "\n",
    "    @property\n",
    "    def BUCKETFS_URL_PREFIX(self):\n",
    "        return \"https://\" if self.BUCKETFS_USE_HTTPS else \"http://\"\n",
    "\n",
    "    @property\n",
    "    def BUCKETFS_PATH(self):\n",
    "        # Filesystem-Path to the read-only mounted BucketFS inside the running UDF Container\n",
    "        return f\"/buckets/{self.BUCKETFS_SERVICE}/{self.BUCKETFS_BUCKET}\"\n",
    "\n",
    "    SCRIPT_LANGUAGE_NAME = \"PYTHON3_60\"\n",
    "    UDF_FLAVOR = \"python3-ds-EXASOL-6.0.0\"\n",
    "    UDF_RELEASE= \"20190116\"\n",
    "    UDF_CLIENT = \"exaudfclient\" # or for newer versions of the flavor exaudfclient_py3\n",
    "    SCHEMA = \"IDA\"\n",
    "\n",
    "    @property\n",
    "    def SCRIPT_LANGUAGES(self):\n",
    "        return f\"\"\"{self.SCRIPT_LANGUAGE_NAME}=localzmq+protobuf:///{self.BUCKETFS_SERVICE}/\n",
    "            {self.BUCKETFS_BUCKET}/{self.UDF_FLAVOR}?lang=python#buckets/{self.BUCKETFS_SERVICE}/\n",
    "            {self.BUCKETFS_BUCKET}/{self.UDF_FLAVOR}/exaudf/{self.UDF_CLIENT}\"\"\";\n",
    "\n",
    "    @property\n",
    "    def connection_params(self):\n",
    "        return {\"dns\": self.EXTERNAL_HOST, \"user\": self.USER, \"password\": self.PASSWORD, \"compression\": True}\n",
    "\n",
    "    @property\n",
    "    def params(self):\n",
    "        return {\n",
    "            \"script_languages\": self.SCRIPT_LANGUAGES,\n",
    "            \"script_language_name\": self.SCRIPT_LANGUAGE_NAME,\n",
    "            \"schema\": self.SCHEMA,\n",
    "            \"BUCKETFS_PORT\": self.BUCKETFS_PORT,\n",
    "            \"BUCKETFS_USER\": self.BUCKETFS_USER,\n",
    "            \"BUCKETFS_PASSWORD\": self.BUCKETFS_PASSWORD,\n",
    "            \"BUCKETFS_USE_HTTPS\": self.BUCKETFS_USE_HTTPS,\n",
    "            \"BUCKETFS_BUCKET\": self.BUCKETFS_BUCKET,\n",
    "            \"BUCKETFS_PATH\": self.BUCKETFS_PATH\n",
    "        }\n",
    "\n",
    "    # Name of the BucketFS connection\n",
    "    BFS_CONN = 'MyBFSConn'\n",
    "\n",
    "    # Name of a sub-directory of the bucket root\n",
    "    BFS_DIR = 'my_storage'\n",
    "\n",
    "    # We will store all models in this sub-directory at BucketFS\n",
    "    TE_MODELS_DIR = 'models'\n",
    "    \n",
    "    # We will save cached model in this sub-directory relative to the current directory on the local machine.\n",
    "    TE_MODELS_CACHE_DIR = 'models_cache'\n",
    "\n",
    "    @property\n",
    "    def WEBSOCKET_URL(self):\n",
    "        return f\"exa+websocket://{self.USER}:{self.PASSWORD}@{self.EXTERNAL_HOST}/{self.SCHEMA}?SSLCertificate=SSL_VERIFY_NONE\"\n",
    "\n",
    "conf = SandboxConfig()"
   ]
  },
  {
   "cell_type": "markdown",
   "id": "cd5e24a7-ecde-42cb-bdff-7df4fc4f5c84",
   "metadata": {},
   "source": [
    "First let's bring up the JupySQL and connect to the database via the SQLAlchemy. Please refer to the documentation in the <a href=\"https://github.com/exasol/sqlalchemy-exasol\" target=\"_blank\" rel=\"noopener\">sqlalchemy-exasol</a> for details on how to connect to the database using Exasol SQLAlchemy driver."
   ]
  },
  {
   "cell_type": "code",
   "execution_count": null,
   "id": "13fa8443-17f5-4f75-8c2a-3a86d13d7911",
   "metadata": {},
   "outputs": [],
   "source": [
    "from sqlalchemy import create_engine\n",
    "\n",
    "engine = create_engine(conf.WEBSOCKET_URL)\n",
    "\n",
    "%load_ext sql\n",
    "%sql engine"
   ]
  },
  {
   "cell_type": "markdown",
   "id": "b60ef68c-3556-4742-91b9-836b31699e4c",
   "metadata": {},
   "source": [
    "Now we will download a model from the Huggingface Hub and put into the BucketFS.\n",
    "\n",
    "There are two ways of doing this.\n",
    "1. Using the `TE_MODEL_DOWNLOADER_UDF` UDF.\n",
    "2. Downloading a model to a local drive and subsequently uploading in into the BucketFS using a CLI.\n",
    "\n",
    "In this notebook we will use the second method.\n",
    "\n",
    "To demonstrate the question answering task we will use a [roberta model](https://huggingface.co/deepset/roberta-base-squad2).\n",
    "This is a public model, therefore the last parameter - the name of the Huggingface token connection - can be an empty string."
   ]
  },
  {
   "cell_type": "code",
   "execution_count": 8,
   "id": "6244f4ff-5054-486c-86ef-4f2389744ed9",
   "metadata": {},
   "outputs": [],
   "source": [
    "# This is the name of the model at the Huggingface Hub\n",
    "MODEL_NAME = 'deepset/roberta-base-squad2'"
   ]
  },
  {
   "cell_type": "code",
   "execution_count": null,
   "id": "ec3e4231-1122-4622-a43a-0545135b0a1e",
   "metadata": {},
   "outputs": [],
   "source": [
    "from transformers import AutoTokenizer, AutoModelForQuestionAnswering\n",
    "\n",
    "tokenizer = AutoTokenizer.from_pretrained(MODEL_NAME, cache_dir=conf.TE_MODELS_CACHE_DIR)\n",
    "model = AutoModelForQuestionAnswering.from_pretrained(MODEL_NAME, cache_dir=conf.TE_MODELS_CACHE_DIR)"
   ]
  },
  {
   "cell_type": "markdown",
   "id": "3122d4bf-4942-4ee1-a73f-3f61ac46c4af",
   "metadata": {},
   "source": [
    "Now we can upload the model into the BucketFS using a command line. Unfortunately we cannot tell exactly when this process has finished. Notebook's hourglass may not be a reliable indicator. BucketFS will still be doing some work when the call issued by the notebook returns. Please wait for few moments after that, before querying the model."
   ]
  },
  {
   "cell_type": "code",
   "execution_count": 9,
   "id": "b6642a83-3f69-4e2f-b1ef-59817faf307c",
   "metadata": {},
   "outputs": [],
   "source": [
    "upload_command = f\"\"\"python -m exasol_transformers_extension.upload_model \\\n",
    "    --bucketfs-name {conf.BUCKETFS_SERVICE} \\\n",
    "    --bucketfs-host {conf.EXTERNAL_HOST_NAME} \\\n",
    "    --bucketfs-port {conf.BUCKETFS_PORT} \\\n",
    "    --bucketfs-user {conf.BUCKETFS_USER} \\\n",
    "    --bucketfs-password {conf.BUCKETFS_PASSWORD} \\\n",
    "    --bucket {conf.BUCKETFS_BUCKET} \\\n",
    "    --path-in-bucket {conf.BFS_DIR} \\\n",
    "    --model-name {MODEL_NAME}  \\\n",
    "    --sub-dir {conf.TE_MODELS_DIR} \\\n",
    "    --local-model-path {conf.TE_MODELS_CACHE_DIR}\n",
    "    \"\"\"\n",
    "!{upload_command}"
   ]
  },
  {
   "cell_type": "code",
   "execution_count": 10,
   "id": "ccf3eb8d-6fcf-4d49-ba5f-0b8488aa7b0d",
   "metadata": {},
   "outputs": [],
   "source": [
    "# This will be our question\n",
    "TEST_QUESTION = 'What bitumen is used for?'\n",
    "\n",
    "# Let's first try it with the following context\n",
    "TEST_CONTEXT1 = \"\"\"\n",
    "Apart from stylish design features of new flat roofs, the other thing that’s moved on considerably is the technology\n",
    "used to keep them weather-proof. Once flat roofs were notoriously prone to leaking and the problem could only be solved\n",
    "with a boiling cauldron of tar. These days there are patch repair kits, liquid rubber membranes and even quick,\n",
    "efficient waterproofing paint that last for ages – and can even be applied in damp weather.\n",
    "\"\"\"\n",
    "\n",
    "# Make sure our texts can be used in an SQL statement.\n",
    "TEST_QUESTION = TEST_QUESTION.replace(\"'\", \"''\")\n",
    "TEST_CONTEXT1 = TEST_CONTEXT1.replace(\"'\", \"''\")\n",
    "\n",
    "# We will collect 5 best answers."
   ]
  },
  {
   "cell_type": "code",
   "execution_count": null,
   "id": "346b1b8a-b1aa-4bea-b351-83b8ee6ab7b7",
   "metadata": {},
   "outputs": [],
   "source": [
    "%%sql\n",
    "WITH MODEL_OUTPUT AS\n",
    "(\n",
    "    SELECT TE_QUESTION_ANSWERING_UDF(\n",
    "        NULL,\n",
    "        '{{conf.BFS_CONN}}',\n",
    "        NULL,\n",
    "        '{{conf.TE_MODELS_DIR}}',\n",
    "        '{{MODEL_NAME}}',\n",
    "        '{{TEST_QUESTION}}',\n",
    "        '{{TEST_CONTEXT1}}',\n",
    "        5\n",
    "    )\n",
    ")\n",
    "SELECT answer, score, error_message FROM MODEL_OUTPUT ORDER BY SCORE DESC"
   ]
  },
  {
   "cell_type": "markdown",
   "id": "061139b0-2f3c-41c5-8176-d83789cb39e5",
   "metadata": {},
   "source": [
    "Let's change the context and see a different set of answers."
   ]
  },
  {
   "cell_type": "code",
   "execution_count": 13,
   "id": "0787b6ac-f3db-4971-b010-0eac38bd1921",
   "metadata": {},
   "outputs": [],
   "source": [
    "# New context\n",
    "TEST_CONTEXT2 = \"\"\"\n",
    "You can make a wooden planter in a day, using treated timber. Simply work out how big an area you need,\n",
    "cut the wood to size and follow our steps to putting the planter together. Make sure your wooden planter\n",
    "has drainage holes, so plants don’t become waterlogged.\n",
    "\"\"\"\n",
    "\n",
    "TEST_CONTEXT2 = TEST_CONTEXT2.replace(\"'\", \"''\")"
   ]
  },
  {
   "cell_type": "code",
   "execution_count": null,
   "id": "07b71013-b0ae-44c9-a299-ade8e307213c",
   "metadata": {},
   "outputs": [],
   "source": [
    "%%sql\n",
    "WITH MODEL_OUTPUT AS\n",
    "(\n",
    "    SELECT TE_QUESTION_ANSWERING_UDF(\n",
    "        NULL,\n",
    "        '{{conf.BFS_CONN}}',\n",
    "        NULL,\n",
    "        '{{conf.TE_MODELS_DIR}}',\n",
    "        '{{MODEL_NAME}}',\n",
    "        '{{TEST_QUESTION}}',\n",
    "        '{{TEST_CONTEXT2}}',\n",
    "        5\n",
    "    )\n",
    ")\n",
    "SELECT answer, score, error_message FROM MODEL_OUTPUT ORDER BY SCORE DESC"
   ]
  },
  {
   "cell_type": "code",
   "execution_count": null,
   "id": "fb7975eb-e339-4164-a636-24b82a382236",
   "metadata": {},
   "outputs": [],
   "source": []
  }
 ],
 "metadata": {
  "kernelspec": {
   "display_name": "Python 3 (ipykernel)",
   "language": "python",
   "name": "python3"
  },
  "language_info": {
   "codemirror_mode": {
    "name": "ipython",
    "version": 3
   },
   "file_extension": ".py",
   "mimetype": "text/x-python",
   "name": "python",
   "nbconvert_exporter": "python",
   "pygments_lexer": "ipython3",
   "version": "3.8.10"
  }
 },
 "nbformat": 4,
 "nbformat_minor": 5
}
