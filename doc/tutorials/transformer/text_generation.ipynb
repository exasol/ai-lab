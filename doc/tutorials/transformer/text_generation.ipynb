{
 "cells": [
  {
   "cell_type": "markdown",
   "id": "b73a1de2-05df-49ab-bec9-897f11dbe9a9",
   "metadata": {},
   "source": [
    "In this notebook we will load and use a generative language model that can produce a continuation for a given text. Learn more about the Text Generation task <a href=\"https://huggingface.co/tasks/text-generation\" target=\"_blank\" rel=\"noopener\">here</a>.\n",
    "\n",
    "We will be using a generic prediction UDF script. To execute queries and load data from Exasol database we will be using the <a href=\"https://github.com/exasol/pyexasol\" target=\"_blank\" rel=\"noopener\">`pyexasol`</a> module.\n",
    "\n",
    "Prior to using this notebook one needs to complete the follow steps:\n",
    "1. [Create the database schema](../setup_db.ipynb).\n",
    "2. [Initialize the Transformer Extension](te_init.ipynb)."
   ]
  },
  {
   "cell_type": "code",
   "execution_count": 34,
   "id": "83b93680-738d-4b70-aa51-117b10d63915",
   "metadata": {},
   "outputs": [],
   "source": [
    "# TODO: Move this to a separate configuration notebook. Here we just need to load this configuration from a store.\n",
    "from dataclasses import dataclass\n",
    "\n",
    "@dataclass\n",
    "class SandboxConfig:\n",
    "    EXTERNAL_HOST_NAME = \"192.168.124.93\"\n",
    "    HOST_PORT = \"8888\"\n",
    "\n",
    "    @property\n",
    "    def EXTERNAL_HOST(self):\n",
    "        return f\"\"\"{self.EXTERNAL_HOST_NAME}:{self.HOST_PORT}\"\"\"\n",
    "\n",
    "    USER = \"sys\"\n",
    "    PASSWORD = \"exasol\"\n",
    "    BUCKETFS_PORT = \"6666\"\n",
    "    BUCKETFS_USER = \"w\"\n",
    "    BUCKETFS_PASSWORD = \"write\"\n",
    "    BUCKETFS_USE_HTTPS = False\n",
    "    BUCKETFS_SERVICE = \"bfsdefault\"\n",
    "    BUCKETFS_BUCKET = \"default\"\n",
    "\n",
    "    @property\n",
    "    def EXTERNAL_BUCKETFS_HOST(self):\n",
    "        return f\"\"\"{self.EXTERNAL_HOST_NAME}:{self.BUCKETFS_PORT}\"\"\"\n",
    "\n",
    "    @property\n",
    "    def BUCKETFS_URL_PREFIX(self):\n",
    "        return \"https://\" if self.BUCKETFS_USE_HTTPS else \"http://\"\n",
    "\n",
    "    @property\n",
    "    def BUCKETFS_PATH(self):\n",
    "        # Filesystem-Path to the read-only mounted BucketFS inside the running UDF Container\n",
    "        return f\"/buckets/{self.BUCKETFS_SERVICE}/{self.BUCKETFS_BUCKET}\"\n",
    "\n",
    "    SCRIPT_LANGUAGE_NAME = \"PYTHON3_60\"\n",
    "    UDF_FLAVOR = \"python3-ds-EXASOL-6.0.0\"\n",
    "    UDF_RELEASE= \"20190116\"\n",
    "    UDF_CLIENT = \"exaudfclient\" # or for newer versions of the flavor exaudfclient_py3\n",
    "    SCHEMA = \"IDA\"\n",
    "\n",
    "    @property\n",
    "    def SCRIPT_LANGUAGES(self):\n",
    "        return f\"\"\"{self.SCRIPT_LANGUAGE_NAME}=localzmq+protobuf:///{self.BUCKETFS_SERVICE}/\n",
    "            {self.BUCKETFS_BUCKET}/{self.UDF_FLAVOR}?lang=python#buckets/{self.BUCKETFS_SERVICE}/\n",
    "            {self.BUCKETFS_BUCKET}/{self.UDF_FLAVOR}/exaudf/{self.UDF_CLIENT}\"\"\";\n",
    "\n",
    "    @property\n",
    "    def connection_params(self):\n",
    "        return {\"dns\": self.EXTERNAL_HOST, \"user\": self.USER, \"password\": self.PASSWORD, \"compression\": True}\n",
    "\n",
    "    @property\n",
    "    def params(self):\n",
    "        return {\n",
    "            \"script_languages\": self.SCRIPT_LANGUAGES,\n",
    "            \"script_language_name\": self.SCRIPT_LANGUAGE_NAME,\n",
    "            \"schema\": self.SCHEMA,\n",
    "            \"BUCKETFS_PORT\": self.BUCKETFS_PORT,\n",
    "            \"BUCKETFS_USER\": self.BUCKETFS_USER,\n",
    "            \"BUCKETFS_PASSWORD\": self.BUCKETFS_PASSWORD,\n",
    "            \"BUCKETFS_USE_HTTPS\": self.BUCKETFS_USE_HTTPS,\n",
    "            \"BUCKETFS_BUCKET\": self.BUCKETFS_BUCKET,\n",
    "            \"BUCKETFS_PATH\": self.BUCKETFS_PATH\n",
    "        }\n",
    "\n",
    "    # Name of the BucketFS connection\n",
    "    BFS_CONN = 'MyBFSConn'\n",
    "\n",
    "    # Name of a sub-directory of the bucket root\n",
    "    BFS_DIR = 'my_storage'\n",
    "\n",
    "    # We will store all models in this sub-directory at BucketFS\n",
    "    TE_MODELS_DIR = 'models'\n",
    "    \n",
    "    # We will save cached model in this sub-directory relative to the current directory on the local machine.\n",
    "    TE_MODELS_CACHE_DIR = 'models_cache'\n",
    "\n",
    "conf = SandboxConfig()"
   ]
  },
  {
   "cell_type": "markdown",
   "id": "6d11a1d4-051d-4d21-990a-660beaeb8f0c",
   "metadata": {},
   "source": [
    "First we need to download a model from the Huggingface Hub and put into the BucketFS.\n",
    "\n",
    "There are two ways of doing this.\n",
    "1. Using the `TE_MODEL_DOWNLOADER_UDF` UDF.\n",
    "2. Downloading a model to a local drive and subsequently uploading in into the BucketFS using a CLI.\n",
    "\n",
    "In this notebook we will use the second method.\n",
    "\n",
    "To demonstrate the text generation task we will use [Open Pretrained Transformers (OPT)](https://huggingface.co/facebook/opt-125m), a decoder-only pre-trained transformer from Facebook.\n",
    "\n",
    "This is a public model, therefore the last parameter - the name of the Huggingface token connection - can be an empty string."
   ]
  },
  {
   "cell_type": "code",
   "execution_count": 36,
   "id": "d73c9b44-93a0-4df3-9a8e-54e182027d61",
   "metadata": {},
   "outputs": [],
   "source": [
    "# This is the name of the model at the Huggingface Hub\n",
    "MODEL_NAME = 'facebook/opt-125m'"
   ]
  },
  {
   "cell_type": "code",
   "execution_count": null,
   "id": "57029a52-064b-4fda-80bf-289cce50ffc4",
   "metadata": {},
   "outputs": [],
   "source": [
    "from transformers import AutoTokenizer, AutoModelForSeq2SeqLM\n",
    "\n",
    "tokenizer = AutoTokenizer.from_pretrained(MODEL_NAME, cache_dir=conf.TE_MODELS_CACHE_DIR)\n",
    "model = AutoModelForSeq2SeqLM.from_pretrained(MODEL_NAME, cache_dir=conf.TE_MODELS_CACHE_DIR)"
   ]
  },
  {
   "cell_type": "markdown",
   "id": "6cf6786e-1883-4ff7-8014-338e9cdedc19",
   "metadata": {},
   "source": [
    "Now we can upload the model into the BucketFS using a command line. Unfortunately we cannot tell exactly when this process has finished. Notebook's hourglass may not be a reliable indicator. BucketFS will still be doing some work when the call issued by the notebook returns. Please wait for few moments after that, before querying the model."
   ]
  },
  {
   "cell_type": "code",
   "execution_count": 23,
   "id": "20b28eb8-0900-42be-96c3-94344abdcbc5",
   "metadata": {},
   "outputs": [],
   "source": [
    "upload_command = f\"\"\"python -m exasol_transformers_extension.upload_model \\\n",
    "    --bucketfs-name {conf.BUCKETFS_SERVICE} \\\n",
    "    --bucketfs-host {conf.EXTERNAL_HOST_NAME} \\\n",
    "    --bucketfs-port {conf.BUCKETFS_PORT} \\\n",
    "    --bucketfs-user {conf.BUCKETFS_USER} \\\n",
    "    --bucketfs-password {conf.BUCKETFS_PASSWORD} \\\n",
    "    --bucket {conf.BUCKETFS_BUCKET} \\\n",
    "    --path-in-bucket {conf.BFS_DIR} \\\n",
    "    --model-name {MODEL_NAME}  \\\n",
    "    --sub-dir {conf.TE_MODELS_DIR} \\\n",
    "    --local-model-path {conf.TE_MODELS_CACHE_DIR}\n",
    "    \"\"\"\n",
    "!{upload_command}"
   ]
  },
  {
   "cell_type": "markdown",
   "id": "b4efa927-aa78-4b80-9b78-25e722904217",
   "metadata": {},
   "source": [
    "Let's put the start of our conversation in a variable."
   ]
  },
  {
   "cell_type": "code",
   "execution_count": 1,
   "id": "aa3998b7-d886-4b0c-b0d2-92e54cc27b91",
   "metadata": {},
   "outputs": [],
   "source": [
    "MY_TEXT = 'The bar-headed goose can fly at much'\n",
    "\n",
    "# Make sure our texts can be used in an SQL statement.\n",
    "MY_TEXT = MY_TEXT.replace(\"'\", \"''\")"
   ]
  },
  {
   "cell_type": "code",
   "execution_count": 3,
   "id": "56498899-79f8-471e-8337-983184dcd513",
   "metadata": {},
   "outputs": [],
   "source": [
    "# Let's put a limit on the length of text the model can generate in one call.\n",
    "# The limit is specified in the number of characters.\n",
    "MAX_LENGTH = 30"
   ]
  },
  {
   "cell_type": "markdown",
   "id": "27b1dd67-ffed-4bf8-9ee7-a1e003cdbcc6",
   "metadata": {},
   "source": [
    "We will be updating this variable at every call to the model.\n",
    "Please run the next cell multiple times to see how the text evolves."
   ]
  },
  {
   "cell_type": "code",
   "execution_count": null,
   "id": "cc21bb8f-29e4-4718-b01a-ec3fafffeee0",
   "metadata": {},
   "outputs": [],
   "source": [
    "import pyexasol\n",
    "\n",
    "sql = f\"\"\"\n",
    "SELECT {conf.SCHEMA}.TE_TEXT_GENERATION_UDF(\n",
    "    NULL,\n",
    "    '{conf.BFS_CONN}',\n",
    "    NULL,\n",
    "    '{conf.TE_MODELS_DIR}',\n",
    "    '{MODEL_NAME}',\n",
    "    '{MY_TEXT}',\n",
    "    {MAX_LENGTH},\n",
    "    True\n",
    ")\n",
    "\"\"\"\n",
    "\n",
    "with pyexasol.connect(dsn=conf.EXTERNAL_HOST, user=conf.USER, password=conf.PASSWORD, compression=True) as conn:\n",
    "    result = conn.export_to_pandas(query_or_table=sql, query_params=conf.params).squeeze()\n",
    "    MY_TEXT = result['GENERATED_TEXT']\n",
    "    # The error can be observed at result['ERROR_MESSAGE']\n",
    "\n",
    "print(MY_TEXT)\n",
    "MY_TEXT = MY_TEXT.replace(\"'\", \"''\")"
   ]
  }
 ],
 "metadata": {
  "kernelspec": {
   "display_name": "Python 3 (ipykernel)",
   "language": "python",
   "name": "python3"
  },
  "language_info": {
   "codemirror_mode": {
    "name": "ipython",
    "version": 3
   },
   "file_extension": ".py",
   "mimetype": "text/x-python",
   "name": "python",
   "nbconvert_exporter": "python",
   "pygments_lexer": "ipython3",
   "version": "3.8.10"
  }
 },
 "nbformat": 4,
 "nbformat_minor": 5
}
