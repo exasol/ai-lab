{
 "cells": [
  {
   "cell_type": "markdown",
   "id": "50507999-7f6c-4ee2-9d21-657f43dbbee8",
   "metadata": {},
   "source": [
    "# Zero-shot classification model\n",
    "\n",
    "In this notebook we will load and use a zero shot classification language model. Learn about the Zero Shot Classification task <a href=\"https://huggingface.co/tasks/zero-shot-classification\" target=\"_blank\" rel=\"noopener\">here</a>.\n",
    "\n",
    "We will be running SQL queries using <a href=\"https://jupysql.ploomber.io/en/latest/quick-start.html\" target=\"_blank\" rel=\"noopener\"> JupySQL</a> SQL Magic.\n",
    "\n",
    "## Prerequisites\n",
    "\n",
    "Prior to using this notebook one needs to complete the follow steps:\n",
    "1. [Configure the sandbox](../sendbox_config.ipynb).\n",
    "2. [Initialize the Transformer Extension](te_init.ipynb).\n",
    "\n",
    "## Set up"
   ]
  },
  {
   "cell_type": "code",
   "execution_count": 23,
   "id": "f5c3c1e2-cd6d-4fa7-b992-01b4099b0a72",
   "metadata": {},
   "outputs": [],
   "source": [
    "#TODO: start using the secret store.\n",
    "\n",
    "from collections import UserDict\n",
    "\n",
    "class Secrets(UserDict):\n",
    "    \"\"\"This class mimics the Secret Store we will start using soon.\"\"\"\n",
    "\n",
    "    def save(self, key: str, value: str) -> \"Secrets\":\n",
    "        self[key] = value\n",
    "        return self\n",
    "\n",
    "# For now just hardcode the configuration.\n",
    "sb_config = Secrets({\n",
    "    'EXTERNAL_HOST_NAME': '192.168.124.93',\n",
    "    'HOST_PORT': '8888',\n",
    "    'USER': 'sys',\n",
    "    'PASSWORD': 'exasol',\n",
    "    'BUCKETFS_PORT': '6666',\n",
    "    'BUCKETFS_USER': 'w',\n",
    "    'BUCKETFS_PASSWORD': 'write',\n",
    "    'BUCKETFS_USE_HTTPS': 'False',\n",
    "    'BUCKETFS_SERVICE': 'bfsdefault',\n",
    "    'BUCKETFS_BUCKET': 'default',\n",
    "    'SCRIPT_LANGUAGE_NAME': 'PYTHON3_60',\n",
    "    'UDF_FLAVOR': 'python3-ds-EXASOL-6.0.0',\n",
    "    'UDF_RELEASE': '20190116',\n",
    "    'UDF_CLIENT': 'exaudfclient_py3',\n",
    "    'SCHEMA': 'IDA',\n",
    "    'TE_TOKEN': '',\n",
    "    'TE_TOKEN_CONN': '',\n",
    "    'TE_BFS_CONN': 'MyBFSConn',\n",
    "    'TE_BFS_DIR': 'my_storage',\n",
    "    'TE_MODELS_BFS_DIR': 'models',\n",
    "    'TE_MODELS_CACHE_DIR': 'models_cache'\n",
    "})\n",
    "\n",
    "EXTERNAL_HOST = f\"{sb_config.get('EXTERNAL_HOST_NAME')}:{sb_config.get('HOST_PORT')}\"\n",
    "WEBSOCKET_URL = f\"exa+websocket://{sb_config.get('USER')}:{sb_config.get('PASSWORD')}\" \\\n",
    "    f\"@{EXTERNAL_HOST}/{sb_config.get('SCHEMA')}?SSLCertificate=SSL_VERIFY_NONE\""
   ]
  },
  {
   "cell_type": "markdown",
   "id": "19c23f14-f56d-45d9-9b58-4c343a54e46c",
   "metadata": {},
   "source": [
    "Let's bring up JupySQL and connect to the database via SQLAlchemy. Please refer to the documentation in the <a href=\"https://github.com/exasol/sqlalchemy-exasol\" target=\"_blank\" rel=\"noopener\">sqlalchemy-exasol</a> for details on how to connect to the database using Exasol SQLAlchemy driver."
   ]
  },
  {
   "cell_type": "code",
   "execution_count": 24,
   "id": "3874261b-9c57-48ef-a4e7-8a47af64fd15",
   "metadata": {},
   "outputs": [
    {
     "name": "stdout",
     "output_type": "stream",
     "text": [
      "The sql extension is already loaded. To reload it, use:\n",
      "  %reload_ext sql\n"
     ]
    }
   ],
   "source": [
    "from sqlalchemy import create_engine\n",
    "\n",
    "engine = create_engine(WEBSOCKET_URL)\n",
    "\n",
    "%load_ext sql\n",
    "%sql engine"
   ]
  },
  {
   "cell_type": "markdown",
   "id": "af7aca6a-5479-41ec-936c-d2cac34b6b11",
   "metadata": {},
   "source": [
    "## Get language model\n",
    "\n",
    "To demonstrate the zero shot classification task we will use the [Cross-Encoder for Natural Language Inference](https://huggingface.co/cross-encoder/nli-deberta-base).\n",
    "\n",
    "We need to load the model from the Huggingface hub into the BucketFS. This could potentially be a long process. Unfortunately we cannot tell exactly when it has finished. Notebook's hourglass may not be a reliable indicator. BucketFS will still be doing some work when the call issued by the notebook returns. Please wait for few moments after that, before querying the model."
   ]
  },
  {
   "cell_type": "code",
   "execution_count": 25,
   "id": "cc473cf7-957b-491c-8925-40e0341ab78a",
   "metadata": {},
   "outputs": [],
   "source": [
    "# This is the name of the model at the Huggingface Hub\n",
    "MODEL_NAME = 'cross-encoder/nli-deberta-base'"
   ]
  },
  {
   "cell_type": "code",
   "execution_count": null,
   "id": "c1d74058-92c2-48ae-b745-5651e32a419a",
   "metadata": {},
   "outputs": [],
   "source": [
    "%run ./model_retrieval.ipynb\n",
    "load_huggingface_model(MODEL_NAME, sb_config)"
   ]
  },
  {
   "cell_type": "markdown",
   "id": "9ae22cbe-92c7-44a1-af67-155cf78de7ac",
   "metadata": {},
   "source": [
    "## Use language model"
   ]
  },
  {
   "cell_type": "code",
   "execution_count": 27,
   "id": "81271ed8-b61e-4aeb-ac9b-6a12d72de897",
   "metadata": {},
   "outputs": [],
   "source": [
    "# Text to be classified.\n",
    "MY_TEXT = \"\"\"\n",
    "A new model offers an explanation for how the Galilean satellites formed around the solar system’s largest world. \n",
    "Konstantin Batygin did not set out to solve one of the solar system’s most puzzling mysteries when he went for a\n",
    "run up a hill in Nice, France. Dr. Batygin, a Caltech researcher, best known for his contributions to the search\n",
    "for the solar system’s missing “Planet Nine,” spotted a beer bottle. At a steep, 20 degree grade, he wondered why\n",
    "it wasn’t rolling down the hill. He realized there was a breeze at his back holding the bottle in place. Then he\n",
    "had a thought that would only pop into the mind of a theoretical astrophysicist: “Oh! This is how Europa formed.”\n",
    "Europa is one of Jupiter’s four large Galilean moons. And in a paper published Monday in the Astrophysical Journal,\n",
    "Dr. Batygin and a co-author, Alessandro Morbidelli, a planetary scientist at the Côte d’Azur Observatory in France,\n",
    "present a theory explaining how some moons form around gas giants like Jupiter and Saturn, suggesting that\n",
    "millimeter-sized grains of hail produced during the solar system’s formation became trapped around these massive\n",
    "worlds, taking shape one at a time into the potentially habitable moons we know today.\n",
    "\"\"\"\n",
    "\n",
    "# Make sure our texts can be used in an SQL statement.\n",
    "MY_TEXT = MY_TEXT.replace(\"'\", \"''\")\n",
    "\n",
    "# Classes, not seen during model training.\n",
    "MY_LABELS = 'space & cosmos, scientific discovery, microbiology, robots, archeology'"
   ]
  },
  {
   "cell_type": "code",
   "execution_count": null,
   "id": "71cabf49-3e4e-4745-bb62-e76e5adeac0b",
   "metadata": {},
   "outputs": [],
   "source": [
    "%%sql\n",
    "WITH MODEL_OUTPUT AS\n",
    "(\n",
    "    SELECT TE_ZERO_SHOT_TEXT_CLASSIFICATION_UDF(\n",
    "        NULL,\n",
    "        '{{sb_config.get(\"TE_BFS_CONN\")}}',\n",
    "        '{{sb_config.get(\"TE_TOKEN_CONN\")}}',\n",
    "        '{{sb_config.get(\"TE_MODELS_BFS_DIR\")}}',\n",
    "        '{{MODEL_NAME}}',\n",
    "        '{{MY_TEXT}}',\n",
    "        '{{MY_LABELS}}'\n",
    "    )\n",
    ")\n",
    "SELECT label, score, error_message FROM MODEL_OUTPUT ORDER BY SCORE DESC"
   ]
  },
  {
   "cell_type": "code",
   "execution_count": null,
   "id": "cb15a19a-e518-4089-8dff-6d56be6867f2",
   "metadata": {},
   "outputs": [],
   "source": []
  }
 ],
 "metadata": {
  "kernelspec": {
   "display_name": "Python 3 (ipykernel)",
   "language": "python",
   "name": "python3"
  },
  "language_info": {
   "codemirror_mode": {
    "name": "ipython",
    "version": 3
   },
   "file_extension": ".py",
   "mimetype": "text/x-python",
   "name": "python",
   "nbconvert_exporter": "python",
   "pygments_lexer": "ipython3",
   "version": "3.8.10"
  }
 },
 "nbformat": 4,
 "nbformat_minor": 5
}
