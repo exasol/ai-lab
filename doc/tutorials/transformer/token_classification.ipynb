{
 "cells": [
  {
   "cell_type": "markdown",
   "id": "150390c4-509d-4c6e-a073-2b24adc6a434",
   "metadata": {},
   "source": [
    "# Token classifier model \n",
    "\n",
    "In this notebook, we will load and use a token classifier language model that assigns labels to some tokens in a text. Learn more about the Question Answering task <a href=\"https://huggingface.co/tasks/token-classification\" target=\"_blank\" rel=\"noopener\">here</a>. Please also refer to the Transformer Extension <a href=\"https://github.com/exasol/transformers-extension/blob/main/doc/user_guide/user_guide.md\" target=\"_blank\" rel=\"noopener\">User Guide</a> to find more information about the UDF used in this notebook.\n",
    "\n",
    "We will be running SQL queries using <a href=\"https://jupysql.ploomber.io/en/latest/quick-start.html\" target=\"_blank\" rel=\"noopener\"> JupySQL</a> SQL Magic.\n",
    "\n",
    "## Prerequisites\n",
    "\n",
    "Prior to using this notebook the following steps need to be completed:\n",
    "1. [Configure the sandbox](../sandbox_config.ipynb).\n",
    "2. [Initialize the Transformer Extension](te_init.ipynb).\n",
    "\n",
    "## Set up\n",
    "\n",
    "### Access configuration"
   ]
  },
  {
   "cell_type": "code",
   "execution_count": null,
   "id": "eda8ef57-9580-415c-8fe5-622ad9f0bbda",
   "metadata": {},
   "outputs": [],
   "source": [
    "%run ../access_store_ui.ipynb\n",
    "display(get_access_store_ui('../'))"
   ]
  },
  {
   "cell_type": "code",
   "execution_count": null,
   "id": "143f942a-1e7a-43d8-8767-b65636742b7b",
   "metadata": {},
   "outputs": [],
   "source": [
    "EXTERNAL_HOST = f\"{sb_config.EXTERNAL_HOST_NAME}:{sb_config.HOST_PORT}\"\n",
    "\n",
    "WEBSOCKET_URL = f\"exa+websocket://{sb_config.USER}:{sb_config.PASSWORD}\" \\\n",
    "    f\"@{EXTERNAL_HOST}/{sb_config.SCHEMA}?SSLCertificate=SSL_VERIFY_NONE\""
   ]
  },
  {
   "cell_type": "markdown",
   "id": "226cfcbf-fef1-47ca-9134-4e9dc6f333a9",
   "metadata": {},
   "source": [
    "Let's bring up JupySQL and connect to the database via SQLAlchemy. Please refer to the documentation of <a href=\"https://github.com/exasol/sqlalchemy-exasol\" target=\"_blank\" rel=\"noopener\">sqlalchemy-exasol</a> for details on how to connect to the database using the Exasol SQLAlchemy driver."
   ]
  },
  {
   "cell_type": "code",
   "execution_count": null,
   "id": "e9193a95-2d8c-4722-ab22-10b75d2c5253",
   "metadata": {},
   "outputs": [],
   "source": [
    "from sqlalchemy import create_engine\n",
    "\n",
    "engine = create_engine(WEBSOCKET_URL)\n",
    "\n",
    "%load_ext sql\n",
    "%sql engine"
   ]
  },
  {
   "cell_type": "markdown",
   "id": "4dfc8b6c-ace2-4f93-8bd1-f0a8ff496413",
   "metadata": {},
   "source": [
    "## Get language model\n",
    "\n",
    "To demonstrate the token classification task we will use an [English Named Entity Recognition model](https://huggingface.co/sschet/biomedical-ner-all), trained on Maccrobat to recognize the bio-medical entities (107 entities) from a given text corpus (case reports, etc.).\n",
    "\n",
    "We need to load the model from the Huggingface hub into the BucketFS. This could potentially be a long process. Unfortunately, we cannot tell exactly when it has finished. The notebook's hourglass may not be a reliable indicator. BucketFS will still be doing some work when the call issued by the notebook returns. Please wait for a few moments after that, before querying the model."
   ]
  },
  {
   "cell_type": "code",
   "execution_count": null,
   "id": "26710f2d-a245-43e8-9ff2-292a60dbb19a",
   "metadata": {},
   "outputs": [],
   "source": [
    "# This is the name of the model at the Huggingface Hub\n",
    "MODEL_NAME = 'sschet/biomedical-ner-all'"
   ]
  },
  {
   "cell_type": "code",
   "execution_count": null,
   "id": "34747971-46a0-4774-93c0-40cea26706fa",
   "metadata": {},
   "outputs": [],
   "source": [
    "%run ./model_retrieval.ipynb\n",
    "load_huggingface_model(MODEL_NAME, sb_config)"
   ]
  },
  {
   "cell_type": "markdown",
   "id": "1581365c-eba7-4c9a-ae67-14543cb78dd2",
   "metadata": {},
   "source": [
    "## Use language model\n",
    "\n",
    "Below is a medical report on a patient examination. In this report, we will be looking for occurrences of recognized entities, such as patient data (e.g. age), symptoms, clinical events, laboratory test results, etc."
   ]
  },
  {
   "cell_type": "code",
   "execution_count": null,
   "id": "59ec8aee-e40f-44e8-b94b-49c374b923f4",
   "metadata": {},
   "outputs": [],
   "source": [
    "# We will display all model output\n",
    "%config SqlMagic.displaylimit = 0"
   ]
  },
  {
   "cell_type": "code",
   "execution_count": null,
   "id": "cc5b5ab6-4481-4b95-bcaa-86ad4da0d6e4",
   "metadata": {},
   "outputs": [],
   "source": [
    "MY_TEXT = \"\"\"\n",
    "A 63-year-old woman with no known cardiac history presented with a sudden onset of dyspnea requiring\n",
    "intubation and ventilatory support out of hospital. She denied preceding symptoms of chest discomfort,\n",
    "palpitations, syncope or infection. The patient was afebrile and normotensive, with a sinus tachycardia\n",
    "of 140 beats/min.\n",
    "\"\"\"\n",
    "\n",
    "# Make sure our texts can be used in an SQL statement.\n",
    "MY_TEXT = MY_TEXT.replace(\"'\", \"''\")"
   ]
  },
  {
   "cell_type": "code",
   "execution_count": null,
   "id": "40242348-7e1d-4a12-94c2-4d185eaa5d40",
   "metadata": {},
   "outputs": [],
   "source": [
    "%%sql\n",
    "WITH MODEL_OUTPUT AS\n",
    "(\n",
    "    SELECT TE_TOKEN_CLASSIFICATION_UDF(\n",
    "        NULL,\n",
    "        '{{sb_config.TE_BFS_CONN}}',\n",
    "        '{{sb_config.TE_TOKEN_CONN}}',\n",
    "        '{{sb_config.TE_MODELS_BFS_DIR}}',\n",
    "        '{{MODEL_NAME}}',\n",
    "        '{{MY_TEXT}}',\n",
    "        NULL\n",
    "    )\n",
    ")\n",
    "SELECT start_pos, end_pos, word, entity, error_message FROM MODEL_OUTPUT ORDER BY start_pos, end_pos"
   ]
  },
  {
   "cell_type": "markdown",
   "id": "e1ae1f3c-5639-4935-9c28-3d8404587882",
   "metadata": {},
   "source": [
    "The code above shows how the model works on a toy example. However, the main purpose of having a model deployed in the database is to get a quick response for a batch input. The performance gain comes from two factors - localization and parallelization. The first means that the input data never crosses the machine boundaries. The second means that multiple instances of the model are processing the data on all available nodes in parallel.\n",
    "\n",
    "Another advantage of making predictions within the database is enhanced data security. The task of safeguarding privacy can be simplified given the fact that the source data never leaves the database machine.\n",
    "\n",
    "In a more practical application, we might want to tokenize text stored in a column of a database table. One possible use case would be collecting statistics of token occurrence in say customer reviews, where each review is stored in a separate row. For example, if the text to be tokenized is stored in the column `MY_TEXT_COLUMN` of the table `MY_TEXT_TABLE` and we want to get the counts of the top 10 tokens, the SQL would look similar to this:\n",
    "```\n",
    "SELECT entity, COUNT(*) as occurrence\n",
    "FROM (\n",
    "    SELECT TE_TOKEN_CLASSIFICATION_UDF(..., MY_TEXT_COLUMN, NULL)\n",
    "    FROM MY_TEXT_TABLE\n",
    ") tokenized \n",
    "GROUP BY entity\n",
    "ORDER BY 2 DESC\n",
    "LIMIT 10;\n",
    "```\n",
    "Please note, that the response time observed on the provided example with a single input will not be scaled up linearly in case of multiple inputs. Much of the latency falls on loading the model into the CPU memory from BucketFS. This needs to be done only once regardless of the number of inputs."
   ]
  },
  {
   "cell_type": "code",
   "execution_count": null,
   "id": "2e103aff-c848-40ab-9f96-429efe845f4e",
   "metadata": {},
   "outputs": [],
   "source": []
  }
 ],
 "metadata": {
  "kernelspec": {
   "display_name": "Python 3 (ipykernel)",
   "language": "python",
   "name": "python3"
  },
  "language_info": {
   "codemirror_mode": {
    "name": "ipython",
    "version": 3
   },
   "file_extension": ".py",
   "mimetype": "text/x-python",
   "name": "python",
   "nbconvert_exporter": "python",
   "pygments_lexer": "ipython3",
   "version": "3.8.10"
  }
 },
 "nbformat": 4,
 "nbformat_minor": 5
}
