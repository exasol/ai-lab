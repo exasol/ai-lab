{
 "cells": [
  {
   "cell_type": "markdown",
   "id": "150390c4-509d-4c6e-a073-2b24adc6a434",
   "metadata": {},
   "source": [
    "# Token classifier model \n",
    "\n",
    "In this notebook we will load and use a token classifier language model that assigns labels to some tokens in a text. Learn more about the Question Answering task <a href=\"https://huggingface.co/tasks/token-classification\" target=\"_blank\" rel=\"noopener\">here</a>.\n",
    "\n",
    "We will be running SQL queries using <a href=\"https://jupysql.ploomber.io/en/latest/quick-start.html\" target=\"_blank\" rel=\"noopener\"> JupySQL</a> SQL Magic.\n",
    "\n",
    "## Prerequisites\n",
    "\n",
    "Prior to using this notebook one needs to complete the follow steps:\n",
    "1. [Configure the sandbox](../sendbox_config.ipynb).\n",
    "2. [Initialize the Transformer Extension](te_init.ipynb).\n",
    "\n",
    "## Set up"
   ]
  },
  {
   "cell_type": "code",
   "execution_count": 1,
   "id": "38d88106-5629-434c-8144-9c74ac4ccda2",
   "metadata": {},
   "outputs": [],
   "source": [
    "#TODO: start using the secret store.\n",
    "\n",
    "from collections import UserDict\n",
    "\n",
    "class Secrets(UserDict):\n",
    "    \"\"\"This class mimics the Secret Store we will start using soon.\"\"\"\n",
    "\n",
    "    def save(self, key: str, value: str) -> \"Secrets\":\n",
    "        self[key] = value\n",
    "        return self\n",
    "\n",
    "# For now just hardcode the configuration.\n",
    "sb_config = Secrets({\n",
    "    'EXTERNAL_HOST_NAME': '192.168.124.93',\n",
    "    'HOST_PORT': '8888',\n",
    "    'USER': 'sys',\n",
    "    'PASSWORD': 'exasol',\n",
    "    'BUCKETFS_PORT': '6666',\n",
    "    'BUCKETFS_USER': 'w',\n",
    "    'BUCKETFS_PASSWORD': 'write',\n",
    "    'BUCKETFS_USE_HTTPS': 'False',\n",
    "    'BUCKETFS_SERVICE': 'bfsdefault',\n",
    "    'BUCKETFS_BUCKET': 'default',\n",
    "    'SCRIPT_LANGUAGE_NAME': 'PYTHON3_60',\n",
    "    'UDF_FLAVOR': 'python3-ds-EXASOL-6.0.0',\n",
    "    'UDF_RELEASE': '20190116',\n",
    "    'UDF_CLIENT': 'exaudfclient_py3',\n",
    "    'SCHEMA': 'IDA',\n",
    "    'TE_TOKEN': '',\n",
    "    'TE_TOKEN_CONN': '',\n",
    "    'TE_BFS_CONN': 'MyBFSConn',\n",
    "    'TE_BFS_DIR': 'my_storage',\n",
    "    'TE_MODELS_BFS_DIR': 'models',\n",
    "    'TE_MODELS_CACHE_DIR': 'models_cache'\n",
    "})\n",
    "\n",
    "EXTERNAL_HOST = f\"{sb_config.get('EXTERNAL_HOST_NAME')}:{sb_config.get('HOST_PORT')}\"\n",
    "WEBSOCKET_URL = f\"exa+websocket://{sb_config.get('USER')}:{sb_config.get('PASSWORD')}\" \\\n",
    "    f\"@{EXTERNAL_HOST}/{sb_config.get('SCHEMA')}?SSLCertificate=SSL_VERIFY_NONE\""
   ]
  },
  {
   "cell_type": "markdown",
   "id": "226cfcbf-fef1-47ca-9134-4e9dc6f333a9",
   "metadata": {},
   "source": [
    "Let's bring up JupySQL and connect to the database via SQLAlchemy. Please refer to the documentation in the <a href=\"https://github.com/exasol/sqlalchemy-exasol\" target=\"_blank\" rel=\"noopener\">sqlalchemy-exasol</a> for details on how to connect to the database using Exasol SQLAlchemy driver."
   ]
  },
  {
   "cell_type": "code",
   "execution_count": 3,
   "id": "e9193a95-2d8c-4722-ab22-10b75d2c5253",
   "metadata": {},
   "outputs": [],
   "source": [
    "from sqlalchemy import create_engine\n",
    "\n",
    "engine = create_engine(WEBSOCKET_URL)\n",
    "\n",
    "%load_ext sql\n",
    "%sql engine"
   ]
  },
  {
   "cell_type": "markdown",
   "id": "4dfc8b6c-ace2-4f93-8bd1-f0a8ff496413",
   "metadata": {},
   "source": [
    "## Get language model\n",
    "\n",
    "To demonstrate the token classification task we will use an [English Named Entity Recognition model](https://huggingface.co/sschet/biomedical-ner-all), trained on Maccrobat to recognize the bio-medical entities (107 entities) from a given text corpus (case reports etc.).\n",
    "\n",
    "We need to load the model from the Huggingface hub into the BucketFS. This could potentially be a long process. Unfortunately we cannot tell exactly when it has finished. Notebook's hourglass may not be a reliable indicator. BucketFS will still be doing some work when the call issued by the notebook returns. Please wait for few moments after that, before querying the model."
   ]
  },
  {
   "cell_type": "code",
   "execution_count": 4,
   "id": "26710f2d-a245-43e8-9ff2-292a60dbb19a",
   "metadata": {},
   "outputs": [],
   "source": [
    "# This is the name of the model at the Huggingface Hub\n",
    "MODEL_NAME = 'sschet/biomedical-ner-all'"
   ]
  },
  {
   "cell_type": "code",
   "execution_count": 5,
   "id": "34747971-46a0-4774-93c0-40cea26706fa",
   "metadata": {},
   "outputs": [],
   "source": [
    "%run ./model_retrieval.ipynb\n",
    "load_huggingface_model(MODEL_NAME, sb_config, method='udf')"
   ]
  },
  {
   "cell_type": "markdown",
   "id": "1581365c-eba7-4c9a-ae67-14543cb78dd2",
   "metadata": {},
   "source": [
    "## Use language model"
   ]
  },
  {
   "cell_type": "code",
   "execution_count": 6,
   "id": "59ec8aee-e40f-44e8-b94b-49c374b923f4",
   "metadata": {},
   "outputs": [],
   "source": [
    "# We will display all model output\n",
    "%config SqlMagic.displaylimit = 0"
   ]
  },
  {
   "cell_type": "code",
   "execution_count": 7,
   "id": "cc5b5ab6-4481-4b95-bcaa-86ad4da0d6e4",
   "metadata": {},
   "outputs": [],
   "source": [
    "MY_TEXT = \"\"\"\n",
    "A 63-year-old woman with no known cardiac history presented with a sudden onset of dyspnea requiring\n",
    "intubation and ventilatory support out of hospital. She denied preceding symptoms of chest discomfort,\n",
    "palpitations, syncope or infection. The patient was afebrile and normotensive, with a sinus tachycardia\n",
    "of 140 beats/min.\n",
    "\"\"\"\n",
    "\n",
    "# Make sure our texts can be used in an SQL statement.\n",
    "MY_TEXT = MY_TEXT.replace(\"'\", \"''\")"
   ]
  },
  {
   "cell_type": "code",
   "execution_count": null,
   "id": "40242348-7e1d-4a12-94c2-4d185eaa5d40",
   "metadata": {},
   "outputs": [],
   "source": [
    "%%sql\n",
    "WITH MODEL_OUTPUT AS\n",
    "(\n",
    "    SELECT TE_TOKEN_CLASSIFICATION_UDF(\n",
    "        NULL,\n",
    "        '{{sb_config.get(\"TE_BFS_CONN\")}}',\n",
    "        '{{sb_config.get(\"TE_TOKEN_CONN\")}}',\n",
    "        '{{sb_config.get(\"TE_MODELS_BFS_DIR\")}}',\n",
    "        '{{MODEL_NAME}}',\n",
    "        '{{MY_TEXT}}',\n",
    "        NULL\n",
    "    )\n",
    ")\n",
    "SELECT start_pos, end_pos, word, entity, error_message FROM MODEL_OUTPUT ORDER BY start_pos, end_pos"
   ]
  },
  {
   "cell_type": "code",
   "execution_count": null,
   "id": "551c7581-16a4-4992-b031-e4fffa09cc46",
   "metadata": {},
   "outputs": [],
   "source": []
  }
 ],
 "metadata": {
  "kernelspec": {
   "display_name": "Python 3 (ipykernel)",
   "language": "python",
   "name": "python3"
  },
  "language_info": {
   "codemirror_mode": {
    "name": "ipython",
    "version": 3
   },
   "file_extension": ".py",
   "mimetype": "text/x-python",
   "name": "python",
   "nbconvert_exporter": "python",
   "pygments_lexer": "ipython3",
   "version": "3.8.10"
  }
 },
 "nbformat": 4,
 "nbformat_minor": 5
}
