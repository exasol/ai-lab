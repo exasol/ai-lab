{
 "cells": [
  {
   "cell_type": "markdown",
   "id": "b0273b6a-8147-49d6-9591-c5434db58bc1",
   "metadata": {},
   "source": [
    "Here we will perform all the necessary steps to get the Transformer Extension functionality up and running. Please refer to the Transformer Extension <a href=\"https://github.com/exasol/transformers-extension/blob/main/doc/user_guide/user_guide.md\" target=\"_blank\" rel=\"noopener\">User Guide</a> for details on the required initialization steps. Note the installation of the extension is included in the installation of this product, therefore the first step mentioned in the guide can be skipped.\n",
    "\n",
    "We will be using a generic prediction UDF script. To execute queries and load data from Exasol database we will be using the <a href=\"https://github.com/exasol/pyexasol\" target=\"_blank\" rel=\"noopener\">`pyexasol`</a> module.\n",
    "\n",
    "Prior to using this notebook one needs to complete the follow steps:\n",
    "1. [Create the database schema](../setup_db.ipynb)."
   ]
  },
  {
   "cell_type": "code",
   "execution_count": 2,
   "id": "7433e5e3-5258-4773-b202-7aa1b05303ef",
   "metadata": {},
   "outputs": [],
   "source": [
    "# TODO: Move this to a separate configuration notebook. Here we just need to load this configuration from a store.\n",
    "from dataclasses import dataclass\n",
    "\n",
    "@dataclass\n",
    "class SandboxConfig:\n",
    "    EXTERNAL_HOST_NAME = \"192.168.124.93\"\n",
    "    HOST_PORT = \"8888\"\n",
    "\n",
    "    @property\n",
    "    def EXTERNAL_HOST(self):\n",
    "        return f\"\"\"{self.EXTERNAL_HOST_NAME}:{self.HOST_PORT}\"\"\"\n",
    "\n",
    "    USER = \"sys\"\n",
    "    PASSWORD = \"exasol\"\n",
    "    BUCKETFS_PORT = \"6666\"\n",
    "    BUCKETFS_USER = \"w\"\n",
    "    BUCKETFS_PASSWORD = \"write\"\n",
    "    BUCKETFS_USE_HTTPS = False\n",
    "    BUCKETFS_SERVICE = \"bfsdefault\"\n",
    "    BUCKETFS_BUCKET = \"default\"\n",
    "\n",
    "    @property\n",
    "    def EXTERNAL_BUCKETFS_HOST(self):\n",
    "        return f\"\"\"{self.EXTERNAL_HOST_NAME}:{self.BUCKETFS_PORT}\"\"\"\n",
    "\n",
    "    @property\n",
    "    def BUCKETFS_URL_PREFIX(self):\n",
    "        return \"https://\" if self.BUCKETFS_USE_HTTPS else \"http://\"\n",
    "\n",
    "    @property\n",
    "    def BUCKETFS_PATH(self):\n",
    "        # Filesystem-Path to the read-only mounted BucketFS inside the running UDF Container\n",
    "        return f\"/buckets/{self.BUCKETFS_SERVICE}/{self.BUCKETFS_BUCKET}\"\n",
    "\n",
    "    SCRIPT_LANGUAGE_NAME = \"PYTHON3_60\"\n",
    "    UDF_FLAVOR = \"python3-ds-EXASOL-6.0.0\"\n",
    "    UDF_RELEASE= \"20190116\"\n",
    "    UDF_CLIENT = \"exaudfclient\" # or for newer versions of the flavor exaudfclient_py3\n",
    "    SCHEMA = \"IDA\"\n",
    "\n",
    "    @property\n",
    "    def SCRIPT_LANGUAGES(self):\n",
    "        return f\"\"\"{self.SCRIPT_LANGUAGE_NAME}=localzmq+protobuf:///{self.BUCKETFS_SERVICE}/\n",
    "            {self.BUCKETFS_BUCKET}/{self.UDF_FLAVOR}?lang=python#buckets/{self.BUCKETFS_SERVICE}/\n",
    "            {self.BUCKETFS_BUCKET}/{self.UDF_FLAVOR}/exaudf/{self.UDF_CLIENT}\"\"\";\n",
    "\n",
    "    @property\n",
    "    def connection_params(self):\n",
    "        return {\"dns\": self.EXTERNAL_HOST, \"user\": self.USER, \"password\": self.PASSWORD, \"compression\": True}\n",
    "\n",
    "    @property\n",
    "    def params(self):\n",
    "        return {\n",
    "            \"script_languages\": self.SCRIPT_LANGUAGES,\n",
    "            \"script_language_name\": self.SCRIPT_LANGUAGE_NAME,\n",
    "            \"schema\": self.SCHEMA,\n",
    "            \"BUCKETFS_PORT\": self.BUCKETFS_PORT,\n",
    "            \"BUCKETFS_USER\": self.BUCKETFS_USER,\n",
    "            \"BUCKETFS_PASSWORD\": self.BUCKETFS_PASSWORD,\n",
    "            \"BUCKETFS_USE_HTTPS\": self.BUCKETFS_USE_HTTPS,\n",
    "            \"BUCKETFS_BUCKET\": self.BUCKETFS_BUCKET,\n",
    "            \"BUCKETFS_PATH\": self.BUCKETFS_PATH\n",
    "        }\n",
    "\n",
    "    # Name of the BucketFS connection\n",
    "    BFS_CONN = 'MyBFSConn'\n",
    "\n",
    "    # Name of a sub-directory of the bucket root\n",
    "    BFS_DIR = 'my_storage'\n",
    "\n",
    "    # We will store all models in this sub-directory at BucketFS\n",
    "    TE_MODELS_DIR = 'models'\n",
    "    \n",
    "    # We will save cached model in this sub-directory relative to the current directory on the local machine.\n",
    "    TE_MODELS_CACHE_DIR = 'models_cache'\n",
    "\n",
    "conf = SandboxConfig()"
   ]
  },
  {
   "cell_type": "markdown",
   "id": "2f52f81c-5b0d-45b9-be11-def723aa4d25",
   "metadata": {},
   "source": [
    "First, let's upload into the BucketFS and activate the required Script-Language-Container (SLC). This can be done by running the command below."
   ]
  },
  {
   "cell_type": "code",
   "execution_count": null,
   "id": "d66cd419-d4fd-4aee-8b76-32e358f29d9f",
   "metadata": {},
   "outputs": [],
   "source": [
    "deploy_command = f\"\"\"\n",
    "python -m exasol_transformers_extension.deploy language-container \\\n",
    "    --dsn {conf.EXTERNAL_HOST} \\\n",
    "    --db-user {conf.USER} \\\n",
    "    --db-pass {conf.PASSWORD} \\\n",
    "    --bucketfs-name {conf.BUCKETFS_SERVICE} \\\n",
    "    --bucketfs-host {conf.EXTERNAL_HOST_NAME} \\\n",
    "    --bucketfs-port {conf.BUCKETFS_PORT} \\\n",
    "    --bucketfs-user {conf.BUCKETFS_USER} \\\n",
    "    --bucketfs-password {conf.BUCKETFS_PASSWORD} \\\n",
    "    --bucketfs-use-https {conf.BUCKETFS_USE_HTTPS} \\\n",
    "    --bucket {conf.BUCKETFS_BUCKET} \\\n",
    "    --path-in-bucket . \\\n",
    "    --language-alias {conf.SCRIPT_LANGUAGE_NAME} \\\n",
    "    --version 0.5.0\n",
    "\"\"\"\n",
    "\n",
    "# !{deploy_command}\n",
    "print(deploy_command)"
   ]
  },
  {
   "cell_type": "markdown",
   "id": "13d94696-6083-4099-853c-1193d6d111a0",
   "metadata": {},
   "source": [
    "Now we shall upload all scripts into the database.\n",
    "Note, that the SLC must be uploaded first. "
   ]
  },
  {
   "cell_type": "code",
   "execution_count": null,
   "id": "328340bf-aa91-4643-bb80-b16a9c08d4f4",
   "metadata": {},
   "outputs": [],
   "source": [
    "deploy_command = f\"\"\"\n",
    "python -m exasol_transformers_extension.deploy scripts \\\n",
    "    --dsn {conf.EXTERNAL_HOST} \\\n",
    "    --db-user {conf.USER} \\\n",
    "    --db-pass {conf.PASSWORD} \\\n",
    "    --schema {conf.SCHEMA} \\\n",
    "    --language-alias {conf.SCRIPT_LANGUAGE_NAME} \\\n",
    "    --no-use-ssl-cert-validation\n",
    "\"\"\"\n",
    "print(deploy_command)\n",
    "\n",
    "!{deploy_command}"
   ]
  },
  {
   "cell_type": "markdown",
   "id": "63f239be-7e7d-4f1a-8e49-72040254d00d",
   "metadata": {},
   "source": [
    "Let's create a connection to the BucketFS where we are going to store all our models. We will use this connection hereafter in the queries.\n",
    "\n",
    "Notice that we specify a sub-directory of the bucket root, e.g. \"my_storage\" (the name can be chosen arbitrarily). The BucketFS will create this sub-directory for us the first time we use the connection."
   ]
  },
  {
   "cell_type": "code",
   "execution_count": 4,
   "id": "85ca87cc-1e1e-4289-9898-f7c1e3747de7",
   "metadata": {},
   "outputs": [],
   "source": [
    "import pyexasol\n",
    "\n",
    "sql = f\"\"\"\n",
    "CREATE OR REPLACE CONNECTION [{conf.BFS_CONN}]\n",
    "    TO '{conf.BUCKETFS_URL_PREFIX}{conf.EXTERNAL_BUCKETFS_HOST}/{conf.BUCKETFS_BUCKET}/{conf.BFS_DIR};{conf.BUCKETFS_SERVICE}'\n",
    "    USER {{BUCKETFS_USER!s}}\n",
    "    IDENTIFIED BY {{BUCKETFS_PASSWORD!s}}\n",
    "\"\"\"\n",
    "\n",
    "with pyexasol.connect(dsn=conf.EXTERNAL_HOST, user=conf.USER, password=conf.PASSWORD, compression=True) as conn:\n",
    "    conn.execute(query=sql, query_params=conf.params)"
   ]
  },
  {
   "cell_type": "markdown",
   "id": "d6fc18b3-4e98-4f59-b22b-5ba87c9997cc",
   "metadata": {},
   "source": [
    "Some models require the [Sacremoses tokenizer](https://github.com/alvations/sacremoses) to be installed in the local environment when they get downloaded. Let's make sure we have it installed by running the command below."
   ]
  },
  {
   "cell_type": "code",
   "execution_count": null,
   "id": "134fcd15-8b6f-4ebd-9bef-1431c371b437",
   "metadata": {},
   "outputs": [],
   "source": [
    "!pip install sacremoses"
   ]
  }
 ],
 "metadata": {
  "kernelspec": {
   "display_name": "Python 3 (ipykernel)",
   "language": "python",
   "name": "python3"
  },
  "language_info": {
   "codemirror_mode": {
    "name": "ipython",
    "version": 3
   },
   "file_extension": ".py",
   "mimetype": "text/x-python",
   "name": "python",
   "nbconvert_exporter": "python",
   "pygments_lexer": "ipython3",
   "version": "3.8.10"
  }
 },
 "nbformat": 4,
 "nbformat_minor": 5
}
