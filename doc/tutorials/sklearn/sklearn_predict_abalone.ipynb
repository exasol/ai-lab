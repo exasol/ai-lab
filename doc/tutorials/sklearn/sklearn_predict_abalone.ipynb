{
 "cells": [
  {
   "cell_type": "markdown",
   "id": "a81062d6-1ec8-43f6-923a-65b8b73d7655",
   "metadata": {},
   "source": [
    "In this notebook we will use a <a href=\"https://scikit-learn.org/stable/\" target=\"_blank\" rel=\"noopener\">`scikit-learn`</a> model created earlier to predict the age of an abalone from its physical measurements and sex. You can find more information about the problem domain <a href=\"https://archive.ics.uci.edu/dataset/1/abalone\" target=\"_blank\" rel=\"noopener\">here</a>.\n",
    "\n",
    "We will be using a generic prediction UDF script. To execute queries and load data from Exasol database we will be using the <a href=\"https://github.com/exasol/pyexasol\" target=\"_blank\" rel=\"noopener\">`pyexasol`</a> module.\n",
    "\n",
    "Prior to running this notebook one needs to complete the follow steps:\n",
    "1. [Create generic scikit-learn prediction UDF script](sklearn_predict_udf.ipynb).\n",
    "2. [Train a model on the Abalone](sklearn_train_abalone.ipynb)."
   ]
  },
  {
   "cell_type": "code",
   "execution_count": 5,
   "id": "8a5489b1-5471-4dcc-8010-62d7662b3581",
   "metadata": {},
   "outputs": [],
   "source": [
    "# TODO: Move this to a separate configuration notebook. Here we just need to load this configuration from a store.\n",
    "from dataclasses import dataclass\n",
    "\n",
    "@dataclass\n",
    "class SandboxConfig:\n",
    "    EXTERNAL_HOST_NAME = \"192.168.124.93\"\n",
    "    HOST_PORT = \"8888\"\n",
    "\n",
    "    @property\n",
    "    def EXTERNAL_HOST(self):\n",
    "        return f\"\"\"{self.EXTERNAL_HOST_NAME}:{self.HOST_PORT}\"\"\"\n",
    "\n",
    "    USER = \"sys\"\n",
    "    PASSWORD = \"exasol\"\n",
    "    BUCKETFS_PORT = \"6666\"\n",
    "    BUCKETFS_USER = \"w\"\n",
    "    BUCKETFS_PASSWORD = \"write\"\n",
    "    BUCKETFS_USE_HTTPS = False\n",
    "    BUCKETFS_SERVICE = \"bfsdefault\"\n",
    "    BUCKETFS_BUCKET = \"default\"\n",
    "\n",
    "    @property\n",
    "    def EXTERNAL_BUCKETFS_HOST(self):\n",
    "        return f\"\"\"{self.EXTERNAL_HOST_NAME}:{self.BUCKETFS_PORT}\"\"\"\n",
    "\n",
    "    @property\n",
    "    def BUCKETFS_URL_PREFIX(self):\n",
    "        return \"https://\" if self.BUCKETFS_USE_HTTPS else \"http://\"\n",
    "\n",
    "    @property\n",
    "    def BUCKETFS_PATH(self):\n",
    "        # Filesystem-Path to the read-only mounted BucketFS inside the running UDF Container\n",
    "        return f\"/buckets/{self.BUCKETFS_SERVICE}/{self.BUCKETFS_BUCKET}\"\n",
    "\n",
    "    SCRIPT_LANGUAGE_NAME = \"PYTHON3_60\"\n",
    "    UDF_FLAVOR = \"python3-ds-EXASOL-6.0.0\"\n",
    "    UDF_RELEASE= \"20190116\"\n",
    "    UDF_CLIENT = \"exaudfclient\" # or for newer versions of the flavor exaudfclient_py3\n",
    "    SCHEMA = \"IDA\"\n",
    "\n",
    "    @property\n",
    "    def SCRIPT_LANGUAGES(self):\n",
    "        return f\"\"\"{self.SCRIPT_LANGUAGE_NAME}=localzmq+protobuf:///{self.BUCKETFS_SERVICE}/\n",
    "            {self.BUCKETFS_BUCKET}/{self.UDF_FLAVOR}?lang=python#buckets/{self.BUCKETFS_SERVICE}/\n",
    "            {self.BUCKETFS_BUCKET}/{self.UDF_FLAVOR}/exaudf/{self.UDF_CLIENT}\"\"\";\n",
    "\n",
    "    @property\n",
    "    def connection_params(self):\n",
    "        return {\"dns\": self.EXTERNAL_HOST, \"user\": self.USER, \"password\": self.PASSWORD, \"compression\": True}\n",
    "\n",
    "    @property\n",
    "    def params(self):\n",
    "        return {\n",
    "            \"script_languages\": self.SCRIPT_LANGUAGES,\n",
    "            \"script_language_name\": self.SCRIPT_LANGUAGE_NAME,\n",
    "            \"schema\": self.SCHEMA,\n",
    "            \"BUCKETFS_PORT\": self.BUCKETFS_PORT,\n",
    "            \"BUCKETFS_USER\": self.BUCKETFS_USER,\n",
    "            \"BUCKETFS_PASSWORD\": self.BUCKETFS_PASSWORD,\n",
    "            \"BUCKETFS_USE_HTTPS\": self.BUCKETFS_USE_HTTPS,\n",
    "            \"BUCKETFS_BUCKET\": self.BUCKETFS_BUCKET,\n",
    "            \"BUCKETFS_PATH\": self.BUCKETFS_PATH\n",
    "        }\n",
    "\n",
    "conf = SandboxConfig()"
   ]
  },
  {
   "cell_type": "markdown",
   "id": "d0861a8c-17dc-4734-8028-f26c94f61e91",
   "metadata": {},
   "source": [
    "Let's do predictions on the data we have in the ABALONE_TEST table. This table also includes a column with ground truth labels. We will use it to access the performance of our predictor. In the code below we will add the ROWID to the output columns (as required by the generic prediction UDF). This will allow us to link the result to the ground truth."
   ]
  },
  {
   "cell_type": "code",
   "execution_count": 6,
   "id": "795d44f8-bfb7-49de-9964-53e5d8cf159a",
   "metadata": {},
   "outputs": [
    {
     "name": "stdout",
     "output_type": "stream",
     "text": [
      "Getting predictions took: 3.02s\n"
     ]
    },
    {
     "data": {
      "text/html": [
       "<div>\n",
       "<style scoped>\n",
       "    .dataframe tbody tr th:only-of-type {\n",
       "        vertical-align: middle;\n",
       "    }\n",
       "\n",
       "    .dataframe tbody tr th {\n",
       "        vertical-align: top;\n",
       "    }\n",
       "\n",
       "    .dataframe thead th {\n",
       "        text-align: right;\n",
       "    }\n",
       "</style>\n",
       "<table border=\"1\" class=\"dataframe\">\n",
       "  <thead>\n",
       "    <tr style=\"text-align: right;\">\n",
       "      <th></th>\n",
       "      <th>sample_id</th>\n",
       "      <th>RINGS</th>\n",
       "    </tr>\n",
       "  </thead>\n",
       "  <tbody>\n",
       "    <tr>\n",
       "      <th>0</th>\n",
       "      <td>18446744073709551679</td>\n",
       "      <td>6.755714</td>\n",
       "    </tr>\n",
       "    <tr>\n",
       "      <th>1</th>\n",
       "      <td>18446744073709551850</td>\n",
       "      <td>6.925311</td>\n",
       "    </tr>\n",
       "    <tr>\n",
       "      <th>2</th>\n",
       "      <td>18446744073709552278</td>\n",
       "      <td>6.716555</td>\n",
       "    </tr>\n",
       "    <tr>\n",
       "      <th>3</th>\n",
       "      <td>18446744073709551975</td>\n",
       "      <td>7.657736</td>\n",
       "    </tr>\n",
       "    <tr>\n",
       "      <th>4</th>\n",
       "      <td>18446744073709551690</td>\n",
       "      <td>7.762828</td>\n",
       "    </tr>\n",
       "  </tbody>\n",
       "</table>\n",
       "</div>"
      ],
      "text/plain": [
       "              sample_id     RINGS\n",
       "0  18446744073709551679  6.755714\n",
       "1  18446744073709551850  6.925311\n",
       "2  18446744073709552278  6.716555\n",
       "3  18446744073709551975  7.657736\n",
       "4  18446744073709551690  7.762828"
      ]
     },
     "execution_count": 6,
     "metadata": {},
     "output_type": "execute_result"
    }
   ],
   "source": [
    "import pyexasol\n",
    "from stopwatch import Stopwatch\n",
    "\n",
    "LABEL_COLUMN = 'RINGS'\n",
    "params = dict(conf.params)\n",
    "params['test_table'] = 'ABALONE_TEST'\n",
    "params['model_path'] = f'{conf.BUCKETFS_PATH}/abalone_svm_model.pkl'\n",
    "\n",
    "stopwatch = Stopwatch()\n",
    "\n",
    "with pyexasol.connect(dsn=conf.EXTERNAL_HOST, user=conf.USER, password=conf.PASSWORD, compression=True) as conn:\n",
    "    # Get the list of feature columns\n",
    "    sql = 'SELECT * FROM {schema!i}.{test_table!i} LIMIT 1'\n",
    "    df_tmp = conn.export_to_pandas(query_or_table=sql, query_params=params)\n",
    "    params['column_names'] = [f'[{c}]' for c in df_tmp.columns if c != LABEL_COLUMN]\n",
    "\n",
    "    # Get the predictions for all rows in the TEST table calling the prediction UDF.\n",
    "    # Provide the model path and the row id int the first two parameters.\n",
    "    sql = f'SELECT {{schema!i}}.SKLEARN_PREDICT({{model_path!s}}, ROWID, {{column_names!r}}) ' \\\n",
    "        f'emits ([sample_id] DECIMAL(20,0), [{LABEL_COLUMN}] DOUBLE) FROM {{schema!i}}.{{test_table!i}}'\n",
    "    df_pred = conn.export_to_pandas(query_or_table=sql, query_params=params)\n",
    "\n",
    "print(f\"Getting predictions took: {stopwatch}\")\n",
    "df_pred.head()"
   ]
  },
  {
   "cell_type": "markdown",
   "id": "a033fce3-59f7-428b-b71c-1077cfa34670",
   "metadata": {},
   "source": [
    "We are going to check the performance of our predictor by linking the results to the ground truth labels and computing some regression metrics. This should give us similar results to what we have seen in the [training notebook](sklearn_train_abalone.ipynb)."
   ]
  },
  {
   "cell_type": "code",
   "execution_count": 7,
   "id": "caa69fda-279e-4357-95f1-da9702982a67",
   "metadata": {},
   "outputs": [
    {
     "name": "stdout",
     "output_type": "stream",
     "text": [
      "Mean absolute error: 1.4693975242754505\n",
      "Mean squared error: 4.734913393345643\n",
      "Explained variance: 0.5572854305515393\n"
     ]
    }
   ],
   "source": [
    "import pandas as pd\n",
    "from sklearn.metrics import explained_variance_score, mean_absolute_error, mean_squared_error\n",
    "import matplotlib.pyplot as plt\n",
    "\n",
    "# Get the ground truth labels for the test set.\n",
    "with pyexasol.connect(dsn=conf.EXTERNAL_HOST, user=conf.USER, password=conf.PASSWORD, compression=True) as conn:\n",
    "    sql = f'SELECT ROWID AS [sample_id], [{LABEL_COLUMN}] FROM {{schema!i}}.{{test_table!i}}'\n",
    "    df_true = conn.export_to_pandas(query_or_table=sql, query_params=params)\n",
    "\n",
    "# Merge predictions and the ground truth on the sample id.\n",
    "df_res = pd.merge(left=df_true, right=df_pred, on='sample_id', suffixes=['_true', '_pred'])\n",
    "\n",
    "print('Mean absolute error:', mean_absolute_error(df_res[f'{LABEL_COLUMN}_true'], df_res[f'{LABEL_COLUMN}_pred']))\n",
    "print('Mean squared error:', mean_squared_error(df_res[f'{LABEL_COLUMN}_true'], df_res[f'{LABEL_COLUMN}_pred']))\n",
    "print('Explained variance:', explained_variance_score(df_res[f'{LABEL_COLUMN}_true'], df_res[f'{LABEL_COLUMN}_pred']))"
   ]
  },
  {
   "cell_type": "code",
   "execution_count": null,
   "id": "2ee060d2-d4c9-48c8-90b2-a0e9b42d1448",
   "metadata": {},
   "outputs": [],
   "source": []
  }
 ],
 "metadata": {
  "kernelspec": {
   "display_name": "Python 3 (ipykernel)",
   "language": "python",
   "name": "python3"
  },
  "language_info": {
   "codemirror_mode": {
    "name": "ipython",
    "version": 3
   },
   "file_extension": ".py",
   "mimetype": "text/x-python",
   "name": "python",
   "nbconvert_exporter": "python",
   "pygments_lexer": "ipython3",
   "version": "3.8.10"
  }
 },
 "nbformat": 4,
 "nbformat_minor": 5
}
