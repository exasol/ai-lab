{
 "cells": [
  {
   "cell_type": "markdown",
   "id": "5198ad82-d819-48d8-9f76-639fe4de4d26",
   "metadata": {},
   "source": [
    "In this notebook we will use a <a href=\"https://scikit-learn.org/stable/\" target=\"_blank\" rel=\"noopener\">`scikit-learn`</a> model created earlier to classify the radiation source of Cherenkov shower images. You can find more information about the problem domain <a href=\"https://archive.ics.uci.edu/dataset/159/magic+gamma+telescope\" target=\"_blank\" rel=\"noopener\">here</a>.\n",
    "\n",
    "We will be using a generic prediction UDF script. To execute queries and load data from Exasol database we will be using the <a href=\"https://github.com/exasol/pyexasol\" target=\"_blank\" rel=\"noopener\">`pyexasol`</a> module.\n",
    "\n",
    "Prior to running this notebook one needs to complete the follow steps:\n",
    "1. [Create generic scikit-learn prediction UDF script](sklearn_predict_udf.ipynb).\n",
    "2. [Train a model on the MAGIC Gamma Telescope data](sklearn_train_telescope.ipynb)."
   ]
  },
  {
   "cell_type": "code",
   "execution_count": 2,
   "id": "93f1bfc8-20fe-450f-bd38-37fee4e1f587",
   "metadata": {},
   "outputs": [],
   "source": [
    "# TODO: Move this to a separate configuration notebook. Here we just need to load this configuration from a store.\n",
    "EXASOL_EXTERNAL_HOST_NAME = \"192.168.124.93\"\n",
    "EXASOL_HOST_PORT = \"8888\"\n",
    "EXASOL_EXTERNAL_HOST = f\"\"\"{EXASOL_EXTERNAL_HOST_NAME}:{EXASOL_HOST_PORT}\"\"\"\n",
    "EXASOL_USER = \"sys\"\n",
    "EXASOL_PASSWORD = \"exasol\"\n",
    "EXASOL_BUCKETFS_PORT = \"6666\"\n",
    "EXASOL_EXTERNAL_BUCKETFS_HOST = f\"\"\"{EXASOL_EXTERNAL_HOST_NAME}:{EXASOL_BUCKETFS_PORT}\"\"\"\n",
    "EXASOL_BUCKETFS_USER = \"w\"\n",
    "EXASOL_BUCKETFS_PASSWORD = \"write\"\n",
    "EXASOL_BUCKETFS_USE_HTTPS = False\n",
    "EXASOL_BUCKETFS_URL_PREFIX = \"https://\" if EXASOL_BUCKETFS_USE_HTTPS else \"http://\"\n",
    "EXASOL_BUCKETFS_SERVICE = \"bfsdefault\"\n",
    "EXASOL_BUCKETFS_BUCKET = \"default\"\n",
    "EXASOL_BUCKETFS_PATH = f\"/buckets/{EXASOL_BUCKETFS_SERVICE}/{EXASOL_BUCKETFS_BUCKET}\" # Filesystem-Path to the read-only mounted BucketFS inside the running UDF Container\n",
    "EXASOL_SCRIPT_LANGUAGE_NAME = \"PYTHON3_60\"\n",
    "EXASOL_UDF_FLAVOR = \"python3-ds-EXASOL-6.0.0\"\n",
    "EXASOL_UDF_RELEASE= \"20190116\"\n",
    "EXASOL_UDF_CLIENT = \"exaudfclient\" # or for newer versions of the flavor exaudfclient_py3\n",
    "EXASOL_SCRIPT_LANGUAGES = f\"{EXASOL_SCRIPT_LANGUAGE_NAME}=localzmq+protobuf:///{EXASOL_BUCKETFS_SERVICE}/{EXASOL_BUCKETFS_BUCKET}/{EXASOL_UDF_FLAVOR}?lang=python#buckets/{EXASOL_BUCKETFS_SERVICE}/{EXASOL_BUCKETFS_BUCKET}/{EXASOL_UDF_FLAVOR}/exaudf/{EXASOL_UDF_CLIENT}\";\n",
    "EXASOL_SCHEMA = \"IDA\"\n",
    "\n",
    "connection_params = {\"dns\": EXASOL_EXTERNAL_HOST, \"user\": EXASOL_USER, \"password\": EXASOL_PASSWORD, \"compression\": True}\n",
    "\n",
    "params = {\n",
    "    \"script_languages\": EXASOL_SCRIPT_LANGUAGES,\n",
    "    \"script_language_name\": EXASOL_SCRIPT_LANGUAGE_NAME,\n",
    "    \"schema\": EXASOL_SCHEMA,\n",
    "    \"EXASOL_BUCKETFS_PORT\": EXASOL_BUCKETFS_PORT,\n",
    "    \"EXASOL_BUCKETFS_USER\": EXASOL_BUCKETFS_USER,\n",
    "    \"EXASOL_BUCKETFS_PASSWORD\": EXASOL_BUCKETFS_PASSWORD,\n",
    "    \"EXASOL_BUCKETFS_USE_HTTPS\": EXASOL_BUCKETFS_USE_HTTPS,\n",
    "    \"EXASOL_BUCKETFS_BUCKET\": EXASOL_BUCKETFS_BUCKET,\n",
    "    \"EXASOL_BUCKETFS_PATH\": EXASOL_BUCKETFS_PATH\n",
    "}"
   ]
  },
  {
   "cell_type": "markdown",
   "id": "99bc1450-9210-4189-82b0-c67d5d53a307",
   "metadata": {},
   "source": [
    "Let's classify the data we have in the TELESCOPE_TEST table. This table also includes a column with ground truth labels. We will use it to access the performance of our classifier. In the code below we will add the ROWID to the output columns (as required by the generic prediction UDF). This will allow us to link the result to the ground truth."
   ]
  },
  {
   "cell_type": "code",
   "execution_count": 4,
   "id": "e65a346f-bb6a-4840-850b-75514a28c4e6",
   "metadata": {},
   "outputs": [
    {
     "name": "stdout",
     "output_type": "stream",
     "text": [
      "Getting predictions took: 2.85s\n"
     ]
    },
    {
     "data": {
      "text/html": [
       "<div>\n",
       "<style scoped>\n",
       "    .dataframe tbody tr th:only-of-type {\n",
       "        vertical-align: middle;\n",
       "    }\n",
       "\n",
       "    .dataframe tbody tr th {\n",
       "        vertical-align: top;\n",
       "    }\n",
       "\n",
       "    .dataframe thead th {\n",
       "        text-align: right;\n",
       "    }\n",
       "</style>\n",
       "<table border=\"1\" class=\"dataframe\">\n",
       "  <thead>\n",
       "    <tr style=\"text-align: right;\">\n",
       "      <th></th>\n",
       "      <th>sample_id</th>\n",
       "      <th>CLASS</th>\n",
       "    </tr>\n",
       "  </thead>\n",
       "  <tbody>\n",
       "    <tr>\n",
       "      <th>0</th>\n",
       "      <td>18446744073709554099</td>\n",
       "      <td>h</td>\n",
       "    </tr>\n",
       "    <tr>\n",
       "      <th>1</th>\n",
       "      <td>18446744073709552323</td>\n",
       "      <td>g</td>\n",
       "    </tr>\n",
       "    <tr>\n",
       "      <th>2</th>\n",
       "      <td>18446744073709552327</td>\n",
       "      <td>h</td>\n",
       "    </tr>\n",
       "    <tr>\n",
       "      <th>3</th>\n",
       "      <td>18446744073709553326</td>\n",
       "      <td>g</td>\n",
       "    </tr>\n",
       "    <tr>\n",
       "      <th>4</th>\n",
       "      <td>18446744073709551993</td>\n",
       "      <td>g</td>\n",
       "    </tr>\n",
       "  </tbody>\n",
       "</table>\n",
       "</div>"
      ],
      "text/plain": [
       "              sample_id CLASS\n",
       "0  18446744073709554099     h\n",
       "1  18446744073709552323     g\n",
       "2  18446744073709552327     h\n",
       "3  18446744073709553326     g\n",
       "4  18446744073709551993     g"
      ]
     },
     "execution_count": 4,
     "metadata": {},
     "output_type": "execute_result"
    }
   ],
   "source": [
    "import pyexasol\n",
    "from stopwatch import Stopwatch\n",
    "\n",
    "LABEL_COLUMN = 'CLASS'\n",
    "params['test_table'] = 'TELESCOPE_TEST'\n",
    "params['model_path'] = f'{EXASOL_BUCKETFS_PATH}/telescope_tree_model.pkl'\n",
    "\n",
    "stopwatch = Stopwatch()\n",
    "\n",
    "with pyexasol.connect(dsn=EXASOL_EXTERNAL_HOST, user=EXASOL_USER, password=EXASOL_PASSWORD, compression=True) as conn:\n",
    "    # Get the list of feature columns\n",
    "    sql = 'SELECT * FROM {schema!i}.{test_table!i} LIMIT 1'\n",
    "    df_tmp = conn.export_to_pandas(query_or_table=sql, query_params=params)\n",
    "    params['column_names'] = [f'[{c}]' for c in df_tmp.columns if c != LABEL_COLUMN]\n",
    "\n",
    "    # Get the predictions for all rows in the TEST table calling the prediction UDF.\n",
    "    # Provide the model path and the row id int the first two parameters.\n",
    "    sql = f'SELECT {{schema!i}}.SKLEARN_PREDICT({{model_path!s}}, ROWID, {{column_names!r}}) ' \\\n",
    "        f'emits ([sample_id] DECIMAL(20,0), [{LABEL_COLUMN}] CHAR(1)) FROM {{schema!i}}.{{test_table!i}}'\n",
    "    df_pred = conn.export_to_pandas(query_or_table=sql, query_params=params)\n",
    "\n",
    "print(f\"Getting predictions took: {stopwatch}\")\n",
    "df_pred.head()"
   ]
  },
  {
   "cell_type": "markdown",
   "id": "0226216f-0d7e-4e06-af8f-6f9af6bbd845",
   "metadata": {},
   "source": [
    "We are going to check the performance of our classifier by linking the results to the ground truth labels and computing the confusion matrix. This should give us similar results to what we have seen in the [training notebook](sklearn_train_telescope.ipynb)."
   ]
  },
  {
   "cell_type": "code",
   "execution_count": 5,
   "id": "bdf50dc2-d457-499b-b97d-e9c07c49398b",
   "metadata": {},
   "outputs": [
    {
     "data": {
      "text/plain": [
       "<sklearn.metrics._plot.confusion_matrix.ConfusionMatrixDisplay at 0x7f8c848493d0>"
      ]
     },
     "execution_count": 5,
     "metadata": {},
     "output_type": "execute_result"
    },
    {
     "data": {
      "image/png": "[encoded data removed]",
      "text/plain": [
       "<Figure size 640x480 with 2 Axes>"
      ]
     },
     "metadata": {},
     "output_type": "display_data"
    }
   ],
   "source": [
    "import pandas as pd\n",
    "from sklearn.metrics import confusion_matrix, ConfusionMatrixDisplay\n",
    "import matplotlib.pyplot as plt\n",
    "\n",
    "# Get the ground truth labels for the test set.\n",
    "with pyexasol.connect(dsn=EXASOL_EXTERNAL_HOST, user=EXASOL_USER, password=EXASOL_PASSWORD, compression=True) as conn:\n",
    "    sql = f'SELECT ROWID AS [sample_id], [{LABEL_COLUMN}] FROM {{schema!i}}.{{test_table!i}}'\n",
    "    df_true = conn.export_to_pandas(query_or_table=sql, query_params=params)\n",
    "\n",
    "# Merge predictions and the ground truth on the sample id.\n",
    "df_res = pd.merge(left=df_true, right=df_pred, on='sample_id', suffixes=['_true', '_pred'])\n",
    "\n",
    "# Get the label names\n",
    "labels=df_res[f'{LABEL_COLUMN}_true'].unique()\n",
    "\n",
    "# Build and display the confusion matrix.\n",
    "cm = confusion_matrix(df_res[f'{LABEL_COLUMN}_true'], df_res[f'{LABEL_COLUMN}_pred'], labels=labels)\n",
    "disp = ConfusionMatrixDisplay(confusion_matrix=cm, display_labels=labels)\n",
    "disp.plot()"
   ]
  },
  {
   "cell_type": "code",
   "execution_count": null,
   "id": "65b14081-9fd2-4f50-b3fb-bb424c31b73d",
   "metadata": {},
   "outputs": [],
   "source": []
  }
 ],
 "metadata": {
  "kernelspec": {
   "display_name": "Python 3 (ipykernel)",
   "language": "python",
   "name": "python3"
  },
  "language_info": {
   "codemirror_mode": {
    "name": "ipython",
    "version": 3
   },
   "file_extension": ".py",
   "mimetype": "text/x-python",
   "name": "python",
   "nbconvert_exporter": "python",
   "pygments_lexer": "ipython3",
   "version": "3.8.10"
  }
 },
 "nbformat": 4,
 "nbformat_minor": 5
}
