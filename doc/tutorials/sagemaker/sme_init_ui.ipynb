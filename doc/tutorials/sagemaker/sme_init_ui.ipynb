{
 "cells": [
  {
   "cell_type": "markdown",
   "id": "08f75a9a-f769-4703-a950-9832a4ca55b6",
   "metadata": {},
   "source": [
    "# AWS Credentials UI\n",
    "\n",
    "<b>This notebook is not supposed to be used on its own.<b>"
   ]
  },
  {
   "cell_type": "code",
   "execution_count": null,
   "id": "af3d13c6-e8cc-4f3c-8f01-f9622223503e",
   "metadata": {},
   "outputs": [],
   "source": [
    "from enum import Enum\n",
    "    \n",
    "class ExasolAWSConfig(Enum):\n",
    "    # AWS access credentials\n",
    "    key_id = 'AWS_ACCESS_KEY_ID'\n",
    "    secret_key = 'AWS_SECRET_ACCESS_KEY'\n",
    "    region = 'AWS_REGION'\n",
    "    role = 'AWS_ROLE'\n",
    "    # S3 bucket, which must exist\n",
    "    bucket = 'AWS_BUCKET'\n",
    "    # Name of the AWS connection to be created in the database\n",
    "    connection = 'AWS_CONN'\n",
    "    save_btn = 'save'\n",
    "\n",
    "def get_sme_config_ui():\n",
    "\n",
    "    import ipywidgets as widgets\n",
    "\n",
    "    Cfg = ExasolAWSConfig\n",
    "    style = {'description_width': '140px'}\n",
    "    inputs = {\n",
    "        Cfg.key_id:     widgets.Password(description='AWS Access Key ID', value=sb_config.get(Cfg.key_id.value), style=style),\n",
    "        Cfg.secret_key: widgets.Password(description='AWS Secret Access Key', value=sb_config.get(Cfg.secret_key.value), style=style),\n",
    "        Cfg.region:     widgets.Text(description='AWS Region', value=sb_config.get(Cfg.region.value), style=style),\n",
    "        Cfg.role:       widgets.Text(description='AWS Role', value=sb_config.get(Cfg.role.value), style=style),\n",
    "        Cfg.bucket:     widgets.Text(description='AWS S3 Bucket', value=sb_config.get(Cfg.bucket.value), style=style),\n",
    "        Cfg.connection: widgets.Text(description='AWS Connection', value=sb_config.get(Cfg.connection.value), style=style),\n",
    "        'save':         widgets.Button(description='Save')\n",
    "    }\n",
    "\n",
    "    def save_configuration(btn):\n",
    "        for key in Cfg:\n",
    "            sb_config.save(key.value, inputs[key].value)\n",
    "\n",
    "    inputs['save'].on_click(save_configuration)\n",
    "\n",
    "    ui = widgets.VBox(list(inputs.values()))\n",
    "    return ui"
   ]
  }
 ],
 "metadata": {
  "kernelspec": {
   "display_name": "Python 3 (ipykernel)",
   "language": "python",
   "name": "python3"
  },
  "language_info": {
   "codemirror_mode": {
    "name": "ipython",
    "version": 3
   },
   "file_extension": ".py",
   "mimetype": "text/x-python",
   "name": "python",
   "nbconvert_exporter": "python",
   "pygments_lexer": "ipython3",
   "version": "3.8.10"
  }
 },
 "nbformat": 4,
 "nbformat_minor": 5
}
