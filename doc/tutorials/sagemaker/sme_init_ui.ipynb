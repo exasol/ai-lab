{
 "cells": [
  {
   "cell_type": "markdown",
   "id": "08f75a9a-f769-4703-a950-9832a4ca55b6",
   "metadata": {},
   "source": [
    "# AWS Credentials UI\n",
    "\n",
    "<b>This notebook is not supposed to be used on its own.<b>"
   ]
  },
  {
   "cell_type": "code",
   "execution_count": null,
   "id": "af3d13c6-e8cc-4f3c-8f01-f9622223503e",
   "metadata": {},
   "outputs": [],
   "source": [
    "def get_sme_config_ui():\n",
    "\n",
    "    style = {'description_width': '120px'}\n",
    "    inputs = {\n",
    "        # AWS access credentials\n",
    "        'key id':     widgets.Password(description='AWS Key ID', value=sb_config.get('AWS_KEY_ID'), style=style),\n",
    "        'access key': widgets.Password(description='AWS Access Key', value=sb_config.get('AWS_ACCESS_KEY'), style=style),\n",
    "        'region':     widgets.Text(description='AWS Region', value=sb_config.get('AWS_REGION'), style=style),\n",
    "        'role':       widgets.Text(description='AWS Role', value=sb_config.get('AWS_ROLE'), style=style),\n",
    "        # S3 bucket, which must exist\n",
    "        'bucket':     widgets.Text(description='AWS S3 Bucket', value=sb_config.get('AWS_BUCKET'), style=style),\n",
    "        # Name of the AWS connection to be created in the database\n",
    "        'connection': widgets.Text(description='AWS Connection', value=sb_config.get('AWS_CONN'), style=style),\n",
    "        'save':       widgets.Button(description='Save')\n",
    "    }\n",
    "    \n",
    "    def save_configuration(btn):\n",
    "        sb_config.save('AWS_KEY_ID', inputs['key id'].value)\n",
    "        sb_config.save('AWS_ACCESS_KEY', inputs['access key'].value)\n",
    "        sb_config.save('AWS_REGION', inputs['region'].value)\n",
    "        sb_config.save('AWS_ROLE', inputs['role'].value)\n",
    "        sb_config.save('AWS_BUCKET', inputs['bucket'].value)\n",
    "        sb_config.save('AWS_CONN', inputs['connection'].value)\n",
    "        \n",
    "    inputs['save'].on_click(save_configuration)\n",
    "    \n",
    "    ui = widgets.VBox(list(inputs.values()), width='1000px')\n",
    "    return ui"
   ]
  }
 ],
 "metadata": {
  "kernelspec": {
   "display_name": "Python 3 (ipykernel)",
   "language": "python",
   "name": "python3"
  },
  "language_info": {
   "codemirror_mode": {
    "name": "ipython",
    "version": 3
   },
   "file_extension": ".py",
   "mimetype": "text/x-python",
   "name": "python",
   "nbconvert_exporter": "python",
   "pygments_lexer": "ipython3",
   "version": "3.8.10"
  }
 },
 "nbformat": 4,
 "nbformat_minor": 5
}
